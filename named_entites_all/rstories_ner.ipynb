{
  "cells": [
    {
      "cell_type": "code",
      "execution_count": 1,
      "metadata": {
        "ExecuteTime": {
          "end_time": "2019-04-01T13:52:39.614635Z",
          "start_time": "2019-04-01T13:52:38.232221Z"
        },
        "pycharm": {
          "is_executing": false
        }
      },
      "outputs": [],
      "source": [
        "import re\n",
        "import os\n",
        "import textblob\n",
        "import pandas as pd\n",
        "import numpy as np\n",
        "import nltk\n",
        "import collections as c\n",
        "from nltk.corpus import stopwords\n",
        "from textblob.tokenizers import WordTokenizer, SentenceTokenizer\n",
        "stop_words \u003d set(stopwords.words(\u0027english\u0027))\n",
        "wt \u003d WordTokenizer()\n",
        "dir \u003d \"/volumes/Hayley\u0027s Drive/PycharmProjects/twilightvalefalls/rstories/\""
      ]
    },
    {
      "cell_type": "code",
      "execution_count": 6,
      "metadata": {
        "ExecuteTime": {
          "end_time": "2019-04-01T14:27:53.570521Z",
          "start_time": "2019-04-01T14:27:53.560957Z"
        },
        "pycharm": {}
      },
      "outputs": [
        {
          "data": {
            "text/plain": [
              "[(\u0027reckless\u0027, 37),\n (\u0027death\u0027, 15),\n (\u0027gustaf\u0027, 10),\n (\u0027yeah\u0027, 2),\n (\u0027sacred object\u0027, 2),\n (\u0027object\u0027, 2),\n (\"king \u0027s messenger\", 2),\n (\u0027eye sockets\u0027, 1),\n (\u0027fine adventurer\u0027, 1),\n (\u0027leather armor\u0027, 1),\n (\u0027inevitable request\u0027, 1),\n (\u0027deep breath\u0027, 1),\n (\u0027hear\u0027, 1),\n (\u0027true\u0027, 1),\n (\u0027couple monsters\u0027, 1),\n (\u0027nearby village\u0027, 1),\n (\u0027new quest\u0027, 1),\n (\u0027small band\u0027, 1),\n (\u0027noisy crowd\u0027, 1),\n (\u0027toasts\u0027, 1),\n (\u0027cheers\u0027, 1),\n (\u0027pretty young thing\u0027, 1),\n (\u0027blonde hair\u0027, 1),\n (\u0027blue eyes\u0027, 1),\n (\u0027charming dimples\u0027, 1),\n (\u0027sly grin\u0027, 1),\n (\"goblin \u0027s sword\", 1),\n (\u0027free\u0027, 1),\n (\u0027tiny craters\u0027, 1),\n (\"n\u0027t look\", 1),\n (\u0027well\u0027, 1),\n (\u0027lighten\u0027, 1),\n (\u0027enjoy\u0027, 1),\n (\u0027dark blue sky\u0027, 1),\n (\u0027pale moon\u0027, 1),\n (\"day \u0027s events\", 1),\n (\u0027male voice\u0027, 1),\n (\u0027own pocket\u0027, 1),\n (\u0027thanks\u0027, 1),\n (\"n\u0027t care\", 1),\n (\u0027tipsy\u0027, 1),\n (\u0027young apprentice\u0027, 1),\n (\"apprentice \u0027s hands\", 1),\n (\u0027wooden floor\u0027, 1),\n (\"\u0027s gaze\", 1),\n (\u0027glorious way\u0027, 1),\n (\u0027bony hand\u0027, 1),\n (\u0027elysium\u0027, 1),\n (\u0027shine brighter\u0027, 1),\n (\u0027brave soul\u0027, 1),\n (\u0027thank\u0027, 1)]"
            ]
          },
          "execution_count": 6,
          "metadata": {},
          "output_type": "execute_result"
        }
      ],
      "source": [
        "file \u003d dir + \u0027after_life.txt\u0027\n",
        " \n",
        "with open(file, \u0027r\u0027) as myfile:\n",
        "    story \u003d myfile.read().replace(\u0027\\n        \u0027, \u0027\\t\u0027)\n",
        "\n",
        "story \u003d story.replace(\u0027”\u0027, \u0027\"\u0027).replace(\u0027“\u0027, \u0027\"\u0027).replace(\"’\", \"\u0027\").replace(\"‘\", \"\u0027\")\n",
        "\n",
        "f \u003d open(file,\u0027w+\u0027)\n",
        "f.write(story.replace(\u0027\\t\u0027, \u0027\\n        \u0027))\n",
        "f.close()\n",
        "\n",
        "blob \u003d textblob.TextBlob(story, tokenizer\u003dwt)\n",
        "\n",
        "np \u003d blob.noun_phrases\n",
        "\n",
        "cnt \u003d c.Counter()\n",
        "for word in np:\n",
        "    cnt[word] +\u003d 1\n",
        "cnt.most_common()"
      ]
    },
    {
      "cell_type": "code",
      "execution_count": 7,
      "metadata": {
        "pycharm": {}
      },
      "outputs": [
        {
          "data": {
            "text/plain": [
              "[(\u0027srvr-2k16\u0027, 4),\n (\u0027roberts\u0027, 3),\n (\u0027srvr\u0027, 2),\n (\u0027marigold roberts\u0027, 1),\n (\u0027normally\u0027, 1),\n (\"world \u0027s\", 1),\n (\u0027artificial intelligence\u0027, 1),\n (\u0027human species\u0027, 1),\n (\u0027medical program\u0027, 1),\n (\u0027initial function\u0027, 1),\n (\u0027sensitive sensors\u0027, 1),\n (\u0027outside world\u0027, 1),\n (\u0027against\u0027, 1),\n (\u0027indestructible machine\u0027, 1),\n (\u0027trembling\u0027, 1),\n (\u0027blood\u0027, 1),\n (\u0027white shirt\u0027, 1),\n (\u0027black sweatpants\u0027, 1),\n (\u0027macabre impressionist painting\u0027, 1),\n (\u0027red liquid\u0027, 1),\n (\u0027white paint\u0027, 1),\n (\u0027wide grin\u0027, 1),\n (\u0027hard glint\u0027, 1),\n (\u0027hello\u0027, 1),\n (\u0027doc\u0027, 1),\n (\u0027voice shook\u0027, 1),\n (\"\u0027ll ground\", 1),\n (\u0027shut\u0027, 1),\n (\u0027please\u0027, 1),\n (\"\u0027s hand\", 1)]"
            ]
          },
          "execution_count": 7,
          "metadata": {},
          "output_type": "execute_result"
        }
      ],
      "source": [
        "file \u003d dir + \u0027irony.txt\u0027\n",
        " \n",
        "with open(file, \u0027r\u0027) as myfile:\n",
        "    story \u003d myfile.read().replace(\u0027\\n        \u0027, \u0027\\t\u0027)\n",
        "\n",
        "story \u003d story.replace(\u0027”\u0027, \u0027\"\u0027).replace(\u0027“\u0027, \u0027\"\u0027).replace(\"’\", \"\u0027\").replace(\"‘\", \"\u0027\")\n",
        "\n",
        "f \u003d open(file,\u0027w+\u0027)\n",
        "f.write(story.replace(\u0027\\t\u0027, \u0027\\n        \u0027))\n",
        "f.close()\n",
        "\n",
        "blob \u003d textblob.TextBlob(story, tokenizer\u003dwt)\n",
        "\n",
        "np \u003d blob.noun_phrases\n",
        "\n",
        "cnt \u003d c.Counter()\n",
        "for word in np:\n",
        "    cnt[word] +\u003d 1\n",
        "cnt.most_common()"
      ]
    },
    {
      "cell_type": "code",
      "execution_count": 8,
      "metadata": {
        "pycharm": {}
      },
      "outputs": [
        {
          "data": {
            "text/plain": [
              "[(\u0027david\u0027, 2),\n (\u0027summers\u0027, 1),\n (\u0027spruce pine\u0027, 1),\n (\u0027carolina\u0027, 1),\n (\u0027muggy heat\u0027, 1),\n (\u0027ditzy kids\u0027, 1),\n (\u0027late afternoon\u0027, 1),\n (\u0027early evening\u0027, 1),\n (\u0027red bumps\u0027, 1),\n (\u0027outdoor playtimes\u0027, 1),\n (\u0027front door\u0027, 1),\n (\u0027shouting acknowledgement\u0027, 1),\n (\u0027tennis ball\u0027, 1),\n (\u0027clumsy servants\u0027, 1),\n (\u0027imaginary king\u0027, 1),\n (\u0027majesty\u0027, 1),\n (\u0027delicious meals\u0027, 1),\n (\u0027rare occasions\u0027, 1),\n (\u0027garden hose\u0027, 1),\n (\u0027sprinkler toys\u0027, 1),\n (\u0027muddy messes\u0027, 1),\n (\u0027ice-cold water\u0027, 1),\n (\u0027outdoor\u0027, 1),\n (\u0027dad\u0027, 1),\n (\"family \u0027s\", 1),\n (\u0027blue minivan\u0027, 1),\n (\u0027long day\u0027, 1),\n (\"\u0027d smile\", 1),\n (\u0027summer nights\u0027, 1),\n (\u0027room table\u0027, 1)]"
            ]
          },
          "execution_count": 8,
          "metadata": {},
          "output_type": "execute_result"
        }
      ],
      "source": [
        "file \u003d dir + \u0027memoir.txt\u0027\n",
        " \n",
        "with open(file, \u0027r\u0027) as myfile:\n",
        "    story \u003d myfile.read().replace(\u0027\\n        \u0027, \u0027\\t\u0027)\n",
        "\n",
        "story \u003d story.replace(\u0027”\u0027, \u0027\"\u0027).replace(\u0027“\u0027, \u0027\"\u0027).replace(\"’\", \"\u0027\").replace(\"‘\", \"\u0027\")\n",
        "\n",
        "f \u003d open(file,\u0027w+\u0027)\n",
        "f.write(story.replace(\u0027\\t\u0027, \u0027\\n        \u0027))\n",
        "f.close()\n",
        "\n",
        "blob \u003d textblob.TextBlob(story, tokenizer\u003dwt)\n",
        "\n",
        "np \u003d blob.noun_phrases\n",
        "\n",
        "cnt \u003d c.Counter()\n",
        "for word in np:\n",
        "    cnt[word] +\u003d 1\n",
        "cnt.most_common()"
      ]
    },
    {
      "cell_type": "code",
      "execution_count": 9,
      "metadata": {
        "pycharm": {}
      },
      "outputs": [
        {
          "data": {
            "text/plain": [
              "[(\u0027ted\u0027, 4),\n (\u0027time children\u0027, 1),\n (\u0027small sentences\u0027, 1),\n (\u0027three-year-old daughter\u0027, 1),\n (\u0027patient smile\u0027, 1),\n (\u0027mobster\u0027, 1),\n (\u0027busy reading\u0027, 1),\n (\u0027hair product magazine\u0027, 1),\n (\u0027stiff hair\u0027, 1),\n (\u0027upon\u0027, 1),\n (\u0027cautiously\u0027, 1),\n (\u0027rapt attention\u0027, 1),\n (\u0027space underneath\u0027, 1),\n (\u0027dark space\u0027, 1),\n (\u0027eye contact\u0027, 1),\n (\u0027hey\u0027, 1),\n (\u0027reedy voice\u0027, 1)]"
            ]
          },
          "execution_count": 9,
          "metadata": {},
          "output_type": "execute_result"
        }
      ],
      "source": [
        "file \u003d dir + \u0027mobster.txt\u0027\n",
        " \n",
        "with open(file, \u0027r\u0027) as myfile:\n",
        "    story \u003d myfile.read().replace(\u0027\\n        \u0027, \u0027\\t\u0027)\n",
        "\n",
        "story \u003d story.replace(\u0027”\u0027, \u0027\"\u0027).replace(\u0027“\u0027, \u0027\"\u0027).replace(\"’\", \"\u0027\").replace(\"‘\", \"\u0027\")\n",
        "\n",
        "f \u003d open(file,\u0027w+\u0027)\n",
        "f.write(story.replace(\u0027\\t\u0027, \u0027\\n        \u0027))\n",
        "f.close()\n",
        "\n",
        "blob \u003d textblob.TextBlob(story, tokenizer\u003dwt)\n",
        "\n",
        "np \u003d blob.noun_phrases\n",
        "\n",
        "cnt \u003d c.Counter()\n",
        "for word in np:\n",
        "    cnt[word] +\u003d 1\n",
        "cnt.most_common()"
      ]
    },
    {
      "cell_type": "code",
      "execution_count": 10,
      "metadata": {
        "pycharm": {}
      },
      "outputs": [
        {
          "data": {
            "text/plain": [
              "[(\u0027marco\u0027, 5),\n (\u0027nasa\u0027, 4),\n (\u0027hut\u0027, 3),\n (\u0027earth\u0027, 3),\n (\u0027clarke\u0027, 3),\n (\u0027too\u0027, 3),\n (\u0027grey\u0027, 2),\n (\u0027thin atmosphere\u0027, 2),\n (\u0027long time\u0027, 1),\n (\u0027washed-out grey\u0027, 1),\n (\u0027right shoulder\u0027, 1),\n (\u0027actual human company\u0027, 1),\n (\u0027space dust\u0027, 1),\n (\u0027occasional minor repairs\u0027, 1),\n (\u0027run experiments\u0027, 1),\n (\u0027return home\u0027, 1),\n (\u0027chest pains\u0027, 1),\n (\"moon \u0027s\", 1),\n (\u0027official press conference\u0027, 1),\n (\u0027health screenings\u0027, 1),\n (\u0027close friend\u0027, 1),\n (\u0027couple kilometers\u0027, 1),\n (\u0027brilliant scientist\u0027, 1),\n (\u0027heavy spacesuit\u0027, 1),\n (\"sun \u0027s warmth\", 1),\n (\u0027insecure part\u0027, 1),\n (\"n\u0027t bother\", 1),\n (\u0027brilliant oversight\u0027, 1),\n (\u0027extra buffer\u0027, 1),\n (\u0027stupid rock\u0027, 1),\n (\u0027damn forms\u0027, 1),\n (\"ca n\u0027t\", 1)]"
            ]
          },
          "execution_count": 10,
          "metadata": {},
          "output_type": "execute_result"
        }
      ],
      "source": [
        "file \u003d dir + \u0027moon.txt\u0027\n",
        " \n",
        "with open(file, \u0027r\u0027) as myfile:\n",
        "    story \u003d myfile.read().replace(\u0027\\n        \u0027, \u0027\\t\u0027)\n",
        "\n",
        "story \u003d story.replace(\u0027”\u0027, \u0027\"\u0027).replace(\u0027“\u0027, \u0027\"\u0027).replace(\"’\", \"\u0027\").replace(\"‘\", \"\u0027\")\n",
        "\n",
        "f \u003d open(file,\u0027w+\u0027)\n",
        "f.write(story.replace(\u0027\\t\u0027, \u0027\\n        \u0027))\n",
        "f.close()\n",
        "\n",
        "blob \u003d textblob.TextBlob(story, tokenizer\u003dwt)\n",
        "\n",
        "np \u003d blob.noun_phrases\n",
        "\n",
        "cnt \u003d c.Counter()\n",
        "for word in np:\n",
        "    cnt[word] +\u003d 1\n",
        "cnt.most_common()"
      ]
    },
    {
      "cell_type": "code",
      "execution_count": 11,
      "metadata": {
        "pycharm": {}
      },
      "outputs": [
        {
          "data": {
            "text/plain": [
              "[(\u0027quinn\u0027, 13),\n (\u0027grocery store\u0027, 2),\n (\u0027truthfully\u0027, 2),\n (\u0027block handwriting\u0027, 1),\n (\u0027phone number\u0027, 1),\n (\u0027immediate reaction\u0027, 1),\n (\u0027all-time favorite people\u0027, 1),\n (\u0027miles quinn\u0027, 1),\n (\u0027nth time\u0027, 1),\n (\u0027old relationship\u0027, 1),\n (\u0027private investigator\u0027, 1),\n (\u0027insurance company\u0027, 1),\n (\u0027routine arson scam\u0027, 1),\n (\u0027unknown drug ring\u0027, 1),\n (\u0027needless\u0027, 1),\n (\u0027unsavory characters\u0027, 1),\n (\u0027new friends\u0027, 1),\n (\u0027local security specialist\u0027, 1),\n (\u0027drug pushers\u0027, 1),\n (\u0027extensive background checks\u0027, 1),\n (\u0027snappy comebacks\u0027, 1),\n (\u0027occasional serious date\u0027, 1),\n (\u0027work obligations\u0027, 1),\n (\u0027long amount\u0027, 1),\n (\u0027own hours\u0027, 1),\n (\u0027own boss\u0027, 1),\n (\u0027business sector\u0027, 1),\n (\u0027large businesses\u0027, 1),\n (\u0027security systems\u0027, 1),\n (\u0027seedier citizens\u0027, 1),\n (\u0027adrenaline junkie\u0027, 1),\n (\u0027entire carton\u0027, 1),\n (\u0027cereal aisle\u0027, 1),\n (\u0027healthy breakfast choices\u0027, 1),\n (\u0027froot loops\u0027, 1),\n (\u0027cap\u0027, 1),\n (\u0027frosted flakes\u0027, 1),\n (\"wo n\u0027t\", 1),\n (\"\u0027m offering\", 1),\n (\u0027cart past\u0027, 1),\n (\u0027soup aisle\u0027, 1),\n (\u0027different cans\u0027, 1),\n (\u0027campbell\u0027, 1),\n (\u0027missing\u0027, 1),\n (\u0027distraught husband\u0027, 1),\n (\u0027sounds\u0027, 1),\n (\u0027law enforcement\u0027, 1),\n (\u0027obviously\u0027, 1),\n (\u0027right clients\u0027, 1),\n (\u0027insurance frauds\u0027, 1),\n (\u0027seemed\u0027, 1),\n (\u0027bank account\u0027, 1),\n (\u0027old times\u0027, 1),\n (\u0027mistaken appearance\u0027, 1),\n (\u0027bitch smile\u0027, 1),\n (\u0027cheek muscles\u0027, 1),\n (\u0027narrow aisle\u0027, 1),\n (\u0027way past\u0027, 1),\n (\u0027business card\u0027, 1),\n (\u0027jacket pocket\u0027, 1),\n (\u0027grey eyes\u0027, 1),\n (\u0027please\u0027, 1),\n (\u0027current cases\u0027, 1),\n (\u0027long time\u0027, 1),\n (\u0027right track\u0027, 1),\n (\u0027professional lives\u0027, 1),\n (\u0027sick thrill\u0027, 1),\n (\u0027common sense\u0027, 1),\n (\u0027cell phone\u0027, 1)]"
            ]
          },
          "execution_count": 11,
          "metadata": {},
          "output_type": "execute_result"
        }
      ],
      "source": [
        "file \u003d dir + \u0027the_job.txt\u0027\n",
        " \n",
        "with open(file, \u0027r\u0027) as myfile:\n",
        "    story \u003d myfile.read().replace(\u0027\\n        \u0027, \u0027\\t\u0027)\n",
        "\n",
        "story \u003d story.replace(\u0027”\u0027, \u0027\"\u0027).replace(\u0027“\u0027, \u0027\"\u0027).replace(\"’\", \"\u0027\").replace(\"‘\", \"\u0027\")\n",
        "\n",
        "f \u003d open(file,\u0027w+\u0027)\n",
        "f.write(story.replace(\u0027\\t\u0027, \u0027\\n        \u0027))\n",
        "f.close()\n",
        "\n",
        "blob \u003d textblob.TextBlob(story, tokenizer\u003dwt)\n",
        "\n",
        "np \u003d blob.noun_phrases\n",
        "\n",
        "cnt \u003d c.Counter()\n",
        "for word in np:\n",
        "    cnt[word] +\u003d 1\n",
        "cnt.most_common()"
      ]
    },
    {
      "cell_type": "code",
      "execution_count": 12,
      "metadata": {
        "pycharm": {}
      },
      "outputs": [
        {
          "data": {
            "text/plain": [
              "[(\u0027joseph\u0027, 8),\n (\u0027fat man\u0027, 2),\n (\u0027thin man\u0027, 2),\n (\u0027rearview mirror\u0027, 2),\n (\u0027merciful\u0027, 1),\n (\u0027bright yellow cab\u0027, 1),\n (\u0027stark contrast\u0027, 1),\n (\u0027gray world\u0027, 1),\n (\u0027wet pavement\u0027, 1),\n (\u0027old radio\u0027, 1),\n (\u0027greasy t-shirt\u0027, 1),\n (\u0027final puff\u0027, 1),\n (\u0027thin lips\u0027, 1),\n (\u0027momentary rush\u0027, 1),\n (\u0027cool air\u0027, 1),\n (\u0027joseph…\u0027, 1),\n (\u0027technicolor jacket\u0027, 1),\n (\u0027joe\u0027, 1),\n (\u0027bright red umbrella\u0027, 1),\n (\u0027right turn\u0027, 1),\n (\u0027got\u0027, 1),\n (\"\u0027s fine\", 1),\n (\u0027nothin\u0027, 1),\n (\u0027myself\u0027, 1),\n (\u0027greasy shade\u0027, 1),\n (\u0027clutched\u0027, 1),\n (\u0027tiny poodle\u0027, 1),\n (\u0027original shade\u0027, 1),\n (\u0027female version\u0027, 1),\n (\"\u0027s reflection\", 1),\n (\u0027believe\u0027, 1),\n (\"wo n\u0027t\", 1),\n (\u0027thankfully\u0027, 1),\n (\u0027awkward conversation\u0027, 1),\n (\u0027old front door\u0027, 1),\n (\u0027sticky key\u0027, 1),\n (\u0027gray couch\u0027, 1),\n (\u0027front room\u0027, 1),\n (\u0027hello\u0027, 1)]"
            ]
          },
          "execution_count": 12,
          "metadata": {},
          "output_type": "execute_result"
        }
      ],
      "source": [
        "file \u003d dir + \u0027yellow_red_gray.txt\u0027\n",
        " \n",
        "with open(file, \u0027r\u0027) as myfile:\n",
        "    story \u003d myfile.read().replace(\u0027\\n        \u0027, \u0027\\t\u0027)\n",
        "\n",
        "story \u003d story.replace(\u0027”\u0027, \u0027\"\u0027).replace(\u0027“\u0027, \u0027\"\u0027).replace(\"’\", \"\u0027\").replace(\"‘\", \"\u0027\")\n",
        "\n",
        "f \u003d open(file,\u0027w+\u0027)\n",
        "f.write(story.replace(\u0027\\t\u0027, \u0027\\n        \u0027))\n",
        "f.close()\n",
        "\n",
        "blob \u003d textblob.TextBlob(story, tokenizer\u003dwt)\n",
        "\n",
        "np \u003d blob.noun_phrases\n",
        "\n",
        "cnt \u003d c.Counter()\n",
        "for word in np:\n",
        "    cnt[word] +\u003d 1\n",
        "cnt.most_common()"
      ]
    },
    {
      "cell_type": "code",
      "execution_count": 12,
      "metadata": {
        "pycharm": {
          "is_executing": false,
          "name": "#%%\n"
        }
      },
      "outputs": [],
      "source": "entries \u003d [entry for entry in os.listdir(\"/volumes/Hayley\u0027s Drive/PycharmProjects/twilightvalefalls/rstories\") if not entry.startswith(\u0027.\u0027)]\nlist_story \u003d list()\ntitle_list \u003d list()\nair_dates \u003d [\u0027May 2018\u0027, \u0027August 2015\u0027, \u0027December 2015\u0027, \u0027February 2018\u0027, \u0027April 2018\u0027, \u0027February 2018\u0027, \u0027February 2019\u0027]\nsource \u003d [\u0027rgoldblatt\u0027] * len(entries)\nfor file in entries:\n    with open(dir + file, \u0027r\u0027, encoding\u003d\"utf-8\") as myfile:\n        list_story.append(myfile.read().replace(\u0027\\n\u0027,\u0027 \u0027))\n    title_list.append(file.replace(\u0027_\u0027,\u0027 \u0027).replace(\u0027.txt\u0027,\u0027\u0027))\nlist_story \u003d [story.lower() for story in list_story]\nrs_df \u003d pd.DataFrame({\n    \u0027source\u0027: source,\n    \u0027title\u0027: title_list,\n    \u0027date\u0027: air_dates,\n    \u0027text\u0027: list_story\n    })"
    },
    {
      "cell_type": "code",
      "execution_count": 14,
      "outputs": [],
      "source": "rs_df.to_csv(path_or_buf\u003ddir+\u0027/rs_df.csv\u0027, sep\u003d\u0027|\u0027)  \n",
      "metadata": {
        "pycharm": {
          "metadata": false,
          "name": "#%%\n",
          "is_executing": false
        }
      }
    }
  ],
  "metadata": {
    "hide_input": false,
    "kernelspec": {
      "display_name": "Python 3",
      "language": "python",
      "name": "python3"
    },
    "language_info": {
      "codemirror_mode": {
        "name": "ipython",
        "version": 3
      },
      "file_extension": ".py",
      "mimetype": "text/x-python",
      "name": "python",
      "nbconvert_exporter": "python",
      "pygments_lexer": "ipython3",
      "version": "3.6.8"
    },
    "toc": {
      "base_numbering": 1.0,
      "nav_menu": {},
      "number_sections": true,
      "sideBar": true,
      "skip_h1_title": false,
      "title_cell": "Table of Contents",
      "title_sidebar": "Contents",
      "toc_cell": false,
      "toc_position": {},
      "toc_section_display": true,
      "toc_window_display": false
    },
    "varInspector": {
      "cols": {
        "lenName": 16.0,
        "lenType": 16.0,
        "lenVar": 40.0
      },
      "kernels_config": {
        "python": {
          "delete_cmd_postfix": "",
          "delete_cmd_prefix": "del ",
          "library": "var_list.py",
          "varRefreshCmd": "print(var_dic_list())"
        },
        "r": {
          "delete_cmd_postfix": ") ",
          "delete_cmd_prefix": "rm(",
          "library": "var_list.r",
          "varRefreshCmd": "cat(var_dic_list()) "
        }
      },
      "types_to_exclude": [
        "module",
        "function",
        "builtin_function_or_method",
        "instance",
        "_Feature"
      ],
      "window_display": false
    }
  },
  "nbformat": 4,
  "nbformat_minor": 1
}