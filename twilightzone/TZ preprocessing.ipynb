{
  "cells": [
    {
      "cell_type": "code",
      "execution_count": 2,
      "metadata": {
        "scrolled": true,
        "pycharm": {
          "is_executing": false
        }
      },
      "outputs": [],
      "source": [
        "import numpy\n",
        "import nltk\n",
        "import pandas as pd\n",
        "import re\n",
        "import os\n",
        "import textblob\n",
        "import collections\n",
        "from textblob import Word\n",
        "from textblob.tokenizers import WordTokenizer\n",
        "from spellchecker import SpellChecker\n",
        "from bs4 import BeautifulSoup\n",
        "from requests import get\n",
        "from requests.exceptions import RequestException\n",
        "from contextlib import closing\n",
        "import time\n",
        "\n",
        "spell \u003d SpellChecker()"
      ]
    },
    {
      "cell_type": "code",
      "execution_count": 3,
      "metadata": {
        "pycharm": {
          "is_executing": false
        }
      },
      "outputs": [],
      "source": [
        "def simple_get(url):\n",
        "    \"\"\"\n",
        "    Attempts to get the content at `url` by making an HTTP GET request.\n",
        "    If the content-type of response is some kind of HTML/XML, return the\n",
        "    text content, otherwise return None.\n",
        "    \"\"\"\n",
        "    try:\n",
        "        with closing(get(url, stream\u003dTrue)) as resp:\n",
        "            if is_good_response(resp):\n",
        "                return resp.content\n",
        "            else:\n",
        "                return None\n",
        "\n",
        "    except RequestException as e:\n",
        "        log_error(\u0027Error during requests to {0} : {1}\u0027.format(url, str(e)))\n",
        "        return None\n",
        "\n",
        "\n",
        "def is_good_response(resp):\n",
        "    \"\"\"\n",
        "    Returns True if the response seems to be HTML, False otherwise.\n",
        "    \"\"\"\n",
        "    content_type \u003d resp.headers[\u0027Content-Type\u0027].lower()\n",
        "    return (resp.status_code \u003d\u003d 200 \n",
        "            and content_type is not None \n",
        "            and content_type.find(\u0027html\u0027) \u003e -1)\n",
        "\n",
        "\n",
        "def log_error(e):\n",
        "    \"\"\"\n",
        "    It is always a good idea to log errors. \n",
        "    This function just prints them, but you can\n",
        "    make it do anything.\n",
        "    \"\"\"\n",
        "    print(e)\n",
        "def countWords(string): \n",
        "    OUT \u003d False\n",
        "    IN \u003d True\n",
        "    state \u003d OUT \n",
        "    wc \u003d 0\n",
        "  \n",
        "    # Scan all characters one by one \n",
        "    for i in range(len(string)): \n",
        "  \n",
        "        # If next character is a separator,  \n",
        "        # set the state as OUT \n",
        "        if (string[i] \u003d\u003d \u0027 \u0027 or string[i] \u003d\u003d \u0027\\n\u0027 or\n",
        "            string[i] \u003d\u003d \u0027\\t\u0027): \n",
        "            state \u003d OUT \n",
        "  \n",
        "        # If next character is not a word  \n",
        "        # separator and state is OUT, then  \n",
        "        # set the state as IN and increment  \n",
        "        # word count \n",
        "        elif state \u003d\u003d OUT: \n",
        "            state \u003d IN \n",
        "            wc +\u003d 1\n",
        "            \n",
        "    return wc"
      ]
    },
    {
      "cell_type": "code",
      "execution_count": 124,
      "metadata": {
        "pycharm": {}
      },
      "outputs": [
        {
          "data": {
            "text/plain": [
              "\u0027\\nremove encoding\\nbad formatting\\nnewline character\\nspell check\\n\u0027"
            ]
          },
          "execution_count": 124,
          "metadata": {},
          "output_type": "execute_result"
        }
      ],
      "source": [
        "\u0027\u0027\u0027\n",
        "remove encoding\n",
        "bad formatting\n",
        "newline character\n",
        "spell check\n",
        "\u0027\u0027\u0027"
      ]
    },
    {
      "cell_type": "code",
      "execution_count": 125,
      "metadata": {
        "pycharm": {}
      },
      "outputs": [
        {
          "name": "stdout",
          "output_type": "stream",
          "text": [
            "[\u0027A_Stop_at_Willoughby.txt\u0027, \"It\u0027s_a_Good_Life.txt\", \u0027Nick_of_Time.txt\u0027, \u0027Nightmare_At_20000_Feet.txt\u0027, \u0027Nothing_in_the_Dark.txt\u0027, \u0027One_for_the_Angels.txt\u0027, \u0027The_After_Hours.txt\u0027, \u0027The_Eye_of_the_Beholder.txt\u0027, \u0027The_Howling_Man.txt\u0027, \u0027The_Lonely.txt\u0027, \u0027The_Monsters_Are_Due_on_Maple_Street.txt\u0027, \u0027Time_Enough_at_Last.txt\u0027, \u0027To_Serve_Man.txt\u0027, \u0027Walking_Distance.txt\u0027, \u0027Where_is_Everybody.txt\u0027, \u0027Will_the_Real_Martian_Please_Stand_Up.txt\u0027]\n"
          ]
        }
      ],
      "source": [
        "print(os.listdir(\u0027twilightzone\u0027))"
      ]
    },
    {
      "cell_type": "code",
      "execution_count": 7,
      "metadata": {
        "scrolled": true,
        "pycharm": {
          "is_executing": false
        }
      },
      "outputs": [
        {
          "name": "stdout",
          "text": [
            "A_Stop_at_Willoughby.txt\nIt\u0027s_a_Good_Life.txt\nNick_of_Time.txt\nNightmare_At_20000_Feet.txt\nNothing_in_the_Dark.txt\nOne_for_the_Angels.txt\nThe_After_Hours.txt\nThe_Eye_of_the_Beholder.txt\nThe_Howling_Man.txt\nThe_Lonely.txt\nThe_Monsters_Are_Due_on_Maple_Street.txt\nTime_Enough_at_Last.txt\nTo_Serve_Man.txt\nWalking_Distance.txt\nWhere_is_Everybody.txt\nWill_the_Real_Martian_Please_Stand_Up.txt\n"
          ],
          "output_type": "stream"
        }
      ],
      "source": "script_list \u003d []\ntitle_list \u003d []\nwith open(\"/volumes/Hayley\u0027s Drive/PycharmProjects/twilightvalefalls/named_entities_all/named_entity_tz.txt\", \u0027r\u0027, encoding\u003d\u0027utf-8\u0027) as myfile:\n    ner \u003d myfile.read()\n\nnames \u003d []\nfor item in ner.split(\u0027\\n\u0027):\n    names.append(item.split(\u0027,\u0027,1)[0])\n\nspell.word_frequency.load_words(names)\n    \nfor i in os.listdir(\"/volumes/Hayley\u0027s Drive/PycharmProjects/twilightvalefalls/twilightzone/\"):\n    if not i.startswith(\u0027TZ\u0027) and not i.startswith(\u0027.\u0027):\n        with open(\"/volumes/Hayley\u0027s Drive/PycharmProjects/twilightvalefalls/twilightzone/\" + i, \u0027r\u0027, encoding\u003d\u0027utf-8\u0027) as myfile:\n            r \u003d re.sub(r\u0027(^[\\s\\w\\-\\\"]*)(1)\u0027,r\u0027\\2\u0027,str(myfile.read()))\n            t \u003d textblob.TextBlob(r, tokenizer\u003dWordTokenizer())\n        \n#         eh \u003d [w for w in t.noun_phrases if countWords(w) \u003c\u003d 2]\n#         for i in t.words:\n#             if (str(i) !\u003d spell.correction(str(i))):\n#                 print(i, spell.correction(str(i)))\n\n            script_list.append(r.replace(\u0027\\n\u0027,\u0027 \u0027).lower())\n            \n            \n            title_list.append(i.replace(\u0027_\u0027,\u0027 \u0027).replace(\u0027.txt\u0027,\u0027\u0027))    "
    },
    {
      "cell_type": "code",
      "execution_count": 182,
      "metadata": {
        "pycharm": {}
      },
      "outputs": [
        {
          "data": {
            "text/plain": [
              "TextBlob(\"1. int. conference room [day]  this is a big, sumptuous, paneled room with a long, low slung table in the center surrounded by ad agency execs.  2. high angle shot looking down  at the men around the table. slow pan down until we\u0027re looking across and down the table at eye level of the men around it.  3. reverse angle looking toward the head of table  at misrell, the president of the ad agency, a fat and overpowering man of giant stature with small piggish eyes, a perpetually angry and dour face, a challenging look that never leaves. pan down the table at the faces of the men sitting there quietly and finally winding up on gart williams, a tall, attractive man in a brooks brothers suit who drums on the table nervously, checks an expensive looking watch, then rises.  4. track shot over with him  to a telephone which he picks up, seems to cup in his hand to keep the others from overhearing his conversation. he\u0027s obviously distraught beyond any kind of description now. his face looks pinched and strained. he talks quietly into the phone.  williams i want jake ross\u0027s secretary! (he waits impatiently, conscious of misrell staring at him)  misrell\u0027s voice (from opposite side of room) williams, we\u0027re still waiting for your mr. ross!  williams (with a forced smile, over his shoulder) ) i\u0027m trying to get him now, sir. (then into phone) this jake ross\u0027s secretary? joanie: where is he? i know he\u0027s out to lunch. but there was a conference called here at two o\u0027clock. it is now two—thirty, now where is he! (he wets his lips, forces his voice down an octave) all right, check around. (more)  (continued)  continued:  williams (cont\u0027d) call sardi\u0027s east or the colony and tell him to get his keister back here in a hurry!  he slams down the receiver then fixes his face into a smiling, nonchalant mask and returns to the table.  5. track shot with him  as he walks over to the table, sits down, again smiling toward mr. misrell.  6. close shot misrell who stares back at him, totally unsmiling.  misrell well? where is your protege with the three-million—dollar automobile account?  williams he‘s due at any moment, sir. probably a big lunch crowd or something—  misrell don\u0027t be an idiot. more likely a big martini, or three or four of \u0027em. he was too young to put on this account — i told you that, williams. he\u0027s much too young to put on this large and important an account-  there\u0027s a knock on the door.  7. moving shot with williams  as he springs to his feet and hurries over to the big, double conference room doors. he opens it up. a young secretary hands him an envelope which he literally pulls out of her hand, slams the door behind him, rips open the envelope, and starts to read.  8. extremely tight close shot williams‘ face  as suddenly he looks white, stares up over the letter briefly toward misrell.  9. close shot misrell  reacting.  10. close shot williams  as his eyes slowly go downward and the letter in his hand drops to his side. he carries it very slowly over to the table and stands there at the far end.  11. reverse angle looking over his shoulder  down the length of the table at misrell who very slowly drums on the table in a methodical, tapping that permeates the silence of the room.  misrell well? we have now been here thirty-four minutes, mr. williams.  williams (looks up from the letter, takes a deep breath) this is a communication from jake ross.  misrell would you be so kind as to share its contents with us?  12. med. close shot williams  as he looks down at the letter, spreads it out on the top of the table, then looks up from it.  williams i can tell you the sense of it very quickly, mr. misrell. this is jake ross\u0027s resignation. he\u0027s moving over to another agency.  13. close shot misrell as his face seems to freeze.  misrell and?  14. close shot williams as his face seems to freeze. williams  and he\u0027s taking the automobile account with him.  15. pan shot down the faces of the men  at the table as each seems to catch his breath and then look from misrell and with great compassion and concern over toward williams.  misrell did you hear what i said, williams? that account represented a gross billing of something in the neighborhood of three million dollars a year. and how many times have you promised it to me?  williams (clears his throat and for a moment can\u0027t get a word out) this is as much of a shock to me as it is to you, mr. misrell.  misrell (roaring) don\u0027t con me, williams! it was your pet project! your pet project: then it was your idea to give it to that little college greeny! now get with it, williams. get with it, boy!  he rises from his seat and goes to the window, his jowled, fleshy face screwed up like a little baby about to cry; now he whirls around toward williams, points a finger at him.  misrell (cont \u0027 d) so what\u0027s left, williams? not only has your pet project backfired but it\u0027s sprouted wings and left the premises! i\u0027ll tell you what\u0027s left to us in my view! a deep and abiding concern about your judgment in men!  16. pan shot down the faces of the men  each of whom look down at their hands in a vast, biting embarrassment.  17. close shot williams  as he closes his eyes for a moment, feels the sweat on his forehead and then unconsciously massages his stomach as an ulcer deep inside lights a match to his insides.  18. close shot misrell  as he returns to the table, pounds the flats of his hands down on it.  misrell this is a push business, williams! a push, push, push business. push and drive, but personally. you don\u0027t delegate responsibilities to little boys.  19. close shot williams  as he looks sick.  misrell\u0027s voice you should know it more than anyone else.  the camera dollies in for an extremely tight, tight close shot of misrell\u0027s face shooting at just the nose and little oval mouth that goes up and down and up and down. misrell  a push, push, push business, williams.  it\u0027s push, push, push all the way. all  the time. right on down the line— 20. extremely tight close shot williams as suddenly he can\u0027t stand it any longer and shouts out.  williams fat boy, why don\u0027t you shut your mouth!  21.—25. series of abrupt cuts from face to face  of the men at the table, then misrell, then williams who suddenly exhales and realizes that the voice that suddenly exploded in the room like shrapnel was his own!  25a. insert coffee cup  drops to floor.  26. different angle williams  as he closes his eyes for a moment, grabs at his stomach very tightly as once again the ulcer makes an assault on him, then  he turns and walks quietly out of the room.  cut to:  27. ext. conference room a line of desks  two secretaries whisper to one another as he goes past them. 28. track shot williams  as he continues to walk through the office.  cut to:  29. int. different office area  williams\u0027s secretary, helen, sits at a desk and looks up as williams approaches. she forces a smile.  helen messages on the desk, boss. and hot coffee out here. can i bring you some?  he shakes his head and starts toward the door.  helen want anything at all?  he turns from the door and stares at her.  williams yeah. a sharp razor and a chart of the human anatomy showing where all the arteries are!  he goes into the office and slams the door behind him. 30. int. williams\u0027s office  fluorescent tube lighting is on all around the room and the first thing he does is flick off the switch putting the room into a semi—darkness. then he walks over to a big, modern, expensive—looking desk, looks briefly at the picture of a beautiful woman on it, then sits down behind the desk and stares down at nothing. over this tableau we hear the narrator\u0027s voice.  narrator’s voice this is gart williams, age thirty—eight, a man protected by a suit of armor all held together by one bolt. just a moment ago, someone removed the bolt and mr. williams‘s protection fell away from him and left him a naked target. he\u0027s been cannonaded this afternoon by all the enemies of his life. his insecurity has shelled him;  (more)  (continued)  continued:  narrator\u0027s voice (cont\u0027d) his sensitivity has straddled him with humiliation; his deep-rooted disquiet about his own worth has zeroed in on him, landed on target, and blown him apart. mr. gart williams, ad agency exec, who in just a moment will move into the twilight zone in a desperate search for survival!  fade to black opening billboard first commercial fade on:  31. int. commuter train [night] long shot down length of one of cars  a conductor comes into the frame from behind the camera collecting the tickets of the few passengers who remain. dolly in with him toward williams who sits by himself at the far end of the car. conductor takes his ticket, punches it.  32. two shot the two men  conductor one how are you tonight, mr. williams?  williams (looks up, tiredly, with a wry grin) in the absolute pink!  he turns and looks out toward the wintry, dark landscape.  conductor one cold winter this year. seems to get darker earlier than it ever has.  williams (nods) that\u0027s the way of the world. the rich get richer and the days get shorter!  the conductor chuckles, sticks the ticket into the slot in the back of the seat facing williams, then continues out of the car.  33. close shot williams  as he leans back in the chair. his face looks tired and wan. he takes a deep breath and closes his eyes.  (continued)  continued:  in his subconscious he heard the voice first of misrell and then other voices that spring up from his subconscious. over the tight, close shot of his face the voices come in filtered, discordantly loud, real and yet somehow a step beyond reality.  misrell\u0027s voice it\u0027s a push, push, push business, williams. it\u0027s an absolutely push, push, push business. it\u0027s a push, push, push business. you got to get with it, boy. it\u0027s a push, push, push business. you got to get with it, boy. it\u0027s a push, push, push business. you got to get with it, boy.  34. different tight angle williams\u0027s face as his eyes go open and he shouts out.  williams that\u0027s enough!  35. reverse angle looking over his shoulder at woman in front of him  who turns around, wide—eyed, and stares at him. 36. different angle williams  as he turns away from her to stare out the window of the train.  37. angle shot over his shoulder  at the wintry landscape outside in the darkness. his eyes close as he leans his head out the window and after a moment lets his head rest on the back of the seat, his eyes closed. the sound of the train comes up to provide a humming clickety clack sound as the camera moves in for an angle shot looking down from over the head of williams as he falls asleep. gradually the sound of the train takes on a different tone. it‘s imperceptible at first and then very obvious, almost as if the train were going through a tunnel and there was an echoy effect. lights shoot by playing on williams\u0027s face and on the interior of the train. the camera starts a slow pan down until it\u0027s directly in front of williams, shooting on him. then the camera pulls back to reveal an absolutely empty car and suddenly the entire car is suffused by sunlight and then the train is suddenly coming to a stop. dolly in for close shot of williams as his eyes open and suddenly blink. he takes a deep breath, looks at his watch, then looks out the window.  38. different angle williams\u0027s face  as he suddenly starts in amazement. slow pan shot up from him to a shot out the window. outside it is suddenly bright and sunny and obviously summer. the train has stopped in front of a small railroad station with a big sign which reads  \"willoughby.\"  39. close shot williams  as again he starts and stares.  40. long shot looking out the window  of the train station. there are horse-drawn carriages. women with parasols and long dresses. men in obvious nineteenth— century costume. little boys with knickers run back and forth. one carries a fishing pole.  41. different angle looking down the street  as seen from the train car. a bandstand, carriages, all the accoutrements to a quiet summer day of almost a century ago.  42. close shot williams  as his eyes scan the scene. he shakes his head in bewilderment, amazement.  43. different angle of him inside train  as he rises, walks halfway down the car, staring out of the windows as he walks.  44. long shot over his shoulder  as the far door of the car opens. a conductor comes in, this one in old—fashioned dress. he smiles at williams and calls out in a trainman\u0027s voice.  conductor.two willoughby. this stop is willoughbyl  he starts to walk past williams who grabs him.  williams what do you mean, willoughby? where\u0027s willoughby?  conductor two (grins and winks) willoughby? that\u0027s willoughby right outside.  (continued)  10. continued:  williams whirls around to stare out the window again, then turns toward the conductor.  williams wait a minute...wait a minute, what\u0027s going on? there‘s no place called willoughby on this line. and look at it outside. the sun is out. it\u0027s...it‘s summer.  conductor two (smiles) that\u0027s what she is, mid-julyl and a real warm one, too.  he starts to walk past and again williams has to grab him and stop him.  williams wait a minute...it\u0027s november. what\u0027s going on anyway? it\u0027s november! what is this place? where are we? what‘s happened?  45. different angle the conductor  as he releases himself and continues to walk down the car. 46. reverse angle looking over his shoulder  toward williams who stands there staring after him.  47. reverse angle looking toward confuctor williams\u0027s p.o.v.  williams please...please, what\u0027s going on? where is willoughby?  48. med. close shot the conductor  as he smiles again but this time with a touch of seriousness on his face and a kind of mysterious tilt of his head. he winks.  conductor two willoughby, sir? that\u0027s willoughby right outside. willoughby. july. summer. it\u0027s 1888. it‘s a lovely little village. (and then the smile fades and there\u0027s something intense in his voice) you ought to try it sometime! (more)  (continued)  11. continued:  conductor two (cont\u0027d) peaceful, restful, where a man can slow down to a walk and live his life full  measure! (then he turns and calls out  again) willoughy. this stop is willoughby.  he continues out the opposite door.  49. different angle williams  as he races down the length of the car to follow the conductor. he yanks open the door.  cut to:  50. shot over his shoulder of the platform between cars  which is empty, and beyond it a window leading to the next car which is also empty of anyone.  51. close shot williams  as he turns around and is tight on camera. his face is twisted and torn with confusion. his mouth opens as if to protest or question or plead for someone to give him understanding and clarity. suddenly the train lurches and he falls against the side of the door, clutching it for support. then very slowly he turns and walks back to his seat.  52. track shot with him as he walks and sits down. he looks out of the window. 53. moving shot from inside the train  as the train moves and leaves the town and station behind. the camera dollies in for extremely tight close shot of williams as he stares out the window and then suddenly the light pattern changes. the interior lights of the train take over and it is now dark and wintry and there are other people in the car. the conductor that we\u0027ve seen in the beginning comes by.  conductor one westport-saugatuck next stop. (he pauses by williams) have a good sleep, mr. williams?  williams (starts and looks up at him) yeah. (after a pause, quietly) yeah, i had a good sleep. (more)  (continued)  12. continued:  williams (cont \u0027 d) a good sleep with an idiotic dream. idiotic. (he turns to stare out the window) at least...at least i guess it\u0027s idiotic. (then he turns to look up toward conductor) ever hear of a town named willoughby?  conductor one (screws up his face thoughtfully) willoughby? willoughby where?  williams willoughby, connecticut, i guess. or willoughby, new york.  conductor one (shakes his head thoughtfully) no, not on this run. (he moves)  there\u0027s no willoughby on the line. (then he continues on, yelling) westport-saugatuck next stop. westport-  saugatuck.  he disappears through the car door as the camera pans over to williams. he rises very slowly to his feet, picks up his briefcase, starts out the car as wedddissolve to:  54. ext. suburban ranch home [night] sprawling very pretentious looking modern home  dissolve to: 55. int. living room—den  williams stands by a small bar pouring himself a large highball. he stirs the ice and very reflectively takes a sip of it. he turns as the light from the hall outside is suddenly ushered into the room with the door opening.  56. med. close shot mirror behind the bar  framed there is the reflection of williams\u0027s wife, jane. she  stands there frozen in place in the doorway looking across at him, accusing. this is a beautiful woman. but beautiful like  alabaster — just as cold, just as brittle, just as lacking in emotion. she walks slowly across the room toward him.  13.  57. different angle the two of them  jane and what are your plans this evening? to get quietly plastered and then sing old college songs?  williams (smiles at her a little wanly) it\u0027s been one of those days—  jane i know all about it. bob blair\u0027s wife called me. she said he\u0027d been in the meeting with you. you got...you got hysterical or something. she called to find out how you were.  58. med. close shot williams as he turns away, smiles.  williams  they were all very solicitous — all the boys at the meeting.  (he looks down into his glass  and jiggles the ice) that free-flowing compassion that is actually relief! i\u0027m the victim - not them! they\u0027ve mistaken an intake of breath for an outpouring of sympathy!  he starts to pour himself another drink. she crosses over and grabs his arm, looking straight into his face, her own face white and taut.  jane would you spare me your little homilies now and just give me a little simple and frank and honest answer. did you wreck a career this afternoon? did you throw away a job?  williams it appears not. mr. misrell phoned before i left the office. he has found it in that giant, oversized heart of his to forgive. this somewhat obese, gracious gentleman will allow me to continue in his employ simply because he\u0027s such a human—type fellah-  (a pause) (more)  (continued)  continued:  l4.  williams (cont\u0027d) with a small, insignificant, parenthetic additional reason — that if i were to go to competitive agency, i might possibly take a lot of business with me!  jane g0 on.  williams  (shrugs) that\u0027s it. that\u0027s all of it.  (he carries his drink across  the room and sits down in a  chair) i\u0027m tired, janie. i\u0027m tired, and i’m sick.  jane  (from across the room) then you\u0027re in the right ward! we specialize in people who are sick and tired too, gart. i\u0027m sick and tired of a husband who lives in a kind of permanent self-pity! a husband with a heart bleeding sensitivity he unfurls like a flag whenever he decides that the competition is too rough for him.  59. close shot williams  as his head goes up and he stares across the room at her.  williams  some people aren‘t built for competition, janie.  (he rises and walks halfway  over to her) or big pretentious houses that they can\u0027t afford. or rich communities they don\u0027t feel comfortable in. or country clubs that they wear around their necks like a badge of status—  jane (on her feet, shouts at him) and you would prefer-  williams (outshouting her now) i would prefer, though never asked before, a job, any job — any job at all where i could be myself! (more)  (continued)  15. continued:  williams (cont‘d)  where i wouldn\u0027t have to climb on a stage and go through a masquerade every morning at nine and mouth all the dialogue and play the executive and make believe i‘m the bright young man on his way up. because i\u0027m not that person, janie. you\u0027ve tried to make me that person, but that isn\u0027t me.  (now his voice is quieter as he  turns away from her) that isn\u0027t me at all. i‘m...i\u0027m a not very young, soon to be old, very uncompetitive, rather dull, quite uninspired, average type of guy—  (he whirls around toward her) with a wife who has an appetite!  jane and where would you be if it weren\u0027t for my appetite?  60. close shot williams as his eyes drop. he walks over to the chair and sits down.  williams i know where i\u0027d like to be.  jane (challenging, her voice brittle and shrill) and where would that be?  he looks up at her. the camera moves in very close to his face.  williams a place called willoughby. a little town that i chartered inside my head. a place i manufactured in a dream. (he looks away from her now, speaks softly and reflectively, almost as if to himself) an odd dream. a very odd dream. willoughby. it was summer. very warm. the kids were barefooted. one of them carried a fishing pole. and the main street looked like...looked like a currier and ives painting. bandstand, old-fashioned stores, bicycles, wagons. (he looks toward her again) i\u0027ve never seen such a...such a serenity. (more)  (continued)  16. continued:  williams (cont\u0027d) it was the way people must have lived a hundred years ago. (a pause as he looks away again) crazy dream.  61. moving shot jane as she walks over to him. 62. angle shot looking up at her  her face is distorted with an impatience, a frustration, a deep-rooted and abiding lack of respect for the man, in addition to the sense of impotence on her part. she turns and starts out of the room.  63. different angle the room as williams rises.  williams janie-  she stops at the door, her back to him. 64. reverse angle looking over her shoulder  toward him. his voice is soft and with a strange quality of hunger and yearning.  williams  you should have seen this place...this...this willoughby. janie, it wasn\u0027t just a place...or a time...  (a pause) it was like...a doorway that leads to sanity. a soundproof world where shouts and cries can‘t be heard.  65. close shot jane  jane (her words like pieces of ice)  nothing serious, gart. it\u0027s just that you were born too late. that\u0027s the problem. you were born too late. and your taste is a little cheap! you\u0027re the kind of man who could be satisfied with a summer afternoon and an ice wagon pulled by a horse. my mistake, pal. my error. my miserable tragic error.  (more)  (continued)  17. continued:  jane (cont\u0027d) to get married to a man whose big dream in life is to be huckleberry finn: that is what you want, isn\u0027t it?  66. extremely tight close shot williams  williams  something like that. a place...a time...where a man can live his life full measure.  (he turns away thoughtfully,  softly) that\u0027s what he said. that\u0027s what that...that conductor said. a place where a man can live his life full measure!  dissolve to: 67. int. train [night] close shot williams  sitting in his customary seat. over his shoulder we see the landscape outside cloaked by wintry night, occasional lights flashing by. he stirs when he hears the conductor‘s voice.  conductor one\u0027s voice willoughby?  camera pulls back for two shot  williams what?  conductor one  last week you asked me about a town called willoughby, mr. williams.  (he scratches his jaw) i looked it up. every old timetable i could find.  (he shakes his head) no such place as far as i could see.  williams (forcing a smile) thanks. it was a dream, that\u0027s all.  conductor one (continuing on down the car) probably was. (calling out) next stop, stamford. stamford, next stop.  18.  68. different angle williams  as he puts his head back, sighs deeply, looks out the window briefly and closes his eyes. in the background we hear the conductor\u0027s voice once again calling out.  conductor one‘s voice stamford next stop. stamford.  69. extremely tight close shot williams\u0027s face [day]  as once again the conductor\u0027s voice segues into that of the other conductor and gradually gets louder.  conductor two\u0027s voice willoughby. next stop, willoughby.  once again williams\u0027s eyes open wide. he springs to his feet and stares out the window. once again the car is of an old—  fashioned variety and empty save for the conductor who approaches him walking down the aisle.  conductor two willoughby, sir.  70. different angle  williams willoughby?  he turns to stare out the window again.  71. long shot over his shoulder of railroad station and town beyond  this time a band plays in the bandstand at the far end of the street and there\u0027s the sound of laughter, horses, an organ grinder - all of them fusing together to provide a kind of soft symphony.  72. moving shot williams as he goes out of the car to the train platform. 73. reverse angle looking up at him  from outside as he stops there. the conductor passes behind him heading for the next car.  conductor two willoughby. all out for willoughby.  19.  74. zoomar into williams\u0027s face  as he stands there transfixed, obviously on a thin line now between disbelief and resolve. he makes a motion as if to get off the train, then stops, looks down to the ground, then he‘s thrown off balance by the sudden jerk of the train starting.  75. moving shot the train  with williams standing on the platform. the moment of decision has passed and he has obviously retreated.  76. different angle the train platform  as williams turns away, stands there for a moment as the train picks up speed, slowly raises his head to look into the train car from which he\u0027s come.  77. long shot his p.o.v. [night]  once again it is filled with people and is no longer old- fashioned.  78. different angle williams  as he whirls around to stare out from the platform to the outside.  79. shot over his shoulder of the landscape going by. once again it is wintry and dark. 80. close shot williams  as he closes his eyes, swallows and is beset not only by bewilderment, but by an odd, haunting sense of having lost another chance.  81. moving shot with him  as he goes into the car and to his seat. he looks out at the passing landscape and then at the reflection of himself in the glass. his lips move and after a moment we can hear what he\u0027s saying.  williams (softly, to himself) ) willoughby. next time...next time...i\u0027m going to get off! (he turns to face the camera, his face determined and grim) i‘m going to get off at willoughby!  20.  fade to black act two fade on:  82. int. williams\u0027s office [day] extremely tight angle shot of a telephone receiver  in front of williams\u0027s face. we hear the filtered but strident voice of misrell.  misrell what we need here, williams, is a show with zazz! an entertainer with moxie! we\u0027ve got to take the audience by the ears and give \u0027em a yank! jar \u0027em: rock \u0027em! give them the old push, push, push!  williams (closing his eyes) ) i understand, mr. misrell.  83. pan shot down williams\u0027s body  after first seeing his face convulse in sudden agonizing pain. now his right hand moves inside his shirt to touch his stomach as the ulcer once again rakes over his inside.  misrell‘s voice now it\u0027s got to be bright, williams. bright with patter. dancing. comedy. and everything push, push, push, push. that‘s the kind of show the client\u0027ll like.  84. med. close shot williams  williams i understand, mr. misrell. i understand—  misrell\u0027s voice tomorrow morning, williams! understand? i want at least a preliminary idea for the show. you know what i want — just a rough format with some specifics as to how we integrate the commercials within the body of the show.  85. different angle williams  williams i\u0027ll do what i can.  21.  86. close shot phone receiver  misrell\u0027s voice do more than you can. with me, williams? aspire! dream big and then get behind it. push, push, push, push.  williams moves the phone away from him during the speech so that we are on the telephone listening to \"push, push, push,  push.\" 87. different angle williams  as he lays down the receiver and once again his hand massages his stomach. he looks pale and sick and inundated by pain. the phone rings. he picks it up. we hear a filtered voice blabbering at him. the words unintelligble, but the sense of the urgency very much in evidence.  williams (trying to interject at odd moments) ) well, i haven‘t seen the ratings on the show...no...no...well it was the time  slot the sponsor wanted—  another phone rings.  williams  (into the first phone) )  hold on just a second, will you. (he pushes a button and talks into the other line)  yes? they were what? wait a second. (he shouts out)  helen?  88. long shot the door  as the secretary appears.  williams what film outfit did the commercials on the bradbury account? the negatives are all scratched. they\u0027re screaming bloody murder at me.  helen i\u0027ll have to check it, sir. mr. misrell would like to see you.  the voice on the phone suddenly comes in loud and strident.  (continued)  22. continued:  williams i\u0027m going to have to check it out for you here-  helen  mr. misrell , sir . the voice continues on the line.  helen mr. williams, mr. misrell seemed rather insistent-  89. close shot williams  as his face suddenly seems very pale. the voices continue to probe at him.  90. moving shot with him  as he crosses the room almost like some kind of automaton, walks into the small private bathroom adjoining the office, stands in front of the mirror. the camera moves up for a shot of the reflection of his office over his shoulder. the phones on the desk jabber and ring, jabber and ring.  91. reverse angle looking toward williams\u0027s face  as he stares at himself. all the time the phones and voices seem to reach a crescendo and screech at him.  cut to: 92. shot of misrell\u0027s face in the mirror  the fleshy jowled features, the piggish eyes, the lips that move up and down, up and down.  misrell (in the mirror) ) push, push, push, williams. push, push, push, williams. push, push, push, williams.  93. profile shot williams  as his features contort and suddenly he takes the flats of both hands and smashes the mirror, breaking it into a hundred pieces. at this moment all noise stops and there is dead and utter silencef  23.  94. med. close shot williams  as he turns to face the camera, his mouth twitching, his eyes shut.  williams no more: no more — in god\u0027s name...no more!  95. track shot williams  as he runs across the room, flicks off the lights, leans against the wall for a moment. then he turns and retraces his steps back to the desk, picks up the phone, dials a number.  williams  i\u0027d like westport, connecticut, please. capital 7—9899. yes, please.  (he waits for a moment) janie, this is gart, honey. stay there, will you please? i just want you to stay there. i\u0027m coming home.  (a pause as he listens to her  obviously arguing) janie...janie, please listen...  (then shouting) janie! i\u0027ve had it. understand? i\u0027ve had it. i can\u0027t go on for another day. i can\u0027t go on for another hour. this is it right now. i\u0027ve got to get out of here.  (another pause) janie.  (close to tears) janie, help me, will you. please...please help me. janie?  (a pause) janie?  he clicks the receiver then listens to what is obviously a dead line. he slowly replaces the receiver and, massaging his stomach, he stares at the telephone.  dissolve to:  96. int. train [night] med. close shot  williams in his seat. the conductor passes him, punches his ticket.  conductor one  you‘re going home early tonight, huh, mr. williams?  (continued)  24. continued:  williams nods and doesn\u0027t say anything. the conductor continues on down the aisle, punching tickets. williams moves in his seat, stares out through the window, impatiently, nervously checks his watch, then looks out the window again, rises to peer more closely out of the glass, then sits down again. his fingers twitch convulsively. he starts to take out a cigarette then looks up at a sign over the door.  97. close shot the sign \"no smoking\" 98. angle shot looking down from the sign toward williams  who starts to put the cigarettes away in his pocket then drops them.  99. top hat shot from across the aisle looking straight toward the floor by williams  as he bends down to pick up the cigarettes. the conductor\u0027s voice is heard.  conductor one\u0027s voice stamford next stop. stamford.  100. extremely tight close shot cigarettes  suddenly bathed in sunlight. pan shot up until we‘re on a long angle looking up at williams\u0027s face as suddenly it is bathed in sunlight. he has a smile that is almost ethereal.  conductor two\u0027s voice willoughby next stop. willoughby!  101. different angle williams as he jumps to his feet and shouts.  williams willoughby! that‘s where i get off. willoughby! that\u0027s my station!  conductor.two (just coming alongside, smiles and winks) ) yes, sir. that\u0027s your station, willoughby.  25.  102. ext. train station  looking toward the car that williams is in as we can see him walking through the doors to the platform then down the steps and toward the camera. two boys pass carrying fishing rods.  boy one hi, mr. williams.  boy two hi, mr. williams.  103. close shot williams first, mystified, then overjoyed. williams hi, boys. catch some big ones today, huh?  i think tomorrow i‘ll join you.  boy one plenty of room! and lotsa fish.  they continue on. 104. long shot man on a wagon as he waves.  man hi, mr. williams. welcome:  williams thank you. thank you...i\u0027m...i\u0027m glad to be here.  105. moving shot williams  as he goes beyond the station, heading toward the main street. we can see and hear people greeting him and welcoming him.  106. different angle williams  as he walks toward the camera and is suddenly surrounded by people, all in period dress, who walk with him.  107. angle shot looking at clock in store window  as williams passes. there in the window is a grandfather clock. the camera.moves in very tight on it until we see the pendulum going back and forth. camera continues to dolly in on the pendulum.  26.  108. different angle the pendulum  as it swings.  lap dissolve to:  109. ext. field [night] close on lantern  that swings back and forth in the same cadence as the grandfather clock. the camera moves until it is shooting down on the body of gart williams who lies face up in the snow, a white coated intern leaning over him and beyond the intern two trainmen, one of whom holds the lantern. the intern rises, motions to another attendant. they lift the body of williams to a stretcher and start to carry it out of the  scene .  trainman one just jumped off the train, did he?  conductor shouted somethin\u0027 about willoughby, ran out to the platform and that‘s the last i seen him. doctor said he musta died instantly. they\u0027re gonna take him into town for an autopsy. funeral parlor there sent the ambulance.  trainman one poor fellah.  110. angle shot looking down on the intern and the attendant carrying the body over to a waiting ambulance.  111. different angle looking toward the rear end of the ambulance  its back door is wide open. the stretcher is lifted gently and through into the back. then the attendant closes both the doors and the camera zooms in for a close shot of the lettering on the back of the doors which reads, \"willoughby and son, funeral home.\" camera stays on this shot for a long, long moment, then the ambulance\u0027s engine is started, thrown into gear and it moves and it moves off into the darkness. the camera slowly pans up toward the sky as we hear the narrator‘s voice.  narrator‘s voice mr. gart williams, who sought respite from torment under a gravestone; who climbed on a world that went by too fast and then...jumped off. (more) (continued)  continued:  narrator\u0027s voice (cont‘d) mr. gart williams, who might now tell us what awaits us in the beyond...because  this, too, is a part of...the twilight zone!  fade to black.  27.  \")"
            ]
          },
          "execution_count": 182,
          "metadata": {},
          "output_type": "execute_result"
        }
      ],
      "source": [
        "script_list[0]"
      ]
    },
    {
      "cell_type": "code",
      "execution_count": 8,
      "metadata": {
        "pycharm": {
          "is_executing": false
        }
      },
      "outputs": [],
      "source": [
        "wiki \u003d \u0027https://en.wikipedia.org/wiki/List_of_The_Twilight_Zone_(1959_TV_series)_episodes#Concept_(1958)\u0027\n",
        "s \u003d simple_get(wiki)\n",
        "html \u003d BeautifulSoup(s, \u0027html.parser\u0027)"
      ]
    },
    {
      "cell_type": "code",
      "execution_count": 9,
      "metadata": {
        "scrolled": true,
        "pycharm": {
          "is_executing": false
        }
      },
      "outputs": [],
      "source": [
        "table \u003d html.find_all(\u0027table\u0027,{\u0027class\u0027:\u0027wikitable plainrowheaders wikiepisodetable\u0027})\n",
        "table \u003d str(table)\n",
        "markup \u003d table.encode(\"utf-8\")\n",
        "content \u003d markup.decode(\"utf-8\", \"ignore\")\n",
        "table2 \u003d content.replace(\u0027\\n\u0027,\u0027\u0027)\n",
        "d \u003d re.findall(r\u0027(\u003c\\/td\u003e\u003ctd style\u003d\"text-align:center\"\u003e)([\\w\\s\\,]*)(\u003cspan)\u0027,str(table2))\n",
        "t \u003d re.findall(r\u0027title\u003d\"([\\w\\s\\?]*)\"\u0027, str(table))"
      ]
    },
    {
      "cell_type": "code",
      "execution_count": 10,
      "metadata": {
        "pycharm": {
          "is_executing": false
        }
      },
      "outputs": [],
      "source": [
        "dates_for_all \u003d []\n",
        "for i,p in enumerate(d):\n",
        "    dates_for_all.append(str(p[1]).replace(\u0027\\xa0\u0027,\u0027 \u0027))\n",
        "    \n",
        "eps \u003d [29,73,6,122,80,1,33,41,40,6,21,7,88,4,0,63]\n",
        "dates_list \u003d []\n",
        "for i in eps:\n",
        "    dates_list.append(dates_for_all[i])"
      ]
    },
    {
      "cell_type": "code",
      "execution_count": 186,
      "metadata": {
        "pycharm": {}
      },
      "outputs": [],
      "source": [
        "#  \u0027A Stop at Willoughby\u0027,   29              May 6, 1960\n",
        "#  \"It\u0027s a Good Life\",       73              Nov 3, 1961\n",
        "#  \u0027Nick of Time\u0027,           6              Nov 18, 1960\n",
        "#  \u0027Nightmare At 20000 Feet\u0027,122              Oct 11, 1963\n",
        "#  \u0027Nothing in the Dark\u0027,    80              Jan 5, 1962\n",
        "#  \u0027One for the Angels\u0027,     1             Oct 9, 1959\n",
        "#  \u0027The After Hours\u0027,        33              June 10, 1960\n",
        "#  \u0027The Eye of the Beholder\u0027,41              Nov 11, 1960\n",
        "#  \u0027The Howling Man\u0027,        40              Nov 4, 1960\n",
        "#  \u0027The Lonely\u0027,             6              Nov 13, 1959\n",
        "#  \u0027The Monsters Are Due on Maple Street\u0027, 21 March 4, 1960\n",
        "#  \u0027Time Enough at Last\u0027,                  Nov 20, 1959\n",
        "#  \u0027To Serve Man\u0027,                         March 2, 1962\n",
        "#  \u0027Walking Distance\u0027,                     Oct 30, 1959\n",
        "#  \u0027Where is Everybody\u0027,                   Oct 2, 1959\n",
        "#  \u0027Will the Real Martian Please Stand Up  May 26, 1961"
      ]
    },
    {
      "cell_type": "code",
      "execution_count": 11,
      "metadata": {
        "pycharm": {
          "is_executing": false
        }
      },
      "outputs": [],
      "source": [
        "data \u003d {\u0027Source\u0027: \u0027Twilight Zone\u0027, \n",
        "        \u0027Title\u0027:title_list, \n",
        "        \u0027Date\u0027:dates_list, \n",
        "        \u0027Text\u0027: script_list}\n",
        "tz \u003d pd.DataFrame(data)"
      ]
    },
    {
      "cell_type": "code",
      "execution_count": 202,
      "metadata": {
        "pycharm": {}
      },
      "outputs": [
        {
          "data": {
            "text/plain": [
              "\u0027C:\\\\Users\\\\ced4689\\\\Desktop\\\\TVF\u0027"
            ]
          },
          "execution_count": 202,
          "metadata": {},
          "output_type": "execute_result"
        }
      ],
      "source": [
        "os.getcwd()"
      ]
    },
    {
      "cell_type": "code",
      "execution_count": 13,
      "metadata": {
        "scrolled": true,
        "pycharm": {
          "is_executing": false
        }
      },
      "outputs": [],
      "source": "tz.to_csv(path_or_buf\u003d\"/volumes/Hayley\u0027s Drive/PycharmProjects/twilightvalefalls/twilightzone/tz_df.csv\",sep\u003d(\u0027|\u0027))"
    },
    {
      "cell_type": "code",
      "execution_count": null,
      "metadata": {
        "pycharm": {}
      },
      "outputs": [],
      "source": []
    }
  ],
  "metadata": {
    "kernelspec": {
      "display_name": "Python 3",
      "language": "python",
      "name": "python3"
    },
    "language_info": {
      "codemirror_mode": {
        "name": "ipython",
        "version": 3
      },
      "file_extension": ".py",
      "mimetype": "text/x-python",
      "name": "python",
      "nbconvert_exporter": "python",
      "pygments_lexer": "ipython3",
      "version": "3.6.8"
    }
  },
  "nbformat": 4,
  "nbformat_minor": 2
}