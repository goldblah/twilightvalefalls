{
 "cells": [
  {
   "cell_type": "markdown",
   "metadata": {},
   "source": [
    "# Twilight Zone"
   ]
  },
  {
   "cell_type": "code",
   "execution_count": 3,
   "metadata": {
    "scrolled": true
   },
   "outputs": [],
   "source": [
    "from requests import get\n",
    "from requests.exceptions import RequestException\n",
    "from contextlib import closing\n",
    "from bs4 import BeautifulSoup\n",
    "import time\n",
    "import re\n",
    "import os\n",
    "import nltk"
   ]
  },
  {
   "cell_type": "markdown",
   "metadata": {},
   "source": [
    "## Web scrapping "
   ]
  },
  {
   "cell_type": "code",
   "execution_count": 4,
   "metadata": {
    "ExecuteTime": {
     "end_time": "2019-04-10T19:50:45.103672Z",
     "start_time": "2019-04-10T19:50:45.091832Z"
    }
   },
   "outputs": [],
   "source": [
    "def simple_get(url):\n",
    "    \"\"\"\n",
    "    Attempts to get the content at `url` by making an HTTP GET request.\n",
    "    If the content-type of response is some kind of HTML/XML, return the\n",
    "    text content, otherwise return None.\n",
    "    \"\"\"\n",
    "    try:\n",
    "        with closing(get(url, stream=True)) as resp:\n",
    "            if is_good_response(resp):\n",
    "                return resp.content\n",
    "            else:\n",
    "                return None\n",
    "\n",
    "    except RequestException as e:\n",
    "        log_error('Error during requests to {0} : {1}'.format(url, str(e)))\n",
    "        return None\n",
    "\n",
    "\n",
    "def is_good_response(resp):\n",
    "    \"\"\"\n",
    "    Returns True if the response seems to be HTML, False otherwise.\n",
    "    \"\"\"\n",
    "    content_type = resp.headers['Content-Type'].lower()\n",
    "    return (resp.status_code == 200 \n",
    "            and content_type is not None \n",
    "            and content_type.find('html') > -1)\n",
    "\n",
    "\n",
    "def log_error(e):\n",
    "    \"\"\"\n",
    "    It is always a good idea to log errors. \n",
    "    This function just prints them, but you can\n",
    "    make it do anything.\n",
    "    \"\"\"\n",
    "    print(e)\n",
    "def countWords(string): \n",
    "    OUT = False\n",
    "    IN = True\n",
    "    state = OUT \n",
    "    wc = 0\n",
    "  \n",
    "    # Scan all characters one by one \n",
    "    for i in range(len(string)): \n",
    "  \n",
    "        # If next character is a separator,  \n",
    "        # set the state as OUT \n",
    "        if (string[i] == ' ' or string[i] == '\\n' or\n",
    "            string[i] == '\\t'): \n",
    "            state = OUT \n",
    "  \n",
    "        # If next character is not a word  \n",
    "        # separator and state is OUT, then  \n",
    "        # set the state as IN and increment  \n",
    "        # word count \n",
    "        elif state == OUT: \n",
    "            state = IN \n",
    "            wc += 1\n",
    "            \n",
    "    return wc"
   ]
  },
  {
   "cell_type": "code",
   "execution_count": 6,
   "metadata": {},
   "outputs": [],
   "source": [
    "#pip install wikipedia -- allows for use of Wikipedia API\n",
    "import wikipedia\n",
    "titles = ['Where Is Everybody?','One for the Angels','Walking Distance','The Lonely (The Twilight Zone)','Time Enough at Last',\n",
    "         'A Stop at Willoughby','The After Hours','The Howling Man','Eye of the Beholder (1960 Twilight Zone episode)',\n",
    "         'Nick of Time (The Twilight Zone)', 'Will the Real Martian Please Stand Up?', \"It's a Good Life (The Twilight Zone)\",'Nothing in the Dark',\n",
    "         'To Serve Man (The Twilight Zone)', 'Nightmare at 20,000 Feet'] #real episode list here"
   ]
  },
  {
   "cell_type": "code",
   "execution_count": 7,
   "metadata": {},
   "outputs": [],
   "source": [
    "def twilight_zone_nes(episodes):\n",
    "    casts = []\n",
    "    for ep in episodes:\n",
    "        casts.append(wikipedia.WikipediaPage(title = ep).section('Cast'))\n",
    "        \n",
    "    nes = []\n",
    "    for cast in casts:\n",
    "        if cast is not None:\n",
    "            chars = cast.split('\\n')\n",
    "            for char in chars:\n",
    "                nes.append(char.split('as')[-1].strip())\n",
    "        else:\n",
    "            print('No cast info for episode: %s...\\nCheck article name or fandom wiki...'%episodes[casts.index(cast)])\n",
    "    print(nes)\n",
    "    nes.append('Narrator')\n",
    "    return list(set(nes))"
   ]
  },
  {
   "cell_type": "code",
   "execution_count": 8,
   "metadata": {},
   "outputs": [
    {
     "name": "stdout",
     "output_type": "stream",
     "text": [
      "No cast info for episode: Time Enough at Last...\n",
      "Check article name or fandom wiki...\n",
      "No cast info for episode: Time Enough at Last...\n",
      "Check article name or fandom wiki...\n",
      "No cast info for episode: Time Enough at Last...\n",
      "Check article name or fandom wiki...\n",
      "['Mike Ferris', 'General', 'Colonel', 'Lewis J. \"Lou\" Bookman', 'Mr. Death', 'Maggie Polanski', 'Martin Sloan', \"Martin's Dad\", \"Martin's Mom\", 'The Wilcox Boy', 'Young Martin', 'Charlie', 'Mr. Wilson', 'James A. Corry', 'Alicia', 'Allenby', 'Adams', 'Carstairs', 'David Ellington', 'Brother Jerome', 'The Howling Man', 'Brother Christophorus', 'Housekeeper', 'Janet Tyler (under bandages)', 'ked)', 'Doctor Bernardi', 'Nurse', 'Walter Smith', 'The Leader', 'Nurse #2', 'Don Carter', 'Pat Carter', 'Mechanic (Lars)', 'Counter Man', 'Man', 'Woman', 'Ross, the businessman', 'Ethel McConnell, the dancer', 'Avery, the crazy man', 'Haley, the cook', 'Trooper Bill Padgett', 'Olmstead, the bus driver', 'Trooper Dan Perry', 'Rose Kramer, the older wife', 'Peter Kramer, the older husband', 'Connie Prince, the younger wife', 'George Prince, the younger husband', 'Mr. Fremont', 'Mrs. Fremont', 'Dan Hollis', 'Anthony Fremont', 'Aunt Amy', 'Pat Riley', 'Ethel Hollis', 'Thelma Dunn', 'Bill Soames', 'Wanda Dunn', 'Harold Beldon', 'Contractor', 'Michael Chambers', 'the Kanamits (all of whom appear alike)', 'Patty', 'Kanamit voice', 'Secretary General', 'Theodore Marcuse)', 'Colonel #1', 'Carlton Young)', 'Scientist', 'Señor Valdes', 'Leveque', 'J.H. Fujikawa)', 'Robert Wilson', 'Julia Wilson', 'Flight Engineer', 'Stewardess', 'Gremlin']\n"
     ]
    }
   ],
   "source": [
    "n = twilight_zone_nes(titles)\n"
   ]
  },
  {
   "cell_type": "code",
   "execution_count": 9,
   "metadata": {},
   "outputs": [],
   "source": [
    "missing_eps = ['Time_Enough_at_Last','A Stop at Willoughby','The After Hours']\n",
    "\n",
    "for episode in missing_eps:\n",
    "    time.sleep(10)\n",
    "    wikis = 'https://twilightzone.fandom.com/wiki/' + episode\n",
    "    s = simple_get(wikis)\n",
    "    html = BeautifulSoup(s, 'html.parser')\n",
    "    title = str(html.find(\"meta\",  property=\"og:title\"))\n",
    "\n",
    "    cast = re.search(r'(id=\"Cast\"[\\<\\w\\>\\s\\=\\\"\\-\\(\\)\\/;\\[\\]\\'\\.\\:]*)(<\\/ul>)',str(html))[0]\n",
    "    markup = cast.encode(\"utf-8\")\n",
    "    content = markup.decode(\"utf-8\", \"ignore\")\n",
    "    content = content.replace('\\n','')\n",
    "    names = re.findall(r'(as )(<a[\\s\\w\\\"\\=\\/\\(\\)\\-]*>)?([\\w\\s\\\"\\.\\-]*)',str(content))\n",
    "    #names = re.findall(r'(as )(<a[\\w\\s\\=\\/\\\"\\(\\)\\-]*>)([\\w\\s]*)', str(content))\n",
    "    #print(content)\n",
    "    #print(names)\n",
    "    \n",
    "    for i,p in enumerate(names):\n",
    "        #print(p[-1]) \n",
    "        n.append(p[-1])\n",
    "# two characters the regex missed for some reason        \n",
    "n.append('Mr. Carsville')\n",
    "n.append('Mrs. Chester')\n",
    "# actor the regex picked up\n",
    "n.remove('Mavis Neal') \n",
    "# wiki pulled only a part of the name\n",
    "n.remove('ked)')\n",
    "n.append('Janet Tyler (unmasked)')"
   ]
  },
  {
   "cell_type": "code",
   "execution_count": 10,
   "metadata": {},
   "outputs": [],
   "source": [
    "named_entity_list = []\n",
    "for i,j in enumerate(n):\n",
    "    \n",
    "    #cleaning up the names a bit\n",
    "    main_name = re.sub(r'(, [\\w\\s]*)','',j)\n",
    "    main_name = re.sub(r'(\\s\\([\\w\\s]*\\))','',main_name)\n",
    "    main_name = re.sub(r'\\)','',main_name)\n",
    "    \n",
    "    fin_tag = ''\n",
    "        \n",
    "    if (countWords(main_name.strip()) == 1) or (countWords(main_name.strip()) >= 3):\n",
    "        fin_tag = ',' + re.sub(r'([\\w]{3})([\\w\\s]*)',r'\\1',main_name).upper()\n",
    "    elif countWords(main_name.strip()) == 2:\n",
    "        fin_tag = ',' + re.sub(r'([\\w]{1})([\\w\\']*)\\s([\\w]*)',r'\\1\\3', main_name)\n",
    "    \n",
    "    main = main_name + ',CHR' + fin_tag \n",
    "    \n",
    "    named_entity_list.append(main)\n",
    "    \n",
    "for i in named_entity_list:\n",
    "    if i == ',CHR':\n",
    "        named_entity_list.remove(i)\n",
    "\n",
    "tupled_list = []\n",
    "for i,p in enumerate(named_entity_list):\n",
    "    tupled_list.append(tuple(named_entity_list[i].split(',')))\n"
   ]
  },
  {
   "cell_type": "code",
   "execution_count": 11,
   "metadata": {},
   "outputs": [
    {
     "name": "stdout",
     "output_type": "stream",
     "text": [
      "[('The Wilcox Boy', 'CHR', 'THE'), ('Haley', 'CHR', 'HAL'), ('Rose Kramer', 'CHR', 'RKramer'), ('Peter Kramer', 'CHR', 'PKramer'), ('Anthony Fremont', 'CHR', 'AFremont'), ('Olmstead', 'CHR', 'OLM'), ('Alicia', 'CHR', 'ALI'), ('Janet Tyler', 'CHR', 'JTyler'), ('Avery', 'CHR', 'AVE'), ('Counter Man', 'CHR', 'CMan'), ('The Leader', 'CHR', 'TLeader'), ('Man', 'CHR', 'MAN'), ('Allenby', 'CHR', 'ALL'), ('Leveque', 'CHR', 'LEV'), ('Gremlin', 'CHR', 'GRE'), ('Trooper Bill Padgett', 'CHR', 'TRO'), ('Don Carter', 'CHR', 'DCarter'), ('Nurse', 'CHR', 'NUR'), (\"Martin's Mom\", 'CHR', 'MMom'), ('Pat Carter', 'CHR', 'PCarter'), ('Mr. Death', 'CHR', 'Mr. Death'), ('Young Martin', 'CHR', 'YMartin'), ('Scientist', 'CHR', 'SCI'), ('Colonel', 'CHR', 'COL'), ('Maggie Polanski', 'CHR', 'MPolanski'), ('Julia Wilson', 'CHR', 'JWilson'), ('Walter Smith', 'CHR', 'WSmith'), ('James A. Corry', 'CHR', 'JAM. COR'), ('Flight Engineer', 'CHR', 'FEngineer'), ('Patty', 'CHR', 'PAT'), ('Ross', 'CHR', 'ROS'), ('Theodore Marcuse', 'CHR', 'TMarcuse'), ('Mike Ferris', 'CHR', 'MFerris'), ('Mechanic', 'CHR', 'MEC'), ('J.H. Fujikawa', 'CHR', 'J.H. Fujikawa'), ('Ethel McConnell', 'CHR', 'EMcConnell'), ('Contractor', 'CHR', 'CON'), ('Woman', 'CHR', 'WOM'), ('Bill Soames', 'CHR', 'BSoames'), ('Wanda Dunn', 'CHR', 'WDunn'), ('Narrator', 'CHR', 'NAR'), ('Doctor Bernardi', 'CHR', 'DBernardi'), ('Trooper Dan Perry', 'CHR', 'TRO'), ('Mr. Wilson', 'CHR', 'Mr. Wilson'), ('Brother Jerome', 'CHR', 'BJerome'), ('Martin Sloan', 'CHR', 'MSloan'), ('the Kanamits', 'CHR', 'tKanamits'), ('Pat Riley', 'CHR', 'PRiley'), ('David Ellington', 'CHR', 'DEllington'), ('Michael Chambers', 'CHR', 'MChambers'), ('Secretary General', 'CHR', 'SGeneral'), ('Mrs. Fremont', 'CHR', 'Mrs. Fremont'), ('The Howling Man', 'CHR', 'THE'), ('Colonel #1', 'CHR', 'C#1'), ('Lewis J. \"Lou\" Bookman', 'CHR', 'LEW. \"LOU\" BOO'), ('Adams', 'CHR', 'ADA'), ('Dan Hollis', 'CHR', 'DHollis'), ('Harold Beldon', 'CHR', 'HBeldon'), ('Robert Wilson', 'CHR', 'RWilson'), ('Carlton Young', 'CHR', 'CYoung'), ('Stewardess', 'CHR', 'STE'), ('George Prince', 'CHR', 'GPrince'), ('Connie Prince', 'CHR', 'CPrince'), ('Señor Valdes', 'CHR', 'SValdes'), ('Carstairs', 'CHR', 'CAR'), ('Housekeeper', 'CHR', 'HOU'), ('Thelma Dunn', 'CHR', 'TDunn'), ('Kanamit voice', 'CHR', 'Kvoice'), ('Brother Christophorus', 'CHR', 'BChristophorus'), ('General', 'CHR', 'GEN'), ('Aunt Amy', 'CHR', 'AAmy'), ('Charlie', 'CHR', 'CHA'), ('Ethel Hollis', 'CHR', 'EHollis'), ('Nurse #2', 'CHR', 'N#2'), ('Mr. Fremont', 'CHR', 'Mr. Fremont'), (\"Martin's Dad\", 'CHR', 'MDad'), ('Henry Bemis', 'CHR', 'HBemis'), ('Helen Bemis', 'CHR', 'HBemis'), ('Jaqueline deWit', 'CHR', 'JdeWit'), ('Gart Williams', 'CHR', 'GWilliams'), ('Misrell', 'CHR', 'MIS'), ('Janie Williams', 'CHR', 'JWilliams'), ('1960 conductor', 'CHR', '1conductor'), ('Helen ', 'CHR', 'HEL'), ('1888 Conductor', 'CHR', '1Conductor'), ('Short Boy', 'CHR', 'SBoy'), ('Engineer', 'CHR', 'ENG'), ('Tall Boy', 'CHR', 'TBoy'), ('Man on Wagon', 'CHR', 'MAN'), ('Marsha White', 'CHR', 'MWhite'), ('Saleswoman', 'CHR', 'SAL'), ('Mr. Armbruster', 'CHR', 'Mr. Armbruster'), ('Elevator Man', 'CHR', 'EMan'), ('Mr. Sloan', 'CHR', 'Mr. Sloan'), ('Ms. Keevers', 'CHR', 'Ms. Keevers'), ('Mr. Carsville', 'CHR', 'Mr. Carsville'), ('Mrs. Chester', 'CHR', 'Mrs. Chester'), ('Janet Tyler', 'CHR', 'JTyler')]\n"
     ]
    }
   ],
   "source": [
    "print(tupled_list)"
   ]
  },
  {
   "cell_type": "code",
   "execution_count": 12,
   "metadata": {},
   "outputs": [],
   "source": [
    "tupled_list.sort()\n",
    "\n",
    "f = open('named_entity_tz.txt','w+', encoding='utf-8')\n",
    "for s in tupled_list:\n",
    "    f.write(\"%s, %s, %s\\n\" % s)\n",
    "f.close()"
   ]
  },
  {
   "cell_type": "code",
   "execution_count": null,
   "metadata": {},
   "outputs": [],
   "source": []
  }
 ],
 "metadata": {
  "kernelspec": {
   "display_name": "Python 3",
   "language": "python",
   "name": "python3"
  },
  "language_info": {
   "codemirror_mode": {
    "name": "ipython",
    "version": 3
   },
   "file_extension": ".py",
   "mimetype": "text/x-python",
   "name": "python",
   "nbconvert_exporter": "python",
   "pygments_lexer": "ipython3",
   "version": "3.6.8"
  },
  "toc": {
   "base_numbering": 1,
   "nav_menu": {},
   "number_sections": true,
   "sideBar": true,
   "skip_h1_title": false,
   "title_cell": "Table of Contents",
   "title_sidebar": "Contents",
   "toc_cell": false,
   "toc_position": {},
   "toc_section_display": true,
   "toc_window_display": false
  },
  "varInspector": {
   "cols": {
    "lenName": 16,
    "lenType": 16,
    "lenVar": 40
   },
   "kernels_config": {
    "python": {
     "delete_cmd_postfix": "",
     "delete_cmd_prefix": "del ",
     "library": "var_list.py",
     "varRefreshCmd": "print(var_dic_list())"
    },
    "r": {
     "delete_cmd_postfix": ") ",
     "delete_cmd_prefix": "rm(",
     "library": "var_list.r",
     "varRefreshCmd": "cat(var_dic_list()) "
    }
   },
   "types_to_exclude": [
    "module",
    "function",
    "builtin_function_or_method",
    "instance",
    "_Feature"
   ],
   "window_display": false
  }
 },
 "nbformat": 4,
 "nbformat_minor": 2
}
