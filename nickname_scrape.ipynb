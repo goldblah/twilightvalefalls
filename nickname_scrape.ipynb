{
  "cells": [
    {
      "cell_type": "code",
      "execution_count": 36,
      "metadata": {
        "collapsed": true,
        "pycharm": {
          "is_executing": false
        }
      },
      "outputs": [],
      "source": "from requests import get\nfrom requests.exceptions import RequestException\nfrom contextlib import closing\nfrom bs4 import BeautifulSoup\nimport time\nimport re\nimport os\nimport pandas as pd\nentries \u003d os.listdir(\"/volumes/Hayley\u0027s Drive/PycharmProjects/twilightvalefalls/\")\ndir \u003d \"/volumes/Hayley\u0027s Drive/PycharmProjects/twilightvalefalls/\""
    },
    {
      "cell_type": "code",
      "execution_count": 37,
      "outputs": [],
      "source": "def countWords(string): \n    OUT \u003d False\n    IN \u003d True\n    state \u003d OUT \n    wc \u003d 0\n  \n    # Scan all characters one by one \n    for i in range(len(string)): \n  \n        # If next character is a separator,  \n        # set the state as OUT \n        if (string[i] \u003d\u003d \u0027 \u0027 or string[i] \u003d\u003d \u0027\\n\u0027 or\n            string[i] \u003d\u003d \u0027\\t\u0027): \n            state \u003d OUT \n  \n        # If next character is not a word  \n        # separator and state is OUT, then  \n        # set the state as IN and increment  \n        # word count \n        elif state \u003d\u003d OUT: \n            state \u003d IN \n            wc +\u003d 1\n            \n    return wc",
      "metadata": {
        "pycharm": {
          "metadata": false,
          "name": "#%%\n",
          "is_executing": false
        }
      }
    },
    {
      "cell_type": "code",
      "execution_count": 38,
      "outputs": [],
      "source": "def simple_get(url):\n    \"\"\"\n    Attempts to get the content at `url` by making an HTTP GET request.\n    If the content-type of response is some kind of HTML/XML, return the\n    text content, otherwise return None.\n    \"\"\"\n    try:\n        with closing(get(url, stream\u003dTrue)) as resp:\n            if is_good_response(resp):\n                return resp.content\n            else:\n                return None\n\n    except RequestException as e:\n        log_error(\u0027Error during requests to {0} : {1}\u0027.format(url, str(e)))\n        return None\n\n\ndef is_good_response(resp):\n    \"\"\"\n    Returns True if the response seems to be HTML, False otherwise.\n    \"\"\"\n    content_type \u003d resp.headers[\u0027Content-Type\u0027].lower()\n    return (resp.status_code \u003d\u003d 200 \n            and content_type is not None \n            and content_type.find(\u0027html\u0027) \u003e -1)\n\n\ndef log_error(e):\n    \"\"\"\n    It is always a good idea to log errors. \n    This function just prints them, but you can\n    make it do anything.\n    \"\"\"\n    print(e)",
      "metadata": {
        "pycharm": {
          "metadata": false,
          "name": "#%%\n",
          "is_executing": false
        }
      }
    },
    {
      "cell_type": "code",
      "execution_count": 42,
      "outputs": [],
      "source": "cleaned_name_entity_list \u003d list()",
      "metadata": {
        "pycharm": {
          "metadata": false,
          "name": "#%%\n",
          "is_executing": false
        }
      }
    },
    {
      "cell_type": "code",
      "execution_count": 40,
      "outputs": [],
      "source": "s \u003d simple_get(\u0027https://gravityfalls.fandom.com/wiki/Category:Characters\u0027)\nb \u003d BeautifulSoup(s,\u0027html.parser\u0027)\nb \u003d b.find_all(\u0027div\u0027, attrs\u003d{\u0027class\u0027,\"category-page__members\"})\nchar_links \u003d re.findall(r\u0027href\u003d\\\"[\\w\\/\\%\\.\\(\\)]*\\\"\u0027, str(b))\nchar_links \u003d [re.sub(r\u0027(href\u003d\\\")([\\w\\/\\%\\.\\(\\)]*)(\\\")\u0027,r\u0027\\2\u0027,link) for link in char_links]",
      "metadata": {
        "pycharm": {
          "metadata": false,
          "name": "#%%\n",
          "is_executing": false
        }
      }
    },
    {
      "cell_type": "code",
      "execution_count": 41,
      "outputs": [],
      "source": "nicknames_dict \u003d dict()\n\nfor link in char_links:\n    s \u003d simple_get(\u0027https://gravityfalls.fandom.com\u0027 + link)\n    s \u003d BeautifulSoup(s,\u0027html.parser\u0027)\n    div \u003d s.find_all(\u0027div\u0027, attrs\u003d{\u0027data-source\u0027:\u0027alias\u0027})\n    \n    if not div is None:\n        add_on \u003d re.sub(r\u0027(\\/wiki\\/)([\\w\\%]*)\u0027,r\u0027\\2\u0027,link)\n        add_on \u003d add_on.replace(\"_\",\" \").replace(\u0027%27\u0027,\"\u0027\").replace(\u0027%C3%A9\u0027,\u0027é\u0027)\n        div \u003d re.sub(r\u0027[\u003cdiv\\sclass\u003d\\\"[\\w\\s\\-]*\\\"\\sdata\\-source\u003d\"alias\"\u003e\\s\u003ch3\\sclass\u003d\\\"[\\w\\s\\-]*\\\"\u003eOther names\u003c\\/h3\u003e\\s\u0027,\u0027\u0027,str(div))\n        start \u003d div.find(\u0027\u003e\u0027)\n        current \u003d start\n        allpieces \u003d list()\n        nicknames \u003d list()\n        nick \u003d list()\n        while(current !\u003d len(div)-1):\n            if div[current] \u003d\u003d \u0027\u003c\u0027:\n                allpieces.append(div[start:current])\n                start \u003d current\n            current +\u003d 1\n\n        for p in allpieces:\n            #print(\u0027piece: \u0027, p.strip())\n            if not \u0027cite\u0027 in p and not \u0027v\u003e\u0027 in p and not \u0027i\u003e\u0027 in p and len(p.strip())\u003e4 and not \u0027\u003c/sup\u003e\u0027 in p and p !\u003d \u0027\u003cbr/\u003e\u0027 and not \u0027class\u0027 in p and not \u0027prison\u0027 in p.lower():\n                #print(\u0027appended: \u0027, p.strip())\n                nicknames.append(p)\n        \n        for n in nicknames:\n            fin_tag \u003d \u0027\u0027\n            start \u003d n.find(\u0027\u003e\u0027)\n            parenS \u003d n.find(\u0027(\u0027)\n            parenE \u003d n.find(\u0027)\u0027)\n            \n            #print(n)\n            if parenS !\u003d -1:\n                paren_word \u003d n[parenS+1:parenE]\n                #print(\u0027paren_word:\u0027, paren_word)\n                if \u0027and\u0027 in add_on:\n                    split_add_on \u003d add_on.split(\u0027 and \u0027)\n                    if countWords(add_on.strip()) \u003d\u003d 4:\n                        second_str \u003d split_add_on[1]\n                        #print(second_str)\n                        for i in range(len(second_str)-1,0,-1):\n                            #print(i)\n                            if second_str[i] \u003d\u003d \u0027 \u0027:\n                                break\n                        extra_bit \u003d second_str[i:]\n                        #print(split_add_on[0])\n                        first_str \u003d split_add_on[0]\n                        del split_add_on[0]\n                        split_add_on.insert(0,first_str+extra_bit)\n                        #print(split_add_on[0])\n                        \n                    for s in split_add_on:\n                        if countWords(s.strip()) \u003e\u003d 2:\n                            fin_tag \u003d \u0027:\u0027 + re.sub(r\u0027([\\w]{1})([\\w\\s\\\u0027]*)\\s([\\w]*)\u0027,r\u0027\\1\\3\u0027, s)\n                        #print(s, n[start+1:parenS-1])\n                        \n                        if paren_word in s:\n                            #print(\u0027true\u0027)\n                            if countWords(s.strip()) \u003d\u003d 1:\n                                #fin_tag \u003d \u0027:\u0027 + re.sub(r\u0027([\\w]{3})([\\w\\s]*)\u0027,r\u0027\\1\u0027,s).upper()\n                                fin_tag \u003d \u0027:\u0027 + s.strip()\n                            nick.append(n[start+1:parenS-1] + \u0027::CHR\u0027 + fin_tag)\n                else:\n                    if countWords(add_on.strip()) \u003e\u003d 2:\n                            fin_tag \u003d \u0027:\u0027 + re.sub(r\u0027([\\w]{1})([\\w\\s\\\u0027]*)\\s([\\w]*)\u0027,r\u0027\\1\\3\u0027, add_on)\n                    elif countWords(add_on.strip()) \u003d\u003d 1:\n                        #fin_tag \u003d \u0027:\u0027 + re.sub(r\u0027([\\w]{3})([\\w\\s]*)\u0027,r\u0027\\1\u0027,add_on).upper()\n                        fin_tag \u003d \u0027:\u0027 + add_on.strip()\n                    #print(add_on, n[start+1:parenS-1])\n                    nick.append(n[start+1:parenS-1] + \u0027::CHR\u0027 + fin_tag)\n            elif parenS \u003d\u003d -1:\n                if \u0027and\u0027 in add_on:\n                    for s in add_on.split(\u0027 and \u0027):\n                        if countWords(s.strip()) \u003e\u003d 2:\n                            fin_tag \u003d \u0027:\u0027 + re.sub(r\u0027([\\w]{1})([\\w\\s\\\u0027]*)\\s([\\w]*)\u0027,r\u0027\\1\\3\u0027, s)\n                        elif countWords(s.strip()) \u003d\u003d 1:\n                            #fin_tag \u003d \u0027:\u0027 + re.sub(r\u0027([\\w]{3})([\\w\\s]*)\u0027,r\u0027\\1\u0027,s).upper()\n                            fin_tag \u003d \u0027:\u0027 + add_on.strip()\n                        #print(s, n[start+1:])\n                        nick.append(n[start+1:] + \u0027::CHR\u0027 + fin_tag)\n                        \n                else:\n                    if countWords(add_on.strip()) \u003e\u003d 2:\n                        fin_tag \u003d \u0027:\u0027 + re.sub(r\u0027([\\w]{1})([\\w\\s\\\u0027]*)\\s([\\w]*)\u0027,r\u0027\\1\\3\u0027, add_on)\n                    elif countWords(add_on.strip()) \u003d\u003d 1:\n                        #fin_tag \u003d \u0027:\u0027 + re.sub(r\u0027([\\w]{3})([\\w\\s]*)\u0027,r\u0027\\1\u0027,add_on).upper()\n                        fin_tag \u003d \u0027:\u0027 + add_on.strip()\n                    #print(add_on, n[start+1:])\n                    nick.append(n[start+1:] + \u0027::CHR\u0027 + fin_tag) \n        \n        if nicknames:\n            nicknames_dict[link] \u003d nick\n        else:\n            nicknames_dict[link] \u003d add_on\n            \n        #print(nick)\n            \nnicknames_set \u003d set()            \nfor entry in nicknames_dict:\n    \n    fin_tag \u003d \u0027\u0027\n    \n    original_name \u003d re.sub(r\u0027(\\/wiki\\/)([\\w\\%\\.]*)\u0027,r\u0027\\2\u0027,entry)\n    original_name \u003d original_name.replace(\u0027_\u0027,\u0027 \u0027).replace(\u0027%27\u0027,\"\u0027\").replace(\u0027%C3%A9\u0027,\u0027é\u0027)\n    \n    if \u0027 and \u0027 in original_name:\n        split_add_on \u003d original_name.split(\u0027 and \u0027)\n        \n        if countWords(original_name.strip()) \u003d\u003d 4:\n            second_str \u003d split_add_on[1]\n            #print(second_str)\n            for i in range(len(second_str)-1,0,-1):\n                #print(i)\n                if second_str[i] \u003d\u003d \u0027 \u0027:\n                    break\n            extra_bit \u003d second_str[i:]\n            #print(split_add_on[0])\n            first_str \u003d split_add_on[0]\n            del split_add_on[0]\n            split_add_on.insert(0,first_str+extra_bit)\n            #print(split_add_on[0])\n            \n        for s in split_add_on:\n            \n            if countWords(s.strip()) \u003d\u003d 1:\n                #fin_tag \u003d \u0027:\u0027 + re.sub(r\u0027([\\w]{3})([\\w\\s]*)\u0027,r\u0027\\1\u0027,s).upper()\n                fin_tag \u003d \u0027:\u0027 + s.strip()\n            elif countWords(s.strip()) \u003d\u003d 2:\n                fin_tag \u003d \u0027:\u0027 + re.sub(r\u0027([\\w]{1})([\\w\\\u0027]*)\\s([\\w]*)\u0027,r\u0027\\1\\3\u0027, s)\n            \n            #print(s + \u0027::CHR\u0027 + fin_tag)   \n            nicknames_set.add(s + \u0027::CHR\u0027 + fin_tag)\n        \n        \n    else: \n        if countWords(original_name.strip()) \u003d\u003d 1:\n                #fin_tag \u003d \u0027:\u0027 + re.sub(r\u0027([\\w]{3})([\\w\\s]*)\u0027,r\u0027\\1\u0027,original_name).upper()\n                fin_tag \u003d \u0027:\u0027 + original_name.strip()\n        elif countWords(original_name.strip()) \u003e\u003d 2:\n            fin_tag \u003d \u0027:\u0027 + re.sub(r\u0027([\\w]{1})([\\w\\s\\\u0027]*)\\s([\\w]*)\u0027,r\u0027\\1\\3\u0027, original_name)\n        original_name \u003d original_name + \u0027::CHR\u0027 + fin_tag\n        #print(original_name)\n        nicknames_set.add(original_name)\n        \n        n \u003d nicknames_dict.get(entry)\n    \n    if not type(n) is str:\n        for i in n:\n            i \u003d i.replace(\u0027/\u0026gt;\u0027,\u0027\u0027)\n            nicknames_set.add(i)\n        \nfor s in nicknames_set:\n    cleaned_name_entity_list.append(s)",
      "metadata": {
        "pycharm": {
          "metadata": false,
          "name": "#%%\n",
          "is_executing": false
        }
      }
    },
    {
      "cell_type": "code",
      "execution_count": 43,
      "outputs": [
        {
          "name": "stdout",
          "text": [
            ".GIFfany::CrAn:.GIFfany\n8 Ball::CrAn:8 Ball\nAmorphous Shape::CrAn:Amorphous Shape\nAoshima::CrAn:Aoshima\nArachnimorphs::CrAn:Arachnimorphs\nArchibald Corduroy::CrAn:Archibald Corduroy\nAxolotl::CrAn:Axolotl\nBaby pterodactyl::CrAn:Baby pterodactyl\nBig Henry::CrAn:Big Henry\nBigfoot::CrAn:Bigfoot\nBill Cipher::CrAn:Bill Cipher\nBritish dog man::CrAn:British dog man\nC-3-lhu::CrAn:C-3-lhu\nCandy monster (creature)::CrAn:Candy monster (creature)\nCelestabellebethabelle::CrAn:Celestabellebethabelle\nChutzpar::CrAn:Chutzpar\nClay monsters::CrAn:Clay monsters\nCooler monster::CrAn:Cooler monster\nCreature with 88 different faces::CrAn:Creature with 88 different faces\nCreatures of Weirdmageddon::CrAn:Creatures of Weirdmageddon\nCursed Doors::CrAn:Cursed Doors\nCursed Egyptian super termites::CrAn:Cursed Egyptian super termites\nCyclocks::CrAn:Cyclocks\nCycloptopus::CrAn:Cycloptopus\nDarlene::CrAn:Darlene\nDinosaurs::CrAn:Dinosaurs\nDipper clones::CrAn:Dipper clones\nDippy Fresh::CrAn:Dippy Fresh\nDisembodied hands::CrAn:Disembodied hands\nErnesto::CrAn:Ernesto\nEye-Bats::CrAn:Eye-Bats\nFairies::CrAn:Fairies\nFlavor Pups::CrAn:Flavor Pups\nFloating Eyeballs::CrAn:Floating Eyeballs\nFlying skulls::CrAn:Flying skulls\nFootbot::CrAn:Footbot\nFranz::CrAn:Franz\nGhosts::CrAn:Ghosts\nGiant eyeball::CrAn:Giant eyeball\nGiant Vampire Bats::CrAn:Giant Vampire Bats\nGnomes::CrAn:Gnomes\nGobblewonker::CrAn:Gobblewonker\nGremloblin::CrAn:Gremloblin\nGriffin::CrAn:Griffin\nHand Witch::CrAn:Hand Witch\nHectorgon::CrAn:Hectorgon\nHide Behind::CrAn:Hide Behind\nHot Elf::CrAn:Hot Elf\nImpossibeast::CrAn:Impossibeast\nIsland Head Beast::CrAn:Island Head Beast\nJudge Kitty Kitty Meow Meow Face-Shwartstein::CrAn:Judge Kitty Kitty Meow Meow Face-Shwartstein\nKeyhole::CrAn:Keyhole\nKryptos::CrAn:Kryptos\nLava lamp shaped creature::CrAn:Lava lamp shaped creature\nLeaderaur::CrAn:Leaderaur\nLefty robot::CrAn:Lefty robot\nLilliputtian head knight::CrAn:Lilliputtian head knight\nLilliputtian pirate captain::CrAn:Lilliputtian pirate captain\nLilliputtians::CrAn:Lilliputtians\nList of Alternate Universe Versions of Mabel::CrAn:List of Alternate Universe Versions of Mabel\nList of creatures::CrAn:List of creatures\nLittle green men::CrAn:Little green men\nLove God::CrAn:Love God\nMa and Pa Duskerton::CrAn:Ma and Pa Duskerton\nMabeland inhabitants::CrAn:Mabeland inhabitants\nMailbox (object)::CrAn:Mailbox (object)\nManotaurs::CrAn:Manotaurs\nMermando::CrAn:Mermando\nMerpeople::CrAn:Merpeople\nMr. What\u0027s-His-Face::CrAn:Mr. What\u0027s-His-Face\nMulti-Bear::CrAn:Multi-Bear\nOctavia::CrAn:Octavia\nOgres::CrAn:Ogres\nPaci-Fire::CrAn:Paci-Fire\nPan-Dimensional Beings::CrAn:Pan-Dimensional Beings\nPaper Jam Dipper::CrAn:Paper Jam Dipper\nPolly::CrAn:Polly\nProbabilitor the Annoying::CrAn:Probabilitor the Annoying\nPterodactyl::CrAn:Pterodactyl\nPyronica::CrAn:Pyronica\nQueen of the Manatees::CrAn:Queen of the Manatees\nRumble McSkirmish::CrAn:Rumble McSkirmish\nSev\u0027ral Timez::CrAn:Sev\u0027ral Timez\nShape Shifter::CrAn:Shape Shifter\nShimmery Twinkleheart::CrAn:Shimmery Twinkleheart\nSister Mary Hilda Miley::CrAn:Sister Mary Hilda Miley\nSteve::CrAn:Steve\nStuffed Animal Tree::CrAn:Stuffed Animal Tree\nSummerween Trickster::CrAn:Summerween Trickster\nTeeth::CrAn:Teeth\nTentacle Monster::CrAn:Tentacle Monster\nThe Horrifying Sweaty One-Armed Monstrosity::CrAn:The Horrifying Sweaty One-Armed Monstrosity\nThe Plaidypus::CrAn:The Plaidypus\nThe Undead::CrAn:The Undead\nThing 26::CrAn:Thing 26\nTime Baby::CrAn:Time Baby\nTumbleweed Terror::CrAn:Tumbleweed Terror\nTyrone::CrAn:Tyrone\nUnicorns::CrAn:Unicorns\nWaffle Guards::CrAn:Waffle Guards\nWax figures::CrAn:Wax figures\nZanthar::CrAn:Zanthar\n"
          ],
          "output_type": "stream"
        }
      ],
      "source": "s \u003d simple_get(\u0027https://gravityfalls.fandom.com/wiki/Category:Creatures\u0027)\nb \u003d BeautifulSoup(s,\u0027html.parser\u0027)\nb \u003d b.find_all(\u0027div\u0027, attrs\u003d{\u0027class\u0027,\"category-page__members\"})\ncre_links \u003d re.findall(r\u0027href\u003d\\\"[\\w\\/\\%\\.\\(\\)\\-]*\\\"\u0027, str(b))\n\ncre_links \u003d [re.sub(r\u0027(href\u003d\\\")([\\w\\/\\%\\.\\(\\)\\-]*)(\\\")\u0027,r\u0027\\2\u0027,link) for link in cre_links]\n\nfor link in cre_links:\n    original_name \u003d re.sub(r\u0027(\\/wiki\\/)([\\w\\%\\.]*)\u0027,r\u0027\\2\u0027,link)\n    original_name \u003d original_name.replace(\u0027_\u0027,\u0027 \u0027)\n    original_name \u003d original_name.replace(\u0027%27\u0027,\"\u0027\")\n    original_name \u003d original_name + \u0027::CrAn:\u0027 + original_name\n    #cleaned_name_entity_list.append(original_name)",
      "metadata": {
        "pycharm": {
          "metadata": false,
          "name": "#%%\n",
          "is_executing": false
        }
      }
    },
    {
      "cell_type": "code",
      "execution_count": 49,
      "outputs": [
        {
          "name": "stdout",
          "text": [
            "412 Gopher Road::LOC:412 Gopher Road\nAbandoned church::LOC:Abandoned church\nAbandoned mines::LOC:Abandoned mines\nAbuelita\u0027s house::LOC:Abuelita\u0027s house\nAquatic restaurant::LOC:Aquatic restaurant\nArcade::LOC:Arcade\nBarrels %26 Crates, Incorporated::LOC:Barrels %26 Crates, Incorporated\nBeeblyBoop\u0027s Videogames::LOC:BeeblyBoop\u0027s Videogames\nBig Gunz Laser Tag::LOC:Big Gunz Laser Tag\nBijou Theater::LOC:Bijou Theater\nBottomless pit (place)::LOC:Bottomless pit (place)\nBowling alley::LOC:Bowling alley\nBunker::LOC:Bunker\nCircle Park::LOC:Circle Park\nClaymore Manor::LOC:Claymore Manor\nCorduroy cabin::LOC:Corduroy cabin\nCorn Maze::LOC:Corn Maze\nCrash Site Omega::LOC:Crash Site Omega\nDusk 2 Dawn::LOC:Dusk 2 Dawn\nEggbert Elementary::LOC:Eggbert Elementary\nEnchanted Forest::LOC:Enchanted Forest\nFearamid::LOC:Fearamid\nFord\u0027s mindscape::LOC:Ford\u0027s mindscape\nFuture city::LOC:Future city\nGlass Shard Beach (landform)::LOC:Glass Shard Beach (landform)\nGlass Shard Beach, New Jersey::LOC:Glass Shard Beach, New Jersey\nGleeful residence::LOC:Gleeful residence\nGleeful\u0027s Auto Sale::LOC:Gleeful\u0027s Auto Sale\nGlobnar::LOC:Globnar\nGlobnar stadium::LOC:Globnar stadium\nGnome forest::LOC:Gnome forest\nGovernment base::LOC:Government base\nGranny Sweetkin\u0027s Yarnball::LOC:Granny Sweetkin\u0027s Yarnball\nGravity Falls Cemetery::LOC:Gravity Falls Cemetery\nGravity Falls Church::LOC:Gravity Falls Church\nGravity Falls Civic Center and Buffet::LOC:Gravity Falls Civic Center and Buffet\nGravity Falls Forest::LOC:Gravity Falls Forest\nGravity Falls Gossiper::LOC:Gravity Falls Gossiper\nGravity Falls High School::LOC:Gravity Falls High School\nGravity Falls Junkyard::LOC:Gravity Falls Junkyard\nGravity Falls Library::LOC:Gravity Falls Library\nGravity Falls Maximum Security Prison::LOC:Gravity Falls Maximum Security Prison\nGravity Falls Museum of History::LOC:Gravity Falls Museum of History\nGravity Falls Pool::LOC:Gravity Falls Pool\nGravity Falls Swap Meet::LOC:Gravity Falls Swap Meet\nGravity Falls water tower::LOC:Gravity Falls water tower\nGravity Falls, Oregon::LOC:Gravity Falls, Oregon\nGravity Malls::LOC:Gravity Malls\nGreasy\u0027s Diner::LOC:Greasy\u0027s Diner\nHand Witch Mountain::LOC:Hand Witch Mountain\nHeadquarters of the Blind Eye Society::LOC:Headquarters of the Blind Eye Society\nHermanos Brothers::LOC:Hermanos Brothers\nInfinetentiary::LOC:Infinetentiary\nLake Gravity Falls::LOC:Lake Gravity Falls\nList of minor dimensions::LOC:List of minor dimensions\nLookout Point::LOC:Lookout Point\nMain Street::LOC:Main Street\nMan Cave::LOC:Man Cave\nMattress Prince\u0027s mattress store::LOC:Mattress Prince\u0027s mattress store\nMeat Cute::LOC:Meat Cute\nMindscape::LOC:Mindscape\nMr. Zzz\u0027s Mattresses::LOC:Mr. Zzz\u0027s Mattresses\nMystery Fair::LOC:Mystery Fair\nMystery Mountain::LOC:Mystery Mountain\nMystery Shack::LOC:Mystery Shack\nNightmare Realm::LOC:Nightmare Realm\nNorthwest Manor::LOC:Northwest Manor\nNorthwest Mud Flaps::LOC:Northwest Mud Flaps\nPain Hole::LOC:Pain Hole\nPetting Zoo::LOC:Petting Zoo\nPines Pawns::LOC:Pines Pawns\nPrison Bubble::LOC:Prison Bubble\nReal places mentioned in Gravity Falls::LOC:Real places mentioned in Gravity Falls\nRedwood Highway::LOC:Redwood Highway\nScuttlebutt Island::LOC:Scuttlebutt Island\nShacktron::LOC:Shacktron\nShop Thrifty::LOC:Shop Thrifty\nSkull Fracture::LOC:Skull Fracture\nSmokey Joe\u0027s All You Can Eat::LOC:Smokey Joe\u0027s All You Can Eat\nStan\u0027s mindscape::LOC:Stan\u0027s mindscape\nSummerween Superstore::LOC:Summerween Superstore\nTent of Telepathy::LOC:Tent of Telepathy\nThe Club::LOC:The Club\nThe Crawlspace::LOC:The Crawlspace\nThe Juke Joint::LOC:The Juke Joint\nThe Royal Ragtime Theatre::LOC:The Royal Ragtime Theatre\nTheatre Time Theater::LOC:Theatre Time Theater\nTons grocery store::LOC:Tons grocery store\nTown Hall::LOC:Town Hall\nTown square::LOC:Town square\nTrembley\u0027s Cove::LOC:Trembley\u0027s Cove\nUnderground laboratory::LOC:Underground laboratory\nValentino Funeral Home::LOC:Valentino Funeral Home\nWax Museum of Mystery::LOC:Wax Museum of Mystery\nWentworth residence::LOC:Wentworth residence\nYe Royal Discount Putt Hutt::LOC:Ye Royal Discount Putt Hutt\nYumberjacks::LOC:Yumberjacks\n97\n"
          ],
          "output_type": "stream"
        }
      ],
      "source": "s \u003d simple_get(\u0027https://gravityfalls.fandom.com/wiki/Category:Places\u0027)\nb \u003d BeautifulSoup(s,\u0027html.parser\u0027)\nb \u003d b.find_all(\u0027div\u0027, attrs\u003d{\u0027class\u0027,\"category-page__members\"})\n\nloc_links \u003d re.findall(r\u0027href\u003d\\\"[\\w\\/\\%\\.\\(\\)\\\u0026\\;\\,]*\\\"\u0027, str(b))\nloc_links \u003d [re.sub(r\u0027(href\u003d\\\")([\\w\\/\\%\\.\\(\\)\\\u0026\\;\\,]*)(\\\")\u0027,r\u0027\\2\u0027,link) for link in loc_links]\ncounter \u003d 0\nfor link in loc_links:\n    counter +\u003d 1\n    original_name \u003d re.sub(r\u0027(\\/wiki\\/)([\\w\\%\\.]*)\u0027,r\u0027\\2\u0027,link)\n    original_name \u003d original_name.replace(\u0027_\u0027,\u0027 \u0027)\n    original_name \u003d original_name.replace(\u0027%27\u0027,\"\u0027\")\n    original_name \u003d original_name + \u0027::LOC:\u0027 + original_name\n    print(original_name)\n    #cleaned_name_entity_list.append(original_name)\nprint(counter)",
      "metadata": {
        "pycharm": {
          "metadata": false,
          "name": "#%%\n",
          "is_executing": false
        }
      }
    },
    {
      "cell_type": "code",
      "execution_count": 34,
      "outputs": [],
      "source": "s \u003d simple_get(\u0027https://gravityfalls.fandom.com/wiki/Category:Objects\u0027)\nb \u003d BeautifulSoup(s,\u0027html.parser\u0027)\nb \u003d b.select(\u0027table td\u0027)\n\nrandom_dict \u003d dict()\n\ncount \u003d 1\n \nfor piece in b:\n    individuals \u003d list()\n    cleaned_piece \u003d re.sub(r\u0027\u003ctd\\s?[\\w\\\"\\;\\\u003d\\s\\:]*\u003e\u0027,\u0027\u0027,str(piece))\n    cleaned_piece \u003d re.sub(r\u0027\u003c\\/td\u003e\u0027,r\u0027\u0027,cleaned_piece)\n    cleaned_piece \u003d re.sub(r\u0027(\u003ca[\\s\\w\\\u003d\\\"\\/\\%\\#\\-\\,\\!\\\u0027\\:\\?\\.\\(\\)\\\u0026\\;]*\u003e)([\\w\\s\\-\\?\\,\\!\\\u0027\\:\\.\\#\\\u0026\\;]*)(\u003c\\/a\u003e)\u0027, r\u0027\\2\u0027,cleaned_piece)\n    cleaned_piece \u003d cleaned_piece.replace(\u0027\u003ci\u003e\u0027,\u0027\u0027).replace(\u0027\u003c/i\u003e\u0027,\u0027\u0027).replace(\u0027\u0026amp;\u0027,\u0027and\u0027).strip()\n    \n    if count % 2 !\u003d 0:\n        title \u003d cleaned_piece\n    \n    if \u0027|\u0027 in cleaned_piece:\n        individuals \u003d cleaned_piece.split(\u0027|\u0027)\n        individuals \u003d [w.strip() for w in individuals]\n        \n    if individuals:\n        random_dict[title] \u003d individuals\n        \n    count +\u003d1\n    \ntags \u003d [\u0027TEXT\u0027,\u0027TV\u0027,\u0027FOOD\u0027,\u0027VEH\u0027,\u0027GAME\u0027,\u0027ELEC\u0027,\u0027SN\u0027,\u0027GOV\u0027,\u0027FT\u0027,\u0027MS\u0027]\n\nfor entry in random_dict:\n    tag \u003d \u0027\u0027\n    end_tag \u003d \u0027\u0027\n    list_of_things \u003d random_dict.get(entry)\n    \n    if \u0027org\u0027 in entry.lower() or \u0027gov\u0027 in entry.lower():\n        tag \u003d \u0027::ORG\u0027\n    else:\n        tag \u003d \u0027::MISC\u0027\n        if \u0027book\u0027 in entry .lower() or \u0027periodical\u0027 in entry.lower():\n            end_tag \u003d \u0027:TEXT\u0027\n        elif \u0027tv\u0027 in entry.lower():\n            end_tag \u003d \u0027:TV\u0027\n        elif \u0027food\u0027 in entry.lower():\n            end_tag \u003d \u0027:FOOD\u0027\n        elif \u0027veh\u0027 in entry.lower():\n            end_tag \u003d \u0027:VEH\u0027\n        elif \u0027game\u0027 in entry.lower():\n            end_tag \u003d \u0027:GAME\u0027\n        elif \u0027elec\u0027 in entry.lower():\n            end_tag \u003d \u0027:ELEC\u0027\n        elif \u0027super\u0027 in entry.lower():\n            end_tag \u003d \u0027:SN\u0027\n        elif \u0027future\u0027 in entry.lower():\n            end_tag \u003d \u0027:FT\u0027\n        elif \u0027mys\u0027 in entry.lower():\n            end_tag \u003d \u0027:MS\u0027\n    \n    for item in list_of_things:\n        if end_tag not in [\u0027:TEXT\u0027, \u0027:TV\u0027, \u0027:FOOD\u0027, \u0027:VEH\u0027, \u0027:GAME\u0027,\n                           \u0027:ELEC\u0027, \u0027:SN\u0027, \u0027:FT\u0027, \u0027:MS\u0027]:\n            end_tag\u003d\u0027:\u0027 + item\n        #print(item + tag + end_tag)\n        cleaned_name_entity_list.append(item + tag + end_tag)",
      "metadata": {
        "pycharm": {
          "metadata": false,
          "name": "#%%\n",
          "is_executing": false
        }
      }
    },
    {
      "cell_type": "code",
      "execution_count": 35,
      "outputs": [],
      "source": "cleaned_name_entity_list.sort()\ncompleteName \u003d os.path.join(dir, \u0027named_entities_all/\u0027, \u0027named_entities_gravity_falls.txt\u0027) \nf \u003d open(completeName,\u0027w+\u0027)\nfor s in cleaned_name_entity_list:\n    f.write(\"%s\\n\" % s)\nf.close()",
      "metadata": {
        "pycharm": {
          "metadata": false,
          "name": "#%%\n",
          "is_executing": false
        }
      }
    },
    {
      "cell_type": "code",
      "execution_count": null,
      "outputs": [],
      "source": "\n",
      "metadata": {
        "pycharm": {
          "metadata": false,
          "name": "#%%\n"
        }
      }
    }
  ],
  "metadata": {
    "language_info": {
      "codemirror_mode": {
        "name": "ipython",
        "version": 2
      },
      "file_extension": ".py",
      "mimetype": "text/x-python",
      "name": "python",
      "nbconvert_exporter": "python",
      "pygments_lexer": "ipython2",
      "version": "2.7.6"
    },
    "kernelspec": {
      "name": "python3",
      "language": "python",
      "display_name": "Python 3"
    }
  },
  "nbformat": 4,
  "nbformat_minor": 0
}