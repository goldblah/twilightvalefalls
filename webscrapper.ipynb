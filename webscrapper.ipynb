{
 "cells": [
  {
   "cell_type": "code",
   "execution_count": 99,
   "metadata": {
    "ExecuteTime": {
     "end_time": "2019-03-01T21:42:07.408673Z",
     "start_time": "2019-03-01T21:42:07.400935Z"
    }
   },
   "outputs": [],
   "source": [
    "from requests import get\n",
    "from requests.exceptions import RequestException\n",
    "from contextlib import closing\n",
    "from bs4 import BeautifulSoup\n",
    "import time\n",
    "import html2text\n",
    "import re\n",
    "import os"
   ]
  },
  {
   "cell_type": "code",
   "execution_count": 24,
   "metadata": {
    "ExecuteTime": {
     "end_time": "2019-03-01T19:35:49.688738Z",
     "start_time": "2019-03-01T19:35:49.678417Z"
    },
    "collapsed": true
   },
   "outputs": [],
   "source": [
    "def simple_get(url):\n",
    "    \"\"\"\n",
    "    Attempts to get the content at `url` by making an HTTP GET request.\n",
    "    If the content-type of response is some kind of HTML/XML, return the\n",
    "    text content, otherwise return None.\n",
    "    \"\"\"\n",
    "    try:\n",
    "        with closing(get(url, stream=True)) as resp:\n",
    "            if is_good_response(resp):\n",
    "                return resp.content\n",
    "            else:\n",
    "                return None\n",
    "\n",
    "    except RequestException as e:\n",
    "        log_error('Error during requests to {0} : {1}'.format(url, str(e)))\n",
    "        return None\n",
    "\n",
    "\n",
    "def is_good_response(resp):\n",
    "    \"\"\"\n",
    "    Returns True if the response seems to be HTML, False otherwise.\n",
    "    \"\"\"\n",
    "    content_type = resp.headers['Content-Type'].lower()\n",
    "    return (resp.status_code == 200 \n",
    "            and content_type is not None \n",
    "            and content_type.find('html') > -1)\n",
    "\n",
    "\n",
    "def log_error(e):\n",
    "    \"\"\"\n",
    "    It is always a good idea to log errors. \n",
    "    This function just prints them, but you can\n",
    "    make it do anything.\n",
    "    \"\"\"\n",
    "    print(e)"
   ]
  },
  {
   "cell_type": "code",
   "execution_count": 26,
   "metadata": {
    "ExecuteTime": {
     "end_time": "2019-03-01T20:08:21.608969Z",
     "start_time": "2019-03-01T19:35:51.781276Z"
    },
    "collapsed": true
   },
   "outputs": [
    {
     "name": "stdout",
     "output_type": "stream",
     "text": [
      "s01e01 https://www.springfieldspringfield.co.uk/view_episode_scripts.php?tv-show=the-twilight-zone-1959&episode=s01e01 time.struct_time(tm_year=2019, tm_mon=3, tm_mday=1, tm_hour=14, tm_min=36, tm_sec=1, tm_wday=4, tm_yday=60, tm_isdst=0)\n",
      "s01e02 https://www.springfieldspringfield.co.uk/view_episode_scripts.php?tv-show=the-twilight-zone-1959&episode=s01e02 time.struct_time(tm_year=2019, tm_mon=3, tm_mday=1, tm_hour=14, tm_min=36, tm_sec=12, tm_wday=4, tm_yday=60, tm_isdst=0)\n",
      "s01e03 https://www.springfieldspringfield.co.uk/view_episode_scripts.php?tv-show=the-twilight-zone-1959&episode=s01e03 time.struct_time(tm_year=2019, tm_mon=3, tm_mday=1, tm_hour=14, tm_min=36, tm_sec=22, tm_wday=4, tm_yday=60, tm_isdst=0)\n",
      "s01e04 https://www.springfieldspringfield.co.uk/view_episode_scripts.php?tv-show=the-twilight-zone-1959&episode=s01e04 time.struct_time(tm_year=2019, tm_mon=3, tm_mday=1, tm_hour=14, tm_min=36, tm_sec=33, tm_wday=4, tm_yday=60, tm_isdst=0)\n",
      "s01e05 https://www.springfieldspringfield.co.uk/view_episode_scripts.php?tv-show=the-twilight-zone-1959&episode=s01e05 time.struct_time(tm_year=2019, tm_mon=3, tm_mday=1, tm_hour=14, tm_min=36, tm_sec=44, tm_wday=4, tm_yday=60, tm_isdst=0)\n",
      "s01e06 https://www.springfieldspringfield.co.uk/view_episode_scripts.php?tv-show=the-twilight-zone-1959&episode=s01e06 time.struct_time(tm_year=2019, tm_mon=3, tm_mday=1, tm_hour=14, tm_min=36, tm_sec=54, tm_wday=4, tm_yday=60, tm_isdst=0)\n",
      "s01e07 https://www.springfieldspringfield.co.uk/view_episode_scripts.php?tv-show=the-twilight-zone-1959&episode=s01e07 time.struct_time(tm_year=2019, tm_mon=3, tm_mday=1, tm_hour=14, tm_min=37, tm_sec=5, tm_wday=4, tm_yday=60, tm_isdst=0)\n",
      "s01e08 https://www.springfieldspringfield.co.uk/view_episode_scripts.php?tv-show=the-twilight-zone-1959&episode=s01e08 time.struct_time(tm_year=2019, tm_mon=3, tm_mday=1, tm_hour=14, tm_min=37, tm_sec=15, tm_wday=4, tm_yday=60, tm_isdst=0)\n",
      "s01e09 https://www.springfieldspringfield.co.uk/view_episode_scripts.php?tv-show=the-twilight-zone-1959&episode=s01e09 time.struct_time(tm_year=2019, tm_mon=3, tm_mday=1, tm_hour=14, tm_min=37, tm_sec=26, tm_wday=4, tm_yday=60, tm_isdst=0)\n",
      "s01e10 https://www.springfieldspringfield.co.uk/view_episode_scripts.php?tv-show=the-twilight-zone-1959&episode=s01e10 time.struct_time(tm_year=2019, tm_mon=3, tm_mday=1, tm_hour=14, tm_min=37, tm_sec=36, tm_wday=4, tm_yday=60, tm_isdst=0)\n",
      "s01e11 https://www.springfieldspringfield.co.uk/view_episode_scripts.php?tv-show=the-twilight-zone-1959&episode=s01e11 time.struct_time(tm_year=2019, tm_mon=3, tm_mday=1, tm_hour=14, tm_min=37, tm_sec=47, tm_wday=4, tm_yday=60, tm_isdst=0)\n",
      "s01e12 https://www.springfieldspringfield.co.uk/view_episode_scripts.php?tv-show=the-twilight-zone-1959&episode=s01e12 time.struct_time(tm_year=2019, tm_mon=3, tm_mday=1, tm_hour=14, tm_min=37, tm_sec=57, tm_wday=4, tm_yday=60, tm_isdst=0)\n",
      "s01e13 https://www.springfieldspringfield.co.uk/view_episode_scripts.php?tv-show=the-twilight-zone-1959&episode=s01e13 time.struct_time(tm_year=2019, tm_mon=3, tm_mday=1, tm_hour=14, tm_min=38, tm_sec=8, tm_wday=4, tm_yday=60, tm_isdst=0)\n",
      "s01e14 https://www.springfieldspringfield.co.uk/view_episode_scripts.php?tv-show=the-twilight-zone-1959&episode=s01e14 time.struct_time(tm_year=2019, tm_mon=3, tm_mday=1, tm_hour=14, tm_min=38, tm_sec=18, tm_wday=4, tm_yday=60, tm_isdst=0)\n",
      "s01e15 https://www.springfieldspringfield.co.uk/view_episode_scripts.php?tv-show=the-twilight-zone-1959&episode=s01e15 time.struct_time(tm_year=2019, tm_mon=3, tm_mday=1, tm_hour=14, tm_min=38, tm_sec=29, tm_wday=4, tm_yday=60, tm_isdst=0)\n",
      "s01e16 https://www.springfieldspringfield.co.uk/view_episode_scripts.php?tv-show=the-twilight-zone-1959&episode=s01e16 time.struct_time(tm_year=2019, tm_mon=3, tm_mday=1, tm_hour=14, tm_min=38, tm_sec=39, tm_wday=4, tm_yday=60, tm_isdst=0)\n",
      "s01e17 https://www.springfieldspringfield.co.uk/view_episode_scripts.php?tv-show=the-twilight-zone-1959&episode=s01e17 time.struct_time(tm_year=2019, tm_mon=3, tm_mday=1, tm_hour=14, tm_min=38, tm_sec=50, tm_wday=4, tm_yday=60, tm_isdst=0)\n",
      "s01e18 https://www.springfieldspringfield.co.uk/view_episode_scripts.php?tv-show=the-twilight-zone-1959&episode=s01e18 time.struct_time(tm_year=2019, tm_mon=3, tm_mday=1, tm_hour=14, tm_min=39, tm_sec=0, tm_wday=4, tm_yday=60, tm_isdst=0)\n",
      "s01e19 https://www.springfieldspringfield.co.uk/view_episode_scripts.php?tv-show=the-twilight-zone-1959&episode=s01e19 time.struct_time(tm_year=2019, tm_mon=3, tm_mday=1, tm_hour=14, tm_min=39, tm_sec=11, tm_wday=4, tm_yday=60, tm_isdst=0)\n",
      "s01e20 https://www.springfieldspringfield.co.uk/view_episode_scripts.php?tv-show=the-twilight-zone-1959&episode=s01e20 time.struct_time(tm_year=2019, tm_mon=3, tm_mday=1, tm_hour=14, tm_min=39, tm_sec=21, tm_wday=4, tm_yday=60, tm_isdst=0)\n",
      "s01e21 https://www.springfieldspringfield.co.uk/view_episode_scripts.php?tv-show=the-twilight-zone-1959&episode=s01e21 time.struct_time(tm_year=2019, tm_mon=3, tm_mday=1, tm_hour=14, tm_min=39, tm_sec=32, tm_wday=4, tm_yday=60, tm_isdst=0)\n",
      "s01e22 https://www.springfieldspringfield.co.uk/view_episode_scripts.php?tv-show=the-twilight-zone-1959&episode=s01e22 time.struct_time(tm_year=2019, tm_mon=3, tm_mday=1, tm_hour=14, tm_min=39, tm_sec=42, tm_wday=4, tm_yday=60, tm_isdst=0)\n",
      "s01e23 https://www.springfieldspringfield.co.uk/view_episode_scripts.php?tv-show=the-twilight-zone-1959&episode=s01e23 time.struct_time(tm_year=2019, tm_mon=3, tm_mday=1, tm_hour=14, tm_min=39, tm_sec=53, tm_wday=4, tm_yday=60, tm_isdst=0)\n",
      "s01e24 https://www.springfieldspringfield.co.uk/view_episode_scripts.php?tv-show=the-twilight-zone-1959&episode=s01e24 time.struct_time(tm_year=2019, tm_mon=3, tm_mday=1, tm_hour=14, tm_min=40, tm_sec=3, tm_wday=4, tm_yday=60, tm_isdst=0)\n",
      "s01e25 https://www.springfieldspringfield.co.uk/view_episode_scripts.php?tv-show=the-twilight-zone-1959&episode=s01e25 time.struct_time(tm_year=2019, tm_mon=3, tm_mday=1, tm_hour=14, tm_min=40, tm_sec=14, tm_wday=4, tm_yday=60, tm_isdst=0)\n",
      "s01e26 https://www.springfieldspringfield.co.uk/view_episode_scripts.php?tv-show=the-twilight-zone-1959&episode=s01e26 time.struct_time(tm_year=2019, tm_mon=3, tm_mday=1, tm_hour=14, tm_min=40, tm_sec=24, tm_wday=4, tm_yday=60, tm_isdst=0)\n",
      "s01e27 https://www.springfieldspringfield.co.uk/view_episode_scripts.php?tv-show=the-twilight-zone-1959&episode=s01e27 time.struct_time(tm_year=2019, tm_mon=3, tm_mday=1, tm_hour=14, tm_min=40, tm_sec=35, tm_wday=4, tm_yday=60, tm_isdst=0)\n",
      "s01e28 https://www.springfieldspringfield.co.uk/view_episode_scripts.php?tv-show=the-twilight-zone-1959&episode=s01e28 time.struct_time(tm_year=2019, tm_mon=3, tm_mday=1, tm_hour=14, tm_min=40, tm_sec=45, tm_wday=4, tm_yday=60, tm_isdst=0)\n",
      "s01e29 https://www.springfieldspringfield.co.uk/view_episode_scripts.php?tv-show=the-twilight-zone-1959&episode=s01e29 time.struct_time(tm_year=2019, tm_mon=3, tm_mday=1, tm_hour=14, tm_min=40, tm_sec=56, tm_wday=4, tm_yday=60, tm_isdst=0)\n",
      "s01e30 https://www.springfieldspringfield.co.uk/view_episode_scripts.php?tv-show=the-twilight-zone-1959&episode=s01e30 time.struct_time(tm_year=2019, tm_mon=3, tm_mday=1, tm_hour=14, tm_min=41, tm_sec=6, tm_wday=4, tm_yday=60, tm_isdst=0)\n",
      "s01e31 https://www.springfieldspringfield.co.uk/view_episode_scripts.php?tv-show=the-twilight-zone-1959&episode=s01e31 time.struct_time(tm_year=2019, tm_mon=3, tm_mday=1, tm_hour=14, tm_min=41, tm_sec=17, tm_wday=4, tm_yday=60, tm_isdst=0)\n",
      "s01e32 https://www.springfieldspringfield.co.uk/view_episode_scripts.php?tv-show=the-twilight-zone-1959&episode=s01e32 time.struct_time(tm_year=2019, tm_mon=3, tm_mday=1, tm_hour=14, tm_min=41, tm_sec=27, tm_wday=4, tm_yday=60, tm_isdst=0)\n",
      "s01e33 https://www.springfieldspringfield.co.uk/view_episode_scripts.php?tv-show=the-twilight-zone-1959&episode=s01e33 time.struct_time(tm_year=2019, tm_mon=3, tm_mday=1, tm_hour=14, tm_min=41, tm_sec=38, tm_wday=4, tm_yday=60, tm_isdst=0)\n",
      "s01e34 https://www.springfieldspringfield.co.uk/view_episode_scripts.php?tv-show=the-twilight-zone-1959&episode=s01e34 time.struct_time(tm_year=2019, tm_mon=3, tm_mday=1, tm_hour=14, tm_min=41, tm_sec=48, tm_wday=4, tm_yday=60, tm_isdst=0)\n",
      "s01e35 https://www.springfieldspringfield.co.uk/view_episode_scripts.php?tv-show=the-twilight-zone-1959&episode=s01e35 time.struct_time(tm_year=2019, tm_mon=3, tm_mday=1, tm_hour=14, tm_min=41, tm_sec=59, tm_wday=4, tm_yday=60, tm_isdst=0)\n"
     ]
    },
    {
     "name": "stdout",
     "output_type": "stream",
     "text": [
      "s01e36 https://www.springfieldspringfield.co.uk/view_episode_scripts.php?tv-show=the-twilight-zone-1959&episode=s01e36 time.struct_time(tm_year=2019, tm_mon=3, tm_mday=1, tm_hour=14, tm_min=42, tm_sec=9, tm_wday=4, tm_yday=60, tm_isdst=0)\n",
      "s01e37 https://www.springfieldspringfield.co.uk/view_episode_scripts.php?tv-show=the-twilight-zone-1959&episode=s01e37 time.struct_time(tm_year=2019, tm_mon=3, tm_mday=1, tm_hour=14, tm_min=42, tm_sec=20, tm_wday=4, tm_yday=60, tm_isdst=0)\n",
      "s02e01 https://www.springfieldspringfield.co.uk/view_episode_scripts.php?tv-show=the-twilight-zone-1959&episode=s02e01 time.struct_time(tm_year=2019, tm_mon=3, tm_mday=1, tm_hour=14, tm_min=42, tm_sec=30, tm_wday=4, tm_yday=60, tm_isdst=0)\n",
      "s02e02 https://www.springfieldspringfield.co.uk/view_episode_scripts.php?tv-show=the-twilight-zone-1959&episode=s02e02 time.struct_time(tm_year=2019, tm_mon=3, tm_mday=1, tm_hour=14, tm_min=42, tm_sec=41, tm_wday=4, tm_yday=60, tm_isdst=0)\n",
      "s02e03 https://www.springfieldspringfield.co.uk/view_episode_scripts.php?tv-show=the-twilight-zone-1959&episode=s02e03 time.struct_time(tm_year=2019, tm_mon=3, tm_mday=1, tm_hour=14, tm_min=42, tm_sec=51, tm_wday=4, tm_yday=60, tm_isdst=0)\n",
      "s02e04 https://www.springfieldspringfield.co.uk/view_episode_scripts.php?tv-show=the-twilight-zone-1959&episode=s02e04 time.struct_time(tm_year=2019, tm_mon=3, tm_mday=1, tm_hour=14, tm_min=43, tm_sec=2, tm_wday=4, tm_yday=60, tm_isdst=0)\n",
      "s02e05 https://www.springfieldspringfield.co.uk/view_episode_scripts.php?tv-show=the-twilight-zone-1959&episode=s02e05 time.struct_time(tm_year=2019, tm_mon=3, tm_mday=1, tm_hour=14, tm_min=43, tm_sec=12, tm_wday=4, tm_yday=60, tm_isdst=0)\n",
      "s02e06 https://www.springfieldspringfield.co.uk/view_episode_scripts.php?tv-show=the-twilight-zone-1959&episode=s02e06 time.struct_time(tm_year=2019, tm_mon=3, tm_mday=1, tm_hour=14, tm_min=43, tm_sec=23, tm_wday=4, tm_yday=60, tm_isdst=0)\n",
      "s02e07 https://www.springfieldspringfield.co.uk/view_episode_scripts.php?tv-show=the-twilight-zone-1959&episode=s02e07 time.struct_time(tm_year=2019, tm_mon=3, tm_mday=1, tm_hour=14, tm_min=43, tm_sec=33, tm_wday=4, tm_yday=60, tm_isdst=0)\n",
      "s02e08 https://www.springfieldspringfield.co.uk/view_episode_scripts.php?tv-show=the-twilight-zone-1959&episode=s02e08 time.struct_time(tm_year=2019, tm_mon=3, tm_mday=1, tm_hour=14, tm_min=43, tm_sec=44, tm_wday=4, tm_yday=60, tm_isdst=0)\n",
      "s02e09 https://www.springfieldspringfield.co.uk/view_episode_scripts.php?tv-show=the-twilight-zone-1959&episode=s02e09 time.struct_time(tm_year=2019, tm_mon=3, tm_mday=1, tm_hour=14, tm_min=43, tm_sec=54, tm_wday=4, tm_yday=60, tm_isdst=0)\n",
      "s02e10 https://www.springfieldspringfield.co.uk/view_episode_scripts.php?tv-show=the-twilight-zone-1959&episode=s02e10 time.struct_time(tm_year=2019, tm_mon=3, tm_mday=1, tm_hour=14, tm_min=44, tm_sec=5, tm_wday=4, tm_yday=60, tm_isdst=0)\n",
      "s02e11 https://www.springfieldspringfield.co.uk/view_episode_scripts.php?tv-show=the-twilight-zone-1959&episode=s02e11 time.struct_time(tm_year=2019, tm_mon=3, tm_mday=1, tm_hour=14, tm_min=44, tm_sec=15, tm_wday=4, tm_yday=60, tm_isdst=0)\n",
      "s02e12 https://www.springfieldspringfield.co.uk/view_episode_scripts.php?tv-show=the-twilight-zone-1959&episode=s02e12 time.struct_time(tm_year=2019, tm_mon=3, tm_mday=1, tm_hour=14, tm_min=44, tm_sec=26, tm_wday=4, tm_yday=60, tm_isdst=0)\n",
      "s02e13 https://www.springfieldspringfield.co.uk/view_episode_scripts.php?tv-show=the-twilight-zone-1959&episode=s02e13 time.struct_time(tm_year=2019, tm_mon=3, tm_mday=1, tm_hour=14, tm_min=44, tm_sec=36, tm_wday=4, tm_yday=60, tm_isdst=0)\n",
      "s02e14 https://www.springfieldspringfield.co.uk/view_episode_scripts.php?tv-show=the-twilight-zone-1959&episode=s02e14 time.struct_time(tm_year=2019, tm_mon=3, tm_mday=1, tm_hour=14, tm_min=44, tm_sec=47, tm_wday=4, tm_yday=60, tm_isdst=0)\n",
      "s02e15 https://www.springfieldspringfield.co.uk/view_episode_scripts.php?tv-show=the-twilight-zone-1959&episode=s02e15 time.struct_time(tm_year=2019, tm_mon=3, tm_mday=1, tm_hour=14, tm_min=44, tm_sec=57, tm_wday=4, tm_yday=60, tm_isdst=0)\n",
      "s02e16 https://www.springfieldspringfield.co.uk/view_episode_scripts.php?tv-show=the-twilight-zone-1959&episode=s02e16 time.struct_time(tm_year=2019, tm_mon=3, tm_mday=1, tm_hour=14, tm_min=45, tm_sec=8, tm_wday=4, tm_yday=60, tm_isdst=0)\n",
      "s02e17 https://www.springfieldspringfield.co.uk/view_episode_scripts.php?tv-show=the-twilight-zone-1959&episode=s02e17 time.struct_time(tm_year=2019, tm_mon=3, tm_mday=1, tm_hour=14, tm_min=45, tm_sec=18, tm_wday=4, tm_yday=60, tm_isdst=0)\n",
      "s02e18 https://www.springfieldspringfield.co.uk/view_episode_scripts.php?tv-show=the-twilight-zone-1959&episode=s02e18 time.struct_time(tm_year=2019, tm_mon=3, tm_mday=1, tm_hour=14, tm_min=45, tm_sec=29, tm_wday=4, tm_yday=60, tm_isdst=0)\n",
      "s02e19 https://www.springfieldspringfield.co.uk/view_episode_scripts.php?tv-show=the-twilight-zone-1959&episode=s02e19 time.struct_time(tm_year=2019, tm_mon=3, tm_mday=1, tm_hour=14, tm_min=45, tm_sec=39, tm_wday=4, tm_yday=60, tm_isdst=0)\n",
      "s02e20 https://www.springfieldspringfield.co.uk/view_episode_scripts.php?tv-show=the-twilight-zone-1959&episode=s02e20 time.struct_time(tm_year=2019, tm_mon=3, tm_mday=1, tm_hour=14, tm_min=45, tm_sec=50, tm_wday=4, tm_yday=60, tm_isdst=0)\n",
      "s02e21 https://www.springfieldspringfield.co.uk/view_episode_scripts.php?tv-show=the-twilight-zone-1959&episode=s02e21 time.struct_time(tm_year=2019, tm_mon=3, tm_mday=1, tm_hour=14, tm_min=46, tm_sec=0, tm_wday=4, tm_yday=60, tm_isdst=0)\n",
      "s02e22 https://www.springfieldspringfield.co.uk/view_episode_scripts.php?tv-show=the-twilight-zone-1959&episode=s02e22 time.struct_time(tm_year=2019, tm_mon=3, tm_mday=1, tm_hour=14, tm_min=46, tm_sec=11, tm_wday=4, tm_yday=60, tm_isdst=0)\n",
      "s02e23 https://www.springfieldspringfield.co.uk/view_episode_scripts.php?tv-show=the-twilight-zone-1959&episode=s02e23 time.struct_time(tm_year=2019, tm_mon=3, tm_mday=1, tm_hour=14, tm_min=46, tm_sec=21, tm_wday=4, tm_yday=60, tm_isdst=0)\n",
      "s02e24 https://www.springfieldspringfield.co.uk/view_episode_scripts.php?tv-show=the-twilight-zone-1959&episode=s02e24 time.struct_time(tm_year=2019, tm_mon=3, tm_mday=1, tm_hour=14, tm_min=46, tm_sec=32, tm_wday=4, tm_yday=60, tm_isdst=0)\n",
      "s02e25 https://www.springfieldspringfield.co.uk/view_episode_scripts.php?tv-show=the-twilight-zone-1959&episode=s02e25 time.struct_time(tm_year=2019, tm_mon=3, tm_mday=1, tm_hour=14, tm_min=46, tm_sec=42, tm_wday=4, tm_yday=60, tm_isdst=0)\n",
      "s02e26 https://www.springfieldspringfield.co.uk/view_episode_scripts.php?tv-show=the-twilight-zone-1959&episode=s02e26 time.struct_time(tm_year=2019, tm_mon=3, tm_mday=1, tm_hour=14, tm_min=46, tm_sec=53, tm_wday=4, tm_yday=60, tm_isdst=0)\n",
      "s02e27 https://www.springfieldspringfield.co.uk/view_episode_scripts.php?tv-show=the-twilight-zone-1959&episode=s02e27 time.struct_time(tm_year=2019, tm_mon=3, tm_mday=1, tm_hour=14, tm_min=47, tm_sec=3, tm_wday=4, tm_yday=60, tm_isdst=0)\n",
      "s02e28 https://www.springfieldspringfield.co.uk/view_episode_scripts.php?tv-show=the-twilight-zone-1959&episode=s02e28 time.struct_time(tm_year=2019, tm_mon=3, tm_mday=1, tm_hour=14, tm_min=47, tm_sec=14, tm_wday=4, tm_yday=60, tm_isdst=0)\n",
      "s02e29 https://www.springfieldspringfield.co.uk/view_episode_scripts.php?tv-show=the-twilight-zone-1959&episode=s02e29 time.struct_time(tm_year=2019, tm_mon=3, tm_mday=1, tm_hour=14, tm_min=47, tm_sec=24, tm_wday=4, tm_yday=60, tm_isdst=0)\n",
      "s02e30 https://www.springfieldspringfield.co.uk/view_episode_scripts.php?tv-show=the-twilight-zone-1959&episode=s02e30 time.struct_time(tm_year=2019, tm_mon=3, tm_mday=1, tm_hour=14, tm_min=47, tm_sec=35, tm_wday=4, tm_yday=60, tm_isdst=0)\n",
      "s02e31 https://www.springfieldspringfield.co.uk/view_episode_scripts.php?tv-show=the-twilight-zone-1959&episode=s02e31 time.struct_time(tm_year=2019, tm_mon=3, tm_mday=1, tm_hour=14, tm_min=47, tm_sec=45, tm_wday=4, tm_yday=60, tm_isdst=0)\n",
      "s02e32 https://www.springfieldspringfield.co.uk/view_episode_scripts.php?tv-show=the-twilight-zone-1959&episode=s02e32 time.struct_time(tm_year=2019, tm_mon=3, tm_mday=1, tm_hour=14, tm_min=47, tm_sec=56, tm_wday=4, tm_yday=60, tm_isdst=0)\n",
      "s02e33 https://www.springfieldspringfield.co.uk/view_episode_scripts.php?tv-show=the-twilight-zone-1959&episode=s02e33 time.struct_time(tm_year=2019, tm_mon=3, tm_mday=1, tm_hour=14, tm_min=48, tm_sec=7, tm_wday=4, tm_yday=60, tm_isdst=0)\n"
     ]
    },
    {
     "name": "stdout",
     "output_type": "stream",
     "text": [
      "s02e34 https://www.springfieldspringfield.co.uk/view_episode_scripts.php?tv-show=the-twilight-zone-1959&episode=s02e34 time.struct_time(tm_year=2019, tm_mon=3, tm_mday=1, tm_hour=14, tm_min=48, tm_sec=17, tm_wday=4, tm_yday=60, tm_isdst=0)\n",
      "s02e35 https://www.springfieldspringfield.co.uk/view_episode_scripts.php?tv-show=the-twilight-zone-1959&episode=s02e35 time.struct_time(tm_year=2019, tm_mon=3, tm_mday=1, tm_hour=14, tm_min=48, tm_sec=28, tm_wday=4, tm_yday=60, tm_isdst=0)\n",
      "s02e36 https://www.springfieldspringfield.co.uk/view_episode_scripts.php?tv-show=the-twilight-zone-1959&episode=s02e36 time.struct_time(tm_year=2019, tm_mon=3, tm_mday=1, tm_hour=14, tm_min=48, tm_sec=39, tm_wday=4, tm_yday=60, tm_isdst=0)\n",
      "s02e37 https://www.springfieldspringfield.co.uk/view_episode_scripts.php?tv-show=the-twilight-zone-1959&episode=s02e37 time.struct_time(tm_year=2019, tm_mon=3, tm_mday=1, tm_hour=14, tm_min=48, tm_sec=49, tm_wday=4, tm_yday=60, tm_isdst=0)\n",
      "s03e01 https://www.springfieldspringfield.co.uk/view_episode_scripts.php?tv-show=the-twilight-zone-1959&episode=s03e01 time.struct_time(tm_year=2019, tm_mon=3, tm_mday=1, tm_hour=14, tm_min=49, tm_sec=0, tm_wday=4, tm_yday=60, tm_isdst=0)\n",
      "s03e02 https://www.springfieldspringfield.co.uk/view_episode_scripts.php?tv-show=the-twilight-zone-1959&episode=s03e02 time.struct_time(tm_year=2019, tm_mon=3, tm_mday=1, tm_hour=14, tm_min=49, tm_sec=10, tm_wday=4, tm_yday=60, tm_isdst=0)\n",
      "s03e03 https://www.springfieldspringfield.co.uk/view_episode_scripts.php?tv-show=the-twilight-zone-1959&episode=s03e03 time.struct_time(tm_year=2019, tm_mon=3, tm_mday=1, tm_hour=14, tm_min=49, tm_sec=21, tm_wday=4, tm_yday=60, tm_isdst=0)\n",
      "s03e04 https://www.springfieldspringfield.co.uk/view_episode_scripts.php?tv-show=the-twilight-zone-1959&episode=s03e04 time.struct_time(tm_year=2019, tm_mon=3, tm_mday=1, tm_hour=14, tm_min=49, tm_sec=31, tm_wday=4, tm_yday=60, tm_isdst=0)\n",
      "s03e05 https://www.springfieldspringfield.co.uk/view_episode_scripts.php?tv-show=the-twilight-zone-1959&episode=s03e05 time.struct_time(tm_year=2019, tm_mon=3, tm_mday=1, tm_hour=14, tm_min=49, tm_sec=42, tm_wday=4, tm_yday=60, tm_isdst=0)\n",
      "s03e06 https://www.springfieldspringfield.co.uk/view_episode_scripts.php?tv-show=the-twilight-zone-1959&episode=s03e06 time.struct_time(tm_year=2019, tm_mon=3, tm_mday=1, tm_hour=14, tm_min=49, tm_sec=53, tm_wday=4, tm_yday=60, tm_isdst=0)\n",
      "s03e07 https://www.springfieldspringfield.co.uk/view_episode_scripts.php?tv-show=the-twilight-zone-1959&episode=s03e07 time.struct_time(tm_year=2019, tm_mon=3, tm_mday=1, tm_hour=14, tm_min=50, tm_sec=3, tm_wday=4, tm_yday=60, tm_isdst=0)\n",
      "s03e08 https://www.springfieldspringfield.co.uk/view_episode_scripts.php?tv-show=the-twilight-zone-1959&episode=s03e08 time.struct_time(tm_year=2019, tm_mon=3, tm_mday=1, tm_hour=14, tm_min=50, tm_sec=14, tm_wday=4, tm_yday=60, tm_isdst=0)\n",
      "s03e09 https://www.springfieldspringfield.co.uk/view_episode_scripts.php?tv-show=the-twilight-zone-1959&episode=s03e09 time.struct_time(tm_year=2019, tm_mon=3, tm_mday=1, tm_hour=14, tm_min=50, tm_sec=24, tm_wday=4, tm_yday=60, tm_isdst=0)\n",
      "s03e10 https://www.springfieldspringfield.co.uk/view_episode_scripts.php?tv-show=the-twilight-zone-1959&episode=s03e10 time.struct_time(tm_year=2019, tm_mon=3, tm_mday=1, tm_hour=14, tm_min=50, tm_sec=35, tm_wday=4, tm_yday=60, tm_isdst=0)\n",
      "s03e11 https://www.springfieldspringfield.co.uk/view_episode_scripts.php?tv-show=the-twilight-zone-1959&episode=s03e11 time.struct_time(tm_year=2019, tm_mon=3, tm_mday=1, tm_hour=14, tm_min=50, tm_sec=45, tm_wday=4, tm_yday=60, tm_isdst=0)\n",
      "s03e12 https://www.springfieldspringfield.co.uk/view_episode_scripts.php?tv-show=the-twilight-zone-1959&episode=s03e12 time.struct_time(tm_year=2019, tm_mon=3, tm_mday=1, tm_hour=14, tm_min=50, tm_sec=56, tm_wday=4, tm_yday=60, tm_isdst=0)\n",
      "s03e13 https://www.springfieldspringfield.co.uk/view_episode_scripts.php?tv-show=the-twilight-zone-1959&episode=s03e13 time.struct_time(tm_year=2019, tm_mon=3, tm_mday=1, tm_hour=14, tm_min=51, tm_sec=6, tm_wday=4, tm_yday=60, tm_isdst=0)\n",
      "s03e14 https://www.springfieldspringfield.co.uk/view_episode_scripts.php?tv-show=the-twilight-zone-1959&episode=s03e14 time.struct_time(tm_year=2019, tm_mon=3, tm_mday=1, tm_hour=14, tm_min=51, tm_sec=17, tm_wday=4, tm_yday=60, tm_isdst=0)\n",
      "s03e15 https://www.springfieldspringfield.co.uk/view_episode_scripts.php?tv-show=the-twilight-zone-1959&episode=s03e15 time.struct_time(tm_year=2019, tm_mon=3, tm_mday=1, tm_hour=14, tm_min=51, tm_sec=27, tm_wday=4, tm_yday=60, tm_isdst=0)\n",
      "s03e16 https://www.springfieldspringfield.co.uk/view_episode_scripts.php?tv-show=the-twilight-zone-1959&episode=s03e16 time.struct_time(tm_year=2019, tm_mon=3, tm_mday=1, tm_hour=14, tm_min=51, tm_sec=38, tm_wday=4, tm_yday=60, tm_isdst=0)\n",
      "s03e17 https://www.springfieldspringfield.co.uk/view_episode_scripts.php?tv-show=the-twilight-zone-1959&episode=s03e17 time.struct_time(tm_year=2019, tm_mon=3, tm_mday=1, tm_hour=14, tm_min=51, tm_sec=48, tm_wday=4, tm_yday=60, tm_isdst=0)\n",
      "s03e18 https://www.springfieldspringfield.co.uk/view_episode_scripts.php?tv-show=the-twilight-zone-1959&episode=s03e18 time.struct_time(tm_year=2019, tm_mon=3, tm_mday=1, tm_hour=14, tm_min=51, tm_sec=59, tm_wday=4, tm_yday=60, tm_isdst=0)\n",
      "s03e19 https://www.springfieldspringfield.co.uk/view_episode_scripts.php?tv-show=the-twilight-zone-1959&episode=s03e19 time.struct_time(tm_year=2019, tm_mon=3, tm_mday=1, tm_hour=14, tm_min=52, tm_sec=9, tm_wday=4, tm_yday=60, tm_isdst=0)\n",
      "s03e20 https://www.springfieldspringfield.co.uk/view_episode_scripts.php?tv-show=the-twilight-zone-1959&episode=s03e20 time.struct_time(tm_year=2019, tm_mon=3, tm_mday=1, tm_hour=14, tm_min=52, tm_sec=20, tm_wday=4, tm_yday=60, tm_isdst=0)\n",
      "s03e21 https://www.springfieldspringfield.co.uk/view_episode_scripts.php?tv-show=the-twilight-zone-1959&episode=s03e21 time.struct_time(tm_year=2019, tm_mon=3, tm_mday=1, tm_hour=14, tm_min=52, tm_sec=30, tm_wday=4, tm_yday=60, tm_isdst=0)\n",
      "s03e22 https://www.springfieldspringfield.co.uk/view_episode_scripts.php?tv-show=the-twilight-zone-1959&episode=s03e22 time.struct_time(tm_year=2019, tm_mon=3, tm_mday=1, tm_hour=14, tm_min=52, tm_sec=41, tm_wday=4, tm_yday=60, tm_isdst=0)\n",
      "s03e23 https://www.springfieldspringfield.co.uk/view_episode_scripts.php?tv-show=the-twilight-zone-1959&episode=s03e23 time.struct_time(tm_year=2019, tm_mon=3, tm_mday=1, tm_hour=14, tm_min=52, tm_sec=51, tm_wday=4, tm_yday=60, tm_isdst=0)\n",
      "s03e24 https://www.springfieldspringfield.co.uk/view_episode_scripts.php?tv-show=the-twilight-zone-1959&episode=s03e24 time.struct_time(tm_year=2019, tm_mon=3, tm_mday=1, tm_hour=14, tm_min=53, tm_sec=2, tm_wday=4, tm_yday=60, tm_isdst=0)\n",
      "s03e25 https://www.springfieldspringfield.co.uk/view_episode_scripts.php?tv-show=the-twilight-zone-1959&episode=s03e25 time.struct_time(tm_year=2019, tm_mon=3, tm_mday=1, tm_hour=14, tm_min=53, tm_sec=12, tm_wday=4, tm_yday=60, tm_isdst=0)\n",
      "s03e26 https://www.springfieldspringfield.co.uk/view_episode_scripts.php?tv-show=the-twilight-zone-1959&episode=s03e26 time.struct_time(tm_year=2019, tm_mon=3, tm_mday=1, tm_hour=14, tm_min=53, tm_sec=23, tm_wday=4, tm_yday=60, tm_isdst=0)\n",
      "s03e27 https://www.springfieldspringfield.co.uk/view_episode_scripts.php?tv-show=the-twilight-zone-1959&episode=s03e27 time.struct_time(tm_year=2019, tm_mon=3, tm_mday=1, tm_hour=14, tm_min=53, tm_sec=33, tm_wday=4, tm_yday=60, tm_isdst=0)\n",
      "s03e28 https://www.springfieldspringfield.co.uk/view_episode_scripts.php?tv-show=the-twilight-zone-1959&episode=s03e28 time.struct_time(tm_year=2019, tm_mon=3, tm_mday=1, tm_hour=14, tm_min=53, tm_sec=44, tm_wday=4, tm_yday=60, tm_isdst=0)\n",
      "s03e29 https://www.springfieldspringfield.co.uk/view_episode_scripts.php?tv-show=the-twilight-zone-1959&episode=s03e29 time.struct_time(tm_year=2019, tm_mon=3, tm_mday=1, tm_hour=14, tm_min=53, tm_sec=54, tm_wday=4, tm_yday=60, tm_isdst=0)\n",
      "s03e30 https://www.springfieldspringfield.co.uk/view_episode_scripts.php?tv-show=the-twilight-zone-1959&episode=s03e30 time.struct_time(tm_year=2019, tm_mon=3, tm_mday=1, tm_hour=14, tm_min=54, tm_sec=5, tm_wday=4, tm_yday=60, tm_isdst=0)\n",
      "s03e31 https://www.springfieldspringfield.co.uk/view_episode_scripts.php?tv-show=the-twilight-zone-1959&episode=s03e31 time.struct_time(tm_year=2019, tm_mon=3, tm_mday=1, tm_hour=14, tm_min=54, tm_sec=15, tm_wday=4, tm_yday=60, tm_isdst=0)\n"
     ]
    },
    {
     "name": "stdout",
     "output_type": "stream",
     "text": [
      "s03e32 https://www.springfieldspringfield.co.uk/view_episode_scripts.php?tv-show=the-twilight-zone-1959&episode=s03e32 time.struct_time(tm_year=2019, tm_mon=3, tm_mday=1, tm_hour=14, tm_min=54, tm_sec=26, tm_wday=4, tm_yday=60, tm_isdst=0)\n",
      "s03e33 https://www.springfieldspringfield.co.uk/view_episode_scripts.php?tv-show=the-twilight-zone-1959&episode=s03e33 time.struct_time(tm_year=2019, tm_mon=3, tm_mday=1, tm_hour=14, tm_min=54, tm_sec=36, tm_wday=4, tm_yday=60, tm_isdst=0)\n",
      "s03e34 https://www.springfieldspringfield.co.uk/view_episode_scripts.php?tv-show=the-twilight-zone-1959&episode=s03e34 time.struct_time(tm_year=2019, tm_mon=3, tm_mday=1, tm_hour=14, tm_min=54, tm_sec=47, tm_wday=4, tm_yday=60, tm_isdst=0)\n",
      "s03e35 https://www.springfieldspringfield.co.uk/view_episode_scripts.php?tv-show=the-twilight-zone-1959&episode=s03e35 time.struct_time(tm_year=2019, tm_mon=3, tm_mday=1, tm_hour=14, tm_min=54, tm_sec=57, tm_wday=4, tm_yday=60, tm_isdst=0)\n",
      "s03e36 https://www.springfieldspringfield.co.uk/view_episode_scripts.php?tv-show=the-twilight-zone-1959&episode=s03e36 time.struct_time(tm_year=2019, tm_mon=3, tm_mday=1, tm_hour=14, tm_min=55, tm_sec=8, tm_wday=4, tm_yday=60, tm_isdst=0)\n",
      "s03e37 https://www.springfieldspringfield.co.uk/view_episode_scripts.php?tv-show=the-twilight-zone-1959&episode=s03e37 time.struct_time(tm_year=2019, tm_mon=3, tm_mday=1, tm_hour=14, tm_min=55, tm_sec=18, tm_wday=4, tm_yday=60, tm_isdst=0)\n",
      "s04e01 https://www.springfieldspringfield.co.uk/view_episode_scripts.php?tv-show=the-twilight-zone-1959&episode=s04e01 time.struct_time(tm_year=2019, tm_mon=3, tm_mday=1, tm_hour=14, tm_min=55, tm_sec=29, tm_wday=4, tm_yday=60, tm_isdst=0)\n",
      "s04e02 https://www.springfieldspringfield.co.uk/view_episode_scripts.php?tv-show=the-twilight-zone-1959&episode=s04e02 time.struct_time(tm_year=2019, tm_mon=3, tm_mday=1, tm_hour=14, tm_min=55, tm_sec=39, tm_wday=4, tm_yday=60, tm_isdst=0)\n",
      "s04e03 https://www.springfieldspringfield.co.uk/view_episode_scripts.php?tv-show=the-twilight-zone-1959&episode=s04e03 time.struct_time(tm_year=2019, tm_mon=3, tm_mday=1, tm_hour=14, tm_min=55, tm_sec=50, tm_wday=4, tm_yday=60, tm_isdst=0)\n",
      "s04e04 https://www.springfieldspringfield.co.uk/view_episode_scripts.php?tv-show=the-twilight-zone-1959&episode=s04e04 time.struct_time(tm_year=2019, tm_mon=3, tm_mday=1, tm_hour=14, tm_min=56, tm_sec=1, tm_wday=4, tm_yday=60, tm_isdst=0)\n",
      "s04e05 https://www.springfieldspringfield.co.uk/view_episode_scripts.php?tv-show=the-twilight-zone-1959&episode=s04e05 time.struct_time(tm_year=2019, tm_mon=3, tm_mday=1, tm_hour=14, tm_min=56, tm_sec=11, tm_wday=4, tm_yday=60, tm_isdst=0)\n",
      "s04e06 https://www.springfieldspringfield.co.uk/view_episode_scripts.php?tv-show=the-twilight-zone-1959&episode=s04e06 time.struct_time(tm_year=2019, tm_mon=3, tm_mday=1, tm_hour=14, tm_min=56, tm_sec=22, tm_wday=4, tm_yday=60, tm_isdst=0)\n",
      "s04e07 https://www.springfieldspringfield.co.uk/view_episode_scripts.php?tv-show=the-twilight-zone-1959&episode=s04e07 time.struct_time(tm_year=2019, tm_mon=3, tm_mday=1, tm_hour=14, tm_min=56, tm_sec=32, tm_wday=4, tm_yday=60, tm_isdst=0)\n",
      "s04e08 https://www.springfieldspringfield.co.uk/view_episode_scripts.php?tv-show=the-twilight-zone-1959&episode=s04e08 time.struct_time(tm_year=2019, tm_mon=3, tm_mday=1, tm_hour=14, tm_min=56, tm_sec=43, tm_wday=4, tm_yday=60, tm_isdst=0)\n",
      "s04e09 https://www.springfieldspringfield.co.uk/view_episode_scripts.php?tv-show=the-twilight-zone-1959&episode=s04e09 time.struct_time(tm_year=2019, tm_mon=3, tm_mday=1, tm_hour=14, tm_min=56, tm_sec=54, tm_wday=4, tm_yday=60, tm_isdst=0)\n",
      "s04e10 https://www.springfieldspringfield.co.uk/view_episode_scripts.php?tv-show=the-twilight-zone-1959&episode=s04e10 time.struct_time(tm_year=2019, tm_mon=3, tm_mday=1, tm_hour=14, tm_min=57, tm_sec=4, tm_wday=4, tm_yday=60, tm_isdst=0)\n",
      "s04e11 https://www.springfieldspringfield.co.uk/view_episode_scripts.php?tv-show=the-twilight-zone-1959&episode=s04e11 time.struct_time(tm_year=2019, tm_mon=3, tm_mday=1, tm_hour=14, tm_min=57, tm_sec=15, tm_wday=4, tm_yday=60, tm_isdst=0)\n",
      "s04e12 https://www.springfieldspringfield.co.uk/view_episode_scripts.php?tv-show=the-twilight-zone-1959&episode=s04e12 time.struct_time(tm_year=2019, tm_mon=3, tm_mday=1, tm_hour=14, tm_min=57, tm_sec=26, tm_wday=4, tm_yday=60, tm_isdst=0)\n",
      "s04e13 https://www.springfieldspringfield.co.uk/view_episode_scripts.php?tv-show=the-twilight-zone-1959&episode=s04e13 time.struct_time(tm_year=2019, tm_mon=3, tm_mday=1, tm_hour=14, tm_min=57, tm_sec=36, tm_wday=4, tm_yday=60, tm_isdst=0)\n",
      "s04e14 https://www.springfieldspringfield.co.uk/view_episode_scripts.php?tv-show=the-twilight-zone-1959&episode=s04e14 time.struct_time(tm_year=2019, tm_mon=3, tm_mday=1, tm_hour=14, tm_min=57, tm_sec=47, tm_wday=4, tm_yday=60, tm_isdst=0)\n",
      "s04e15 https://www.springfieldspringfield.co.uk/view_episode_scripts.php?tv-show=the-twilight-zone-1959&episode=s04e15 time.struct_time(tm_year=2019, tm_mon=3, tm_mday=1, tm_hour=14, tm_min=57, tm_sec=57, tm_wday=4, tm_yday=60, tm_isdst=0)\n",
      "s04e16 https://www.springfieldspringfield.co.uk/view_episode_scripts.php?tv-show=the-twilight-zone-1959&episode=s04e16 time.struct_time(tm_year=2019, tm_mon=3, tm_mday=1, tm_hour=14, tm_min=58, tm_sec=8, tm_wday=4, tm_yday=60, tm_isdst=0)\n",
      "s04e17 https://www.springfieldspringfield.co.uk/view_episode_scripts.php?tv-show=the-twilight-zone-1959&episode=s04e17 time.struct_time(tm_year=2019, tm_mon=3, tm_mday=1, tm_hour=14, tm_min=58, tm_sec=18, tm_wday=4, tm_yday=60, tm_isdst=0)\n",
      "s04e18 https://www.springfieldspringfield.co.uk/view_episode_scripts.php?tv-show=the-twilight-zone-1959&episode=s04e18 time.struct_time(tm_year=2019, tm_mon=3, tm_mday=1, tm_hour=14, tm_min=58, tm_sec=29, tm_wday=4, tm_yday=60, tm_isdst=0)\n",
      "s04e19 https://www.springfieldspringfield.co.uk/view_episode_scripts.php?tv-show=the-twilight-zone-1959&episode=s04e19 time.struct_time(tm_year=2019, tm_mon=3, tm_mday=1, tm_hour=14, tm_min=58, tm_sec=40, tm_wday=4, tm_yday=60, tm_isdst=0)\n",
      "s04e20 https://www.springfieldspringfield.co.uk/view_episode_scripts.php?tv-show=the-twilight-zone-1959&episode=s04e20 time.struct_time(tm_year=2019, tm_mon=3, tm_mday=1, tm_hour=14, tm_min=58, tm_sec=50, tm_wday=4, tm_yday=60, tm_isdst=0)\n",
      "s04e21 https://www.springfieldspringfield.co.uk/view_episode_scripts.php?tv-show=the-twilight-zone-1959&episode=s04e21 time.struct_time(tm_year=2019, tm_mon=3, tm_mday=1, tm_hour=14, tm_min=59, tm_sec=1, tm_wday=4, tm_yday=60, tm_isdst=0)\n",
      "s04e22 https://www.springfieldspringfield.co.uk/view_episode_scripts.php?tv-show=the-twilight-zone-1959&episode=s04e22 time.struct_time(tm_year=2019, tm_mon=3, tm_mday=1, tm_hour=14, tm_min=59, tm_sec=11, tm_wday=4, tm_yday=60, tm_isdst=0)\n",
      "s04e23 https://www.springfieldspringfield.co.uk/view_episode_scripts.php?tv-show=the-twilight-zone-1959&episode=s04e23 time.struct_time(tm_year=2019, tm_mon=3, tm_mday=1, tm_hour=14, tm_min=59, tm_sec=22, tm_wday=4, tm_yday=60, tm_isdst=0)\n",
      "s04e24 https://www.springfieldspringfield.co.uk/view_episode_scripts.php?tv-show=the-twilight-zone-1959&episode=s04e24 time.struct_time(tm_year=2019, tm_mon=3, tm_mday=1, tm_hour=14, tm_min=59, tm_sec=33, tm_wday=4, tm_yday=60, tm_isdst=0)\n",
      "s04e25 https://www.springfieldspringfield.co.uk/view_episode_scripts.php?tv-show=the-twilight-zone-1959&episode=s04e25 time.struct_time(tm_year=2019, tm_mon=3, tm_mday=1, tm_hour=14, tm_min=59, tm_sec=44, tm_wday=4, tm_yday=60, tm_isdst=0)\n",
      "s04e26 https://www.springfieldspringfield.co.uk/view_episode_scripts.php?tv-show=the-twilight-zone-1959&episode=s04e26 time.struct_time(tm_year=2019, tm_mon=3, tm_mday=1, tm_hour=14, tm_min=59, tm_sec=54, tm_wday=4, tm_yday=60, tm_isdst=0)\n",
      "s04e27 https://www.springfieldspringfield.co.uk/view_episode_scripts.php?tv-show=the-twilight-zone-1959&episode=s04e27 time.struct_time(tm_year=2019, tm_mon=3, tm_mday=1, tm_hour=15, tm_min=0, tm_sec=5, tm_wday=4, tm_yday=60, tm_isdst=0)\n",
      "s04e28 https://www.springfieldspringfield.co.uk/view_episode_scripts.php?tv-show=the-twilight-zone-1959&episode=s04e28 time.struct_time(tm_year=2019, tm_mon=3, tm_mday=1, tm_hour=15, tm_min=0, tm_sec=16, tm_wday=4, tm_yday=60, tm_isdst=0)\n",
      "s04e29 https://www.springfieldspringfield.co.uk/view_episode_scripts.php?tv-show=the-twilight-zone-1959&episode=s04e29 time.struct_time(tm_year=2019, tm_mon=3, tm_mday=1, tm_hour=15, tm_min=0, tm_sec=26, tm_wday=4, tm_yday=60, tm_isdst=0)\n"
     ]
    },
    {
     "name": "stdout",
     "output_type": "stream",
     "text": [
      "s04e30 https://www.springfieldspringfield.co.uk/view_episode_scripts.php?tv-show=the-twilight-zone-1959&episode=s04e30 time.struct_time(tm_year=2019, tm_mon=3, tm_mday=1, tm_hour=15, tm_min=0, tm_sec=37, tm_wday=4, tm_yday=60, tm_isdst=0)\n",
      "s04e31 https://www.springfieldspringfield.co.uk/view_episode_scripts.php?tv-show=the-twilight-zone-1959&episode=s04e31 time.struct_time(tm_year=2019, tm_mon=3, tm_mday=1, tm_hour=15, tm_min=0, tm_sec=47, tm_wday=4, tm_yday=60, tm_isdst=0)\n",
      "s04e32 https://www.springfieldspringfield.co.uk/view_episode_scripts.php?tv-show=the-twilight-zone-1959&episode=s04e32 time.struct_time(tm_year=2019, tm_mon=3, tm_mday=1, tm_hour=15, tm_min=0, tm_sec=58, tm_wday=4, tm_yday=60, tm_isdst=0)\n",
      "s04e33 https://www.springfieldspringfield.co.uk/view_episode_scripts.php?tv-show=the-twilight-zone-1959&episode=s04e33 time.struct_time(tm_year=2019, tm_mon=3, tm_mday=1, tm_hour=15, tm_min=1, tm_sec=9, tm_wday=4, tm_yday=60, tm_isdst=0)\n",
      "s04e34 https://www.springfieldspringfield.co.uk/view_episode_scripts.php?tv-show=the-twilight-zone-1959&episode=s04e34 time.struct_time(tm_year=2019, tm_mon=3, tm_mday=1, tm_hour=15, tm_min=1, tm_sec=19, tm_wday=4, tm_yday=60, tm_isdst=0)\n",
      "s04e35 https://www.springfieldspringfield.co.uk/view_episode_scripts.php?tv-show=the-twilight-zone-1959&episode=s04e35 time.struct_time(tm_year=2019, tm_mon=3, tm_mday=1, tm_hour=15, tm_min=1, tm_sec=30, tm_wday=4, tm_yday=60, tm_isdst=0)\n",
      "s04e36 https://www.springfieldspringfield.co.uk/view_episode_scripts.php?tv-show=the-twilight-zone-1959&episode=s04e36 time.struct_time(tm_year=2019, tm_mon=3, tm_mday=1, tm_hour=15, tm_min=1, tm_sec=41, tm_wday=4, tm_yday=60, tm_isdst=0)\n",
      "s04e37 https://www.springfieldspringfield.co.uk/view_episode_scripts.php?tv-show=the-twilight-zone-1959&episode=s04e37 time.struct_time(tm_year=2019, tm_mon=3, tm_mday=1, tm_hour=15, tm_min=1, tm_sec=52, tm_wday=4, tm_yday=60, tm_isdst=0)\n",
      "s05e01 https://www.springfieldspringfield.co.uk/view_episode_scripts.php?tv-show=the-twilight-zone-1959&episode=s05e01 time.struct_time(tm_year=2019, tm_mon=3, tm_mday=1, tm_hour=15, tm_min=2, tm_sec=2, tm_wday=4, tm_yday=60, tm_isdst=0)\n",
      "s05e02 https://www.springfieldspringfield.co.uk/view_episode_scripts.php?tv-show=the-twilight-zone-1959&episode=s05e02 time.struct_time(tm_year=2019, tm_mon=3, tm_mday=1, tm_hour=15, tm_min=2, tm_sec=13, tm_wday=4, tm_yday=60, tm_isdst=0)\n",
      "s05e03 https://www.springfieldspringfield.co.uk/view_episode_scripts.php?tv-show=the-twilight-zone-1959&episode=s05e03 time.struct_time(tm_year=2019, tm_mon=3, tm_mday=1, tm_hour=15, tm_min=2, tm_sec=23, tm_wday=4, tm_yday=60, tm_isdst=0)\n",
      "s05e04 https://www.springfieldspringfield.co.uk/view_episode_scripts.php?tv-show=the-twilight-zone-1959&episode=s05e04 time.struct_time(tm_year=2019, tm_mon=3, tm_mday=1, tm_hour=15, tm_min=2, tm_sec=34, tm_wday=4, tm_yday=60, tm_isdst=0)\n",
      "s05e05 https://www.springfieldspringfield.co.uk/view_episode_scripts.php?tv-show=the-twilight-zone-1959&episode=s05e05 time.struct_time(tm_year=2019, tm_mon=3, tm_mday=1, tm_hour=15, tm_min=2, tm_sec=44, tm_wday=4, tm_yday=60, tm_isdst=0)\n",
      "s05e06 https://www.springfieldspringfield.co.uk/view_episode_scripts.php?tv-show=the-twilight-zone-1959&episode=s05e06 time.struct_time(tm_year=2019, tm_mon=3, tm_mday=1, tm_hour=15, tm_min=2, tm_sec=55, tm_wday=4, tm_yday=60, tm_isdst=0)\n",
      "s05e07 https://www.springfieldspringfield.co.uk/view_episode_scripts.php?tv-show=the-twilight-zone-1959&episode=s05e07 time.struct_time(tm_year=2019, tm_mon=3, tm_mday=1, tm_hour=15, tm_min=3, tm_sec=5, tm_wday=4, tm_yday=60, tm_isdst=0)\n",
      "s05e08 https://www.springfieldspringfield.co.uk/view_episode_scripts.php?tv-show=the-twilight-zone-1959&episode=s05e08 time.struct_time(tm_year=2019, tm_mon=3, tm_mday=1, tm_hour=15, tm_min=3, tm_sec=16, tm_wday=4, tm_yday=60, tm_isdst=0)\n",
      "s05e09 https://www.springfieldspringfield.co.uk/view_episode_scripts.php?tv-show=the-twilight-zone-1959&episode=s05e09 time.struct_time(tm_year=2019, tm_mon=3, tm_mday=1, tm_hour=15, tm_min=3, tm_sec=26, tm_wday=4, tm_yday=60, tm_isdst=0)\n",
      "s05e10 https://www.springfieldspringfield.co.uk/view_episode_scripts.php?tv-show=the-twilight-zone-1959&episode=s05e10 time.struct_time(tm_year=2019, tm_mon=3, tm_mday=1, tm_hour=15, tm_min=3, tm_sec=37, tm_wday=4, tm_yday=60, tm_isdst=0)\n",
      "s05e11 https://www.springfieldspringfield.co.uk/view_episode_scripts.php?tv-show=the-twilight-zone-1959&episode=s05e11 time.struct_time(tm_year=2019, tm_mon=3, tm_mday=1, tm_hour=15, tm_min=3, tm_sec=47, tm_wday=4, tm_yday=60, tm_isdst=0)\n",
      "s05e12 https://www.springfieldspringfield.co.uk/view_episode_scripts.php?tv-show=the-twilight-zone-1959&episode=s05e12 time.struct_time(tm_year=2019, tm_mon=3, tm_mday=1, tm_hour=15, tm_min=3, tm_sec=58, tm_wday=4, tm_yday=60, tm_isdst=0)\n",
      "s05e13 https://www.springfieldspringfield.co.uk/view_episode_scripts.php?tv-show=the-twilight-zone-1959&episode=s05e13 time.struct_time(tm_year=2019, tm_mon=3, tm_mday=1, tm_hour=15, tm_min=4, tm_sec=8, tm_wday=4, tm_yday=60, tm_isdst=0)\n",
      "s05e14 https://www.springfieldspringfield.co.uk/view_episode_scripts.php?tv-show=the-twilight-zone-1959&episode=s05e14 time.struct_time(tm_year=2019, tm_mon=3, tm_mday=1, tm_hour=15, tm_min=4, tm_sec=19, tm_wday=4, tm_yday=60, tm_isdst=0)\n",
      "s05e15 https://www.springfieldspringfield.co.uk/view_episode_scripts.php?tv-show=the-twilight-zone-1959&episode=s05e15 time.struct_time(tm_year=2019, tm_mon=3, tm_mday=1, tm_hour=15, tm_min=4, tm_sec=29, tm_wday=4, tm_yday=60, tm_isdst=0)\n",
      "s05e16 https://www.springfieldspringfield.co.uk/view_episode_scripts.php?tv-show=the-twilight-zone-1959&episode=s05e16 time.struct_time(tm_year=2019, tm_mon=3, tm_mday=1, tm_hour=15, tm_min=4, tm_sec=40, tm_wday=4, tm_yday=60, tm_isdst=0)\n",
      "s05e17 https://www.springfieldspringfield.co.uk/view_episode_scripts.php?tv-show=the-twilight-zone-1959&episode=s05e17 time.struct_time(tm_year=2019, tm_mon=3, tm_mday=1, tm_hour=15, tm_min=4, tm_sec=50, tm_wday=4, tm_yday=60, tm_isdst=0)\n",
      "s05e18 https://www.springfieldspringfield.co.uk/view_episode_scripts.php?tv-show=the-twilight-zone-1959&episode=s05e18 time.struct_time(tm_year=2019, tm_mon=3, tm_mday=1, tm_hour=15, tm_min=5, tm_sec=1, tm_wday=4, tm_yday=60, tm_isdst=0)\n",
      "s05e19 https://www.springfieldspringfield.co.uk/view_episode_scripts.php?tv-show=the-twilight-zone-1959&episode=s05e19 time.struct_time(tm_year=2019, tm_mon=3, tm_mday=1, tm_hour=15, tm_min=5, tm_sec=11, tm_wday=4, tm_yday=60, tm_isdst=0)\n",
      "s05e20 https://www.springfieldspringfield.co.uk/view_episode_scripts.php?tv-show=the-twilight-zone-1959&episode=s05e20 time.struct_time(tm_year=2019, tm_mon=3, tm_mday=1, tm_hour=15, tm_min=5, tm_sec=22, tm_wday=4, tm_yday=60, tm_isdst=0)\n",
      "s05e21 https://www.springfieldspringfield.co.uk/view_episode_scripts.php?tv-show=the-twilight-zone-1959&episode=s05e21 time.struct_time(tm_year=2019, tm_mon=3, tm_mday=1, tm_hour=15, tm_min=5, tm_sec=32, tm_wday=4, tm_yday=60, tm_isdst=0)\n",
      "s05e22 https://www.springfieldspringfield.co.uk/view_episode_scripts.php?tv-show=the-twilight-zone-1959&episode=s05e22 time.struct_time(tm_year=2019, tm_mon=3, tm_mday=1, tm_hour=15, tm_min=5, tm_sec=43, tm_wday=4, tm_yday=60, tm_isdst=0)\n",
      "s05e23 https://www.springfieldspringfield.co.uk/view_episode_scripts.php?tv-show=the-twilight-zone-1959&episode=s05e23 time.struct_time(tm_year=2019, tm_mon=3, tm_mday=1, tm_hour=15, tm_min=5, tm_sec=54, tm_wday=4, tm_yday=60, tm_isdst=0)\n",
      "s05e24 https://www.springfieldspringfield.co.uk/view_episode_scripts.php?tv-show=the-twilight-zone-1959&episode=s05e24 time.struct_time(tm_year=2019, tm_mon=3, tm_mday=1, tm_hour=15, tm_min=6, tm_sec=4, tm_wday=4, tm_yday=60, tm_isdst=0)\n",
      "s05e25 https://www.springfieldspringfield.co.uk/view_episode_scripts.php?tv-show=the-twilight-zone-1959&episode=s05e25 time.struct_time(tm_year=2019, tm_mon=3, tm_mday=1, tm_hour=15, tm_min=6, tm_sec=15, tm_wday=4, tm_yday=60, tm_isdst=0)\n",
      "s05e26 https://www.springfieldspringfield.co.uk/view_episode_scripts.php?tv-show=the-twilight-zone-1959&episode=s05e26 time.struct_time(tm_year=2019, tm_mon=3, tm_mday=1, tm_hour=15, tm_min=6, tm_sec=25, tm_wday=4, tm_yday=60, tm_isdst=0)\n",
      "s05e27 https://www.springfieldspringfield.co.uk/view_episode_scripts.php?tv-show=the-twilight-zone-1959&episode=s05e27 time.struct_time(tm_year=2019, tm_mon=3, tm_mday=1, tm_hour=15, tm_min=6, tm_sec=35, tm_wday=4, tm_yday=60, tm_isdst=0)\n"
     ]
    },
    {
     "name": "stdout",
     "output_type": "stream",
     "text": [
      "s05e28 https://www.springfieldspringfield.co.uk/view_episode_scripts.php?tv-show=the-twilight-zone-1959&episode=s05e28 time.struct_time(tm_year=2019, tm_mon=3, tm_mday=1, tm_hour=15, tm_min=6, tm_sec=46, tm_wday=4, tm_yday=60, tm_isdst=0)\n",
      "s05e29 https://www.springfieldspringfield.co.uk/view_episode_scripts.php?tv-show=the-twilight-zone-1959&episode=s05e29 time.struct_time(tm_year=2019, tm_mon=3, tm_mday=1, tm_hour=15, tm_min=6, tm_sec=56, tm_wday=4, tm_yday=60, tm_isdst=0)\n",
      "s05e30 https://www.springfieldspringfield.co.uk/view_episode_scripts.php?tv-show=the-twilight-zone-1959&episode=s05e30 time.struct_time(tm_year=2019, tm_mon=3, tm_mday=1, tm_hour=15, tm_min=7, tm_sec=7, tm_wday=4, tm_yday=60, tm_isdst=0)\n",
      "s05e31 https://www.springfieldspringfield.co.uk/view_episode_scripts.php?tv-show=the-twilight-zone-1959&episode=s05e31 time.struct_time(tm_year=2019, tm_mon=3, tm_mday=1, tm_hour=15, tm_min=7, tm_sec=18, tm_wday=4, tm_yday=60, tm_isdst=0)\n",
      "s05e32 https://www.springfieldspringfield.co.uk/view_episode_scripts.php?tv-show=the-twilight-zone-1959&episode=s05e32 time.struct_time(tm_year=2019, tm_mon=3, tm_mday=1, tm_hour=15, tm_min=7, tm_sec=28, tm_wday=4, tm_yday=60, tm_isdst=0)\n",
      "s05e33 https://www.springfieldspringfield.co.uk/view_episode_scripts.php?tv-show=the-twilight-zone-1959&episode=s05e33 time.struct_time(tm_year=2019, tm_mon=3, tm_mday=1, tm_hour=15, tm_min=7, tm_sec=39, tm_wday=4, tm_yday=60, tm_isdst=0)\n",
      "s05e34 https://www.springfieldspringfield.co.uk/view_episode_scripts.php?tv-show=the-twilight-zone-1959&episode=s05e34 time.struct_time(tm_year=2019, tm_mon=3, tm_mday=1, tm_hour=15, tm_min=7, tm_sec=49, tm_wday=4, tm_yday=60, tm_isdst=0)\n",
      "s05e35 https://www.springfieldspringfield.co.uk/view_episode_scripts.php?tv-show=the-twilight-zone-1959&episode=s05e35 time.struct_time(tm_year=2019, tm_mon=3, tm_mday=1, tm_hour=15, tm_min=8, tm_sec=0, tm_wday=4, tm_yday=60, tm_isdst=0)\n",
      "s05e36 https://www.springfieldspringfield.co.uk/view_episode_scripts.php?tv-show=the-twilight-zone-1959&episode=s05e36 time.struct_time(tm_year=2019, tm_mon=3, tm_mday=1, tm_hour=15, tm_min=8, tm_sec=10, tm_wday=4, tm_yday=60, tm_isdst=0)\n",
      "s05e37 https://www.springfieldspringfield.co.uk/view_episode_scripts.php?tv-show=the-twilight-zone-1959&episode=s05e37 time.struct_time(tm_year=2019, tm_mon=3, tm_mday=1, tm_hour=15, tm_min=8, tm_sec=20, tm_wday=4, tm_yday=60, tm_isdst=0)\n"
     ]
    }
   ],
   "source": [
    "seas_epi_html = dict()\n",
    "for i in range(1,6):\n",
    "    for j in range(1,38):\n",
    "        time.sleep(10)\n",
    "        j_string = str(j)\n",
    "        if j < 10:\n",
    "            j_string = '0' + j_string\n",
    "        raw_string = 'https://www.springfieldspringfield.co.uk/view_episode_scripts.php?tv-show=the-twilight-zone-1959&episode=s0{}e{}'.format(i,j_string)\n",
    "        key = 's0{}e{}'.format(i,j_string)\n",
    "        print(key, raw_string, time.localtime())\n",
    "        tz = simple_get(raw_string)\n",
    "        seas_epi_html[key] = tz"
   ]
  },
  {
   "cell_type": "code",
   "execution_count": 39,
   "metadata": {
    "ExecuteTime": {
     "end_time": "2019-03-01T20:36:42.386388Z",
     "start_time": "2019-03-01T20:36:42.381329Z"
    },
    "collapsed": true
   },
   "outputs": [],
   "source": [
    "nonexistent_epi = list()\n",
    "for entries in seas_epi_html:\n",
    "    if not bool(seas_epi_html.get(entries)):\n",
    "        nonexistent_epi.append(entries)        "
   ]
  },
  {
   "cell_type": "code",
   "execution_count": 97,
   "metadata": {
    "ExecuteTime": {
     "end_time": "2019-03-01T21:34:53.562967Z",
     "start_time": "2019-03-01T21:34:47.458505Z"
    },
    "collapsed": true
   },
   "outputs": [
    {
     "name": "stdout",
     "output_type": "stream",
     "text": [
      "parsing s01e01\n",
      "parsing s01e02\n",
      "parsing s01e03\n",
      "parsing s01e04\n",
      "parsing s01e05\n",
      "parsing s01e06\n",
      "parsing s01e07\n",
      "parsing s01e08\n",
      "parsing s01e09\n",
      "parsing s01e10\n",
      "parsing s01e11\n",
      "parsing s01e12\n",
      "parsing s01e13\n",
      "parsing s01e14\n",
      "parsing s01e15\n",
      "parsing s01e16\n",
      "parsing s01e17\n",
      "parsing s01e18\n",
      "parsing s01e19\n",
      "parsing s01e20\n",
      "parsing s01e21\n",
      "parsing s01e22\n",
      "parsing s01e23\n",
      "parsing s01e24\n",
      "parsing s01e25\n",
      "parsing s01e26\n",
      "parsing s01e27\n",
      "parsing s01e28\n",
      "parsing s01e29\n",
      "parsing s01e30\n",
      "parsing s01e31\n",
      "parsing s01e32\n",
      "parsing s01e33\n",
      "parsing s01e34\n",
      "parsing s01e35\n",
      "parsing s01e36\n",
      "parsing s02e01\n",
      "parsing s02e02\n",
      "parsing s02e03\n",
      "parsing s02e04\n",
      "parsing s02e05\n",
      "parsing s02e06\n",
      "parsing s02e07\n",
      "parsing s02e08\n",
      "parsing s02e09\n",
      "parsing s02e10\n",
      "parsing s02e11\n",
      "parsing s02e12\n",
      "parsing s02e13\n",
      "parsing s02e14\n",
      "parsing s02e15\n",
      "parsing s02e16\n",
      "parsing s02e17\n",
      "parsing s02e18\n",
      "parsing s02e19\n",
      "parsing s02e20\n",
      "parsing s02e21\n",
      "parsing s02e22\n",
      "parsing s02e23\n",
      "parsing s02e24\n",
      "parsing s02e25\n",
      "parsing s02e26\n",
      "parsing s02e27\n",
      "parsing s02e28\n",
      "parsing s02e29\n",
      "parsing s03e01\n",
      "parsing s03e02\n",
      "parsing s03e03\n",
      "parsing s03e04\n",
      "parsing s03e05\n",
      "parsing s03e06\n",
      "parsing s03e07\n",
      "parsing s03e08\n",
      "parsing s03e09\n",
      "parsing s03e10\n",
      "parsing s03e11\n",
      "parsing s03e12\n",
      "parsing s03e13\n",
      "parsing s03e14\n",
      "parsing s03e15\n",
      "parsing s03e16\n",
      "parsing s03e17\n",
      "parsing s03e18\n",
      "parsing s03e19\n",
      "parsing s03e20\n",
      "parsing s03e21\n",
      "parsing s03e22\n",
      "parsing s03e23\n",
      "parsing s03e24\n",
      "parsing s03e25\n",
      "parsing s03e26\n",
      "parsing s03e27\n",
      "parsing s03e28\n",
      "parsing s03e29\n",
      "parsing s03e30\n",
      "parsing s03e31\n",
      "parsing s03e32\n",
      "parsing s03e33\n",
      "parsing s03e34\n",
      "parsing s03e35\n",
      "parsing s03e36\n",
      "parsing s03e37\n",
      "parsing s04e01\n",
      "parsing s04e02\n",
      "parsing s04e03\n",
      "parsing s04e04\n",
      "parsing s04e05\n",
      "parsing s04e06\n",
      "parsing s04e07\n",
      "parsing s04e08\n",
      "parsing s04e09\n",
      "parsing s04e10\n",
      "parsing s04e11\n",
      "parsing s04e12\n",
      "parsing s04e13\n",
      "parsing s04e14\n",
      "parsing s04e15\n",
      "parsing s04e16\n",
      "parsing s04e17\n",
      "parsing s04e18\n",
      "parsing s05e01\n",
      "parsing s05e02\n",
      "parsing s05e03\n",
      "parsing s05e04\n",
      "parsing s05e05\n",
      "parsing s05e06\n",
      "parsing s05e07\n",
      "parsing s05e08\n",
      "parsing s05e09\n",
      "parsing s05e10\n",
      "parsing s05e11\n",
      "parsing s05e12\n",
      "parsing s05e13\n",
      "parsing s05e14\n",
      "parsing s05e15\n",
      "parsing s05e16\n",
      "parsing s05e17\n",
      "parsing s05e18\n",
      "parsing s05e19\n",
      "parsing s05e20\n",
      "parsing s05e21\n",
      "parsing s05e22\n",
      "parsing s05e23\n",
      "parsing s05e24\n",
      "parsing s05e25\n",
      "parsing s05e26\n",
      "parsing s05e27\n",
      "parsing s05e28\n",
      "parsing s05e29\n",
      "parsing s05e30\n",
      "parsing s05e31\n",
      "parsing s05e32\n",
      "parsing s05e33\n",
      "parsing s05e34\n",
      "parsing s05e35\n",
      "parsing s05e36\n"
     ]
    }
   ],
   "source": [
    "scripts = dict()\n",
    "for entries in seas_epi_html:\n",
    "    print('parsing', entries)\n",
    "    html = BeautifulSoup(seas_epi_html[entries], 'html.parser')\n",
    "    divparent = html.find_all('div', attrs={'class':'scrolling-script-container'})\n",
    "    if not len(divparent) == 0:\n",
    "        result = re.match(r\"(\\[<[\\w\\s=\\-\\\"]+>)([\\S\\s]*)(<\\/[\\w]+>\\])\", str(divparent))\n",
    "        script = result[2].strip().replace(\"<br/>\",\"\")\n",
    "        scripts[entries] = script"
   ]
  },
  {
   "cell_type": "code",
   "execution_count": 101,
   "metadata": {
    "ExecuteTime": {
     "end_time": "2019-03-01T21:42:58.698749Z",
     "start_time": "2019-03-01T21:42:58.691037Z"
    }
   },
   "outputs": [
    {
     "data": {
      "text/plain": [
       "\"/Users/homeworkdude/Documents/hayley's lovely experiment\""
      ]
     },
     "execution_count": 101,
     "metadata": {},
     "output_type": "execute_result"
    }
   ],
   "source": [
    "epi_list = ['episode-1-pilot',]"
   ]
  },
  {
   "cell_type": "code",
   "execution_count": 138,
   "metadata": {
    "ExecuteTime": {
     "end_time": "2019-03-02T00:32:05.198972Z",
     "start_time": "2019-03-02T00:32:04.453275Z"
    }
   },
   "outputs": [],
   "source": [
    "page = simple_get('https://cecilspeaks.tumblr.com/post/56680281610/ep01')"
   ]
  },
  {
   "cell_type": "code",
   "execution_count": 144,
   "metadata": {
    "ExecuteTime": {
     "end_time": "2019-03-02T00:38:12.352937Z",
     "start_time": "2019-03-02T00:38:12.232474Z"
    },
    "scrolled": false
   },
   "outputs": [
    {
     "name": "stdout",
     "output_type": "stream",
     "text": [
      "[<li><a href=\"/ep01\">01 - Pilot</a></li>, <li><a href=\"/ep02\">02 - Glow Cloud</a></li>, <li><a href=\"/ep03\">03 - Station Management</a></li>, <li><a href=\"/ep04\">04 - PTA Meeting</a></li>, <li><a href=\"/ep05\">05 - The Shape in Grove Park</a></li>, <li><a href=\"/ep06\">06 - The Drawbridge</a></li>, <li><a href=\"/ep07\">07 - History Week</a></li>, <li><a href=\"/ep08\">08 - The Lights in Radon Canyon</a></li>, <li><a href=\"/ep09\">09 - \"PYRAMID\"</a></li>, <li><a href=\"/ep10\">10 - Feral Dogs</a></li>, <li><a href=\"/ep11\">11 - Wheat &amp; Wheat By-Products</a></li>, <li><a href=\"/ep12\">12 - The Candidate</a></li>, <li><a href=\"/ep13\">13 - A Story About You.</a></li>, <li><a href=\"/ep14\">14 - The Man in the Tan Jacket</a></li>, <li><a href=\"/ep15\">15 - Street Cleaning Day</a></li>, <li><a href=\"/ep16\">16 - The Phone Call</a></li>, <li><a href=\"/ep17\">17 - Valentine</a></li>, <li><a href=\"/ep18\">18 - The Traveler</a></li>, <li><a href=\"/ep19a\">19A - The Sandstorm<br/>(Night Vale)</a></li>, <li><a href=\"/ep19b\">19B - The Sandstorm<br/>(Desert Bluffs)</a></li>, <li><a href=\"/ep20\">20 - Poetry Week</a></li>, <li><a href=\"/ep21\">21 - A Memory of Europe</a></li>, <li><a href=\"/ep22\">22 - The Whispering Forest</a></li>, <li><a href=\"/ep23\">23 - Eternal Scouts</a></li>, <li><a href=\"/ep24\">24 - The Mayor</a></li>, <li><a href=\"/ep25\">25 - One Year Later</a></li>, <li><a href=\"/ep26\">26 - Faceless Old Woman</a></li>, <li><a href=\"/ep27\">27 - First Date</a></li>, <li><a href=\"/ep28\">28 - Summer Reading Program</a></li>, <li><a href=\"/ep29\">29 - Subway</a></li>, <li><a href=\"/ep30\">30 - Dana</a></li>, <li><a href=\"/ep31\">31 - A Blinking Light up on the Mountain</a></li>, <li><a href=\"/live1\">Live show: Condos (unofficial release - fan recording)</a></li>, <li><a href=\"/ep32\">32 - Yellow Helicopters</a></li>, <li><a href=\"/live2\">Live at L.A. PodFest</a></li>, <li><a href=\"/ep33\">33 - Cassette</a></li>, <li><a href=\"/ep34\">34 - A Beautiful Dream</a></li>, <li><a href=\"/ep35\">35 - Lazy Day</a></li>, <li><a href=\"/ep36\">36 - Missing</a></li>, <li><a href=\"/ep37\">37 - The Auction</a></li>, <li><a href=\"/ep38\">38 - Orange Grove</a></li>, <li><a href=\"/ep39\">39 - The Woman from Italy</a></li>, <li><a href=\"/ep40\">40 - The Deft Bowman</a></li>, <li><a href=\"/live3\">Live show: Condos (official release)</a></li>, <li><a href=\"/ep41\">41 - WALK</a></li>, <li><a href=\"/ep42\">42 - Numbers</a></li>, <li><a href=\"/ep43\">43 - Visitor</a></li>, <li><a href=\"/ep44\">44 - Cookies</a></li>, <li><a href=\"/ep45\">45 - A Story About Them</a></li>, <li><a href=\"/live4\">Live show: The Debate</a></li>, <li><a href=\"/ep46\">46 - Parade Day</a></li>, <li><a href=\"/ep47\">47 - Company Picnic</a></li>, <li><a href=\"/ep48\">48 - Renovations</a></li>, <li><a href=\"/ep49a\">49 - Old Oak Doors Part A</a></li>, <li><a href=\"/ep49b\">49 - Old Oak Doors Part B</a></li>, <li><a href=\"/ep50\">50 - Capital Campaign</a></li>, <li><a href=\"/ep51\">51 - Rumbling</a></li>, <li><a href=\"/ep52\">52 - The Retirement of Pamela Winchell</a></li>, <li><a href=\"/ep53\">53 - The September Monologues</a></li>, <li><a href=\"/ep54\">54 - A Carnival Comes to Town</a></li>, <li><a href=\"/ep55\">55 - The University of What It Is</a></li>, <li><a href=\"/live5\">Live show: The Thrilling Adventure Hour/Welcome to Night Vale Crossover</a></li>, <li><a href=\"/ep56\">56 - Homecoming</a></li>, <li><a href=\"/bonus1\">Bonus Episode 1 - Minutes</a></li>, <li><a href=\"/bonus2\">Bonus Episode 2 - What of the Sea?</a></li>, <li><a href=\"/ep57\">57 - The List</a></li>, <li><a href=\"/ep58\">58 - Monolith</a></li>, <li><a href=\"/ep59\"> 59 - Antiques</a></li>, <li><a href=\"/ep60\">60 - Water Failure</a></li>, <li><a href=\"/ep61\">61 - BRINY DEPTHS</a></li>, <li><a href=\"/ep62\">62 - Hatchets</a></li>, <li><a href=\"/ep63\">63 - There Is No Part 1: <br/>Part 2</a></li>, <li><a href=\"/live6\">Live show: The Librarian - Live at Skirball</a></li>, <li><a href=\"/ep64\">64 - WE MUST GIVE PRAISE</a></li>, <li><a href=\"/bonus3\">Bonus Episode 3 - \"The Librarian\" Horoscopes</a></li>, <li><a href=\"/ep65\">65 - Voicemail</a></li>, <li><a href=\"/ep66\">66 - worms...</a></li>, <li><a href=\"/ep67\">67 - [Best Of?]</a></li>, <li><a href=\"/ep68\">68 - Faceless Old Women</a></li>, <li><a href=\"/ep69\">69 - Fashion Week</a></li>, <li><a href=\"/ep70a\">70A - Taking Off</a></li>, <li><a href=\"/ep70b\">70B - Review</a></li>, <li><a href=\"/ep70c\">Bonus Episode 4 - Pamela Winchell</a></li>, <li><a href=\"/ep70d\">Bonus Episode 5 - Excerpt From the Novel</a></li>, <li><a href=\"/ep71\">71 - The Registry of Middle School Crushes</a></li>, <li><a href=\"/ep72\">72 - Well of Night</a></li>, <li><a href=\"/ep73\">73 - Triptych</a></li>, <li><a href=\"/ep74\">74 - Civic Changes</a></li>, <li><a href=\"/ep75\">75 - Through the Narrow Place</a></li>, <li><a href=\"/ep76\">76 - An Epilogue</a></li>, <li><a href=\"/ep77\">77 - A Stranger</a></li>, <li><a href=\"/ep78\">78 - Cooking Stuff: Thanksgiving Special</a></li>, <li><a href=\"/ep79\">79 - Lost in the Mail</a></li>, <li><a href=\"/ep80\">80 - A New Sheriff in Town</a></li>, <li><a href=\"/ep26r\">26 - Faceless Old Woman<br/>(Repeat)</a></li>, <li><a href=\"/ep13r\">13 - A Story About You.<br/>(Repeat)</a></li>, <li><a href=\"/ep81\">81 - After 3327</a></li>, <li><a href=\"/ep82\">82 - Skating Rink</a></li>, <li><a href=\"/ep83\">83 - One Normal Town</a></li>, <li><a href=\"/ep84\">84 - Past Time</a></li>, <li><a href=\"/ep85\">85 - The April Monologues</a></li>, <li><a href=\"/ep86\">86 - Standing and Breathing</a></li>, <li><a href=\"/ep87\">87 - The Trial of Hiram McDaniels</a></li>, <li><a href=\"/ep88\">88 - Things Fall Apart</a></li>, <li><a href=\"/live7\">Live show: The Investigators</a></li>, <li><a href=\"/ep89\">89 - Who's a Good Boy?<br/>Part 1</a></li>, <li><a href=\"/bonus5\">Bonus Episode 7 - The Investigators on iTunes</a></li>, <li><a href=\"/ep89-1\">Bonus Episode 7 - The Investigators on iTunes</a></li>, <li><a href=\"/ep90\">90 - Who's a Good Boy?<br/>Part 2</a></li>, <li><a href=\"/ep91\">91 - The 12:37</a></li>, <li><a href=\"/ep92\">92 - If He Had Lived</a></li>, <li><a href=\"/ep93\">93 - Big Sister</a></li>, <li><a href=\"/ep94\">94 - All Right</a></li>, <li><a href=\"/ep95\">95 - Zookeeper</a></li>, <li><a href=\"/ep96\">96 - Negotiations</a></li>, <li><a href=\"/ep97\">97 - Josefina</a></li>, <li><a href=\"/ep-98\">98 - Flight</a></li>, <li><a href=\"/ep-99\">99 - Michigan</a></li>, <li><a href=\"/ep-100\">100 - Toast</a></li>, <li><a href=\"/101\">101 - Guidelines for Disposal</a></li>, <li><a href=\"/ep102\">102 - Love Is a Shambling Thing</a></li>, <li><a href=\"/ep103\">103 - Ash Beach</a></li>, <li><a href=\"/ep104\">104 - The Hierarchy of Angels</a></li>, <li><a href=\"/ep105\">105 - What Happened at the Smithwick House</a></li>, <li><a href=\"/ep106\">106 - Filings</a></li>, <li><a href=\"/ep107\">107 - The Missing Sky</a></li>, <li><a href=\"/live9\">Live show: Ghost Stories - bonus tracks</a></li>, <li><a href=\"/ep-108\">108 - Cal</a></li>, <li><a href=\"/ep-109\">109 - A Story About Huntokar</a></li>, <li><a href=\"/ep-110\">110 - Matryoshka</a></li>, <li><a href=\"/bonus6\">Bonus episode - The Tragic Story of Louie Blasko</a></li>, <li><a href=\"/bonus7\">Bonus episode: An Exceprt from the Next Night Vale Novel!</a></li>, <li><a href=\"/ep111\">111 - Summer 2017, Night Vale, USA</a></li>, <li><a href=\"/ep112\">112 - Citizen Spotlight</a></li>, <li><a href=\"/ep113\">113 - Niecelet</a></li>, <li><a href=\"/ep114\">114 - Council Member Flynn, part 1</a></li>, <li><a href=\"/ep-115\">115 - Council Member Flynn, Part 2</a></li>, <li><a href=\"/ep116\">116 - Council Member Flynn, part 3</a></li>, <li><a href=\"/ep117\">117 - eGemony, part 1: \"Canadian Club\"</a></li>, <li><a href=\"/ep118\">118 - eGemony, part 2: \"The Cavelands</a></li>, <li><a href=\"/ep119\">119 - eGemony, part 3: \"Love, Among Other Things, Is All You Need\"</a></li>, <li><a href=\"/ep120\">120 - All Smiles' Eve</a></li>, <li><a href=\"/ep121\">121 - A Story of Love and Horror, Part 1: \"Barks\"</a></li>, <li><a href=\"/ep122\">122 - A Story of Love and Horror, Part 2: \"Spire\"</a></li>, <li><a href=\"/ep123\">123 - A Story of Love and Horror, part 3: \"Frances\"</a></li>, <li><a href=\"/ep124\">124 - A Door Ajart, part 1</a></li>, <li><a href=\"/ep125\">125 - A Door Ajar, Part 2</a></li>, <li><a href=\"/ep126\">126 - A Door Ajar, part 3</a></li>, <li><a href=\"/ep127\">127 - A Matter of Blood, part 1</a></li>, <li><a href=\"/ep128\">128 - A Matter of Blood, part 2</a></li>, <li><a href=\"/ep129\">129 - A Matter of Blood, part 3</a></li>, <li><a href=\"/ep130\">130 - A Story about Us</a></li>, <li><a href=\"/ep131\">131 - Brought to you by Kellogg's</a></li>, <li><a href=\"/ep132\">132 - Bedtime Story</a></li>, <li><a href=\"/live8\">Live show - All Hail</a></li>, <li><a href=\"/ep133\">133 - Are You Sure?</a></li>, <li><a href=\"/ep314\">314 - Fall Football Preview</a></li>, <li><a href=\"/ep135\">135 - The Mudstone Abyss, part 1</a></li>, <li><a href=\"/ep136\">136 - The Mudstone Abyss, part 2</a></li>, <li><a href=\"/ep137\">137 - The Mudstone Abyss, part 3</a></li>, <li><a href=\"/ep138\">138 - Harvest Time</a></li>, <li><a href=\"/ep139\">139 - The Birthday of Lee Marvin</a></li>, <li><a href=\"/ep140\">140 - A Blood Stone Carol</a></li>]\n"
     ]
    }
   ],
   "source": [
    "html = BeautifulSoup(page, 'html.parser')\n",
    "#print(html)\n",
    "th = html.find_all('meta', attrs={'property':'og:description'})\n",
    "ep_list = list()\n",
    "for i, li in enumerate(html.select('li')):\n",
    "    ep_list.append(li)\n",
    "\n",
    "ep_list = ep_list[62:225]\n",
    "print(ep_list)\n",
    "\n",
    "for ep in ep_list:\n",
    "    p = re.match(r'(<li><a href=\")\\/(ep[0-9]*)(\">[0-9]* - [\\w]*<\\/a><\\/li>)',str(ep))"
   ]
  },
  {
   "cell_type": "code",
   "execution_count": 136,
   "metadata": {
    "ExecuteTime": {
     "end_time": "2019-03-02T00:26:54.763996Z",
     "start_time": "2019-03-02T00:26:54.758280Z"
    }
   },
   "outputs": [],
   "source": [
    "result = re.match(r'(\\[<meta content=\")([\\S\\s]*)(\" property=\"og:description\"\\/>])',str(th))\n",
    "transcript = result[2].strip().replace('\\n\\n\\n','\\n').replace('\\xa0',' ')"
   ]
  },
  {
   "cell_type": "code",
   "execution_count": null,
   "metadata": {},
   "outputs": [],
   "source": []
  }
 ],
 "metadata": {
  "hide_input": false,
  "kernelspec": {
   "display_name": "Python 3",
   "language": "python",
   "name": "python3"
  },
  "language_info": {
   "codemirror_mode": {
    "name": "ipython",
    "version": 3
   },
   "file_extension": ".py",
   "mimetype": "text/x-python",
   "name": "python",
   "nbconvert_exporter": "python",
   "pygments_lexer": "ipython3",
   "version": "3.6.8"
  },
  "toc": {
   "base_numbering": 1,
   "nav_menu": {},
   "number_sections": true,
   "sideBar": true,
   "skip_h1_title": false,
   "title_cell": "Table of Contents",
   "title_sidebar": "Contents",
   "toc_cell": false,
   "toc_position": {},
   "toc_section_display": true,
   "toc_window_display": false
  },
  "varInspector": {
   "cols": {
    "lenName": 16,
    "lenType": 16,
    "lenVar": 40
   },
   "kernels_config": {
    "python": {
     "delete_cmd_postfix": "",
     "delete_cmd_prefix": "del ",
     "library": "var_list.py",
     "varRefreshCmd": "print(var_dic_list())"
    },
    "r": {
     "delete_cmd_postfix": ") ",
     "delete_cmd_prefix": "rm(",
     "library": "var_list.r",
     "varRefreshCmd": "cat(var_dic_list()) "
    }
   },
   "types_to_exclude": [
    "module",
    "function",
    "builtin_function_or_method",
    "instance",
    "_Feature"
   ],
   "window_display": false
  }
 },
 "nbformat": 4,
 "nbformat_minor": 2
}
