{
 "cells": [
  {
   "cell_type": "code",
   "execution_count": 18,
   "metadata": {
    "pycharm": {
     "is_executing": false
    }
   },
   "outputs": [],
   "source": [
    "import sentiment_analysis_functions as saf\n",
    "import pandas as pd\n",
    "import matplotlib.pyplot as plt\n",
    "dir = r\"C:\\Users\\ced4689\\Documents\\GitHub\\twilightvalefalls\""
   ]
  },
  {
   "cell_type": "code",
   "execution_count": 19,
   "metadata": {
    "pycharm": {
     "is_executing": false,
     "metadata": false,
     "name": "#%%\n"
    }
   },
   "outputs": [
    {
     "data": {
      "text/html": [
       "<div>\n",
       "<style scoped>\n",
       "    .dataframe tbody tr th:only-of-type {\n",
       "        vertical-align: middle;\n",
       "    }\n",
       "\n",
       "    .dataframe tbody tr th {\n",
       "        vertical-align: top;\n",
       "    }\n",
       "\n",
       "    .dataframe thead th {\n",
       "        text-align: right;\n",
       "    }\n",
       "</style>\n",
       "<table border=\"1\" class=\"dataframe\">\n",
       "  <thead>\n",
       "    <tr style=\"text-align: right;\">\n",
       "      <th></th>\n",
       "      <th>Source</th>\n",
       "      <th>Title</th>\n",
       "      <th>Date</th>\n",
       "      <th>Text</th>\n",
       "    </tr>\n",
       "  </thead>\n",
       "  <tbody>\n",
       "    <tr>\n",
       "      <th>0</th>\n",
       "      <td>Twilight Zone</td>\n",
       "      <td>A Stop at Willoughby</td>\n",
       "      <td>May 6, 1960</td>\n",
       "      <td>1. int . conference room [ day ] this is a big...</td>\n",
       "    </tr>\n",
       "    <tr>\n",
       "      <th>1</th>\n",
       "      <td>Twilight Zone</td>\n",
       "      <td>It's a Good Life</td>\n",
       "      <td>November 3, 1961</td>\n",
       "      <td>the twilight zone season three `` it is a good...</td>\n",
       "    </tr>\n",
       "    <tr>\n",
       "      <th>2</th>\n",
       "      <td>Twilight Zone</td>\n",
       "      <td>Nick of Time</td>\n",
       "      <td>November 18, 1960</td>\n",
       "      <td>the twilight zone `` the nick of time '' writt...</td>\n",
       "    </tr>\n",
       "    <tr>\n",
       "      <th>3</th>\n",
       "      <td>Twilight Zone</td>\n",
       "      <td>Nightmare At 20000 Feet</td>\n",
       "      <td>October 11, 1963</td>\n",
       "      <td>the twilight zone episode 503 : `` nightmare a...</td>\n",
       "    </tr>\n",
       "    <tr>\n",
       "      <th>4</th>\n",
       "      <td>Twilight Zone</td>\n",
       "      <td>Nothing in the Dark</td>\n",
       "      <td>January 5, 1962</td>\n",
       "      <td>the twilight zone `` nothing in the dark '' wr...</td>\n",
       "    </tr>\n",
       "    <tr>\n",
       "      <th>5</th>\n",
       "      <td>Twilight Zone</td>\n",
       "      <td>One for the Angels</td>\n",
       "      <td>October 9, 1959</td>\n",
       "      <td>102 : `` one for the angels '' written by rod ...</td>\n",
       "    </tr>\n",
       "    <tr>\n",
       "      <th>6</th>\n",
       "      <td>Twilight Zone</td>\n",
       "      <td>The After Hours</td>\n",
       "      <td>June 10, 1960</td>\n",
       "      <td>the twilight zone season one `` the after hour...</td>\n",
       "    </tr>\n",
       "    <tr>\n",
       "      <th>7</th>\n",
       "      <td>Twilight Zone</td>\n",
       "      <td>The Eye of the Beholder</td>\n",
       "      <td>November 11, 1960</td>\n",
       "      <td>the twilight zone season two `` the eye of the...</td>\n",
       "    </tr>\n",
       "    <tr>\n",
       "      <th>8</th>\n",
       "      <td>Twilight Zone</td>\n",
       "      <td>The Howling Man</td>\n",
       "      <td>November 4, 1960</td>\n",
       "      <td>the twilight zone `` the howling man '' writte...</td>\n",
       "    </tr>\n",
       "    <tr>\n",
       "      <th>9</th>\n",
       "      <td>Twilight Zone</td>\n",
       "      <td>The Lonely</td>\n",
       "      <td>November 13, 1959</td>\n",
       "      <td>107 : `` the lonely '' written by rod serling ...</td>\n",
       "    </tr>\n",
       "    <tr>\n",
       "      <th>10</th>\n",
       "      <td>Twilight Zone</td>\n",
       "      <td>The Monsters Are Due on Maple Street</td>\n",
       "      <td>March 4, 1960</td>\n",
       "      <td>`` the monsters are due on maple street '' by ...</td>\n",
       "    </tr>\n",
       "    <tr>\n",
       "      <th>11</th>\n",
       "      <td>Twilight Zone</td>\n",
       "      <td>Time Enough at Last</td>\n",
       "      <td>November 20, 1959</td>\n",
       "      <td>tee twilight zone season one `` time enough at...</td>\n",
       "    </tr>\n",
       "    <tr>\n",
       "      <th>12</th>\n",
       "      <td>Twilight Zone</td>\n",
       "      <td>To Serve Man</td>\n",
       "      <td>March 2, 1962</td>\n",
       "      <td>the twilight zone season three `` to serve man...</td>\n",
       "    </tr>\n",
       "    <tr>\n",
       "      <th>13</th>\n",
       "      <td>Twilight Zone</td>\n",
       "      <td>Walking Distance</td>\n",
       "      <td>October 30, 1959</td>\n",
       "      <td>the twilight zone season one `` walking distan...</td>\n",
       "    </tr>\n",
       "    <tr>\n",
       "      <th>14</th>\n",
       "      <td>Twilight Zone</td>\n",
       "      <td>Where is Everybody</td>\n",
       "      <td>October 2, 1959</td>\n",
       "      <td>1 : `` where is everybody ? '' written by rod ...</td>\n",
       "    </tr>\n",
       "    <tr>\n",
       "      <th>15</th>\n",
       "      <td>Twilight Zone</td>\n",
       "      <td>Will the Real Martian Please Stand Up</td>\n",
       "      <td>May 26, 1961</td>\n",
       "      <td>the twilight zone will the real martian please...</td>\n",
       "    </tr>\n",
       "  </tbody>\n",
       "</table>\n",
       "</div>"
      ],
      "text/plain": [
       "           Source                                  Title               Date  \\\n",
       "0   Twilight Zone                   A Stop at Willoughby        May 6, 1960   \n",
       "1   Twilight Zone                       It's a Good Life   November 3, 1961   \n",
       "2   Twilight Zone                           Nick of Time  November 18, 1960   \n",
       "3   Twilight Zone                Nightmare At 20000 Feet   October 11, 1963   \n",
       "4   Twilight Zone                    Nothing in the Dark    January 5, 1962   \n",
       "5   Twilight Zone                     One for the Angels    October 9, 1959   \n",
       "6   Twilight Zone                        The After Hours      June 10, 1960   \n",
       "7   Twilight Zone                The Eye of the Beholder  November 11, 1960   \n",
       "8   Twilight Zone                        The Howling Man   November 4, 1960   \n",
       "9   Twilight Zone                             The Lonely  November 13, 1959   \n",
       "10  Twilight Zone   The Monsters Are Due on Maple Street      March 4, 1960   \n",
       "11  Twilight Zone                    Time Enough at Last  November 20, 1959   \n",
       "12  Twilight Zone                           To Serve Man      March 2, 1962   \n",
       "13  Twilight Zone                       Walking Distance   October 30, 1959   \n",
       "14  Twilight Zone                     Where is Everybody    October 2, 1959   \n",
       "15  Twilight Zone  Will the Real Martian Please Stand Up       May 26, 1961   \n",
       "\n",
       "                                                 Text  \n",
       "0   1. int . conference room [ day ] this is a big...  \n",
       "1   the twilight zone season three `` it is a good...  \n",
       "2   the twilight zone `` the nick of time '' writt...  \n",
       "3   the twilight zone episode 503 : `` nightmare a...  \n",
       "4   the twilight zone `` nothing in the dark '' wr...  \n",
       "5   102 : `` one for the angels '' written by rod ...  \n",
       "6   the twilight zone season one `` the after hour...  \n",
       "7   the twilight zone season two `` the eye of the...  \n",
       "8   the twilight zone `` the howling man '' writte...  \n",
       "9   107 : `` the lonely '' written by rod serling ...  \n",
       "10  `` the monsters are due on maple street '' by ...  \n",
       "11  tee twilight zone season one `` time enough at...  \n",
       "12  the twilight zone season three `` to serve man...  \n",
       "13  the twilight zone season one `` walking distan...  \n",
       "14  1 : `` where is everybody ? '' written by rod ...  \n",
       "15  the twilight zone will the real martian please...  "
      ]
     },
     "execution_count": 19,
     "metadata": {},
     "output_type": "execute_result"
    }
   ],
   "source": [
    "tz_sa_test = pd.read_csv(dir + r'\\twilightzone\\twilightzone.csv', sep='|', index_col=0)\n",
    "tz_sa_test"
   ]
  },
  {
   "cell_type": "code",
   "execution_count": null,
   "metadata": {
    "pycharm": {
     "is_executing": false,
     "metadata": false,
     "name": "#%%\n"
    }
   },
   "outputs": [],
   "source": [
    "titles = tz_sa_test['Title']\n",
    "epis = tz_sa_test['Text']\n",
    "tzsa = saf.sentiment_analysis(dir + r'\\named_entities_all\\named_entity_tz.txt')\n",
    "tzsa_dict = dict()\n",
    "\n",
    "for i,g in enumerate(epis):\n",
    "    tzsa_dict[titles[i]] = tzsa.story_analysis(g)"
   ]
  },
  {
   "cell_type": "code",
   "execution_count": null,
   "metadata": {
    "pycharm": {
     "metadata": false,
     "name": "#%%\n"
    },
    "scrolled": true
   },
   "outputs": [],
   "source": [
    "tzsa_dict.get('A Stop at Willoughby')[1].plot(y='polarity', use_index=True)"
   ]
  },
  {
   "cell_type": "code",
   "execution_count": null,
   "metadata": {},
   "outputs": [],
   "source": [
    "avg_polarity_epi = list()\n",
    "for entry in tzsa_dict:\n",
    "    avg_polarity_epi.append(tzsa_dict.get(entry)[1]['polarity'].mean(axis=0))\n",
    "plt.plot(range(0,16),avg_polarity_epi)"
   ]
  },
  {
   "cell_type": "code",
   "execution_count": null,
   "metadata": {},
   "outputs": [],
   "source": [
    "avg_polarity_epi_bg = list()\n",
    "for entry in tzsa_dict:\n",
    "    avg_polarity_epi_bg.append(tzsa_dict.get(entry)[0]['polarity'].mean(axis=0))\n",
    "plt.plot(range(0,16),avg_polarity_epi_bg)"
   ]
  },
  {
   "cell_type": "code",
   "execution_count": null,
   "metadata": {},
   "outputs": [],
   "source": []
  }
 ],
 "metadata": {
  "kernelspec": {
   "display_name": "Python 3",
   "language": "python",
   "name": "python3"
  },
  "language_info": {
   "codemirror_mode": {
    "name": "ipython",
    "version": 3
   },
   "file_extension": ".py",
   "mimetype": "text/x-python",
   "name": "python",
   "nbconvert_exporter": "python",
   "pygments_lexer": "ipython3",
   "version": "3.6.8"
  }
 },
 "nbformat": 4,
 "nbformat_minor": 1
}
