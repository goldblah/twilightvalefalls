{
  "cells": [
    {
      "cell_type": "markdown",
      "metadata": {
        "pycharm": {}
      },
      "source": [
        "# Textblob Sentiment Analysis on R. Goldblatt Short Stories"
      ]
    },
    {
      "cell_type": "code",
      "execution_count": 1,
      "metadata": {
        "ExecuteTime": {
          "end_time": "2019-03-01T12:09:10.315571Z",
          "start_time": "2019-03-01T12:08:55.881929Z"
        },
        "pycharm": {
          "is_executing": false
        }
      },
      "outputs": [],
      "source": [
        "import textblob\n",
        "import pandas as pd\n",
        "import numpy as np\n",
        "from textblob.tokenizers import WordTokenizer, SentenceTokenizer"
      ]
    },
    {
      "cell_type": "code",
      "execution_count": 2,
      "metadata": {
        "ExecuteTime": {
          "end_time": "2019-03-01T12:09:10.352505Z",
          "start_time": "2019-03-01T12:09:10.336561Z"
        },
        "pycharm": {
          "is_executing": false
        }
      },
      "outputs": [],
      "source": "abbrev \u003d [\u0027CC\u0027,\u0027CD\u0027,\u0027DT\u0027,\u0027EX\u0027,\u0027FW\u0027,\u0027IN\u0027,\u0027JJ\u0027,\u0027JJR\u0027,\u0027JJS\u0027,\u0027LS\u0027,\u0027MD\u0027,\u0027NN\u0027,\u0027NNS\u0027,\u0027NNP\u0027,\u0027NNPS\u0027,\u0027PDT\u0027,\u0027POS\u0027,\u0027PRP\u0027,\u0027PRP$\u0027,\u0027RB\u0027,\u0027RBR\u0027,\u0027RBS\u0027,\u0027RP\u0027,\u0027SYM\u0027,\u0027TO\u0027,\u0027UH\u0027,\u0027VB\u0027,\u0027VBD\u0027,\u0027VBG\u0027,\u0027VBN\u0027,\u0027VBP\u0027,\u0027VBZ\u0027,\u0027WDT\u0027,\u0027WP\u0027,\u0027WP$\u0027,\u0027WRB\u0027]\ndefinition \u003d [\u0027Coordinating conjunction\u0027,\u0027Cardinal number\u0027,\u0027Determiner\u0027,\u0027Existential there\u0027,\u0027Foreign word\u0027,\u0027Preposition or subordinating conjunction\u0027,\u0027Adjective\u0027,\u0027Adjective, comparative\u0027,\u0027Adjective, superlative\u0027,\u0027List item marker\u0027,\u0027Modal\u0027,\u0027Noun, singular or mass\u0027,\u0027Noun, plural\u0027,\u0027Proper noun, singular\u0027,\u0027Proper noun, plural\u0027,\u0027Predeterminer\u0027,\u0027Possessive ending\u0027,\u0027Personal pronoun\u0027,\u0027Possessive pronoun\u0027,\u0027Adverb\u0027,\u0027Adverb, comparative\u0027,\u0027Adverb, superlative\u0027,\u0027Particle\u0027,\u0027Symbol\u0027,\u0027to\u0027,\u0027Interjection\u0027,\u0027Verb, base form\u0027,\u0027Verb, past tense\u0027,\u0027Verb, gerund or present participle\u0027,\u0027Verb, past participle\u0027,\u0027Verb, non-3rd person singular present\u0027,\u0027Verb, 3rd person singular present\u0027,\u0027Wh-determiner\u0027,\u0027Wh-pronoun\u0027,\u0027Possessive wh-pronoun\u0027,\u0027Wh-adverb\u0027]\n\nppos \u003d pd.DataFrame({\n    \u0027abbrev\u0027: abbrev,\n    \u0027definition\u0027: definition\n})"
    },
    {
      "cell_type": "code",
      "execution_count": 3,
      "metadata": {
        "ExecuteTime": {
          "end_time": "2019-03-01T12:09:10.407067Z",
          "start_time": "2019-03-01T12:09:10.385588Z"
        },
        "pycharm": {}
      },
      "outputs": [],
      "source": [
        "def story_analysis(file, word_info_output, sentence_output, noun_phrase_output):\n",
        "    \u0027\u0027\u0027\n",
        "    story_analysis uses textblob to run basic nlp sentiment analysis on a text file. The\n",
        "    function returns 3 pandas dataframes containing some basic nlp information on the\n",
        "    story, broken up by word and sentence. The third dataframe is a list of the noun \n",
        "    phrases that occur in the story.\n",
        "    \n",
        "    It takes in:\n",
        "        -a file object: pass a string containing the filename and location\n",
        "        -an empty dataframe to build the word_info_output table in\n",
        "        -an empty dataframe to build the sentence_output table in\n",
        "        -an empty dataframe to build the noun_phrase_output table in\n",
        "    \u0027\u0027\u0027\n",
        "    wt \u003d WordTokenizer()\n",
        "    st \u003d SentenceTokenizer()\n",
        "\n",
        "    with open(file, \u0027r\u0027) as myfile:\n",
        "        story \u003d myfile.read().replace(\u0027\\n\u0027, \u0027 \u0027)\n",
        "    \n",
        "    pos \u003d list()\n",
        "    np \u003d list()\n",
        "    word \u003d list()\n",
        "    part \u003d list()\n",
        "    polarity_w \u003d list()\n",
        "    subjectivity_w \u003d list()\n",
        "    sentences \u003d list()\n",
        "    sentences_tags \u003d list()\n",
        "    sentences_np \u003d list()\n",
        "    pos_sentence \u003d list()\n",
        "    polarity_s \u003d list()\n",
        "    subjectivity_s \u003d list()\n",
        "\n",
        "    story_blob \u003d textblob.TextBlob(story, tokenizer\u003dwt)\n",
        "    pos.append(story_blob.tags)\n",
        "    np.append(story_blob.noun_phrases)\n",
        "\n",
        "    pos \u003d [j for i in pos for j in i]\n",
        "    np \u003d [j for i in np for j in i]\n",
        "\n",
        "    for p in pos:\n",
        "        word.append(p[0])\n",
        "        part.append(p[1])\n",
        "        word_blob \u003d textblob.TextBlob(p[0])\n",
        "        polarity_w.append(word_blob.sentiment.polarity)\n",
        "        subjectivity_w.append(word_blob.sentiment.subjectivity)\n",
        "        \n",
        "    word_info_output \u003d pd.DataFrame(\n",
        "    {\u0027word\u0027: word,\n",
        "     \u0027part\u0027: part,\n",
        "     \u0027polarity\u0027: polarity_w,\n",
        "     \u0027subjectivity\u0027:subjectivity_w\n",
        "    })\n",
        "\n",
        "    noun_phrase_output \u003d pd.DataFrame({\n",
        "        \u0027noun_phrase\u0027:np\n",
        "    })\n",
        "    \n",
        "    word_info_output \u003d word_info_output.merge(ppos,how\u003d\u0027left\u0027,left_on\u003d\u0027part\u0027,right_on\u003d\u0027abbrev\u0027)\n",
        "    word_info_output \u003d word_info_output.drop(columns\u003d\u0027abbrev\u0027)\n",
        "   \n",
        "    all_sentences \u003d story_blob.sentences\n",
        "\n",
        "    for sentence in all_sentences:\n",
        "        sentences.append(str(sentence))\n",
        "        sentences_blob \u003d textblob.TextBlob(str(sentence))\n",
        "        polarity_s.append(sentences_blob.sentiment.polarity)\n",
        "        subjectivity_s.append(sentences_blob.sentiment.subjectivity)\n",
        "        sentences_tags.append(sentences_blob.tags),\n",
        "        sentences_np.append(sentences_blob.noun_phrases)\n",
        "\n",
        "    for i in sentences_tags:\n",
        "        temp_sentence \u003d \u0027\u0027\n",
        "        for j in range(len(i)):\n",
        "            temp_sentence +\u003d i[j][1] + \u0027 \u0027\n",
        "        pos_sentence.append(temp_sentence.strip())\n",
        "\n",
        "    sentence_output \u003d pd.DataFrame({\n",
        "        \u0027sentences\u0027: sentences,\n",
        "        \u0027polarity\u0027: polarity_s,\n",
        "        \u0027subjectivity\u0027: subjectivity_s,\n",
        "        \u0027pos_sentence\u0027: pos_sentence\n",
        "    })\n",
        "\n",
        "    return (word_info_output,sentence_output,noun_phrase_output)\n",
        "    "
      ]
    },
    {
      "cell_type": "markdown",
      "metadata": {
        "pycharm": {}
      },
      "source": [
        "## SRVR Text Analysis"
      ]
    },
    {
      "cell_type": "code",
      "execution_count": 4,
      "metadata": {
        "ExecuteTime": {
          "end_time": "2019-03-01T12:09:17.599530Z",
          "start_time": "2019-03-01T12:09:10.427657Z"
        },
        "pycharm": {}
      },
      "outputs": [],
      "source": [
        "srvr_word_info, srvr_sentence, srvr_noun_phrase \u003d story_analysis(\u0027Final Portfolio.txt\u0027, \n",
        "                                                                 pd.DataFrame(), pd.DataFrame(), pd.DataFrame())"
      ]
    },
    {
      "cell_type": "markdown",
      "metadata": {
        "pycharm": {}
      },
      "source": [
        "### SRVR Word and Sentence Info Breakdown"
      ]
    },
    {
      "cell_type": "code",
      "execution_count": 5,
      "metadata": {
        "ExecuteTime": {
          "end_time": "2019-03-01T12:09:17.707926Z",
          "start_time": "2019-03-01T12:09:17.646164Z"
        },
        "scrolled": true,
        "pycharm": {}
      },
      "outputs": [
        {
          "data": {
            "text/html": [
              "\u003cdiv\u003e\n",
              "\u003cstyle scoped\u003e\n",
              "    .dataframe tbody tr th:only-of-type {\n",
              "        vertical-align: middle;\n",
              "    }\n",
              "\n",
              "    .dataframe tbody tr th {\n",
              "        vertical-align: top;\n",
              "    }\n",
              "\n",
              "    .dataframe thead th {\n",
              "        text-align: right;\n",
              "    }\n",
              "\u003c/style\u003e\n",
              "\u003ctable border\u003d\"1\" class\u003d\"dataframe\"\u003e\n",
              "  \u003cthead\u003e\n",
              "    \u003ctr style\u003d\"text-align: right;\"\u003e\n",
              "      \u003cth\u003e\u003c/th\u003e\n",
              "      \u003cth\u003eword\u003c/th\u003e\n",
              "      \u003cth\u003epart\u003c/th\u003e\n",
              "      \u003cth\u003epolarity\u003c/th\u003e\n",
              "      \u003cth\u003esubjectivity\u003c/th\u003e\n",
              "      \u003cth\u003edefinition\u003c/th\u003e\n",
              "    \u003c/tr\u003e\n",
              "  \u003c/thead\u003e\n",
              "  \u003ctbody\u003e\n",
              "    \u003ctr\u003e\n",
              "      \u003cth\u003e0\u003c/th\u003e\n",
              "      \u003ctd\u003eThings\u003c/td\u003e\n",
              "      \u003ctd\u003eNNS\u003c/td\u003e\n",
              "      \u003ctd\u003e0.0\u003c/td\u003e\n",
              "      \u003ctd\u003e0.0\u003c/td\u003e\n",
              "      \u003ctd\u003eNoun, plural\u003c/td\u003e\n",
              "    \u003c/tr\u003e\n",
              "    \u003ctr\u003e\n",
              "      \u003cth\u003e1\u003c/th\u003e\n",
              "      \u003ctd\u003ehad\u003c/td\u003e\n",
              "      \u003ctd\u003eVBD\u003c/td\u003e\n",
              "      \u003ctd\u003e0.0\u003c/td\u003e\n",
              "      \u003ctd\u003e0.0\u003c/td\u003e\n",
              "      \u003ctd\u003eVerb, past tense\u003c/td\u003e\n",
              "    \u003c/tr\u003e\n",
              "    \u003ctr\u003e\n",
              "      \u003cth\u003e2\u003c/th\u003e\n",
              "      \u003ctd\u003estarted\u003c/td\u003e\n",
              "      \u003ctd\u003eVBN\u003c/td\u003e\n",
              "      \u003ctd\u003e0.0\u003c/td\u003e\n",
              "      \u003ctd\u003e0.0\u003c/td\u003e\n",
              "      \u003ctd\u003eVerb, past participle\u003c/td\u003e\n",
              "    \u003c/tr\u003e\n",
              "    \u003ctr\u003e\n",
              "      \u003cth\u003e3\u003c/th\u003e\n",
              "      \u003ctd\u003eout\u003c/td\u003e\n",
              "      \u003ctd\u003eRP\u003c/td\u003e\n",
              "      \u003ctd\u003e0.0\u003c/td\u003e\n",
              "      \u003ctd\u003e0.0\u003c/td\u003e\n",
              "      \u003ctd\u003eParticle\u003c/td\u003e\n",
              "    \u003c/tr\u003e\n",
              "    \u003ctr\u003e\n",
              "      \u003cth\u003e4\u003c/th\u003e\n",
              "      \u003ctd\u003eso\u003c/td\u003e\n",
              "      \u003ctd\u003eRB\u003c/td\u003e\n",
              "      \u003ctd\u003e0.0\u003c/td\u003e\n",
              "      \u003ctd\u003e0.0\u003c/td\u003e\n",
              "      \u003ctd\u003eAdverb\u003c/td\u003e\n",
              "    \u003c/tr\u003e\n",
              "    \u003ctr\u003e\n",
              "      \u003cth\u003e5\u003c/th\u003e\n",
              "      \u003ctd\u003ewell\u003c/td\u003e\n",
              "      \u003ctd\u003eRB\u003c/td\u003e\n",
              "      \u003ctd\u003e0.0\u003c/td\u003e\n",
              "      \u003ctd\u003e0.0\u003c/td\u003e\n",
              "      \u003ctd\u003eAdverb\u003c/td\u003e\n",
              "    \u003c/tr\u003e\n",
              "    \u003ctr\u003e\n",
              "      \u003cth\u003e6\u003c/th\u003e\n",
              "      \u003ctd\u003eIs\u003c/td\u003e\n",
              "      \u003ctd\u003eVBZ\u003c/td\u003e\n",
              "      \u003ctd\u003e0.0\u003c/td\u003e\n",
              "      \u003ctd\u003e0.0\u003c/td\u003e\n",
              "      \u003ctd\u003eVerb, 3rd person singular present\u003c/td\u003e\n",
              "    \u003c/tr\u003e\n",
              "    \u003ctr\u003e\n",
              "      \u003cth\u003e7\u003c/th\u003e\n",
              "      \u003ctd\u003en\u0027t\u003c/td\u003e\n",
              "      \u003ctd\u003eRB\u003c/td\u003e\n",
              "      \u003ctd\u003e0.0\u003c/td\u003e\n",
              "      \u003ctd\u003e0.0\u003c/td\u003e\n",
              "      \u003ctd\u003eAdverb\u003c/td\u003e\n",
              "    \u003c/tr\u003e\n",
              "    \u003ctr\u003e\n",
              "      \u003cth\u003e8\u003c/th\u003e\n",
              "      \u003ctd\u003ethat\u003c/td\u003e\n",
              "      \u003ctd\u003eIN\u003c/td\u003e\n",
              "      \u003ctd\u003e0.0\u003c/td\u003e\n",
              "      \u003ctd\u003e0.0\u003c/td\u003e\n",
              "      \u003ctd\u003ePreposition or subordinating conjunction\u003c/td\u003e\n",
              "    \u003c/tr\u003e\n",
              "    \u003ctr\u003e\n",
              "      \u003cth\u003e9\u003c/th\u003e\n",
              "      \u003ctd\u003ehow\u003c/td\u003e\n",
              "      \u003ctd\u003eWRB\u003c/td\u003e\n",
              "      \u003ctd\u003e0.0\u003c/td\u003e\n",
              "      \u003ctd\u003e0.0\u003c/td\u003e\n",
              "      \u003ctd\u003eWh-adverb\u003c/td\u003e\n",
              "    \u003c/tr\u003e\n",
              "  \u003c/tbody\u003e\n",
              "\u003c/table\u003e\n",
              "\u003c/div\u003e"
            ],
            "text/plain": [
              "      word part  polarity  subjectivity  \\\n",
              "0   Things  NNS       0.0           0.0   \n",
              "1      had  VBD       0.0           0.0   \n",
              "2  started  VBN       0.0           0.0   \n",
              "3      out   RP       0.0           0.0   \n",
              "4       so   RB       0.0           0.0   \n",
              "5     well   RB       0.0           0.0   \n",
              "6       Is  VBZ       0.0           0.0   \n",
              "7      n\u0027t   RB       0.0           0.0   \n",
              "8     that   IN       0.0           0.0   \n",
              "9      how  WRB       0.0           0.0   \n",
              "\n",
              "                                 definition  \n",
              "0                              Noun, plural  \n",
              "1                          Verb, past tense  \n",
              "2                     Verb, past participle  \n",
              "3                                  Particle  \n",
              "4                                    Adverb  \n",
              "5                                    Adverb  \n",
              "6         Verb, 3rd person singular present  \n",
              "7                                    Adverb  \n",
              "8  Preposition or subordinating conjunction  \n",
              "9                                 Wh-adverb  "
            ]
          },
          "execution_count": 5,
          "metadata": {},
          "output_type": "execute_result"
        }
      ],
      "source": [
        "srvr_word_info.head(10)"
      ]
    },
    {
      "cell_type": "code",
      "execution_count": 6,
      "metadata": {
        "ExecuteTime": {
          "end_time": "2019-03-01T12:09:17.769147Z",
          "start_time": "2019-03-01T12:09:17.753971Z"
        },
        "pycharm": {}
      },
      "outputs": [
        {
          "data": {
            "text/html": [
              "\u003cdiv\u003e\n",
              "\u003cstyle scoped\u003e\n",
              "    .dataframe tbody tr th:only-of-type {\n",
              "        vertical-align: middle;\n",
              "    }\n",
              "\n",
              "    .dataframe tbody tr th {\n",
              "        vertical-align: top;\n",
              "    }\n",
              "\n",
              "    .dataframe thead th {\n",
              "        text-align: right;\n",
              "    }\n",
              "\u003c/style\u003e\n",
              "\u003ctable border\u003d\"1\" class\u003d\"dataframe\"\u003e\n",
              "  \u003cthead\u003e\n",
              "    \u003ctr style\u003d\"text-align: right;\"\u003e\n",
              "      \u003cth\u003e\u003c/th\u003e\n",
              "      \u003cth\u003esentences\u003c/th\u003e\n",
              "      \u003cth\u003epolarity\u003c/th\u003e\n",
              "      \u003cth\u003esubjectivity\u003c/th\u003e\n",
              "      \u003cth\u003epos_sentence\u003c/th\u003e\n",
              "    \u003c/tr\u003e\n",
              "  \u003c/thead\u003e\n",
              "  \u003ctbody\u003e\n",
              "    \u003ctr\u003e\n",
              "      \u003cth\u003e0\u003c/th\u003e\n",
              "      \u003ctd\u003eThings had started out so well.\u003c/td\u003e\n",
              "      \u003ctd\u003e0.000000\u003c/td\u003e\n",
              "      \u003ctd\u003e0.000000\u003c/td\u003e\n",
              "      \u003ctd\u003eNNS VBD VBN RP RB RB\u003c/td\u003e\n",
              "    \u003c/tr\u003e\n",
              "    \u003ctr\u003e\n",
              "      \u003cth\u003e1\u003c/th\u003e\n",
              "      \u003ctd\u003eIsn\u0027t that how they always start, though?\u003c/td\u003e\n",
              "      \u003ctd\u003e0.000000\u003c/td\u003e\n",
              "      \u003ctd\u003e0.000000\u003c/td\u003e\n",
              "      \u003ctd\u003eVBZ RB IN WRB PRP RB VBP RB\u003c/td\u003e\n",
              "    \u003c/tr\u003e\n",
              "    \u003ctr\u003e\n",
              "      \u003cth\u003e2\u003c/th\u003e\n",
              "      \u003ctd\u003eIt was ironic really, how quickly things could...\u003c/td\u003e\n",
              "      \u003ctd\u003e0.246667\u003c/td\u003e\n",
              "      \u003ctd\u003e0.560000\u003c/td\u003e\n",
              "      \u003ctd\u003ePRP VBD JJ RB WRB RB NNS MD VB JJ RB WRB NN VB...\u003c/td\u003e\n",
              "    \u003c/tr\u003e\n",
              "    \u003ctr\u003e\n",
              "      \u003cth\u003e3\u003c/th\u003e\n",
              "      \u003ctd\u003eThe irony was not lost on Dr. Marigold Roberts...\u003c/td\u003e\n",
              "      \u003ctd\u003e-0.300000\u003c/td\u003e\n",
              "      \u003ctd\u003e0.400000\u003c/td\u003e\n",
              "      \u003ctd\u003eDT NN VBD RB VBN IN NNP NNP NNP IN DT NN IN PR...\u003c/td\u003e\n",
              "    \u003c/tr\u003e\n",
              "    \u003ctr\u003e\n",
              "      \u003cth\u003e4\u003c/th\u003e\n",
              "      \u003ctd\u003eNormally, she would stress over the fact that ...\u003c/td\u003e\n",
              "      \u003ctd\u003e-0.283333\u003c/td\u003e\n",
              "      \u003ctd\u003e0.716667\u003c/td\u003e\n",
              "      \u003ctd\u003eRB PRP MD VB IN DT NN IN PRP VBD VBG RB VBN CC...\u003c/td\u003e\n",
              "    \u003c/tr\u003e\n",
              "    \u003ctr\u003e\n",
              "      \u003cth\u003e5\u003c/th\u003e\n",
              "      \u003ctd\u003eHe was coming for her, and she had no time to ...\u003c/td\u003e\n",
              "      \u003ctd\u003e-0.200000\u003c/td\u003e\n",
              "      \u003ctd\u003e0.000000\u003c/td\u003e\n",
              "      \u003ctd\u003ePRP VBD VBG IN PRP$ CC PRP VBD DT NN TO NN\u003c/td\u003e\n",
              "    \u003c/tr\u003e\n",
              "    \u003ctr\u003e\n",
              "      \u003cth\u003e6\u003c/th\u003e\n",
              "      \u003ctd\u003eHe, SRVR-2K16, was her greatest triumph.\u003c/td\u003e\n",
              "      \u003ctd\u003e1.000000\u003c/td\u003e\n",
              "      \u003ctd\u003e1.000000\u003c/td\u003e\n",
              "      \u003ctd\u003ePRP NNP VBD PRP$ JJS NN\u003c/td\u003e\n",
              "    \u003c/tr\u003e\n",
              "    \u003ctr\u003e\n",
              "      \u003cth\u003e7\u003c/th\u003e\n",
              "      \u003ctd\u003eHe was a breakthrough in the science of robotics.\u003c/td\u003e\n",
              "      \u003ctd\u003e0.000000\u003c/td\u003e\n",
              "      \u003ctd\u003e0.000000\u003c/td\u003e\n",
              "      \u003ctd\u003ePRP VBD DT NN IN DT NN IN NNS\u003c/td\u003e\n",
              "    \u003c/tr\u003e\n",
              "    \u003ctr\u003e\n",
              "      \u003cth\u003e8\u003c/th\u003e\n",
              "      \u003ctd\u003eThe world\u0027s first fully functioning artificial...\u003c/td\u003e\n",
              "      \u003ctd\u003e-0.116667\u003c/td\u003e\n",
              "      \u003ctd\u003e0.477778\u003c/td\u003e\n",
              "      \u003ctd\u003eDT NN POS JJ RB VBG JJ NN VBN IN DT NN WDT VBD...\u003c/td\u003e\n",
              "    \u003c/tr\u003e\n",
              "    \u003ctr\u003e\n",
              "      \u003cth\u003e9\u003c/th\u003e\n",
              "      \u003ctd\u003eSo remarkable, in fact, that he was able to fo...\u003c/td\u003e\n",
              "      \u003ctd\u003e0.416667\u003c/td\u003e\n",
              "      \u003ctd\u003e0.491667\u003c/td\u003e\n",
              "      \u003ctd\u003eRB JJ IN NN IN PRP VBD JJ TO VB DT IN PRP$ NNS...\u003c/td\u003e\n",
              "    \u003c/tr\u003e\n",
              "  \u003c/tbody\u003e\n",
              "\u003c/table\u003e\n",
              "\u003c/div\u003e"
            ],
            "text/plain": [
              "                                           sentences  polarity  subjectivity  \\\n",
              "0                    Things had started out so well.  0.000000      0.000000   \n",
              "1          Isn\u0027t that how they always start, though?  0.000000      0.000000   \n",
              "2  It was ironic really, how quickly things could...  0.246667      0.560000   \n",
              "3  The irony was not lost on Dr. Marigold Roberts... -0.300000      0.400000   \n",
              "4  Normally, she would stress over the fact that ... -0.283333      0.716667   \n",
              "5  He was coming for her, and she had no time to ... -0.200000      0.000000   \n",
              "6           He, SRVR-2K16, was her greatest triumph.  1.000000      1.000000   \n",
              "7  He was a breakthrough in the science of robotics.  0.000000      0.000000   \n",
              "8  The world\u0027s first fully functioning artificial... -0.116667      0.477778   \n",
              "9  So remarkable, in fact, that he was able to fo...  0.416667      0.491667   \n",
              "\n",
              "                                        pos_sentence  \n",
              "0                               NNS VBD VBN RP RB RB  \n",
              "1                        VBZ RB IN WRB PRP RB VBP RB  \n",
              "2  PRP VBD JJ RB WRB RB NNS MD VB JJ RB WRB NN VB...  \n",
              "3  DT NN VBD RB VBN IN NNP NNP NNP IN DT NN IN PR...  \n",
              "4  RB PRP MD VB IN DT NN IN PRP VBD VBG RB VBN CC...  \n",
              "5         PRP VBD VBG IN PRP$ CC PRP VBD DT NN TO NN  \n",
              "6                            PRP NNP VBD PRP$ JJS NN  \n",
              "7                      PRP VBD DT NN IN DT NN IN NNS  \n",
              "8  DT NN POS JJ RB VBG JJ NN VBN IN DT NN WDT VBD...  \n",
              "9  RB JJ IN NN IN PRP VBD JJ TO VB DT IN PRP$ NNS...  "
            ]
          },
          "execution_count": 6,
          "metadata": {},
          "output_type": "execute_result"
        }
      ],
      "source": [
        "srvr_sentence.head(10)"
      ]
    },
    {
      "cell_type": "code",
      "execution_count": 7,
      "metadata": {
        "ExecuteTime": {
          "end_time": "2019-03-01T12:09:17.827530Z",
          "start_time": "2019-03-01T12:09:17.814788Z"
        },
        "pycharm": {}
      },
      "outputs": [
        {
          "data": {
            "text/html": [
              "\u003cdiv\u003e\n",
              "\u003cstyle scoped\u003e\n",
              "    .dataframe tbody tr th:only-of-type {\n",
              "        vertical-align: middle;\n",
              "    }\n",
              "\n",
              "    .dataframe tbody tr th {\n",
              "        vertical-align: top;\n",
              "    }\n",
              "\n",
              "    .dataframe thead th {\n",
              "        text-align: right;\n",
              "    }\n",
              "\u003c/style\u003e\n",
              "\u003ctable border\u003d\"1\" class\u003d\"dataframe\"\u003e\n",
              "  \u003cthead\u003e\n",
              "    \u003ctr style\u003d\"text-align: right;\"\u003e\n",
              "      \u003cth\u003e\u003c/th\u003e\n",
              "      \u003cth\u003enoun_phrase\u003c/th\u003e\n",
              "    \u003c/tr\u003e\n",
              "  \u003c/thead\u003e\n",
              "  \u003ctbody\u003e\n",
              "    \u003ctr\u003e\n",
              "      \u003cth\u003e0\u003c/th\u003e\n",
              "      \u003ctd\u003emarigold roberts\u003c/td\u003e\n",
              "    \u003c/tr\u003e\n",
              "    \u003ctr\u003e\n",
              "      \u003cth\u003e1\u003c/th\u003e\n",
              "      \u003ctd\u003enormally\u003c/td\u003e\n",
              "    \u003c/tr\u003e\n",
              "    \u003ctr\u003e\n",
              "      \u003cth\u003e2\u003c/th\u003e\n",
              "      \u003ctd\u003esrvr-2k16\u003c/td\u003e\n",
              "    \u003c/tr\u003e\n",
              "    \u003ctr\u003e\n",
              "      \u003cth\u003e3\u003c/th\u003e\n",
              "      \u003ctd\u003eworld \u0027s\u003c/td\u003e\n",
              "    \u003c/tr\u003e\n",
              "    \u003ctr\u003e\n",
              "      \u003cth\u003e4\u003c/th\u003e\n",
              "      \u003ctd\u003eartificial intelligence\u003c/td\u003e\n",
              "    \u003c/tr\u003e\n",
              "    \u003ctr\u003e\n",
              "      \u003cth\u003e5\u003c/th\u003e\n",
              "      \u003ctd\u003ehuman species\u003c/td\u003e\n",
              "    \u003c/tr\u003e\n",
              "    \u003ctr\u003e\n",
              "      \u003cth\u003e6\u003c/th\u003e\n",
              "      \u003ctd\u003emedical program\u003c/td\u003e\n",
              "    \u003c/tr\u003e\n",
              "    \u003ctr\u003e\n",
              "      \u003cth\u003e7\u003c/th\u003e\n",
              "      \u003ctd\u003einitial function\u003c/td\u003e\n",
              "    \u003c/tr\u003e\n",
              "    \u003ctr\u003e\n",
              "      \u003cth\u003e8\u003c/th\u003e\n",
              "      \u003ctd\u003esensitive sensors\u003c/td\u003e\n",
              "    \u003c/tr\u003e\n",
              "    \u003ctr\u003e\n",
              "      \u003cth\u003e9\u003c/th\u003e\n",
              "      \u003ctd\u003esrvr-2k16\u003c/td\u003e\n",
              "    \u003c/tr\u003e\n",
              "  \u003c/tbody\u003e\n",
              "\u003c/table\u003e\n",
              "\u003c/div\u003e"
            ],
            "text/plain": [
              "               noun_phrase\n",
              "0         marigold roberts\n",
              "1                 normally\n",
              "2                srvr-2k16\n",
              "3                 world \u0027s\n",
              "4  artificial intelligence\n",
              "5            human species\n",
              "6          medical program\n",
              "7         initial function\n",
              "8        sensitive sensors\n",
              "9                srvr-2k16"
            ]
          },
          "execution_count": 7,
          "metadata": {},
          "output_type": "execute_result"
        }
      ],
      "source": [
        "srvr_noun_phrase.head(10)"
      ]
    },
    {
      "cell_type": "markdown",
      "metadata": {
        "pycharm": {}
      },
      "source": [
        "### SRVR Sentence and Word Sentiment Change Over Story"
      ]
    },
    {
      "cell_type": "code",
      "execution_count": 8,
      "metadata": {
        "ExecuteTime": {
          "end_time": "2019-03-01T12:09:19.175027Z",
          "start_time": "2019-03-01T12:09:17.871532Z"
        },
        "pycharm": {}
      },
      "outputs": [
        {
          "data": {
            "text/plain": [
              "\u003cmatplotlib.axes._subplots.AxesSubplot at 0x1a2801ec50\u003e"
            ]
          },
          "execution_count": 8,
          "metadata": {},
          "output_type": "execute_result"
        }
      ],
      "source": [
        "srvr_sentence.plot(y\u003d\u0027polarity\u0027, use_index\u003dTrue)"
      ]
    },
    {
      "cell_type": "code",
      "execution_count": 9,
      "metadata": {
        "ExecuteTime": {
          "end_time": "2019-03-01T12:09:19.489872Z",
          "start_time": "2019-03-01T12:09:19.231026Z"
        },
        "scrolled": true,
        "pycharm": {}
      },
      "outputs": [
        {
          "data": {
            "text/plain": [
              "\u003cmatplotlib.axes._subplots.AxesSubplot at 0x1a28079b70\u003e"
            ]
          },
          "execution_count": 9,
          "metadata": {},
          "output_type": "execute_result"
        },
        {
          "data": {
            "image/png": "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\u003d\u003d\n",
            "text/plain": [
              "\u003cFigure size 432x288 with 1 Axes\u003e"
            ]
          },
          "metadata": {
            "needs_background": "light"
          },
          "output_type": "display_data"
        }
      ],
      "source": [
        "srvr_word_info.plot(y\u003d\u0027polarity\u0027, use_index\u003dTrue)"
      ]
    },
    {
      "cell_type": "markdown",
      "metadata": {
        "pycharm": {}
      },
      "source": [
        "## The Job Text Analysis"
      ]
    },
    {
      "cell_type": "code",
      "execution_count": 10,
      "metadata": {
        "ExecuteTime": {
          "end_time": "2019-03-01T12:09:20.713648Z",
          "start_time": "2019-03-01T12:09:19.554602Z"
        },
        "pycharm": {}
      },
      "outputs": [],
      "source": [
        "the_job_word_info, the_job_sentence, the_job_noun_phrase \u003d story_analysis(\u0027the_job.txt\u0027, \n",
        "                                                                          pd.DataFrame(), pd.DataFrame(), pd.DataFrame())"
      ]
    },
    {
      "cell_type": "markdown",
      "metadata": {
        "pycharm": {}
      },
      "source": [
        "### The Job Word and Sentence Info Breakdown"
      ]
    },
    {
      "cell_type": "code",
      "execution_count": 11,
      "metadata": {
        "ExecuteTime": {
          "end_time": "2019-03-01T12:09:20.795933Z",
          "start_time": "2019-03-01T12:09:20.778660Z"
        },
        "pycharm": {}
      },
      "outputs": [
        {
          "data": {
            "text/html": [
              "\u003cdiv\u003e\n",
              "\u003cstyle scoped\u003e\n",
              "    .dataframe tbody tr th:only-of-type {\n",
              "        vertical-align: middle;\n",
              "    }\n",
              "\n",
              "    .dataframe tbody tr th {\n",
              "        vertical-align: top;\n",
              "    }\n",
              "\n",
              "    .dataframe thead th {\n",
              "        text-align: right;\n",
              "    }\n",
              "\u003c/style\u003e\n",
              "\u003ctable border\u003d\"1\" class\u003d\"dataframe\"\u003e\n",
              "  \u003cthead\u003e\n",
              "    \u003ctr style\u003d\"text-align: right;\"\u003e\n",
              "      \u003cth\u003e\u003c/th\u003e\n",
              "      \u003cth\u003eword\u003c/th\u003e\n",
              "      \u003cth\u003epart\u003c/th\u003e\n",
              "      \u003cth\u003epolarity\u003c/th\u003e\n",
              "      \u003cth\u003esubjectivity\u003c/th\u003e\n",
              "      \u003cth\u003edefinition\u003c/th\u003e\n",
              "    \u003c/tr\u003e\n",
              "  \u003c/thead\u003e\n",
              "  \u003ctbody\u003e\n",
              "    \u003ctr\u003e\n",
              "      \u003cth\u003e0\u003c/th\u003e\n",
              "      \u003ctd\u003eI\u003c/td\u003e\n",
              "      \u003ctd\u003ePRP\u003c/td\u003e\n",
              "      \u003ctd\u003e0.000000\u003c/td\u003e\n",
              "      \u003ctd\u003e0.000000\u003c/td\u003e\n",
              "      \u003ctd\u003ePersonal pronoun\u003c/td\u003e\n",
              "    \u003c/tr\u003e\n",
              "    \u003ctr\u003e\n",
              "      \u003cth\u003e1\u003c/th\u003e\n",
              "      \u003ctd\u003estared\u003c/td\u003e\n",
              "      \u003ctd\u003eVBD\u003c/td\u003e\n",
              "      \u003ctd\u003e0.000000\u003c/td\u003e\n",
              "      \u003ctd\u003e0.000000\u003c/td\u003e\n",
              "      \u003ctd\u003eVerb, past tense\u003c/td\u003e\n",
              "    \u003c/tr\u003e\n",
              "    \u003ctr\u003e\n",
              "      \u003cth\u003e2\u003c/th\u003e\n",
              "      \u003ctd\u003edown\u003c/td\u003e\n",
              "      \u003ctd\u003eRB\u003c/td\u003e\n",
              "      \u003ctd\u003e-0.155556\u003c/td\u003e\n",
              "      \u003ctd\u003e0.288889\u003c/td\u003e\n",
              "      \u003ctd\u003eAdverb\u003c/td\u003e\n",
              "    \u003c/tr\u003e\n",
              "    \u003ctr\u003e\n",
              "      \u003cth\u003e3\u003c/th\u003e\n",
              "      \u003ctd\u003eat\u003c/td\u003e\n",
              "      \u003ctd\u003eIN\u003c/td\u003e\n",
              "      \u003ctd\u003e0.000000\u003c/td\u003e\n",
              "      \u003ctd\u003e0.000000\u003c/td\u003e\n",
              "      \u003ctd\u003ePreposition or subordinating conjunction\u003c/td\u003e\n",
              "    \u003c/tr\u003e\n",
              "    \u003ctr\u003e\n",
              "      \u003cth\u003e4\u003c/th\u003e\n",
              "      \u003ctd\u003ethe\u003c/td\u003e\n",
              "      \u003ctd\u003eDT\u003c/td\u003e\n",
              "      \u003ctd\u003e0.000000\u003c/td\u003e\n",
              "      \u003ctd\u003e0.000000\u003c/td\u003e\n",
              "      \u003ctd\u003eDeterminer\u003c/td\u003e\n",
              "    \u003c/tr\u003e\n",
              "    \u003ctr\u003e\n",
              "      \u003cth\u003e5\u003c/th\u003e\n",
              "      \u003ctd\u003ecard\u003c/td\u003e\n",
              "      \u003ctd\u003eNN\u003c/td\u003e\n",
              "      \u003ctd\u003e0.000000\u003c/td\u003e\n",
              "      \u003ctd\u003e0.000000\u003c/td\u003e\n",
              "      \u003ctd\u003eNoun, singular or mass\u003c/td\u003e\n",
              "    \u003c/tr\u003e\n",
              "    \u003ctr\u003e\n",
              "      \u003cth\u003e6\u003c/th\u003e\n",
              "      \u003ctd\u003ein\u003c/td\u003e\n",
              "      \u003ctd\u003eIN\u003c/td\u003e\n",
              "      \u003ctd\u003e0.000000\u003c/td\u003e\n",
              "      \u003ctd\u003e0.000000\u003c/td\u003e\n",
              "      \u003ctd\u003ePreposition or subordinating conjunction\u003c/td\u003e\n",
              "    \u003c/tr\u003e\n",
              "    \u003ctr\u003e\n",
              "      \u003cth\u003e7\u003c/th\u003e\n",
              "      \u003ctd\u003emy\u003c/td\u003e\n",
              "      \u003ctd\u003ePRP$\u003c/td\u003e\n",
              "      \u003ctd\u003e0.000000\u003c/td\u003e\n",
              "      \u003ctd\u003e0.000000\u003c/td\u003e\n",
              "      \u003ctd\u003ePossessive pronoun\u003c/td\u003e\n",
              "    \u003c/tr\u003e\n",
              "    \u003ctr\u003e\n",
              "      \u003cth\u003e8\u003c/th\u003e\n",
              "      \u003ctd\u003elap\u003c/td\u003e\n",
              "      \u003ctd\u003eNN\u003c/td\u003e\n",
              "      \u003ctd\u003e0.000000\u003c/td\u003e\n",
              "      \u003ctd\u003e0.000000\u003c/td\u003e\n",
              "      \u003ctd\u003eNoun, singular or mass\u003c/td\u003e\n",
              "    \u003c/tr\u003e\n",
              "    \u003ctr\u003e\n",
              "      \u003cth\u003e9\u003c/th\u003e\n",
              "      \u003ctd\u003eOn\u003c/td\u003e\n",
              "      \u003ctd\u003eIN\u003c/td\u003e\n",
              "      \u003ctd\u003e0.000000\u003c/td\u003e\n",
              "      \u003ctd\u003e0.000000\u003c/td\u003e\n",
              "      \u003ctd\u003ePreposition or subordinating conjunction\u003c/td\u003e\n",
              "    \u003c/tr\u003e\n",
              "  \u003c/tbody\u003e\n",
              "\u003c/table\u003e\n",
              "\u003c/div\u003e"
            ],
            "text/plain": [
              "     word  part  polarity  subjectivity  \\\n",
              "0       I   PRP  0.000000      0.000000   \n",
              "1  stared   VBD  0.000000      0.000000   \n",
              "2    down    RB -0.155556      0.288889   \n",
              "3      at    IN  0.000000      0.000000   \n",
              "4     the    DT  0.000000      0.000000   \n",
              "5    card    NN  0.000000      0.000000   \n",
              "6      in    IN  0.000000      0.000000   \n",
              "7      my  PRP$  0.000000      0.000000   \n",
              "8     lap    NN  0.000000      0.000000   \n",
              "9      On    IN  0.000000      0.000000   \n",
              "\n",
              "                                 definition  \n",
              "0                          Personal pronoun  \n",
              "1                          Verb, past tense  \n",
              "2                                    Adverb  \n",
              "3  Preposition or subordinating conjunction  \n",
              "4                                Determiner  \n",
              "5                    Noun, singular or mass  \n",
              "6  Preposition or subordinating conjunction  \n",
              "7                        Possessive pronoun  \n",
              "8                    Noun, singular or mass  \n",
              "9  Preposition or subordinating conjunction  "
            ]
          },
          "execution_count": 11,
          "metadata": {},
          "output_type": "execute_result"
        }
      ],
      "source": [
        "the_job_word_info.head(10)"
      ]
    },
    {
      "cell_type": "code",
      "execution_count": 12,
      "metadata": {
        "ExecuteTime": {
          "end_time": "2019-03-01T12:09:20.887283Z",
          "start_time": "2019-03-01T12:09:20.871379Z"
        },
        "pycharm": {}
      },
      "outputs": [
        {
          "data": {
            "text/html": [
              "\u003cdiv\u003e\n",
              "\u003cstyle scoped\u003e\n",
              "    .dataframe tbody tr th:only-of-type {\n",
              "        vertical-align: middle;\n",
              "    }\n",
              "\n",
              "    .dataframe tbody tr th {\n",
              "        vertical-align: top;\n",
              "    }\n",
              "\n",
              "    .dataframe thead th {\n",
              "        text-align: right;\n",
              "    }\n",
              "\u003c/style\u003e\n",
              "\u003ctable border\u003d\"1\" class\u003d\"dataframe\"\u003e\n",
              "  \u003cthead\u003e\n",
              "    \u003ctr style\u003d\"text-align: right;\"\u003e\n",
              "      \u003cth\u003e\u003c/th\u003e\n",
              "      \u003cth\u003esentences\u003c/th\u003e\n",
              "      \u003cth\u003epolarity\u003c/th\u003e\n",
              "      \u003cth\u003esubjectivity\u003c/th\u003e\n",
              "      \u003cth\u003epos_sentence\u003c/th\u003e\n",
              "    \u003c/tr\u003e\n",
              "  \u003c/thead\u003e\n",
              "  \u003ctbody\u003e\n",
              "    \u003ctr\u003e\n",
              "      \u003cth\u003e0\u003c/th\u003e\n",
              "      \u003ctd\u003eI stared down at the card in my lap.\u003c/td\u003e\n",
              "      \u003ctd\u003e-0.155556\u003c/td\u003e\n",
              "      \u003ctd\u003e0.288889\u003c/td\u003e\n",
              "      \u003ctd\u003ePRP VBD RB IN DT NN IN PRP$ NN\u003c/td\u003e\n",
              "    \u003c/tr\u003e\n",
              "    \u003ctr\u003e\n",
              "      \u003cth\u003e1\u003c/th\u003e\n",
              "      \u003ctd\u003eOn the card in neat, block handwriting was a n...\u003c/td\u003e\n",
              "      \u003ctd\u003e0.000000\u003c/td\u003e\n",
              "      \u003ctd\u003e0.000000\u003c/td\u003e\n",
              "      \u003ctd\u003eIN DT NN IN NN NN NN VBD DT NN VBN IN JJ NNS\u003c/td\u003e\n",
              "    \u003c/tr\u003e\n",
              "    \u003ctr\u003e\n",
              "      \u003cth\u003e2\u003c/th\u003e\n",
              "      \u003ctd\u003eA phone number.\u003c/td\u003e\n",
              "      \u003ctd\u003e0.000000\u003c/td\u003e\n",
              "      \u003ctd\u003e0.000000\u003c/td\u003e\n",
              "      \u003ctd\u003eDT NN NN\u003c/td\u003e\n",
              "    \u003c/tr\u003e\n",
              "    \u003ctr\u003e\n",
              "      \u003cth\u003e3\u003c/th\u003e\n",
              "      \u003ctd\u003eOne I wasn’t sure I should call.\u003c/td\u003e\n",
              "      \u003ctd\u003e0.500000\u003c/td\u003e\n",
              "      \u003ctd\u003e0.888889\u003c/td\u003e\n",
              "      \u003ctd\u003eCD PRP VBP JJ JJ JJ PRP MD VB\u003c/td\u003e\n",
              "    \u003c/tr\u003e\n",
              "    \u003ctr\u003e\n",
              "      \u003cth\u003e4\u003c/th\u003e\n",
              "      \u003ctd\u003eWhen the card was first handed to me, my immed...\u003c/td\u003e\n",
              "      \u003ctd\u003e0.250000\u003c/td\u003e\n",
              "      \u003ctd\u003e0.333333\u003c/td\u003e\n",
              "      \u003ctd\u003eWRB DT NN VBD RB VBN TO PRP PRP$ JJ NN VBD TO ...\u003c/td\u003e\n",
              "    \u003c/tr\u003e\n",
              "    \u003ctr\u003e\n",
              "      \u003cth\u003e5\u003c/th\u003e\n",
              "      \u003ctd\u003eAfter all, the person who gave me the card was...\u003c/td\u003e\n",
              "      \u003ctd\u003e0.375000\u003c/td\u003e\n",
              "      \u003ctd\u003e0.625000\u003c/td\u003e\n",
              "      \u003ctd\u003eIN DT DT NN WP VBD PRP DT NN NN NNP VBZ RB IN ...\u003c/td\u003e\n",
              "    \u003c/tr\u003e\n",
              "    \u003ctr\u003e\n",
              "      \u003cth\u003e6\u003c/th\u003e\n",
              "      \u003ctd\u003eIt belonged to Miles Quinn, a former boyfriend...\u003c/td\u003e\n",
              "      \u003ctd\u003e0.000000\u003c/td\u003e\n",
              "      \u003ctd\u003e0.000000\u003c/td\u003e\n",
              "      \u003ctd\u003ePRP VBD TO NNP NNP DT JJ NN IN NN IN PRP VBP J...\u003c/td\u003e\n",
              "    \u003c/tr\u003e\n",
              "    \u003ctr\u003e\n",
              "      \u003cth\u003e7\u003c/th\u003e\n",
              "      \u003ctd\u003eThe last I had seen him, he was walking away a...\u003c/td\u003e\n",
              "      \u003ctd\u003e0.000000\u003c/td\u003e\n",
              "      \u003ctd\u003e0.066667\u003c/td\u003e\n",
              "      \u003ctd\u003eDT JJ PRP VBD VBN PRP PRP VBD VBG RB IN VBG RP...\u003c/td\u003e\n",
              "    \u003c/tr\u003e\n",
              "    \u003ctr\u003e\n",
              "      \u003cth\u003e8\u003c/th\u003e\n",
              "      \u003ctd\u003eOur breaks usually didn’t lasted long.\u003c/td\u003e\n",
              "      \u003ctd\u003e-0.150000\u003c/td\u003e\n",
              "      \u003ctd\u003e0.325000\u003c/td\u003e\n",
              "      \u003ctd\u003ePRP$ NNS RB VBP JJ NN VBD RB\u003c/td\u003e\n",
              "    \u003c/tr\u003e\n",
              "    \u003ctr\u003e\n",
              "      \u003cth\u003e9\u003c/th\u003e\n",
              "      \u003ctd\u003eWe were always drawn back together by the fami...\u003c/td\u003e\n",
              "      \u003ctd\u003e0.050000\u003c/td\u003e\n",
              "      \u003ctd\u003e0.100000\u003c/td\u003e\n",
              "      \u003ctd\u003ePRP VBD RB VBN RP RB IN DT NN CC NN IN DT JJ NN\u003c/td\u003e\n",
              "    \u003c/tr\u003e\n",
              "  \u003c/tbody\u003e\n",
              "\u003c/table\u003e\n",
              "\u003c/div\u003e"
            ],
            "text/plain": [
              "                                           sentences  polarity  subjectivity  \\\n",
              "0               I stared down at the card in my lap. -0.155556      0.288889   \n",
              "1  On the card in neat, block handwriting was a n...  0.000000      0.000000   \n",
              "2                                    A phone number.  0.000000      0.000000   \n",
              "3                   One I wasn’t sure I should call.  0.500000      0.888889   \n",
              "4  When the card was first handed to me, my immed...  0.250000      0.333333   \n",
              "5  After all, the person who gave me the card was...  0.375000      0.625000   \n",
              "6  It belonged to Miles Quinn, a former boyfriend...  0.000000      0.000000   \n",
              "7  The last I had seen him, he was walking away a...  0.000000      0.066667   \n",
              "8             Our breaks usually didn’t lasted long. -0.150000      0.325000   \n",
              "9  We were always drawn back together by the fami...  0.050000      0.100000   \n",
              "\n",
              "                                        pos_sentence  \n",
              "0                     PRP VBD RB IN DT NN IN PRP$ NN  \n",
              "1       IN DT NN IN NN NN NN VBD DT NN VBN IN JJ NNS  \n",
              "2                                           DT NN NN  \n",
              "3                      CD PRP VBP JJ JJ JJ PRP MD VB  \n",
              "4  WRB DT NN VBD RB VBN TO PRP PRP$ JJ NN VBD TO ...  \n",
              "5  IN DT DT NN WP VBD PRP DT NN NN NNP VBZ RB IN ...  \n",
              "6  PRP VBD TO NNP NNP DT JJ NN IN NN IN PRP VBP J...  \n",
              "7  DT JJ PRP VBD VBN PRP PRP VBD VBG RB IN VBG RP...  \n",
              "8                       PRP$ NNS RB VBP JJ NN VBD RB  \n",
              "9    PRP VBD RB VBN RP RB IN DT NN CC NN IN DT JJ NN  "
            ]
          },
          "execution_count": 12,
          "metadata": {},
          "output_type": "execute_result"
        }
      ],
      "source": [
        "the_job_sentence.head(10)"
      ]
    },
    {
      "cell_type": "code",
      "execution_count": 13,
      "metadata": {
        "ExecuteTime": {
          "end_time": "2019-03-01T12:09:20.970591Z",
          "start_time": "2019-03-01T12:09:20.958739Z"
        },
        "pycharm": {}
      },
      "outputs": [
        {
          "data": {
            "text/html": [
              "\u003cdiv\u003e\n",
              "\u003cstyle scoped\u003e\n",
              "    .dataframe tbody tr th:only-of-type {\n",
              "        vertical-align: middle;\n",
              "    }\n",
              "\n",
              "    .dataframe tbody tr th {\n",
              "        vertical-align: top;\n",
              "    }\n",
              "\n",
              "    .dataframe thead th {\n",
              "        text-align: right;\n",
              "    }\n",
              "\u003c/style\u003e\n",
              "\u003ctable border\u003d\"1\" class\u003d\"dataframe\"\u003e\n",
              "  \u003cthead\u003e\n",
              "    \u003ctr style\u003d\"text-align: right;\"\u003e\n",
              "      \u003cth\u003e\u003c/th\u003e\n",
              "      \u003cth\u003enoun_phrase\u003c/th\u003e\n",
              "    \u003c/tr\u003e\n",
              "  \u003c/thead\u003e\n",
              "  \u003ctbody\u003e\n",
              "    \u003ctr\u003e\n",
              "      \u003cth\u003e0\u003c/th\u003e\n",
              "      \u003ctd\u003eblock handwriting\u003c/td\u003e\n",
              "    \u003c/tr\u003e\n",
              "    \u003ctr\u003e\n",
              "      \u003cth\u003e1\u003c/th\u003e\n",
              "      \u003ctd\u003ephone number\u003c/td\u003e\n",
              "    \u003c/tr\u003e\n",
              "    \u003ctr\u003e\n",
              "      \u003cth\u003e2\u003c/th\u003e\n",
              "      \u003ctd\u003ewasn ’ t\u003c/td\u003e\n",
              "    \u003c/tr\u003e\n",
              "    \u003ctr\u003e\n",
              "      \u003cth\u003e3\u003c/th\u003e\n",
              "      \u003ctd\u003eimmediate reaction\u003c/td\u003e\n",
              "    \u003c/tr\u003e\n",
              "    \u003ctr\u003e\n",
              "      \u003cth\u003e4\u003c/th\u003e\n",
              "      \u003ctd\u003ecard wasn ’ t\u003c/td\u003e\n",
              "    \u003c/tr\u003e\n",
              "    \u003ctr\u003e\n",
              "      \u003cth\u003e5\u003c/th\u003e\n",
              "      \u003ctd\u003eall-time favorite people\u003c/td\u003e\n",
              "    \u003c/tr\u003e\n",
              "    \u003ctr\u003e\n",
              "      \u003cth\u003e6\u003c/th\u003e\n",
              "      \u003ctd\u003emiles quinn\u003c/td\u003e\n",
              "    \u003c/tr\u003e\n",
              "    \u003ctr\u003e\n",
              "      \u003cth\u003e7\u003c/th\u003e\n",
              "      \u003ctd\u003ehaven ’ t\u003c/td\u003e\n",
              "    \u003c/tr\u003e\n",
              "    \u003ctr\u003e\n",
              "      \u003cth\u003e8\u003c/th\u003e\n",
              "      \u003ctd\u003enth time\u003c/td\u003e\n",
              "    \u003c/tr\u003e\n",
              "    \u003ctr\u003e\n",
              "      \u003cth\u003e9\u003c/th\u003e\n",
              "      \u003ctd\u003edidn ’ t\u003c/td\u003e\n",
              "    \u003c/tr\u003e\n",
              "  \u003c/tbody\u003e\n",
              "\u003c/table\u003e\n",
              "\u003c/div\u003e"
            ],
            "text/plain": [
              "                noun_phrase\n",
              "0         block handwriting\n",
              "1              phone number\n",
              "2                  wasn ’ t\n",
              "3        immediate reaction\n",
              "4             card wasn ’ t\n",
              "5  all-time favorite people\n",
              "6               miles quinn\n",
              "7                 haven ’ t\n",
              "8                  nth time\n",
              "9                  didn ’ t"
            ]
          },
          "execution_count": 13,
          "metadata": {},
          "output_type": "execute_result"
        }
      ],
      "source": [
        "the_job_noun_phrase.head(10)"
      ]
    },
    {
      "cell_type": "markdown",
      "metadata": {
        "pycharm": {}
      },
      "source": [
        "### The Job Sentence and Word Sentiment Change Over Story"
      ]
    },
    {
      "cell_type": "code",
      "execution_count": 14,
      "metadata": {
        "ExecuteTime": {
          "end_time": "2019-03-01T12:09:21.339491Z",
          "start_time": "2019-03-01T12:09:21.044307Z"
        },
        "pycharm": {}
      },
      "outputs": [
        {
          "data": {
            "text/plain": [
              "\u003cmatplotlib.axes._subplots.AxesSubplot at 0x1a28005e48\u003e"
            ]
          },
          "execution_count": 14,
          "metadata": {},
          "output_type": "execute_result"
        },
        {
          "data": {
            "image/png": "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\u003d\n",
            "text/plain": [
              "\u003cFigure size 432x288 with 1 Axes\u003e"
            ]
          },
          "metadata": {
            "needs_background": "light"
          },
          "output_type": "display_data"
        }
      ],
      "source": [
        "the_job_sentence.plot(y\u003d\u0027polarity\u0027, use_index\u003dTrue)"
      ]
    },
    {
      "cell_type": "code",
      "execution_count": 15,
      "metadata": {
        "ExecuteTime": {
          "end_time": "2019-03-01T12:09:21.746269Z",
          "start_time": "2019-03-01T12:09:21.416628Z"
        },
        "pycharm": {}
      },
      "outputs": [
        {
          "data": {
            "text/plain": [
              "\u003cmatplotlib.axes._subplots.AxesSubplot at 0x1a27b0e860\u003e"
            ]
          },
          "execution_count": 15,
          "metadata": {},
          "output_type": "execute_result"
        },
        {
          "data": {
            "image/png": "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\u003d\n",
            "text/plain": [
              "\u003cFigure size 432x288 with 1 Axes\u003e"
            ]
          },
          "metadata": {
            "needs_background": "light"
          },
          "output_type": "display_data"
        }
      ],
      "source": [
        "the_job_word_info.plot(y\u003d\u0027polarity\u0027, use_index\u003dTrue)"
      ]
    },
    {
      "cell_type": "markdown",
      "metadata": {
        "pycharm": {}
      },
      "source": [
        "## After Life Text Analysis"
      ]
    },
    {
      "cell_type": "code",
      "execution_count": 16,
      "metadata": {
        "ExecuteTime": {
          "end_time": "2019-03-01T12:09:22.943292Z",
          "start_time": "2019-03-01T12:09:21.825883Z"
        },
        "pycharm": {}
      },
      "outputs": [],
      "source": [
        "after_life_word_info, after_life_sentence, after_life_noun_phrase \u003d story_analysis(\u0027after_life.txt\u0027, \n",
        "                                                                                   pd.DataFrame(), pd.DataFrame(), pd.DataFrame())"
      ]
    },
    {
      "cell_type": "markdown",
      "metadata": {
        "pycharm": {}
      },
      "source": [
        "### After Life Word and Sentence Info Breakdown"
      ]
    },
    {
      "cell_type": "code",
      "execution_count": 17,
      "metadata": {
        "ExecuteTime": {
          "end_time": "2019-03-01T12:09:23.062393Z",
          "start_time": "2019-03-01T12:09:23.045215Z"
        },
        "pycharm": {}
      },
      "outputs": [
        {
          "data": {
            "text/html": [
              "\u003cdiv\u003e\n",
              "\u003cstyle scoped\u003e\n",
              "    .dataframe tbody tr th:only-of-type {\n",
              "        vertical-align: middle;\n",
              "    }\n",
              "\n",
              "    .dataframe tbody tr th {\n",
              "        vertical-align: top;\n",
              "    }\n",
              "\n",
              "    .dataframe thead th {\n",
              "        text-align: right;\n",
              "    }\n",
              "\u003c/style\u003e\n",
              "\u003ctable border\u003d\"1\" class\u003d\"dataframe\"\u003e\n",
              "  \u003cthead\u003e\n",
              "    \u003ctr style\u003d\"text-align: right;\"\u003e\n",
              "      \u003cth\u003e\u003c/th\u003e\n",
              "      \u003cth\u003eword\u003c/th\u003e\n",
              "      \u003cth\u003epart\u003c/th\u003e\n",
              "      \u003cth\u003epolarity\u003c/th\u003e\n",
              "      \u003cth\u003esubjectivity\u003c/th\u003e\n",
              "      \u003cth\u003edefinition\u003c/th\u003e\n",
              "    \u003c/tr\u003e\n",
              "  \u003c/thead\u003e\n",
              "  \u003ctbody\u003e\n",
              "    \u003ctr\u003e\n",
              "      \u003cth\u003e0\u003c/th\u003e\n",
              "      \u003ctd\u003eDeath\u003c/td\u003e\n",
              "      \u003ctd\u003eNN\u003c/td\u003e\n",
              "      \u003ctd\u003e0.0\u003c/td\u003e\n",
              "      \u003ctd\u003e0.0\u003c/td\u003e\n",
              "      \u003ctd\u003eNoun, singular or mass\u003c/td\u003e\n",
              "    \u003c/tr\u003e\n",
              "    \u003ctr\u003e\n",
              "      \u003cth\u003e1\u003c/th\u003e\n",
              "      \u003ctd\u003elooked\u003c/td\u003e\n",
              "      \u003ctd\u003eVBD\u003c/td\u003e\n",
              "      \u003ctd\u003e0.0\u003c/td\u003e\n",
              "      \u003ctd\u003e0.0\u003c/td\u003e\n",
              "      \u003ctd\u003eVerb, past tense\u003c/td\u003e\n",
              "    \u003c/tr\u003e\n",
              "    \u003ctr\u003e\n",
              "      \u003cth\u003e2\u003c/th\u003e\n",
              "      \u003ctd\u003ethrough\u003c/td\u003e\n",
              "      \u003ctd\u003eIN\u003c/td\u003e\n",
              "      \u003ctd\u003e0.0\u003c/td\u003e\n",
              "      \u003ctd\u003e0.0\u003c/td\u003e\n",
              "      \u003ctd\u003ePreposition or subordinating conjunction\u003c/td\u003e\n",
              "    \u003c/tr\u003e\n",
              "    \u003ctr\u003e\n",
              "      \u003cth\u003e3\u003c/th\u003e\n",
              "      \u003ctd\u003ethe\u003c/td\u003e\n",
              "      \u003ctd\u003eDT\u003c/td\u003e\n",
              "      \u003ctd\u003e0.0\u003c/td\u003e\n",
              "      \u003ctd\u003e0.0\u003c/td\u003e\n",
              "      \u003ctd\u003eDeterminer\u003c/td\u003e\n",
              "    \u003c/tr\u003e\n",
              "    \u003ctr\u003e\n",
              "      \u003cth\u003e4\u003c/th\u003e\n",
              "      \u003ctd\u003eeye\u003c/td\u003e\n",
              "      \u003ctd\u003eNN\u003c/td\u003e\n",
              "      \u003ctd\u003e0.0\u003c/td\u003e\n",
              "      \u003ctd\u003e0.0\u003c/td\u003e\n",
              "      \u003ctd\u003eNoun, singular or mass\u003c/td\u003e\n",
              "    \u003c/tr\u003e\n",
              "    \u003ctr\u003e\n",
              "      \u003cth\u003e5\u003c/th\u003e\n",
              "      \u003ctd\u003esockets\u003c/td\u003e\n",
              "      \u003ctd\u003eNNS\u003c/td\u003e\n",
              "      \u003ctd\u003e0.0\u003c/td\u003e\n",
              "      \u003ctd\u003e0.0\u003c/td\u003e\n",
              "      \u003ctd\u003eNoun, plural\u003c/td\u003e\n",
              "    \u003c/tr\u003e\n",
              "    \u003ctr\u003e\n",
              "      \u003cth\u003e6\u003c/th\u003e\n",
              "      \u003ctd\u003ein\u003c/td\u003e\n",
              "      \u003ctd\u003eIN\u003c/td\u003e\n",
              "      \u003ctd\u003e0.0\u003c/td\u003e\n",
              "      \u003ctd\u003e0.0\u003c/td\u003e\n",
              "      \u003ctd\u003ePreposition or subordinating conjunction\u003c/td\u003e\n",
              "    \u003c/tr\u003e\n",
              "    \u003ctr\u003e\n",
              "      \u003cth\u003e7\u003c/th\u003e\n",
              "      \u003ctd\u003ehis\u003c/td\u003e\n",
              "      \u003ctd\u003ePRP$\u003c/td\u003e\n",
              "      \u003ctd\u003e0.0\u003c/td\u003e\n",
              "      \u003ctd\u003e0.0\u003c/td\u003e\n",
              "      \u003ctd\u003ePossessive pronoun\u003c/td\u003e\n",
              "    \u003c/tr\u003e\n",
              "    \u003ctr\u003e\n",
              "      \u003cth\u003e8\u003c/th\u003e\n",
              "      \u003ctd\u003eskull\u003c/td\u003e\n",
              "      \u003ctd\u003eNN\u003c/td\u003e\n",
              "      \u003ctd\u003e0.0\u003c/td\u003e\n",
              "      \u003ctd\u003e0.0\u003c/td\u003e\n",
              "      \u003ctd\u003eNoun, singular or mass\u003c/td\u003e\n",
              "    \u003c/tr\u003e\n",
              "    \u003ctr\u003e\n",
              "      \u003cth\u003e9\u003c/th\u003e\n",
              "      \u003ctd\u003eat\u003c/td\u003e\n",
              "      \u003ctd\u003eIN\u003c/td\u003e\n",
              "      \u003ctd\u003e0.0\u003c/td\u003e\n",
              "      \u003ctd\u003e0.0\u003c/td\u003e\n",
              "      \u003ctd\u003ePreposition or subordinating conjunction\u003c/td\u003e\n",
              "    \u003c/tr\u003e\n",
              "  \u003c/tbody\u003e\n",
              "\u003c/table\u003e\n",
              "\u003c/div\u003e"
            ],
            "text/plain": [
              "      word  part  polarity  subjectivity  \\\n",
              "0    Death    NN       0.0           0.0   \n",
              "1   looked   VBD       0.0           0.0   \n",
              "2  through    IN       0.0           0.0   \n",
              "3      the    DT       0.0           0.0   \n",
              "4      eye    NN       0.0           0.0   \n",
              "5  sockets   NNS       0.0           0.0   \n",
              "6       in    IN       0.0           0.0   \n",
              "7      his  PRP$       0.0           0.0   \n",
              "8    skull    NN       0.0           0.0   \n",
              "9       at    IN       0.0           0.0   \n",
              "\n",
              "                                 definition  \n",
              "0                    Noun, singular or mass  \n",
              "1                          Verb, past tense  \n",
              "2  Preposition or subordinating conjunction  \n",
              "3                                Determiner  \n",
              "4                    Noun, singular or mass  \n",
              "5                              Noun, plural  \n",
              "6  Preposition or subordinating conjunction  \n",
              "7                        Possessive pronoun  \n",
              "8                    Noun, singular or mass  \n",
              "9  Preposition or subordinating conjunction  "
            ]
          },
          "execution_count": 17,
          "metadata": {},
          "output_type": "execute_result"
        }
      ],
      "source": [
        "after_life_word_info.head(10)"
      ]
    },
    {
      "cell_type": "code",
      "execution_count": 18,
      "metadata": {
        "ExecuteTime": {
          "end_time": "2019-03-01T12:09:23.181792Z",
          "start_time": "2019-03-01T12:09:23.165752Z"
        },
        "pycharm": {}
      },
      "outputs": [
        {
          "data": {
            "text/html": [
              "\u003cdiv\u003e\n",
              "\u003cstyle scoped\u003e\n",
              "    .dataframe tbody tr th:only-of-type {\n",
              "        vertical-align: middle;\n",
              "    }\n",
              "\n",
              "    .dataframe tbody tr th {\n",
              "        vertical-align: top;\n",
              "    }\n",
              "\n",
              "    .dataframe thead th {\n",
              "        text-align: right;\n",
              "    }\n",
              "\u003c/style\u003e\n",
              "\u003ctable border\u003d\"1\" class\u003d\"dataframe\"\u003e\n",
              "  \u003cthead\u003e\n",
              "    \u003ctr style\u003d\"text-align: right;\"\u003e\n",
              "      \u003cth\u003e\u003c/th\u003e\n",
              "      \u003cth\u003esentences\u003c/th\u003e\n",
              "      \u003cth\u003epolarity\u003c/th\u003e\n",
              "      \u003cth\u003esubjectivity\u003c/th\u003e\n",
              "      \u003cth\u003epos_sentence\u003c/th\u003e\n",
              "    \u003c/tr\u003e\n",
              "  \u003c/thead\u003e\n",
              "  \u003ctbody\u003e\n",
              "    \u003ctr\u003e\n",
              "      \u003cth\u003e0\u003c/th\u003e\n",
              "      \u003ctd\u003eDeath looked through the eye sockets in his sk...\u003c/td\u003e\n",
              "      \u003ctd\u003e0.000000\u003c/td\u003e\n",
              "      \u003ctd\u003e0.000000\u003c/td\u003e\n",
              "      \u003ctd\u003eNN VBD IN DT NN NNS IN PRP$ NN IN DT NN IN NN ...\u003c/td\u003e\n",
              "    \u003c/tr\u003e\n",
              "    \u003ctr\u003e\n",
              "      \u003cth\u003e1\u003c/th\u003e\n",
              "      \u003ctd\u003eWhat had once been a fine adventurer was now o...\u003c/td\u003e\n",
              "      \u003ctd\u003e0.105556\u003c/td\u003e\n",
              "      \u003ctd\u003e0.600000\u003c/td\u003e\n",
              "      \u003ctd\u003eWP VBD RB VBN DT JJ NN VBD RB RB DT NN RB JJ C...\u003c/td\u003e\n",
              "    \u003c/tr\u003e\n",
              "    \u003ctr\u003e\n",
              "      \u003cth\u003e2\u003c/th\u003e\n",
              "      \u003ctd\u003eHis hair was shaggy, and it looked like he had...\u003c/td\u003e\n",
              "      \u003ctd\u003e0.000000\u003c/td\u003e\n",
              "      \u003ctd\u003e0.000000\u003c/td\u003e\n",
              "      \u003ctd\u003ePRP$ NN VBD JJ CC PRP VBD IN PRP VBZ JJ NNS VB...\u003c/td\u003e\n",
              "    \u003c/tr\u003e\n",
              "    \u003ctr\u003e\n",
              "      \u003cth\u003e3\u003c/th\u003e\n",
              "      \u003ctd\u003eDeath could not see any wounds, so hopefully h...\u003c/td\u003e\n",
              "      \u003ctd\u003e-0.650000\u003c/td\u003e\n",
              "      \u003ctd\u003e0.950000\u003c/td\u003e\n",
              "      \u003ctd\u003eNNP MD RB VB DT NNS RB RB PRP$ NN VBD RB VBN R...\u003c/td\u003e\n",
              "    \u003c/tr\u003e\n",
              "    \u003ctr\u003e\n",
              "      \u003cth\u003e4\u003c/th\u003e\n",
              "      \u003ctd\u003eThe former adventurer stood sheepishly in fron...\u003c/td\u003e\n",
              "      \u003ctd\u003e0.000000\u003c/td\u003e\n",
              "      \u003ctd\u003e0.000000\u003c/td\u003e\n",
              "      \u003ctd\u003eDT JJ NN VBD RB IN NN IN NNP IN DT NN IN TO VB...\u003c/td\u003e\n",
              "    \u003c/tr\u003e\n",
              "    \u003ctr\u003e\n",
              "      \u003cth\u003e5\u003c/th\u003e\n",
              "      \u003ctd\u003e“You’re early, Reckless,” said Death in surprise.\u003c/td\u003e\n",
              "      \u003ctd\u003e0.100000\u003c/td\u003e\n",
              "      \u003ctd\u003e0.300000\u003c/td\u003e\n",
              "      \u003ctd\u003eNN PRP VBP VB JJ NNP NNP VBD NNP IN NN\u003c/td\u003e\n",
              "    \u003c/tr\u003e\n",
              "    \u003ctr\u003e\n",
              "      \u003cth\u003e6\u003c/th\u003e\n",
              "      \u003ctd\u003e“Yeah,” Reckless said, rubbing the back of his...\u003c/td\u003e\n",
              "      \u003ctd\u003e0.000000\u003c/td\u003e\n",
              "      \u003ctd\u003e0.333333\u003c/td\u003e\n",
              "      \u003ctd\u003eNN UH JJ NNP VBD VBG DT NN IN PRP$ NN IN PRP$ ...\u003c/td\u003e\n",
              "    \u003c/tr\u003e\n",
              "    \u003ctr\u003e\n",
              "      \u003cth\u003e7\u003c/th\u003e\n",
              "      \u003ctd\u003eThe spirit straightened and took in a deep bre...\u003c/td\u003e\n",
              "      \u003ctd\u003e0.000000\u003c/td\u003e\n",
              "      \u003ctd\u003e0.400000\u003c/td\u003e\n",
              "      \u003ctd\u003eDT NN VBD CC VBD IN DT JJ NN\u003c/td\u003e\n",
              "    \u003c/tr\u003e\n",
              "    \u003ctr\u003e\n",
              "      \u003cth\u003e8\u003c/th\u003e\n",
              "      \u003ctd\u003e“I want another chance at life.” “No,” Death a...\u003c/td\u003e\n",
              "      \u003ctd\u003e-0.025000\u003c/td\u003e\n",
              "      \u003ctd\u003e0.125000\u003c/td\u003e\n",
              "      \u003ctd\u003eNN PRP VBP DT NN IN JJ NNP NNP NNP NNP NNP VBD RB\u003c/td\u003e\n",
              "    \u003c/tr\u003e\n",
              "    \u003ctr\u003e\n",
              "      \u003cth\u003e9\u003c/th\u003e\n",
              "      \u003ctd\u003e“Hear me out,” the former adventurer begged.\u003c/td\u003e\n",
              "      \u003ctd\u003e0.000000\u003c/td\u003e\n",
              "      \u003ctd\u003e0.000000\u003c/td\u003e\n",
              "      \u003ctd\u003eNN NNP PRP RP VBZ DT JJ NN VBD\u003c/td\u003e\n",
              "    \u003c/tr\u003e\n",
              "  \u003c/tbody\u003e\n",
              "\u003c/table\u003e\n",
              "\u003c/div\u003e"
            ],
            "text/plain": [
              "                                           sentences  polarity  subjectivity  \\\n",
              "0  Death looked through the eye sockets in his sk...  0.000000      0.000000   \n",
              "1  What had once been a fine adventurer was now o...  0.105556      0.600000   \n",
              "2  His hair was shaggy, and it looked like he had...  0.000000      0.000000   \n",
              "3  Death could not see any wounds, so hopefully h... -0.650000      0.950000   \n",
              "4  The former adventurer stood sheepishly in fron...  0.000000      0.000000   \n",
              "5  “You’re early, Reckless,” said Death in surprise.  0.100000      0.300000   \n",
              "6  “Yeah,” Reckless said, rubbing the back of his...  0.000000      0.333333   \n",
              "7  The spirit straightened and took in a deep bre...  0.000000      0.400000   \n",
              "8  “I want another chance at life.” “No,” Death a... -0.025000      0.125000   \n",
              "9       “Hear me out,” the former adventurer begged.  0.000000      0.000000   \n",
              "\n",
              "                                        pos_sentence  \n",
              "0  NN VBD IN DT NN NNS IN PRP$ NN IN DT NN IN NN ...  \n",
              "1  WP VBD RB VBN DT JJ NN VBD RB RB DT NN RB JJ C...  \n",
              "2  PRP$ NN VBD JJ CC PRP VBD IN PRP VBZ JJ NNS VB...  \n",
              "3  NNP MD RB VB DT NNS RB RB PRP$ NN VBD RB VBN R...  \n",
              "4  DT JJ NN VBD RB IN NN IN NNP IN DT NN IN TO VB...  \n",
              "5             NN PRP VBP VB JJ NNP NNP VBD NNP IN NN  \n",
              "6  NN UH JJ NNP VBD VBG DT NN IN PRP$ NN IN PRP$ ...  \n",
              "7                       DT NN VBD CC VBD IN DT JJ NN  \n",
              "8  NN PRP VBP DT NN IN JJ NNP NNP NNP NNP NNP VBD RB  \n",
              "9                     NN NNP PRP RP VBZ DT JJ NN VBD  "
            ]
          },
          "execution_count": 18,
          "metadata": {},
          "output_type": "execute_result"
        }
      ],
      "source": [
        "after_life_sentence.head(10)"
      ]
    },
    {
      "cell_type": "code",
      "execution_count": 19,
      "metadata": {
        "ExecuteTime": {
          "end_time": "2019-03-01T12:09:23.299396Z",
          "start_time": "2019-03-01T12:09:23.287316Z"
        },
        "scrolled": true,
        "pycharm": {}
      },
      "outputs": [
        {
          "data": {
            "text/html": [
              "\u003cdiv\u003e\n",
              "\u003cstyle scoped\u003e\n",
              "    .dataframe tbody tr th:only-of-type {\n",
              "        vertical-align: middle;\n",
              "    }\n",
              "\n",
              "    .dataframe tbody tr th {\n",
              "        vertical-align: top;\n",
              "    }\n",
              "\n",
              "    .dataframe thead th {\n",
              "        text-align: right;\n",
              "    }\n",
              "\u003c/style\u003e\n",
              "\u003ctable border\u003d\"1\" class\u003d\"dataframe\"\u003e\n",
              "  \u003cthead\u003e\n",
              "    \u003ctr style\u003d\"text-align: right;\"\u003e\n",
              "      \u003cth\u003e\u003c/th\u003e\n",
              "      \u003cth\u003enoun_phrase\u003c/th\u003e\n",
              "    \u003c/tr\u003e\n",
              "  \u003c/thead\u003e\n",
              "  \u003ctbody\u003e\n",
              "    \u003ctr\u003e\n",
              "      \u003cth\u003e0\u003c/th\u003e\n",
              "      \u003ctd\u003edeath\u003c/td\u003e\n",
              "    \u003c/tr\u003e\n",
              "    \u003ctr\u003e\n",
              "      \u003cth\u003e1\u003c/th\u003e\n",
              "      \u003ctd\u003eeye sockets\u003c/td\u003e\n",
              "    \u003c/tr\u003e\n",
              "    \u003ctr\u003e\n",
              "      \u003cth\u003e2\u003c/th\u003e\n",
              "      \u003ctd\u003efine adventurer\u003c/td\u003e\n",
              "    \u003c/tr\u003e\n",
              "    \u003ctr\u003e\n",
              "      \u003cth\u003e3\u003c/th\u003e\n",
              "      \u003ctd\u003eleather armor\u003c/td\u003e\n",
              "    \u003c/tr\u003e\n",
              "    \u003ctr\u003e\n",
              "      \u003cth\u003e4\u003c/th\u003e\n",
              "      \u003ctd\u003ehadn ’ t\u003c/td\u003e\n",
              "    \u003c/tr\u003e\n",
              "    \u003ctr\u003e\n",
              "      \u003cth\u003e5\u003c/th\u003e\n",
              "      \u003ctd\u003edeath\u003c/td\u003e\n",
              "    \u003c/tr\u003e\n",
              "    \u003ctr\u003e\n",
              "      \u003cth\u003e6\u003c/th\u003e\n",
              "      \u003ctd\u003edeath\u003c/td\u003e\n",
              "    \u003c/tr\u003e\n",
              "    \u003ctr\u003e\n",
              "      \u003cth\u003e7\u003c/th\u003e\n",
              "      \u003ctd\u003e’ re\u003c/td\u003e\n",
              "    \u003c/tr\u003e\n",
              "    \u003ctr\u003e\n",
              "      \u003cth\u003e8\u003c/th\u003e\n",
              "      \u003ctd\u003ereckless\u003c/td\u003e\n",
              "    \u003c/tr\u003e\n",
              "    \u003ctr\u003e\n",
              "      \u003cth\u003e9\u003c/th\u003e\n",
              "      \u003ctd\u003edeath\u003c/td\u003e\n",
              "    \u003c/tr\u003e\n",
              "  \u003c/tbody\u003e\n",
              "\u003c/table\u003e\n",
              "\u003c/div\u003e"
            ],
            "text/plain": [
              "       noun_phrase\n",
              "0            death\n",
              "1      eye sockets\n",
              "2  fine adventurer\n",
              "3    leather armor\n",
              "4         hadn ’ t\n",
              "5            death\n",
              "6            death\n",
              "7             ’ re\n",
              "8         reckless\n",
              "9            death"
            ]
          },
          "execution_count": 19,
          "metadata": {},
          "output_type": "execute_result"
        }
      ],
      "source": [
        "after_life_noun_phrase.head(10)"
      ]
    },
    {
      "cell_type": "markdown",
      "metadata": {
        "pycharm": {}
      },
      "source": [
        "### After Life Sentence and Word Sentiment Change Over Story"
      ]
    },
    {
      "cell_type": "code",
      "execution_count": 20,
      "metadata": {
        "ExecuteTime": {
          "end_time": "2019-03-01T12:09:23.692150Z",
          "start_time": "2019-03-01T12:09:23.404107Z"
        },
        "pycharm": {}
      },
      "outputs": [
        {
          "data": {
            "text/plain": [
              "\u003cmatplotlib.axes._subplots.AxesSubplot at 0x1a27a71780\u003e"
            ]
          },
          "execution_count": 20,
          "metadata": {},
          "output_type": "execute_result"
        },
        {
          "data": {
            "image/png": "[encoded data removed]",
            "text/plain": [
              "\u003cFigure size 432x288 with 1 Axes\u003e"
            ]
          },
          "metadata": {
            "needs_background": "light"
          },
          "output_type": "display_data"
        }
      ],
      "source": [
        "after_life_sentence.plot(y\u003d\u0027polarity\u0027, use_index\u003dTrue)"
      ]
    },
    {
      "cell_type": "code",
      "execution_count": 21,
      "metadata": {
        "ExecuteTime": {
          "end_time": "2019-03-01T12:09:24.121360Z",
          "start_time": "2019-03-01T12:09:23.795026Z"
        },
        "pycharm": {}
      },
      "outputs": [
        {
          "data": {
            "text/plain": [
              "\u003cmatplotlib.axes._subplots.AxesSubplot at 0x1a27a64518\u003e"
            ]
          },
          "execution_count": 21,
          "metadata": {},
          "output_type": "execute_result"
        },
        {
          "data": {
            "image/png": "[encoded data removed]",
            "text/plain": [
              "\u003cFigure size 432x288 with 1 Axes\u003e"
            ]
          },
          "metadata": {
            "needs_background": "light"
          },
          "output_type": "display_data"
        }
      ],
      "source": [
        "after_life_word_info.plot(y\u003d\u0027polarity\u0027, use_index\u003dTrue)"
      ]
    },
    {
      "cell_type": "markdown",
      "metadata": {
        "pycharm": {}
      },
      "source": [
        "## Yellow Red Gray Text Analysis"
      ]
    },
    {
      "cell_type": "code",
      "execution_count": 22,
      "metadata": {
        "ExecuteTime": {
          "end_time": "2019-03-01T12:09:25.018347Z",
          "start_time": "2019-03-01T12:09:24.242597Z"
        },
        "pycharm": {}
      },
      "outputs": [],
      "source": [
        "yrg_word_info, yrg_sentence, yrg_noun_phrase \u003d story_analysis(\u0027yellow_red_gray.txt\u0027, \n",
        "                                                              pd.DataFrame(), pd.DataFrame(), pd.DataFrame())"
      ]
    },
    {
      "cell_type": "markdown",
      "metadata": {
        "pycharm": {}
      },
      "source": [
        "### Yellow Red Gray Word and Sentence Info Breakdown"
      ]
    },
    {
      "cell_type": "code",
      "execution_count": 23,
      "metadata": {
        "ExecuteTime": {
          "end_time": "2019-03-01T12:09:25.213219Z",
          "start_time": "2019-03-01T12:09:25.193853Z"
        },
        "pycharm": {}
      },
      "outputs": [
        {
          "data": {
            "text/html": [
              "\u003cdiv\u003e\n",
              "\u003cstyle scoped\u003e\n",
              "    .dataframe tbody tr th:only-of-type {\n",
              "        vertical-align: middle;\n",
              "    }\n",
              "\n",
              "    .dataframe tbody tr th {\n",
              "        vertical-align: top;\n",
              "    }\n",
              "\n",
              "    .dataframe thead th {\n",
              "        text-align: right;\n",
              "    }\n",
              "\u003c/style\u003e\n",
              "\u003ctable border\u003d\"1\" class\u003d\"dataframe\"\u003e\n",
              "  \u003cthead\u003e\n",
              "    \u003ctr style\u003d\"text-align: right;\"\u003e\n",
              "      \u003cth\u003e\u003c/th\u003e\n",
              "      \u003cth\u003eword\u003c/th\u003e\n",
              "      \u003cth\u003epart\u003c/th\u003e\n",
              "      \u003cth\u003epolarity\u003c/th\u003e\n",
              "      \u003cth\u003esubjectivity\u003c/th\u003e\n",
              "      \u003cth\u003edefinition\u003c/th\u003e\n",
              "    \u003c/tr\u003e\n",
              "  \u003c/thead\u003e\n",
              "  \u003ctbody\u003e\n",
              "    \u003ctr\u003e\n",
              "      \u003cth\u003e0\u003c/th\u003e\n",
              "      \u003ctd\u003eWater\u003c/td\u003e\n",
              "      \u003ctd\u003eNNP\u003c/td\u003e\n",
              "      \u003ctd\u003e0.000000\u003c/td\u003e\n",
              "      \u003ctd\u003e0.000000\u003c/td\u003e\n",
              "      \u003ctd\u003eProper noun, singular\u003c/td\u003e\n",
              "    \u003c/tr\u003e\n",
              "    \u003ctr\u003e\n",
              "      \u003cth\u003e1\u003c/th\u003e\n",
              "      \u003ctd\u003efell\u003c/td\u003e\n",
              "      \u003ctd\u003eVBD\u003c/td\u003e\n",
              "      \u003ctd\u003e0.000000\u003c/td\u003e\n",
              "      \u003ctd\u003e0.000000\u003c/td\u003e\n",
              "      \u003ctd\u003eVerb, past tense\u003c/td\u003e\n",
              "    \u003c/tr\u003e\n",
              "    \u003ctr\u003e\n",
              "      \u003cth\u003e2\u003c/th\u003e\n",
              "      \u003ctd\u003edown\u003c/td\u003e\n",
              "      \u003ctd\u003eRB\u003c/td\u003e\n",
              "      \u003ctd\u003e-0.155556\u003c/td\u003e\n",
              "      \u003ctd\u003e0.288889\u003c/td\u003e\n",
              "      \u003ctd\u003eAdverb\u003c/td\u003e\n",
              "    \u003c/tr\u003e\n",
              "    \u003ctr\u003e\n",
              "      \u003cth\u003e3\u003c/th\u003e\n",
              "      \u003ctd\u003eon\u003c/td\u003e\n",
              "      \u003ctd\u003eIN\u003c/td\u003e\n",
              "      \u003ctd\u003e0.000000\u003c/td\u003e\n",
              "      \u003ctd\u003e0.000000\u003c/td\u003e\n",
              "      \u003ctd\u003ePreposition or subordinating conjunction\u003c/td\u003e\n",
              "    \u003c/tr\u003e\n",
              "    \u003ctr\u003e\n",
              "      \u003cth\u003e4\u003c/th\u003e\n",
              "      \u003ctd\u003ethe\u003c/td\u003e\n",
              "      \u003ctd\u003eDT\u003c/td\u003e\n",
              "      \u003ctd\u003e0.000000\u003c/td\u003e\n",
              "      \u003ctd\u003e0.000000\u003c/td\u003e\n",
              "      \u003ctd\u003eDeterminer\u003c/td\u003e\n",
              "    \u003c/tr\u003e\n",
              "    \u003ctr\u003e\n",
              "      \u003cth\u003e5\u003c/th\u003e\n",
              "      \u003ctd\u003ecity\u003c/td\u003e\n",
              "      \u003ctd\u003eNN\u003c/td\u003e\n",
              "      \u003ctd\u003e0.000000\u003c/td\u003e\n",
              "      \u003ctd\u003e0.000000\u003c/td\u003e\n",
              "      \u003ctd\u003eNoun, singular or mass\u003c/td\u003e\n",
              "    \u003c/tr\u003e\n",
              "    \u003ctr\u003e\n",
              "      \u003cth\u003e6\u003c/th\u003e\n",
              "      \u003ctd\u003ein\u003c/td\u003e\n",
              "      \u003ctd\u003eIN\u003c/td\u003e\n",
              "      \u003ctd\u003e0.000000\u003c/td\u003e\n",
              "      \u003ctd\u003e0.000000\u003c/td\u003e\n",
              "      \u003ctd\u003ePreposition or subordinating conjunction\u003c/td\u003e\n",
              "    \u003c/tr\u003e\n",
              "    \u003ctr\u003e\n",
              "      \u003cth\u003e7\u003c/th\u003e\n",
              "      \u003ctd\u003ea\u003c/td\u003e\n",
              "      \u003ctd\u003eDT\u003c/td\u003e\n",
              "      \u003ctd\u003e0.000000\u003c/td\u003e\n",
              "      \u003ctd\u003e0.000000\u003c/td\u003e\n",
              "      \u003ctd\u003eDeterminer\u003c/td\u003e\n",
              "    \u003c/tr\u003e\n",
              "    \u003ctr\u003e\n",
              "      \u003cth\u003e8\u003c/th\u003e\n",
              "      \u003ctd\u003edrizzle\u003c/td\u003e\n",
              "      \u003ctd\u003eNN\u003c/td\u003e\n",
              "      \u003ctd\u003e0.000000\u003c/td\u003e\n",
              "      \u003ctd\u003e0.000000\u003c/td\u003e\n",
              "      \u003ctd\u003eNoun, singular or mass\u003c/td\u003e\n",
              "    \u003c/tr\u003e\n",
              "    \u003ctr\u003e\n",
              "      \u003cth\u003e9\u003c/th\u003e\n",
              "      \u003ctd\u003eMerciful\u003c/td\u003e\n",
              "      \u003ctd\u003eNNP\u003c/td\u003e\n",
              "      \u003ctd\u003e0.000000\u003c/td\u003e\n",
              "      \u003ctd\u003e0.000000\u003c/td\u003e\n",
              "      \u003ctd\u003eProper noun, singular\u003c/td\u003e\n",
              "    \u003c/tr\u003e\n",
              "  \u003c/tbody\u003e\n",
              "\u003c/table\u003e\n",
              "\u003c/div\u003e"
            ],
            "text/plain": [
              "       word part  polarity  subjectivity  \\\n",
              "0     Water  NNP  0.000000      0.000000   \n",
              "1      fell  VBD  0.000000      0.000000   \n",
              "2      down   RB -0.155556      0.288889   \n",
              "3        on   IN  0.000000      0.000000   \n",
              "4       the   DT  0.000000      0.000000   \n",
              "5      city   NN  0.000000      0.000000   \n",
              "6        in   IN  0.000000      0.000000   \n",
              "7         a   DT  0.000000      0.000000   \n",
              "8   drizzle   NN  0.000000      0.000000   \n",
              "9  Merciful  NNP  0.000000      0.000000   \n",
              "\n",
              "                                 definition  \n",
              "0                     Proper noun, singular  \n",
              "1                          Verb, past tense  \n",
              "2                                    Adverb  \n",
              "3  Preposition or subordinating conjunction  \n",
              "4                                Determiner  \n",
              "5                    Noun, singular or mass  \n",
              "6  Preposition or subordinating conjunction  \n",
              "7                                Determiner  \n",
              "8                    Noun, singular or mass  \n",
              "9                     Proper noun, singular  "
            ]
          },
          "execution_count": 23,
          "metadata": {},
          "output_type": "execute_result"
        }
      ],
      "source": [
        "yrg_word_info.head(10)"
      ]
    },
    {
      "cell_type": "code",
      "execution_count": 24,
      "metadata": {
        "ExecuteTime": {
          "end_time": "2019-03-01T12:09:25.394585Z",
          "start_time": "2019-03-01T12:09:25.379002Z"
        },
        "pycharm": {}
      },
      "outputs": [
        {
          "data": {
            "text/html": [
              "\u003cdiv\u003e\n",
              "\u003cstyle scoped\u003e\n",
              "    .dataframe tbody tr th:only-of-type {\n",
              "        vertical-align: middle;\n",
              "    }\n",
              "\n",
              "    .dataframe tbody tr th {\n",
              "        vertical-align: top;\n",
              "    }\n",
              "\n",
              "    .dataframe thead th {\n",
              "        text-align: right;\n",
              "    }\n",
              "\u003c/style\u003e\n",
              "\u003ctable border\u003d\"1\" class\u003d\"dataframe\"\u003e\n",
              "  \u003cthead\u003e\n",
              "    \u003ctr style\u003d\"text-align: right;\"\u003e\n",
              "      \u003cth\u003e\u003c/th\u003e\n",
              "      \u003cth\u003esentences\u003c/th\u003e\n",
              "      \u003cth\u003epolarity\u003c/th\u003e\n",
              "      \u003cth\u003esubjectivity\u003c/th\u003e\n",
              "      \u003cth\u003epos_sentence\u003c/th\u003e\n",
              "    \u003c/tr\u003e\n",
              "  \u003c/thead\u003e\n",
              "  \u003ctbody\u003e\n",
              "    \u003ctr\u003e\n",
              "      \u003cth\u003e0\u003c/th\u003e\n",
              "      \u003ctd\u003eWater fell down on the city in a drizzle.\u003c/td\u003e\n",
              "      \u003ctd\u003e-0.155556\u003c/td\u003e\n",
              "      \u003ctd\u003e0.288889\u003c/td\u003e\n",
              "      \u003ctd\u003eNNP VBD RB IN DT NN IN DT NN\u003c/td\u003e\n",
              "    \u003c/tr\u003e\n",
              "    \u003ctr\u003e\n",
              "      \u003cth\u003e1\u003c/th\u003e\n",
              "      \u003ctd\u003eMerciful enough to not be fully rain, but stil...\u003c/td\u003e\n",
              "      \u003ctd\u003e-0.025000\u003c/td\u003e\n",
              "      \u003ctd\u003e0.625000\u003c/td\u003e\n",
              "      \u003ctd\u003eNNP RB TO RB VB RB JJ CC RB JJ RB IN JJS NNS V...\u003c/td\u003e\n",
              "    \u003c/tr\u003e\n",
              "    \u003ctr\u003e\n",
              "      \u003cth\u003e2\u003c/th\u003e\n",
              "      \u003ctd\u003eA bright yellow cab, a stark contrast to the g...\u003c/td\u003e\n",
              "      \u003ctd\u003e0.068889\u003c/td\u003e\n",
              "      \u003ctd\u003e0.347778\u003c/td\u003e\n",
              "      \u003ctd\u003eDT JJ JJ NN DT JJ NN TO DT JJ NN IN VBD RB DT ...\u003c/td\u003e\n",
              "    \u003c/tr\u003e\n",
              "    \u003ctr\u003e\n",
              "      \u003cth\u003e3\u003c/th\u003e\n",
              "      \u003ctd\u003eEven so, the driver drove carefully, wary of t...\u003c/td\u003e\n",
              "      \u003ctd\u003e-0.300000\u003c/td\u003e\n",
              "      \u003ctd\u003e0.550000\u003c/td\u003e\n",
              "      \u003ctd\u003eRB RB DT NN VBD RB NN IN DT JJ NN CC JJ NNS\u003c/td\u003e\n",
              "    \u003c/tr\u003e\n",
              "    \u003ctr\u003e\n",
              "      \u003cth\u003e4\u003c/th\u003e\n",
              "      \u003ctd\u003eThe inside of the cab was relatively quiet, th...\u003c/td\u003e\n",
              "      \u003ctd\u003e0.033333\u003c/td\u003e\n",
              "      \u003ctd\u003e0.511111\u003c/td\u003e\n",
              "      \u003ctd\u003eDT NN IN DT NN VBD RB JJ DT JJ NN VBG IN DT JJ...\u003c/td\u003e\n",
              "    \u003c/tr\u003e\n",
              "    \u003ctr\u003e\n",
              "      \u003cth\u003e5\u003c/th\u003e\n",
              "      \u003ctd\u003eThere were only two people inside: the driver,...\u003c/td\u003e\n",
              "      \u003ctd\u003e-0.200000\u003c/td\u003e\n",
              "      \u003ctd\u003e0.925000\u003c/td\u003e\n",
              "      \u003ctd\u003eEX VBD RB CD NNS IN DT NN DT JJ NN IN DT JJ NN...\u003c/td\u003e\n",
              "    \u003c/tr\u003e\n",
              "    \u003ctr\u003e\n",
              "      \u003cth\u003e6\u003c/th\u003e\n",
              "      \u003ctd\u003eThe driver was smoking, permeating the already...\u003c/td\u003e\n",
              "      \u003ctd\u003e0.000000\u003c/td\u003e\n",
              "      \u003ctd\u003e0.000000\u003c/td\u003e\n",
              "      \u003ctd\u003eDT NN VBD VBG VBG DT JJ NN IN DT NN IN DT NN N...\u003c/td\u003e\n",
              "    \u003c/tr\u003e\n",
              "    \u003ctr\u003e\n",
              "      \u003cth\u003e7\u003c/th\u003e\n",
              "      \u003ctd\u003eThe passenger coughed every now and again, too...\u003c/td\u003e\n",
              "      \u003ctd\u003e0.000000\u003c/td\u003e\n",
              "      \u003ctd\u003e0.125000\u003c/td\u003e\n",
              "      \u003ctd\u003eDT NN VBD DT RB CC RB RB JJ TO VB DT NN TO VB ...\u003c/td\u003e\n",
              "    \u003c/tr\u003e\n",
              "    \u003ctr\u003e\n",
              "      \u003cth\u003e8\u003c/th\u003e\n",
              "      \u003ctd\u003eWith a final puff, the driver plucked the spen...\u003c/td\u003e\n",
              "      \u003ctd\u003e-0.125000\u003c/td\u003e\n",
              "      \u003ctd\u003e0.612500\u003c/td\u003e\n",
              "      \u003ctd\u003eIN DT JJ NN DT NN VBD DT JJ NN IN PRP$ NN IN P...\u003c/td\u003e\n",
              "    \u003c/tr\u003e\n",
              "    \u003ctr\u003e\n",
              "      \u003cth\u003e9\u003c/th\u003e\n",
              "      \u003ctd\u003eThe thin man in the backseat sighed, both in r...\u003c/td\u003e\n",
              "      \u003ctd\u003e-0.025000\u003c/td\u003e\n",
              "      \u003ctd\u003e0.750000\u003c/td\u003e\n",
              "      \u003ctd\u003eDT JJ NN IN DT NN VBD DT IN NN IN DT NN VBD VB...\u003c/td\u003e\n",
              "    \u003c/tr\u003e\n",
              "  \u003c/tbody\u003e\n",
              "\u003c/table\u003e\n",
              "\u003c/div\u003e"
            ],
            "text/plain": [
              "                                           sentences  polarity  subjectivity  \\\n",
              "0          Water fell down on the city in a drizzle. -0.155556      0.288889   \n",
              "1  Merciful enough to not be fully rain, but stil... -0.025000      0.625000   \n",
              "2  A bright yellow cab, a stark contrast to the g...  0.068889      0.347778   \n",
              "3  Even so, the driver drove carefully, wary of t... -0.300000      0.550000   \n",
              "4  The inside of the cab was relatively quiet, th...  0.033333      0.511111   \n",
              "5  There were only two people inside: the driver,... -0.200000      0.925000   \n",
              "6  The driver was smoking, permeating the already...  0.000000      0.000000   \n",
              "7  The passenger coughed every now and again, too...  0.000000      0.125000   \n",
              "8  With a final puff, the driver plucked the spen... -0.125000      0.612500   \n",
              "9  The thin man in the backseat sighed, both in r... -0.025000      0.750000   \n",
              "\n",
              "                                        pos_sentence  \n",
              "0                       NNP VBD RB IN DT NN IN DT NN  \n",
              "1  NNP RB TO RB VB RB JJ CC RB JJ RB IN JJS NNS V...  \n",
              "2  DT JJ JJ NN DT JJ NN TO DT JJ NN IN VBD RB DT ...  \n",
              "3        RB RB DT NN VBD RB NN IN DT JJ NN CC JJ NNS  \n",
              "4  DT NN IN DT NN VBD RB JJ DT JJ NN VBG IN DT JJ...  \n",
              "5  EX VBD RB CD NNS IN DT NN DT JJ NN IN DT JJ NN...  \n",
              "6  DT NN VBD VBG VBG DT JJ NN IN DT NN IN DT NN N...  \n",
              "7  DT NN VBD DT RB CC RB RB JJ TO VB DT NN TO VB ...  \n",
              "8  IN DT JJ NN DT NN VBD DT JJ NN IN PRP$ NN IN P...  \n",
              "9  DT JJ NN IN DT NN VBD DT IN NN IN DT NN VBD VB...  "
            ]
          },
          "execution_count": 24,
          "metadata": {},
          "output_type": "execute_result"
        }
      ],
      "source": [
        "yrg_sentence.head(10)"
      ]
    },
    {
      "cell_type": "code",
      "execution_count": 25,
      "metadata": {
        "ExecuteTime": {
          "end_time": "2019-03-01T12:09:25.563845Z",
          "start_time": "2019-03-01T12:09:25.551522Z"
        },
        "scrolled": true,
        "pycharm": {}
      },
      "outputs": [
        {
          "data": {
            "text/html": [
              "\u003cdiv\u003e\n",
              "\u003cstyle scoped\u003e\n",
              "    .dataframe tbody tr th:only-of-type {\n",
              "        vertical-align: middle;\n",
              "    }\n",
              "\n",
              "    .dataframe tbody tr th {\n",
              "        vertical-align: top;\n",
              "    }\n",
              "\n",
              "    .dataframe thead th {\n",
              "        text-align: right;\n",
              "    }\n",
              "\u003c/style\u003e\n",
              "\u003ctable border\u003d\"1\" class\u003d\"dataframe\"\u003e\n",
              "  \u003cthead\u003e\n",
              "    \u003ctr style\u003d\"text-align: right;\"\u003e\n",
              "      \u003cth\u003e\u003c/th\u003e\n",
              "      \u003cth\u003enoun_phrase\u003c/th\u003e\n",
              "    \u003c/tr\u003e\n",
              "  \u003c/thead\u003e\n",
              "  \u003ctbody\u003e\n",
              "    \u003ctr\u003e\n",
              "      \u003cth\u003e0\u003c/th\u003e\n",
              "      \u003ctd\u003emerciful\u003c/td\u003e\n",
              "    \u003c/tr\u003e\n",
              "    \u003ctr\u003e\n",
              "      \u003cth\u003e1\u003c/th\u003e\n",
              "      \u003ctd\u003ebright yellow cab\u003c/td\u003e\n",
              "    \u003c/tr\u003e\n",
              "    \u003ctr\u003e\n",
              "      \u003cth\u003e2\u003c/th\u003e\n",
              "      \u003ctd\u003estark contrast\u003c/td\u003e\n",
              "    \u003c/tr\u003e\n",
              "    \u003ctr\u003e\n",
              "      \u003cth\u003e3\u003c/th\u003e\n",
              "      \u003ctd\u003egray world\u003c/td\u003e\n",
              "    \u003c/tr\u003e\n",
              "    \u003ctr\u003e\n",
              "      \u003cth\u003e4\u003c/th\u003e\n",
              "      \u003ctd\u003ewet pavement\u003c/td\u003e\n",
              "    \u003c/tr\u003e\n",
              "    \u003ctr\u003e\n",
              "      \u003cth\u003e5\u003c/th\u003e\n",
              "      \u003ctd\u003eold radio\u003c/td\u003e\n",
              "    \u003c/tr\u003e\n",
              "    \u003ctr\u003e\n",
              "      \u003cth\u003e6\u003c/th\u003e\n",
              "      \u003ctd\u003efat man\u003c/td\u003e\n",
              "    \u003c/tr\u003e\n",
              "    \u003ctr\u003e\n",
              "      \u003cth\u003e7\u003c/th\u003e\n",
              "      \u003ctd\u003egreasy t-shirt\u003c/td\u003e\n",
              "    \u003c/tr\u003e\n",
              "    \u003ctr\u003e\n",
              "      \u003cth\u003e8\u003c/th\u003e\n",
              "      \u003ctd\u003ethin man\u003c/td\u003e\n",
              "    \u003c/tr\u003e\n",
              "    \u003ctr\u003e\n",
              "      \u003cth\u003e9\u003c/th\u003e\n",
              "      \u003ctd\u003efinal puff\u003c/td\u003e\n",
              "    \u003c/tr\u003e\n",
              "  \u003c/tbody\u003e\n",
              "\u003c/table\u003e\n",
              "\u003c/div\u003e"
            ],
            "text/plain": [
              "         noun_phrase\n",
              "0           merciful\n",
              "1  bright yellow cab\n",
              "2     stark contrast\n",
              "3         gray world\n",
              "4       wet pavement\n",
              "5          old radio\n",
              "6            fat man\n",
              "7     greasy t-shirt\n",
              "8           thin man\n",
              "9         final puff"
            ]
          },
          "execution_count": 25,
          "metadata": {},
          "output_type": "execute_result"
        }
      ],
      "source": [
        "yrg_noun_phrase.head(10)"
      ]
    },
    {
      "cell_type": "markdown",
      "metadata": {
        "pycharm": {}
      },
      "source": [
        "### Yellow Red Gray Sentence and Word Sentiment Change Over Story"
      ]
    },
    {
      "cell_type": "code",
      "execution_count": 26,
      "metadata": {
        "ExecuteTime": {
          "end_time": "2019-03-01T12:09:25.992014Z",
          "start_time": "2019-03-01T12:09:25.719328Z"
        },
        "scrolled": true,
        "pycharm": {}
      },
      "outputs": [
        {
          "data": {
            "text/plain": [
              "\u003cmatplotlib.axes._subplots.AxesSubplot at 0x1a279e20f0\u003e"
            ]
          },
          "execution_count": 26,
          "metadata": {},
          "output_type": "execute_result"
        },
        {
          "data": {
            "image/png": "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\u003d\n",
            "text/plain": [
              "\u003cFigure size 432x288 with 1 Axes\u003e"
            ]
          },
          "metadata": {
            "needs_background": "light"
          },
          "output_type": "display_data"
        }
      ],
      "source": [
        "yrg_sentence.plot(y\u003d\u0027polarity\u0027, use_index\u003dTrue)"
      ]
    },
    {
      "cell_type": "code",
      "execution_count": 27,
      "metadata": {
        "ExecuteTime": {
          "end_time": "2019-03-01T12:09:26.421522Z",
          "start_time": "2019-03-01T12:09:26.137082Z"
        },
        "pycharm": {}
      },
      "outputs": [
        {
          "data": {
            "text/plain": [
              "\u003cmatplotlib.axes._subplots.AxesSubplot at 0x1a279e64e0\u003e"
            ]
          },
          "execution_count": 27,
          "metadata": {},
          "output_type": "execute_result"
        },
        {
          "data": {
            "image/png": "[encoded data removed]",
            "text/plain": [
              "\u003cFigure size 432x288 with 1 Axes\u003e"
            ]
          },
          "metadata": {
            "needs_background": "light"
          },
          "output_type": "display_data"
        }
      ],
      "source": [
        "yrg_word_info.plot(y\u003d\u0027polarity\u0027, use_index\u003dTrue)"
      ]
    },
    {
      "cell_type": "markdown",
      "metadata": {
        "pycharm": {}
      },
      "source": [
        "## Moon Text Analysis"
      ]
    },
    {
      "cell_type": "code",
      "execution_count": 28,
      "metadata": {
        "ExecuteTime": {
          "end_time": "2019-03-01T12:09:27.357716Z",
          "start_time": "2019-03-01T12:09:26.579083Z"
        },
        "pycharm": {}
      },
      "outputs": [],
      "source": [
        "moon_word_info, moon_sentence, moon_noun_phrase \u003d story_analysis(\u0027moon.txt\u0027, \n",
        "                                                                 pd.DataFrame(), pd.DataFrame(), pd.DataFrame())"
      ]
    },
    {
      "cell_type": "markdown",
      "metadata": {
        "pycharm": {}
      },
      "source": [
        "### Moon Word and Sentence Info Breakdown"
      ]
    },
    {
      "cell_type": "code",
      "execution_count": 29,
      "metadata": {
        "ExecuteTime": {
          "end_time": "2019-03-01T12:09:27.573705Z",
          "start_time": "2019-03-01T12:09:27.552073Z"
        },
        "pycharm": {}
      },
      "outputs": [
        {
          "data": {
            "text/html": [
              "\u003cdiv\u003e\n",
              "\u003cstyle scoped\u003e\n",
              "    .dataframe tbody tr th:only-of-type {\n",
              "        vertical-align: middle;\n",
              "    }\n",
              "\n",
              "    .dataframe tbody tr th {\n",
              "        vertical-align: top;\n",
              "    }\n",
              "\n",
              "    .dataframe thead th {\n",
              "        text-align: right;\n",
              "    }\n",
              "\u003c/style\u003e\n",
              "\u003ctable border\u003d\"1\" class\u003d\"dataframe\"\u003e\n",
              "  \u003cthead\u003e\n",
              "    \u003ctr style\u003d\"text-align: right;\"\u003e\n",
              "      \u003cth\u003e\u003c/th\u003e\n",
              "      \u003cth\u003eword\u003c/th\u003e\n",
              "      \u003cth\u003epart\u003c/th\u003e\n",
              "      \u003cth\u003epolarity\u003c/th\u003e\n",
              "      \u003cth\u003esubjectivity\u003c/th\u003e\n",
              "      \u003cth\u003edefinition\u003c/th\u003e\n",
              "    \u003c/tr\u003e\n",
              "  \u003c/thead\u003e\n",
              "  \u003ctbody\u003e\n",
              "    \u003ctr\u003e\n",
              "      \u003cth\u003e0\u003c/th\u003e\n",
              "      \u003ctd\u003eGrey\u003c/td\u003e\n",
              "      \u003ctd\u003eNNP\u003c/td\u003e\n",
              "      \u003ctd\u003e-0.05\u003c/td\u003e\n",
              "      \u003ctd\u003e0.1\u003c/td\u003e\n",
              "      \u003ctd\u003eProper noun, singular\u003c/td\u003e\n",
              "    \u003c/tr\u003e\n",
              "    \u003ctr\u003e\n",
              "      \u003cth\u003e1\u003c/th\u003e\n",
              "      \u003ctd\u003ewas\u003c/td\u003e\n",
              "      \u003ctd\u003eVBD\u003c/td\u003e\n",
              "      \u003ctd\u003e0.00\u003c/td\u003e\n",
              "      \u003ctd\u003e0.0\u003c/td\u003e\n",
              "      \u003ctd\u003eVerb, past tense\u003c/td\u003e\n",
              "    \u003c/tr\u003e\n",
              "    \u003ctr\u003e\n",
              "      \u003cth\u003e2\u003c/th\u003e\n",
              "      \u003ctd\u003ethe\u003c/td\u003e\n",
              "      \u003ctd\u003eDT\u003c/td\u003e\n",
              "      \u003ctd\u003e0.00\u003c/td\u003e\n",
              "      \u003ctd\u003e0.0\u003c/td\u003e\n",
              "      \u003ctd\u003eDeterminer\u003c/td\u003e\n",
              "    \u003c/tr\u003e\n",
              "    \u003ctr\u003e\n",
              "      \u003cth\u003e3\u003c/th\u003e\n",
              "      \u003ctd\u003eonly\u003c/td\u003e\n",
              "      \u003ctd\u003eJJ\u003c/td\u003e\n",
              "      \u003ctd\u003e0.00\u003c/td\u003e\n",
              "      \u003ctd\u003e1.0\u003c/td\u003e\n",
              "      \u003ctd\u003eAdjective\u003c/td\u003e\n",
              "    \u003c/tr\u003e\n",
              "    \u003ctr\u003e\n",
              "      \u003cth\u003e4\u003c/th\u003e\n",
              "      \u003ctd\u003ecolor\u003c/td\u003e\n",
              "      \u003ctd\u003eNN\u003c/td\u003e\n",
              "      \u003ctd\u003e0.00\u003c/td\u003e\n",
              "      \u003ctd\u003e0.0\u003c/td\u003e\n",
              "      \u003ctd\u003eNoun, singular or mass\u003c/td\u003e\n",
              "    \u003c/tr\u003e\n",
              "    \u003ctr\u003e\n",
              "      \u003cth\u003e5\u003c/th\u003e\n",
              "      \u003ctd\u003eMarco\u003c/td\u003e\n",
              "      \u003ctd\u003eNNP\u003c/td\u003e\n",
              "      \u003ctd\u003e0.00\u003c/td\u003e\n",
              "      \u003ctd\u003e0.0\u003c/td\u003e\n",
              "      \u003ctd\u003eProper noun, singular\u003c/td\u003e\n",
              "    \u003c/tr\u003e\n",
              "    \u003ctr\u003e\n",
              "      \u003cth\u003e6\u003c/th\u003e\n",
              "      \u003ctd\u003ehad\u003c/td\u003e\n",
              "      \u003ctd\u003eVBD\u003c/td\u003e\n",
              "      \u003ctd\u003e0.00\u003c/td\u003e\n",
              "      \u003ctd\u003e0.0\u003c/td\u003e\n",
              "      \u003ctd\u003eVerb, past tense\u003c/td\u003e\n",
              "    \u003c/tr\u003e\n",
              "    \u003ctr\u003e\n",
              "      \u003cth\u003e7\u003c/th\u003e\n",
              "      \u003ctd\u003eseen\u003c/td\u003e\n",
              "      \u003ctd\u003eVBN\u003c/td\u003e\n",
              "      \u003ctd\u003e0.00\u003c/td\u003e\n",
              "      \u003ctd\u003e0.0\u003c/td\u003e\n",
              "      \u003ctd\u003eVerb, past participle\u003c/td\u003e\n",
              "    \u003c/tr\u003e\n",
              "    \u003ctr\u003e\n",
              "      \u003cth\u003e8\u003c/th\u003e\n",
              "      \u003ctd\u003ein\u003c/td\u003e\n",
              "      \u003ctd\u003eIN\u003c/td\u003e\n",
              "      \u003ctd\u003e0.00\u003c/td\u003e\n",
              "      \u003ctd\u003e0.0\u003c/td\u003e\n",
              "      \u003ctd\u003ePreposition or subordinating conjunction\u003c/td\u003e\n",
              "    \u003c/tr\u003e\n",
              "    \u003ctr\u003e\n",
              "      \u003cth\u003e9\u003c/th\u003e\n",
              "      \u003ctd\u003ea\u003c/td\u003e\n",
              "      \u003ctd\u003eDT\u003c/td\u003e\n",
              "      \u003ctd\u003e0.00\u003c/td\u003e\n",
              "      \u003ctd\u003e0.0\u003c/td\u003e\n",
              "      \u003ctd\u003eDeterminer\u003c/td\u003e\n",
              "    \u003c/tr\u003e\n",
              "  \u003c/tbody\u003e\n",
              "\u003c/table\u003e\n",
              "\u003c/div\u003e"
            ],
            "text/plain": [
              "    word part  polarity  subjectivity  \\\n",
              "0   Grey  NNP     -0.05           0.1   \n",
              "1    was  VBD      0.00           0.0   \n",
              "2    the   DT      0.00           0.0   \n",
              "3   only   JJ      0.00           1.0   \n",
              "4  color   NN      0.00           0.0   \n",
              "5  Marco  NNP      0.00           0.0   \n",
              "6    had  VBD      0.00           0.0   \n",
              "7   seen  VBN      0.00           0.0   \n",
              "8     in   IN      0.00           0.0   \n",
              "9      a   DT      0.00           0.0   \n",
              "\n",
              "                                 definition  \n",
              "0                     Proper noun, singular  \n",
              "1                          Verb, past tense  \n",
              "2                                Determiner  \n",
              "3                                 Adjective  \n",
              "4                    Noun, singular or mass  \n",
              "5                     Proper noun, singular  \n",
              "6                          Verb, past tense  \n",
              "7                     Verb, past participle  \n",
              "8  Preposition or subordinating conjunction  \n",
              "9                                Determiner  "
            ]
          },
          "execution_count": 29,
          "metadata": {},
          "output_type": "execute_result"
        }
      ],
      "source": [
        "moon_word_info.head(10)"
      ]
    },
    {
      "cell_type": "code",
      "execution_count": 30,
      "metadata": {
        "ExecuteTime": {
          "end_time": "2019-03-01T12:09:27.767484Z",
          "start_time": "2019-03-01T12:09:27.750546Z"
        },
        "pycharm": {}
      },
      "outputs": [
        {
          "data": {
            "text/html": [
              "\u003cdiv\u003e\n",
              "\u003cstyle scoped\u003e\n",
              "    .dataframe tbody tr th:only-of-type {\n",
              "        vertical-align: middle;\n",
              "    }\n",
              "\n",
              "    .dataframe tbody tr th {\n",
              "        vertical-align: top;\n",
              "    }\n",
              "\n",
              "    .dataframe thead th {\n",
              "        text-align: right;\n",
              "    }\n",
              "\u003c/style\u003e\n",
              "\u003ctable border\u003d\"1\" class\u003d\"dataframe\"\u003e\n",
              "  \u003cthead\u003e\n",
              "    \u003ctr style\u003d\"text-align: right;\"\u003e\n",
              "      \u003cth\u003e\u003c/th\u003e\n",
              "      \u003cth\u003esentences\u003c/th\u003e\n",
              "      \u003cth\u003epolarity\u003c/th\u003e\n",
              "      \u003cth\u003esubjectivity\u003c/th\u003e\n",
              "      \u003cth\u003epos_sentence\u003c/th\u003e\n",
              "    \u003c/tr\u003e\n",
              "  \u003c/thead\u003e\n",
              "  \u003ctbody\u003e\n",
              "    \u003ctr\u003e\n",
              "      \u003cth\u003e0\u003c/th\u003e\n",
              "      \u003ctd\u003eGrey was the only color Marco had seen in a lo...\u003c/td\u003e\n",
              "      \u003ctd\u003e-0.033333\u003c/td\u003e\n",
              "      \u003ctd\u003e0.500000\u003c/td\u003e\n",
              "      \u003ctd\u003eNNP VBD DT JJ NN NNP VBD VBN IN DT JJ NN\u003c/td\u003e\n",
              "    \u003c/tr\u003e\n",
              "    \u003ctr\u003e\n",
              "      \u003cth\u003e1\u003c/th\u003e\n",
              "      \u003ctd\u003eEverything around him, the landscape, the Hut,...\u003c/td\u003e\n",
              "      \u003ctd\u003e-0.050000\u003c/td\u003e\n",
              "      \u003ctd\u003e0.100000\u003c/td\u003e\n",
              "      \u003ctd\u003eVBG IN PRP DT NN DT NNP CC RB DT NN VBD PDT DT...\u003c/td\u003e\n",
              "    \u003c/tr\u003e\n",
              "    \u003ctr\u003e\n",
              "      \u003cth\u003e2\u003c/th\u003e\n",
              "      \u003ctd\u003eThere was color, yes, in the flag on his right...\u003c/td\u003e\n",
              "      \u003ctd\u003e-0.004762\u003c/td\u003e\n",
              "      \u003ctd\u003e0.295238\u003c/td\u003e\n",
              "      \u003ctd\u003eEX VBD NN UH IN DT NN IN PRP$ JJ NN CC DT NN I...\u003c/td\u003e\n",
              "    \u003c/tr\u003e\n",
              "    \u003ctr\u003e\n",
              "      \u003cth\u003e3\u003c/th\u003e\n",
              "      \u003ctd\u003eGrey, and the blackness of space, clearly visi...\u003c/td\u003e\n",
              "      \u003ctd\u003e0.016667\u003c/td\u003e\n",
              "      \u003ctd\u003e0.194444\u003c/td\u003e\n",
              "      \u003ctd\u003eNNP CC DT NN IN NN RB JJ IN DT NN TO VB PRP$ N...\u003c/td\u003e\n",
              "    \u003c/tr\u003e\n",
              "    \u003ctr\u003e\n",
              "      \u003cth\u003e4\u003c/th\u003e\n",
              "      \u003ctd\u003eFor six months he had been alone, with nothing...\u003c/td\u003e\n",
              "      \u003ctd\u003e0.000000\u003c/td\u003e\n",
              "      \u003ctd\u003e0.100000\u003c/td\u003e\n",
              "      \u003ctd\u003eIN CD NNS PRP VBD VBN RB IN NN CC DT NN NNS CC...\u003c/td\u003e\n",
              "    \u003c/tr\u003e\n",
              "    \u003ctr\u003e\n",
              "      \u003cth\u003e5\u003c/th\u003e\n",
              "      \u003ctd\u003eWhile he’d had the incoming messages from NASA...\u003c/td\u003e\n",
              "      \u003ctd\u003e0.000000\u003c/td\u003e\n",
              "      \u003ctd\u003e0.100000\u003c/td\u003e\n",
              "      \u003ctd\u003eIN PRP VBZ NN VBD DT JJ NNS IN NNP RB DT NN IN...\u003c/td\u003e\n",
              "    \u003c/tr\u003e\n",
              "    \u003ctr\u003e\n",
              "      \u003cth\u003e6\u003c/th\u003e\n",
              "      \u003ctd\u003eJust the rocks and space dust, with occasional...\u003c/td\u003e\n",
              "      \u003ctd\u003e-0.025000\u003c/td\u003e\n",
              "      \u003ctd\u003e0.162500\u003c/td\u003e\n",
              "      \u003ctd\u003eRB DT NNS CC NN NN IN JJ JJ NNS IN DT NNP CC D...\u003c/td\u003e\n",
              "    \u003c/tr\u003e\n",
              "    \u003ctr\u003e\n",
              "      \u003cth\u003e7\u003c/th\u003e\n",
              "      \u003ctd\u003eEverything had been going smoothly at first.\u003c/td\u003e\n",
              "      \u003ctd\u003e0.250000\u003c/td\u003e\n",
              "      \u003ctd\u003e0.333333\u003c/td\u003e\n",
              "      \u003ctd\u003eNN VBD VBN VBG RB IN JJ\u003c/td\u003e\n",
              "    \u003c/tr\u003e\n",
              "    \u003ctr\u003e\n",
              "      \u003cth\u003e8\u003c/th\u003e\n",
              "      \u003ctd\u003eHe and his partner, Clarke, had landed on the ...\u003c/td\u003e\n",
              "      \u003ctd\u003e0.000000\u003c/td\u003e\n",
              "      \u003ctd\u003e0.000000\u003c/td\u003e\n",
              "      \u003ctd\u003ePRP CC PRP$ NN NNP VBD VBN IN DT NN IN DT NN R...\u003c/td\u003e\n",
              "    \u003c/tr\u003e\n",
              "    \u003ctr\u003e\n",
              "      \u003cth\u003e9\u003c/th\u003e\n",
              "      \u003ctd\u003eThe plan had been for the two of them to set u...\u003c/td\u003e\n",
              "      \u003ctd\u003e-0.200000\u003c/td\u003e\n",
              "      \u003ctd\u003e0.425000\u003c/td\u003e\n",
              "      \u003ctd\u003eDT NN VBD VBN IN DT CD IN PRP TO VB RP NN VB N...\u003c/td\u003e\n",
              "    \u003c/tr\u003e\n",
              "  \u003c/tbody\u003e\n",
              "\u003c/table\u003e\n",
              "\u003c/div\u003e"
            ],
            "text/plain": [
              "                                           sentences  polarity  subjectivity  \\\n",
              "0  Grey was the only color Marco had seen in a lo... -0.033333      0.500000   \n",
              "1  Everything around him, the landscape, the Hut,... -0.050000      0.100000   \n",
              "2  There was color, yes, in the flag on his right... -0.004762      0.295238   \n",
              "3  Grey, and the blackness of space, clearly visi...  0.016667      0.194444   \n",
              "4  For six months he had been alone, with nothing...  0.000000      0.100000   \n",
              "5  While he’d had the incoming messages from NASA...  0.000000      0.100000   \n",
              "6  Just the rocks and space dust, with occasional... -0.025000      0.162500   \n",
              "7       Everything had been going smoothly at first.  0.250000      0.333333   \n",
              "8  He and his partner, Clarke, had landed on the ...  0.000000      0.000000   \n",
              "9  The plan had been for the two of them to set u... -0.200000      0.425000   \n",
              "\n",
              "                                        pos_sentence  \n",
              "0           NNP VBD DT JJ NN NNP VBD VBN IN DT JJ NN  \n",
              "1  VBG IN PRP DT NN DT NNP CC RB DT NN VBD PDT DT...  \n",
              "2  EX VBD NN UH IN DT NN IN PRP$ JJ NN CC DT NN I...  \n",
              "3  NNP CC DT NN IN NN RB JJ IN DT NN TO VB PRP$ N...  \n",
              "4  IN CD NNS PRP VBD VBN RB IN NN CC DT NN NNS CC...  \n",
              "5  IN PRP VBZ NN VBD DT JJ NNS IN NNP RB DT NN IN...  \n",
              "6  RB DT NNS CC NN NN IN JJ JJ NNS IN DT NNP CC D...  \n",
              "7                            NN VBD VBN VBG RB IN JJ  \n",
              "8  PRP CC PRP$ NN NNP VBD VBN IN DT NN IN DT NN R...  \n",
              "9  DT NN VBD VBN IN DT CD IN PRP TO VB RP NN VB N...  "
            ]
          },
          "execution_count": 30,
          "metadata": {},
          "output_type": "execute_result"
        }
      ],
      "source": [
        "moon_sentence.head(10)"
      ]
    },
    {
      "cell_type": "code",
      "execution_count": 31,
      "metadata": {
        "ExecuteTime": {
          "end_time": "2019-03-01T12:09:49.215327Z",
          "start_time": "2019-03-01T12:09:49.201980Z"
        },
        "scrolled": true,
        "pycharm": {}
      },
      "outputs": [
        {
          "data": {
            "text/html": [
              "\u003cdiv\u003e\n",
              "\u003cstyle scoped\u003e\n",
              "    .dataframe tbody tr th:only-of-type {\n",
              "        vertical-align: middle;\n",
              "    }\n",
              "\n",
              "    .dataframe tbody tr th {\n",
              "        vertical-align: top;\n",
              "    }\n",
              "\n",
              "    .dataframe thead th {\n",
              "        text-align: right;\n",
              "    }\n",
              "\u003c/style\u003e\n",
              "\u003ctable border\u003d\"1\" class\u003d\"dataframe\"\u003e\n",
              "  \u003cthead\u003e\n",
              "    \u003ctr style\u003d\"text-align: right;\"\u003e\n",
              "      \u003cth\u003e\u003c/th\u003e\n",
              "      \u003cth\u003enoun_phrase\u003c/th\u003e\n",
              "    \u003c/tr\u003e\n",
              "  \u003c/thead\u003e\n",
              "  \u003ctbody\u003e\n",
              "    \u003ctr\u003e\n",
              "      \u003cth\u003e0\u003c/th\u003e\n",
              "      \u003ctd\u003egrey\u003c/td\u003e\n",
              "    \u003c/tr\u003e\n",
              "    \u003ctr\u003e\n",
              "      \u003cth\u003e1\u003c/th\u003e\n",
              "      \u003ctd\u003emarco\u003c/td\u003e\n",
              "    \u003c/tr\u003e\n",
              "    \u003ctr\u003e\n",
              "      \u003cth\u003e2\u003c/th\u003e\n",
              "      \u003ctd\u003elong time\u003c/td\u003e\n",
              "    \u003c/tr\u003e\n",
              "    \u003ctr\u003e\n",
              "      \u003cth\u003e3\u003c/th\u003e\n",
              "      \u003ctd\u003ehut\u003c/td\u003e\n",
              "    \u003c/tr\u003e\n",
              "    \u003ctr\u003e\n",
              "      \u003cth\u003e4\u003c/th\u003e\n",
              "      \u003ctd\u003ewashed-out grey\u003c/td\u003e\n",
              "    \u003c/tr\u003e\n",
              "    \u003ctr\u003e\n",
              "      \u003cth\u003e5\u003c/th\u003e\n",
              "      \u003ctd\u003eright shoulder\u003c/td\u003e\n",
              "    \u003c/tr\u003e\n",
              "    \u003ctr\u003e\n",
              "      \u003cth\u003e6\u003c/th\u003e\n",
              "      \u003ctd\u003ehut\u003c/td\u003e\n",
              "    \u003c/tr\u003e\n",
              "    \u003ctr\u003e\n",
              "      \u003cth\u003e7\u003c/th\u003e\n",
              "      \u003ctd\u003egrey\u003c/td\u003e\n",
              "    \u003c/tr\u003e\n",
              "    \u003ctr\u003e\n",
              "      \u003cth\u003e8\u003c/th\u003e\n",
              "      \u003ctd\u003eearth\u003c/td\u003e\n",
              "    \u003c/tr\u003e\n",
              "    \u003ctr\u003e\n",
              "      \u003cth\u003e9\u003c/th\u003e\n",
              "      \u003ctd\u003e’ d\u003c/td\u003e\n",
              "    \u003c/tr\u003e\n",
              "  \u003c/tbody\u003e\n",
              "\u003c/table\u003e\n",
              "\u003c/div\u003e"
            ],
            "text/plain": [
              "       noun_phrase\n",
              "0             grey\n",
              "1            marco\n",
              "2        long time\n",
              "3              hut\n",
              "4  washed-out grey\n",
              "5   right shoulder\n",
              "6              hut\n",
              "7             grey\n",
              "8            earth\n",
              "9              ’ d"
            ]
          },
          "execution_count": 31,
          "metadata": {},
          "output_type": "execute_result"
        }
      ],
      "source": [
        "moon_noun_phrase.head(10)"
      ]
    },
    {
      "cell_type": "markdown",
      "metadata": {
        "pycharm": {}
      },
      "source": [
        "### Moon Sentence and Word Sentiment Change Over Story"
      ]
    },
    {
      "cell_type": "code",
      "execution_count": 32,
      "metadata": {
        "ExecuteTime": {
          "end_time": "2019-03-01T12:09:50.560203Z",
          "start_time": "2019-03-01T12:09:50.269874Z"
        },
        "scrolled": true,
        "pycharm": {}
      },
      "outputs": [
        {
          "data": {
            "text/plain": [
              "\u003cmatplotlib.axes._subplots.AxesSubplot at 0x1a27b2f160\u003e"
            ]
          },
          "execution_count": 32,
          "metadata": {},
          "output_type": "execute_result"
        },
        {
          "data": {
            "image/png": "iVBORw0KGgoAAAANSUhEUgAAAYkAAAD8CAYAAACCRVh7AAAABHNCSVQICAgIfAhkiAAAAAlwSFlzAAALEgAACxIB0t1+/AAAADl0RVh0U29mdHdhcmUAbWF0cGxvdGxpYiB2ZXJzaW9uIDMuMC4yLCBodHRwOi8vbWF0cGxvdGxpYi5vcmcvOIA7rQAAIABJREFUeJzt3Xt83GWZ8P/PNZNMzudD26SHtPQEPdBCOdYVykFBV8BdVHBVwGXZddfzPrvCy33UxcVV15+Cz8/HFUFhXQURQaqCLpRWhQJtoaXn0tKkbZo2ySRpc57JzNzPH/P9JpNkjplp5tDr/XrllZnvfL+Tu9Nkrrnv+7qvW4wxKKWUUuE40t0ApZRSmUuDhFJKqYg0SCillIpIg4RSSqmINEgopZSKSIOEUkqpiDRIKKWUikiDhFJKqYg0SCillIooL90NmIra2lrT1NSU7mYopVRWef31193GmLpErsnKINHU1MS2bdvS3QyllMoqInIk0Wt0uEkppVREGiSUUkpFpEFCKaVURFk5JxHOyMgIra2tDA8Pp7spGauwsJDZs2eTn5+f7qYopbJEzgSJ1tZWysrKaGpqQkTS3ZyMY4yhq6uL1tZW5s+fn+7mKKWyRM4MNw0PD1NTU6MBIgIRoaamRntaSqmE5EyQADRAxKCvj1IqUTkVJJRSKhG7j5/m9SM96W5GRtMgkUZXXnllwosCv/SlL/HCCy8AcP/99zM4OHgmmqbUWeHrz+3nK+v3pLsZGU2DRBbx+/3ce++9XHPNNYAGCaWS5e730DPoTXczMpoGiRRqaWlh6dKl3HbbbaxcuZKbb76ZwcFBNmzYwOrVq1mxYgUf//jH8Xg8k679xCc+wZo1a1i2bBlf/vKXR483NTVx77338o53vINf/OIX3H777Tz55JN897vfpa2tjXXr1rFu3ToefvhhPve5z41e98Mf/pDPf/7z0/LvVipbdQ946R0aSXczMlrOpMCG+tdf72FvW29Kn/O8hnK+/L5lMc87cOAADz/8MGvXruXjH/843/72t/nBD37Ahg0bWLx4MR/72Mf4/ve/z2c/+9lx1913331UV1fj9/u5+uqr2blzJytXrgSC6xteeuklAH73u98B8OlPf5pvf/vbbNy4kdraWgYGBli5ciXf/OY3yc/P58c//jE/+MEPUvoaKJVLjDH0DHrxBQyBgMHh0MSOcLQnkWJz5sxh7dq1AHzkIx9hw4YNzJ8/n8WLFwNw22238cc//nHSdU888QQXXHABq1evZs+ePezdu3f0sQ996EMxf25JSQlXXXUVv/nNb9i/fz8jIyOsWLEiRf8qpXJPn8fHiN9gDPQN+9LdnIyVkz2JeD7xnylTSTNtbm7mW9/6Flu3bqWqqorbb7993HqGkpKSuJ7nzjvv5Gtf+xpLly7ljjvuSLgdSp1NuvvH5iJOD41QUayVCMLRnkSKHT16lFdeeQWAxx57jGuuuYaWlhYOHToEwE9+8hOuuOKKcdf09vZSUlJCRUUF7e3tPPfcc3H9rLKyMvr6+kbvX3LJJRw7doyf/exn3HrrrSn6FymVm7pDJqx7h3VeIpKc7Emk07nnnsujjz7K3/7t37Jo0SIeeOABLr30Uj7wgQ/g8/m46KKL+Lu/+7tx15x//vmsXr2aZcuWsWDBgtHhqljuuusurr/+embNmsXGjRsB+OAHP8iOHTuoqqpK+b9NqVwysSehwtMgkWIOh4P//M//HHfs6quvZvv27ZPO3bRp0+jtRx55JOzztbS0jLsfet6nPvUpPvWpT417/KWXXhqX5aSUCi+0J6FBIjIdbsoRp06dYvHixRQVFXH11VenuzlKZbzuAQ0S8dCeRAo1NTWxe/futPzsyspK3nrrrbT8bKWyUc+AF4dAwKBrJaLIqZ6EMSbdTcho+vok54tP7+KpN1rT3QyVIt0DXurLCnE6RHsSUeRMkCgsLKSrq0vfCCOw95MoLCxMd1Oy1lNvHGfDvo50N0OlSPeAl+oSFxVF+RokosiZ4abZs2fT2tpKZ2dnupuSseyd6VTiBjw+hkb8dPZPLqmislP3oJeaUhdDI34NElGkJEiIyHXAA4ATeMgY8/UJj38HWGfdLQbqjTGV1mN+YJf12FFjzA1TaUN+fr7uuKbOGLcVHNwaJHJG94CXOVXF9A776NUV1xElHSRExAl8D7gWaAW2ish6Y8xoXQljzOdCzv8UsDrkKYaMMauSbYdSZ9JokOjTIJEr7OGmnkGv9iSiSMWcxMXAIWPMYWOMF3gcuDHK+bcCj6Xg5yo1bTr7gumSvcM+PD5/mlujkuX1Begb9o3OSWh2U2SpCBKNwLGQ+63WsUlEZB4wH3gx5HChiGwTkVdF5KYUtEeplAsdZurq1/0Hst0payGdTlzHloo5iXAV7SKlGN0CPGmMCf0oNtcY0yYiC4AXRWSXMebtST9E5C7gLoC5c+cm22alEhIaJNz9Hhoqi9LYGpWsroHxQaJ3aARjjO4DH0YqehKtwJyQ+7OBtgjn3sKEoSZjTJv1/TCwifHzFaHnPWiMWWOMWVNXV5dsm5VKyMQgobJbT0iQKC/KxxcwDHp1GDGcVASJrcAiEZkvIi6CgWD9xJNEZAlQBbwScqxKRAqs27XAWmDvxGuVSjd3n5cSl3P0tspuE3sSoKU5Ikk6SBhjfMAngd8D+4AnjDF7ROReEQlNZ70VeNyMX+12LrBNRN4ENgJfD82KUipTuPs9LJ5ZBqBrJXJAz6AGiXilZJ2EMeZZ4NkJx7404f5Xwly3GdDt01TGc/d7WDG7koPt/TrclAPs5IPKovzRIKEZTuHlTFkOpc4kd7+X2lIXtaUu3JrdlPV6Br1UFueT53RQXqg9iWg0SCgVw/CIn36Pj9rSAmpLC3RBXQ7oGvBSXewC0OGmGDRIKBVDpxUU6uwgocNNWa/HWm0NGiRi0SChVAx2UKgtc1Fb5tIgkQO6B7xUWUGirDAPEbR+UwQaJJSKwe5J2MNNPYMjjPgDaW6VSkb3gJcaK0g4HEJpQZ5OXEegQUKpGOyJajtIgJbmyGbGGHoGx3oSgJbmiEKDhFIx2MNLNaWu0SChQ07Zq8/jY8RvRieuQYNENBoklIrB3e+hvDCPgjwndWXBNxZdUJe9uvvHFtLZtBJsZBoklIrB3e+htizYgxjtSWgabNbqHpwcJMoLtScRiQYJpWJw93lHg8PYcJPOSWSr0OJ+Nh1uikyDhFIxuPs91FnBoaQgj6J8p85JZLGucEGiWINEJBoklIqhs99DnTXcBOhaiSwXqSfh8QUYHtFy4RNpkFAqiuERP33DPmpLx95QdNV1duse8OLKc1BslX4HKC8M1jrtHdbexEQaJJSKwh6asOci7Nu6p0T2shfShe5CV66VYCPSIKFUFO6Q1dY27Ulkt+4BL1UhayRA6zdFo0FCqSjG6jaNBYm6Uhfdg158WpojK3UPeqkpDR8keoe0ftNEGiSUimI0SIS8qdSVFWDMWL69yi7hehLl2pOISIOEUlGE1m2yjS2o0yCRjbpDyoTbdLgpMg0SSkXR2eehrCCPwvyxTBh76EnnJbKP1xegb9inQSIBGiSUiiK0JIdNi/xlr1NhSnIA5DuDKbGa3TRZSoKEiFwnIgdE5JCI3B3m8dtFpFNEdlhfd4Y8dpuIHLS+bktFe5RKFXe/Z9x8BIzNT2iQyD7hVlvbtH5TeHnJPoGIOIHvAdcCrcBWEVlvjNk74dSfG2M+OeHaauDLwBrAAK9b1/Yk2y6lUsHd72VRfem4Y6UFeRTkObR+UxYKt9rapvWbwktFT+Ji4JAx5rAxxgs8DtwY57XvBp43xnRbgeF54LoUtEmplAj2JMYPN4mItaBOexLZJlpPQoNEeKkIEo3AsZD7rdaxif5SRHaKyJMiMifBa5WadiP+AKcGRyYFCQhOXuueEtmnJ8KcBATTYHWf68lSESQkzDEz4f6vgSZjzErgBeDRBK4Nnihyl4hsE5FtnZ2dU26sUvGytyitLZv8hlJX6tLhpixk/59WWtlMocqLdJ/rcFIRJFqBOSH3ZwNtoScYY7qMMfbHrh8CF8Z7bchzPGiMWWOMWVNXV5eCZisV3dhCujA9CS3NkZV6Br1UFOWT55z81qfDTeGlIkhsBRaJyHwRcQG3AOtDTxCRWSF3bwD2Wbd/D7xLRKpEpAp4l3VMqbTrjBEkuge8BAJhO74qQ3VZxf3CqSjKp9/j03IrEySd3WSM8YnIJwm+uTuBHxlj9ojIvcA2Y8x64NMicgPgA7qB261ru0XkqwQDDcC9xpjuZNukVCrYE9N1YYOEC3/A0DPopSbM4yoz9Qx4qYoSJAD6hn0RzzkbJR0kAIwxzwLPTjj2pZDb9wD3RLj2R8CPUtEOpVLJHWVOYmzVtQaJbNI94GVOdXHYx8oLx1Zda5AYoyuulYrA3e+h2OWk2DX5s5Suus5O3QNeqouj9yR0XmI8DRJKRRBujYRNg0T2MSY4PFhdGiFIFGuQCEeDhFIRhCvJYbPnKTp1QV3W6PP4GPGbmD0J3cJ0PA0SSkXg7vNG7EmUF+XhcmppjmwSrSQHjJ+TUGM0SCgVQWeYCrA2EaGm1KU9iSwSrSQH6JxEJBoklArD5w/QMxi5JwG6oC7bxOpJFOY7cDkdGiQm0CChVBjdA16MCW5VGkltqUuDRBaJ1ZMQkWD9Jt3nehwNEkqFYa+2roswcQ3ak8g2sXoSoPWbwtEgoVQY4fa2nqi2rICufi3NkS26B7y48oI70EWi9Zsm0yChVBh2SY5YcxK+gNE3lSzRbdVtEglXfDpIg8RkGiSUCmO0AmyMOYnQc1Vm6x7wUhVhjYStoihf10lMoEFCqTDc/R4K8x2URBmaGF1Qp0EiK3QPeqmJMscEus91OBoklArD3R9Mf402NBFa5E9lvrh7EkMjOs8UQoOEUmFEq9tkG63fpAvq0uJY9yAP/ekwxsT3ht494I2a2QTBIBEw0O/VNFibBgmlwujsix0kKovycTpE5yTS5JdvtPJvv93Hka7BmOd6fQH6hn1xBQlA02BDaJBQKgx3v5e6MPtIhHI4hJoSXVCXLu29wdd9x7FTMc89NRgcEoy1T0R5UbAsvM5LjNEgodQE/oCheyB2TwLsBXU6J5EOHb3DQHxBwl5tHWnrUlu51m+aRIOEUhP0DHoJmOhrJGy1ZbrqOl3a+4JBYvvRnpjn2qut45m4Bh1uCqVBQqkJRtdIxNWTcOnEdZrYw017T/QyPOKPeu5oTyJGCuxYkNCJa5sGCaUmcPfZJTli73NcZw03xZtho1LD5w/g7vewdGYZI37D3hO9Uc/vGYyvJ6HDTZOlJEiIyHUickBEDonI3WEe/7yI7BWRnSKyQUTmhTzmF5Ed1tf6VLRHqWTEs9raVltagNcfoHdYP3lOp2BghnctmwnA9qPR5yW6+u0gkR/1vFJXHg7RIBFq8g7vCRIRJ/A94FqgFdgqIuuNMXtDTtsOrDHGDIrIJ4BvAh+yHhsyxqxKth1KpUpCw01lY6U57KEKdea1W5PWKxsrmFVRGHPyumfQS0VRPnnO6J+LHY5guXANEmNS0ZO4GDhkjDlsjPECjwM3hp5gjNlojLGTmV8FZqfg5yp1RnT2e3A5HZQXxv4MVVdaCOiCuulmB4kZ5YWsnlvJjmPRJ6+7rOJ+8Sgv1PpNoVIRJBqBYyH3W61jkfw18FzI/UIR2SYir4rITSloT07Yffw073ngT5o5kwbBva2jVwu1jfUkNA12OrVbQXlGeQGr5lRyrHso6t9Kz4A35hoJm1aCHS8VQSLcX1LYWTwR+QiwBviPkMNzjTFrgA8D94vIORGuvcsKJts6OzuTbXPGW/9mG3tP9PLC3vZ0N+Ws446yt/VEo6U5NJhPq47eYZwOoaa0gFVzqgDYEWVeIp6SHDYNEuOlIki0AnNC7s8G2iaeJCLXAF8EbjDGjP5FGWParO+HgU3A6nA/xBjzoDFmjTFmTV1dXQqandlePuQGYNOB3A+ImSaeuk22qmIXDtEgMd3ae4epKy3A6RBWNFbgdEjUeYnuAS/VMTKbbBokxktFkNgKLBKR+SLiAm4BxmUpichq4AcEA0RHyPEqESmwbtcCa4HQCe+zUs+Al70nenHlOXjpkBuvL5DuJp1VgkEivjcUp0OoLtEFddOtvdfDjPJgIC9yOVk6syxikDDG0DPopTrO/9PgFqaarWZLOkgYY3zAJ4HfA/uAJ4wxe0TkXhG5wTrtP4BS4BcTUl3PBbaJyJvARuDrE7KizkqvHO7CGLhjbRP9Hh/bjnSnu0lnjUDA0GWVCY9XbamLzj6dk5hO7b3D1JcXjt5fNaeSN4+dClviu8/jY8Rv4u5JlFvlwnXtS1DSKbAAxphngWcnHPtSyO1rIly3GViRijbkkpcPuSlxOfn7Kxbyo5ea2XSgk8vPqU13s84Kp4dG8AVMQkGiTktzTLuOPg9rmqpG76+eW8VPXzvK2539LJpRNu5cuyRHInMSXn+A4ZEARVE2nTpb6IrrDLT57S4uWVBDRXE+F8+vZtOBjtgXqZRIZCGdLVjkT4PEdPH4/HQPeJlRNr4nAbA9zJBT1xSCBOiCOpsGiQzTdmqIZvcAl59TA8C6JfW81d5Pa0/smvkqeZ2jC+nie0Oxz3X3e3R4Ypp0jqa/jgWJBbUllBXmhV15nWhPorzQqt+kayUADRIZx85qWrswOLx05ZJgJpdmOU0Pe71DfYI9ieGRAAPe6EXmVGrYhf3qy8f+jxwOYdWcyrCT19qTSI4GiQyz+e0uakpcLLHGVc+pK2V2VZEGiWlir5xObOI6/m1Mj3YNao8jSR0hq61DrZ5TyYGTvQxO2Hp0KnMSAKcHNUiABomMYozh5UNuLjunBocjuEZRRFi3pJ6XD7nx+PST6pnW2e8h3ykJ1WGy5y86Y8xL7Dh2iiu+tZHHtx6Lep6Krj1CkFg1t5KAgV2tp8cd7x7w4spzUBznJLT2JMbTIJFB3u7sp6PPMzrUZFu3tI6hET9bmjUV9kxz93moKSmIqySHzZ6/iNWT+NFLzRgDD7/UrL2JJJzsDQbyiRVdz58dfvLaXkgX7/+pXS5c5ySCNEhkkJcPdQGwdkK662ULanHlOdi4X4eczrRgSY74J60huKeEfW0kJ08P8+yuE8yvLeFQRz8vWXNPKnEdvcPUlxVOetOvKS1gXk3xpPIciZTkAEYLO2pPIkiDRAZ5+ZCb2VVFzK0pHne8yOXk0gU1bHpLU2HPNHeCC+kgONYtAp1Rivz996tH8BvDDz92IbWlLn78ckuSLT17tfcNj662nijc5HX3YGJBIs/poLQgT4OERYNEhvAHDK8e7prUi7CtW1LH4c4BjnQNTHPLzi6J1G2y5TkdVBW7IvYkhkf8/GzLUa45dwYL68v48CXzeHF/B81u/b+cimBJjsKwj62aU8nJ3mFOnB4aPZZoTwK0flMoDRIZYvfx0/QO+7h8YU3Yx69cUg9oKuyZZEziJTls0fa6Xv9mG90DXu64vAmAj1wyl3yn8OjmliRae/Zq7x2OGCRWz51cEXYqQaKsUOs32TRIZIiX3w6OUUcqvzG/toSmmmJdfX0G9Q758PoDCS2ks0VadW2M4ZGXW1gyo4zLrAWS9eWFvHfFLJ58vZU+nRxNyKDXR9+wb9waiVDnzirD5XSMDjl5fQH6hn1T6kn0ak8C0CCRMTYf6mLJjDLqoiziunJJPZvf7mJ4RFNhzwQ7hTXa/0EkwSAxeU5iS3M3e0/0cvvapnETrXesnU+/x8eTr7dOvcFnoQ5rIV1oSY5QBXlOzmsoH115fWrQ2ttah5umTINEBhge8bO1pTviUJPtyiV1eHwBXjncNU0tO7sksrf1RJF6Eo9sbqGyOJ+bVo3frPH8OZWsnlvJo5tbwlYujeZsTp+NtEYi1Ko5lew6fhqfPzC62jrerUttGiTGaJDIAG8c7cHjC0SctLZduqCGwnwHf9B5iTMiqSBR5mLQ6x+32re1Z5Df7znJLRfNDVtN9I6182npGkwoa+2hPx3mkq9tYP/J3oTbmAtCty2NZPXcSoZG/Bxo7xtdbV0VZ5lwW3mR7nNt0yCRATYf6sLpEC5ZUB31vMJ8J5efU8uL+zvO6k+TZ8pYSY6pzUkEn2NsyOknrxxBRPjoZfPCXnP98pnMKC+IOx32xf3t3PfsPjr7Pdz56Da6zsLKs3ZJjvooPYnV9namx06N9SQS/D+tKMpn0OtnxK8bfmmQyAAvv+1m5ewKygpjl4JYt6SOo92Dmj55Brj7vTgdkvCnThhbUGfPawx6fTy25SjvXjaDxsqisNfkOx189NJ5/Omgm4PtfVGf/2B7H59+bAfnzSrnsb+5lI4+D5/46Rtn3a6F7b3DFOY7Rhe8hTOnuojqEhfbj56iZ3BqPQktzTFGg0Sa9Q2PsLP1dMyhJpudCrtRh5xSzt3vobrENVo3KxG1E1ZdP739OL3DPu5YOz/qdbdePBdXnoNHoqTDnhr0cud/baMw38kPP7aGSxfU8B83r2RLczdf+fWes6pXaa+RiFZiQ0RYbS2q6+q3g0T8tbhAg0QoDRJp9trhbvwBE3PS2januphz6ko0FfYMmMpCOptdysPeV+KRl1tY3ljOmnlVUa+rKS3gxvMbeOqN42Grjo74A/zDz97gxKlhfvDRC2mweiU3rmrkE1eew89eO8p/v3pkSm3ORu29wxEzm0KtmlPJoY5+jnQNUFGUT54zsbe68qJgT0XTYDVIpN3Lb7spyHNwwdzobyah1i2p57XD3ZNKIqvkdPZ7pzQfAVBTMjYn8fKhLg529HP75fPjKip3+9omhkb8/Hzb0UmP3ffbfbx8qIuv/cUKLpwQcP7Xu5Zw9dJ6vvLrvWw+S2pBdfR5Iq6RCLVqbrDY3x8PuhPObALtSYTSIJFmmw91cVFTNYX58e+le+WSerz+AJsPaSpsKrn7PKNzC4ly5TmoKMrH3e/hkc3N1Ja6eN/5s+K6dllDBRfPr+bRzUfwhUyUPrblKI9sbuHOd8zn5gtnT7rO6RDuv2UVC2pL+PufvZGyki2nh0b408FOhjJsEyVjTNTV1qHOn1OJSHC1daJrJECDRKiUBAkRuU5EDojIIRG5O8zjBSLyc+vx10SkKeSxe6zjB0Tk3aloT7bo7PNwoL0v7qEm20Xzqyh2ObXgXwoZY6wKsFMLEhDMinrjaA8b9nfw4YvnUpAXf+D/+Nomjp8a4oV9wf/T1w538b9/tZsrFtdxz3vOjXhdWWE+D922BoA7H92W1AruvW293PPULi792gY++vAWLv33Dfzbb/bSkiFJEv0eH4Nef9T0V1t5YT7n1JUC8W82NO56u1y4BgkipwjESUScwPeAa4FWYKuIrDfG7A057a+BHmPMQhG5BfgG8CEROQ+4BVgGNAAviMhiY0xaPsKcPD3Mi/s72HigAwHWNFVx4bxqljeWJ/QHH6/NVimOeCetbQV5TtYurGXj/k6MMQntfaDC6/f48PimVpLDVltawGvN3eQ5hI9cGj7tNZJrzg1mQf345WaWNZTziZ++wdyaYr5762qcMSbS59WU8H8/fAEf/dEWPvv4Dh782JqY19i8vgDP7T7BT145wrYjPRTmO7jx/EauXFLHb3ed4JHNLTz0UjPvXFzHxy6dx7ql9XE/d6rZ25bG05OAsXmJ6ilkq43tc61DukkHCeBi4JAx5jCAiDwO3AiEBokbga9Yt58E/n8JvrPdCDxujPEAzSJyyHq+V1LQrpgCAcPO46d5cV87G/Z3sKctuEBpTnURThH+Z287EBxKWDW7kgubqlgzr4oL51VROYVfvIk2H+qivDCP5Y0VCV+7bkk9z+9t51BHP4usrU7V1NklNaY6cQ1jO9S9d+WsqHn84eQ5HXzssnn8+3P7+fBDr+LzB3joY2vi3iHv8oW1fPl95/GlZ/bwrf85wBeuWxr1/LZTQ/zstaM8vvUo7n4vTTXF/Mt7z+UDF86hwsoEun7FLDp6h3lsyzF+tuUId/7XNhori/irS+fyoTVzqEnitZqK0TUScUxcQzBIPPl6K9VTCPyF+U4K8hw63ERqgkQjELofYytwSaRzjDE+ETkN1FjHX51wbSNnUCBg2LC/g+f3nuTF/Z24+z04BNbMq+bu65dy9dJ6FtaXIiJ09nl4/Ug321p62Hakhx/+8TDft0ooNFYWke+M/InKIcKF86q4YVUDly2oCZtd8fLbbi5dUDOlT2ZXLqkD4MX9HVkfJL638RAA/7Bu4ZSuN8bw8Ue2JrV2xGOtN0gmSNjzGbHSXiO55aK53P/CQY73DPHIHRezwBouiddHL53H/pN9fH/T2zy76wSRfqsMcKx7EANcvbSej17WxJ8trA2b+ltfXshnrlnE3687hxf2tvNfrxzhm787wP3PH6ShMrFAOFFhvpPv/dUFo8NCsbT32SU54vs/Wm1NXk+lJwFWaY4U7HP9zI7jvNbczdfev2LKz3H3L3fyaprK8aQiSIT7XZyYuB3pnHiuDT6ByF3AXQBz585NpH2j3mrv456ndvH6kR7KCvO4ckk9Vy+t58oldWF7BnVlBVy3fBbXLQ9OQA55/bzZeorXj/RwsL0vfEMtQ14/z+0+yS9eb6W21MV7V8zihlUNXDC3ChHhaNcgrT1D/M2fLZjSv6WhsogVjRX8emcbf3vFOVN6jkxgjOFHLzVTUZQ/5SDR0edh44FOVs+tZG51cewLIigpyJuUQZSID66ZQ0NlIavmVE7p+orifP7jAyvJczh45+K6hK8XEb7yvmVUFuVz/NRQ1HPft7KBD100hzlxvl75TgfXr5jF9StmcbC9jye2HaMjxnat0fgCht/uPMGmA53xBwlruCneXtq5M8v5x2sX856V8SUQTJSq+k3/s6ed3+46waevWsTMisQDa1e/h59vO8bKxgqaakuSassfpnBNKoJEKzAn5P5soC3COa0ikgdUAN1xXguAMeZB4EGANWvWJLR6aHjEz/958SA/+MNhSgvz+ObNK3n/6kbyE8ydtneIu3RBfBPNwyN+Nh3oYP2bbTy+9RiPvnKExsoi3nd+A/Y0wtoEJ61D3bS6ka/+Zi8H2/uytjdx2D27vpGOAAAfPUlEQVRA14CX00Mj+PyBhPPZgdEexOevXcyfLUr8zTVVzmso57yG8qSe489XNiR1vSvPwT/HGGpK1qIZZXzxvecl/TyvHX6BPW2n4z6/vXeY0oI8Sgvie9tyOIRPXb1oqs1LWf0mexX+H97q4EMXJf4B948HOzEGvnrTclbOntoHENt3b038mlRkN20FFonIfBFxEZyIXj/hnPXAbdbtm4EXTXCZ6HrgFiv7aT6wCNiSgjaNevmQm+vu/yPf2/g2N5zfwIbPX8EH18xJOEBMRWG+k+uWz+L//tWFbPuXa/j2B89n0YxSHvrTYb6/6W3qywri/hQVzvvOn4VD4Fc7jqew1dNrS3M3EPxkGevTbyR29k1TTXKfstT0WtZQzt62+AsVdvTGt0YiVVLVk7Brgk11j/qN+zupLXWxvCHxuctUSLonYc0xfBL4PeAEfmSM2SMi9wLbjDHrgYeBn1gT090EAwnWeU8QnOT2Af8QT2bTW+19/NMv3uSipmoubKpiQW3JpAyfrn4P9/12H09tP05TTTE/vfMS1i5MLIsolcoK8/mLC2bzFxfMpnvAy+/3nKShsiipzKT6skLesaiOX21v4x+vXTKlchLpttUKEhDsEcybwht9c9cALqdjdDWyyg7LGsp56ZCb4RF/XOuE4l1tnSoVRfm8FaOmVjzsnsRLh9x4fQFcefF/QPUHDH882MnVS2ek7e87FcNNGGOeBZ6dcOxLIbeHgQ9EuPY+4L5Efp4rz8Hz+9r5hbVhS3WJiwvmVnFRUxVrmqo43DnA157dR9+wj0+uW8gnr1qY0GK1M626xMWtF09tXmWiv1jdyGd/voNtR3q4eH70KrKZaEtLNxc1VbG1pSfYI1iS+HO0uAeCGWlZGCTPZssbK/AHDG+198U1jNLeN8yFCVQmSFYqehLDI376hn2snF3BztbTvH6kZ3SHwnjsOHaKU4MjrFuavmHUlASJ6dZUU8KWf7mWw+7+0cyj14/08MK+9tFzLpxXxb//xQoWZ+lYfbzetWwGxS4nT28/nnVBou3UEK09Q/z1O+azt62Xlq7BKT1Pi3uQ+UlO6Knpt8yav9nT1hszSARXW3viXiORCuWFefR7fAQCZsqf4u1S5Tec38C+E71sOtCRUJDYdKADh8CfLdQgkTCHQ1hYX8bC+jJusT6VB1NWezDG8O5lM7Ny+CVRxa483r1sJr/d2cZXbjjvjCz6O1O2tgSHmi5qqqaptoSWKZSVCAQMR7oH+LNF6RtKVFMzp6qYsoK8uCavTw+N4PUFEl5/kozyonyMgb5h3+jakUTZ8xFNNSVc1FTNxgMdUVfQT7TxQAcXzqua8s9PhZyq3RRMWZ3J9StmnRUBwnbT6kZ6h31TnhhLl9eauykryOPcWeXBIDGFdQ7tfcMMjwSSTg1U08/hEM5tKB9dxBrN2Grr6Z24huTqN43udlhWwLol9bzV3h93gkZH3zC7j/eObg+QLjkVJM5Wa8+poba0gKe3t6a7KQnZ2tzNhU1VOB3C/JoSjvUMJbwTmJ3+qsNN2WlZQzn7TvTij7HPdzx7W6daSoNEqWt0XiHeMv/2NsX2wtl00SCRA/KcDm44v4GN+zs5NeiNfUEG6B7wcrCjf3QeZV5NMf6AobUnsTTYFvfg6PUq+yxrqGB4JMDhzv6o540GiWnMbhot8pfEWonQci/n1JXSWFkUd49/04FO6ssKOG9WcmtvkqVBIke8f3UjXn+AZ3edTHdT4mLPR1zcFAwSdk8g0SGnlq4BXHkOGio0/TUbhU5eR2Ov7p7udRKQXE+is89DWUEehflORIR1S+vY/LYbjy96pr/PH+CPBztZt6Q+7QU8NUjkiOWN5SysL+VX27NjYd3W5m4K8hysmB1cIGTPKSRaf6nZPcC86uKzag4qlyysL8WV54g5ed3eO0xFUf60prKnargptPz8uiX1DHr9bG3uiXrdG0dP0TfsS2vqq02DRI4QEd6/upEtLd0c655aKul02tLSzao5laPZWDUlLsoK8hLOcGpxD+ikdRbLdzpYOrMsZk8iuNnQ9FadTVmQCKlCe9k5NbicDjbGmJfYeKCDPIekdQGwTYNEDrnh/GDdn/Vvhi1/lTH6PT72tPWOW9chIlYabPwBLpj+qmskst0yK8MpWKknvOleIwFQ7HLidEhSGw+5+73jKgsXu/K4ZEF17CCxv4M1TVWUFaYv9dWmQSKHzKku5uKmap56ozXqH1y6vXGkB3/ATFr8l2ga7IneYby+gNZsynLnNVRwemgkampoR+9w3PtIpIqIJL3qOtiTGN8DWreknsOdAxyN8IHo5Olh9p/sY12aU19tGiRyzE2rG3m7cyCu3PN02drSjdMhXDChxML8mmJaewbx+uJLgx0t7FermU3ZLNbkdSBg6OjzTPtwEyRXmmPEH+DU4MjkILE0+OYfafthO0U23esjbBokcsx7V8zC5XTwdAZPYL/W3M3yhnJKJpR8nldTQsDAsZ74hpyatfprTjh3ZjkOgT3Hw09edw968QXMtA83QTANdqpBostOfy0bv1fN/NoS5tUUs3F/+CCx8UAHDRWFLJ4x9QrRqaRBIsdUFOdz1dJ6ntnRhi/BhWnTwePzs+PYKS5qmlxnqinBNNgW9wAFeQ5mpuHNQ6VOkcvJgrrSiD2JsYV009+TKC/Mm/I+12ML6Sa3e92Sel453MXwyPhUWK8vwMuHurhyafpTX20aJHLQTasbcfd7ePnt9Gx3GM2u1tN4fYGwxQjnJ5gG29I1QFNNiaa/5oDlUcpzdCS4I10qVRTlT3niujNKkLhySR3DI4FJW5JuO9JNv8eXMfMRoEEiJ61bWkd5YV5Grpl4rXmsqN9EVcX5lBfGnwbb7B7Q+YgcsayhgpO9w3T1T94SNR0lOWzJzEnYxf3qwgSJSxfUUJDnYNOB8auvNx3oxOV0cHkClWLPNA0SOaggz8l7Vzbwu90nGfBMrat8pmxt6WZRfSlVJZP3FBcR5teWcCSONFh/wHCse0jXSOSIaJPXJ60gEe7N9kyzg8RUsgXdEeYkILhr5eXn1ExKhd24v4OL51dPmq9LJw0SOer9qxsZGvHz/N722CdPE3/A8HpL9M2RmmpL4hpuajs1hNcfYL5OWueE86IEifZeDzUlroR2dEuV8qJ8/AHDoDfmhpmTuPs9FLucFLvCv+GvW1rPka7B0d/31p5BDnb0p72g30QaJHLUmnlVNFYW8cs3zmxl2EMdffzgD28TiFHFE2DfiV76PL7oQaKmhLZTQzFr29hDUtqTyA2VxS4aK4vClufo6B1Oy3wEJLfqOtwaiVBXLg7OO9hZTvbQk50imyk0SOQoh0P48CVz+dNBN7/deeKM/ZzvvHCQf39uPz96uTnmuVuizEfYmmqLg2mwMUqLtGj6a85Z1lDO3nA9ib7pL8lhq7aGRd1h5kpimViSY6K5NcUsqCsZHXLadKCDOdVFLMiwDz4aJHLYXe9cwKo5ldzz1M64NzpJRO/wCC/sbacgz8E3fref3RHy3G1bW7qZXVVEQ2Xkiq32m36zO3qQaHYPUpTvTNubh0q9ZQ0VHHYP0D9hHq291zOtJcJDNVq/q21T+Ptx93mj9iQgmAr7WnM3pwa9vHyoKyOqvk6UVJAQkWoReV5EDlrfJ+1SLiKrROQVEdkjIjtF5EMhjz0iIs0issP6WpVMe9R4+U4H371lNQEDn3t8R8yNXRL1u10n8fgCfP8jF1Bd4uLTj29n0Bt+otwYw9aW7pj7cMdbMryla4B5NcUZ9welpm55Y3BeYt+Jsd6Ezx/A3Z+e1dYwFiQS3ecEJleADWfdknq8vgD3v3CQoRF/RqW+2pLtSdwNbDDGLAI2WPcnGgQ+ZoxZBlwH3C8iobue/5MxZpX1tSPJ9qgJ5tYU89WblrGlpZvvbTyU0ud+evtxmmqKWbeknu98cBXN7gG++pu9Yc897B7A3e8d3T8ikspiF5XF+TTHSINtcQ9oYb8cs6whWDY+dOW1u9+LMelZIwFQWZxPscuZcE/c5w/QPRi7J3HR/CqKXU5+8uoRXHkOLl2QOamvtmSDxI3Ao9btR4GbJp5gjHnLGHPQut0GdACZNX2f496/ejbvX93IAxsO8vqR7pQ8Z9upIV5t7uKm1Y2ICJcvrOXvrjiHx7Yc47ldk+dAttrzETF6EhAccjoSJUj4/AGO9QzqpHWOmVFeQE2Ja1yGUzrXSEAwLbuxsojjCfYkugeDwa0uypwEBNPVLz+nFn/AcNmCGopc07dfRrySDRIzjDEnAKzvUftKInIx4ALeDjl8nzUM9R0R0QHmM+TeG5fRUFnIZx7fkdR2jLb1b7ZhTDDV1vb5axdz/uwK7n5q16Qx3C3N3dSWuuKalJtfWzK6LWk4baeGGfEbTX/NMSLCeRNWXqezJIetobKIttOJBYnOvsirrSeyNxZal2Gpr7aYQUJEXhCR3WG+bkzkB4nILOAnwB3GGLuo0D3AUuAioBr4QpTr7xKRbSKyrbMzvj1i1ZiywnweuGU1J04P88WndyddSvxX249zwdxK5oW8Uec7HTxwy2pG/AE+9/PxcyBbWrq5qKk6rjmEppoS2k4PTaprY2vW9NectayhgoMdfaOVgNutN9t09SQAGqsS70mMLaSLHST+fEUDt1w0hxtWNcY8Nx1iBgljzDXGmOVhvp4B2q03fzsIhC1rKCLlwG+BfzHGvBry3CdMkAf4MXBxlHY8aIxZY4xZU1eXmRE3010wt4rPXbOIX7/ZxlNvTL1kx74Tvew/2TeuF2Frqi3h3huX81pzN9/fFJwDaTs1RGvPUMxJ67HnKMYYOBohDXYs/VVLcuSaZQ3ljPgNb7X3AcE1Eg4J7lyYLo2VRfQMjkRMygjHnUBPoqI4n6//5crRdNtMk+xw03rgNuv2bcAzE08QERfwNPBfxphfTHjMDjBCcD5jd5LtUTF84sqFXDK/mi89szuhDX5C/Wr7cfIcwntXNoR9/C8vaOSG8xv4zgsHeeNoD1tbYq+PCDWWBhu+fc3uAUpcTuri+JSmsotdnsNeL9HeO0xtaQF5zvRl68+uSjwNdqwCbGa+8Sci2Vf+68C1InIQuNa6j4isEZGHrHM+CLwTuD1MqutPRWQXsAuoBf4tyfaoGJwO4TsfWkWe08FnHt8e9wY/Nn/A8MyONq5cUhfxk4+I8G/vX86sikI+8/h2XtzfQVlBHufOKo/rZ8QqGR5Mfy3R9Ncc1FRTQonLyW5r5XU6ti2dqGEKabDufg8FeQ5KM6gG01QlFSSMMV3GmKuNMYus793W8W3GmDut2/9tjMkPSXMdTXU1xlxljFlhDV99xBjTn/w/ScXSUFnEN/5yBW+2nuY7L7yV0LWvHe7iZO8wN4UZagpVXpjPA7esou3UMM/saOPCpiqccZb0rijKp7rEFbEarKa/5i6HY/zkdXtv+lZb2+y1Eomkwdp7W+fCBxldcX2Wum75LG69eC7/+Ye32XzIHfd1T20/TmlBHtecOyPmuRfOq+YzVy8C4h9qsjXVFIcdbhrxBzjWM6QlwnPYsoYK9p3oxW9tW5quNRK2GeWFOB2S0OR1PAvpsoUGibPYl/78PBbUlvC5J3bQM+CNef6Q18/vdp/k+uUzKcyPL5/7H9Yt5Ks3LuPWi+cm1LamCCXDj/cM4Q8YrdmUw85rKGfQ6+dgRx/dA960leSwOR3CzPLChOYkOvs8MddIZAsNEmexIpeTB25ZTc/ACP/8y50x02Jf2NdOv8fH+y+IP1XP6RA+ellTwpkbTTUlnDg9zNCEEs12+qsON+Uue/J64/5gqnu6h5vASoOdwnBTLtAgcZZb3ljBP1+3hOf3tvPT145GPfdX248zq6KQS+ef+dIB9uT1ke7xQ072ZPY87UnkrEX1ZeQ7ZbSEdronrgFmJ7Dq2h8wdA9ELxOeTTRIKD6+dj5XLK7jq7/Zy0ErP32irn4Pf3irkxtWNUzLntL2auqJGU4t7gFKC/JyIrVQhefKc7B4RhmvH+0BoD5DehIne4fx+WNnA/YMegmY3Eh/BQ0SimBGybc+cD5lhXl86rHtYVc6/3bXCXwBE3YB3ZlgT0xPLBne3DVIU61Wf811yxsqRlfsz8yAnkRDZREBM7aVajT2Gom6NM+lpIoGCQVAXVkB/3Hz+ew/2cfXn9s/6fGntx9n6cwyls6Mb61DssoK86ktdYXtSeikde5bZpUNz3cKVcXp/0Q+mgYbx5CTu88qyaE9CZVr1i2t5461TTyyuYUX94/tjd3iHmD70VPT1ouwNdWUjCsZ7vUFaO0Z1Enrs4A9eV1fVjgtw5uxNNqrruMo9De62lpTYFUu+sJ1S1k6s4x/+sVOOvqCXeuntx9HBG5YFb4Mx5kSTIMdCxKtPYMEjG5ZejZYOrMckcyYj4AEexL98ddtygYaJNQ4hflO/s+tqxnw+vjHJ94kEDD8asdxLltQw6yKyNuOnglNNcW093pGC6u1jFZ/1YV0ua6kII/zZpVnTK+xMN9JTYkrrjTYzn4PLqeD8sLsL8kBGiRUGItmlPG///w8/nTQzeee2MGRrsGYZTjOhLEaTsHJa3sSW3sSZ4f/+vjF/OsNy9LdjFGNVUVx1W8K7m3typnkCg0SKqwPXzyXd503g2d2tFGQ5+D65TOnvQ12MLB7EC3uAcoK8zK2pLJKrZrSAsoK89PdjFGNlUVxrbrOpZIcoEFCRSAifOMvV9JQUch7V85Kyx+r3ZOwazi1dAUL++XKJzSVXRoqg6uuY1UmcPfnzkI6gNwYNFNnRFWJi+c/fwX5aarlX1qQR11ZwWgabLN7gAvmVqWlLUo1VhYxPBKge8BLTZQg4O73jGZn5QLtSaioSgrycOWl79dkfk0JLV0DeHx+2k4N6ZalKm1G02BPRV5QFwgYunKobhNokFAZrqm2mJauQY51DxEwMF8zm1SajO0rEX5bXYDTQyP4AkaDhFLTZV5NCZ19HvZYO5VpYT+VLo1x7FCXawvpQIOEynB2nvwfDgTLRs/XIKHSpLI4n2KXM+paic4c2tvapkFCZTQ7DXbTW51UFOVTpemvKk1EJGYarLs/WLepToeblJoe9urq7gGvTlqrtLPTYCNx9+VWSQ5IMkiISLWIPC8iB63vYfMTRcQvIjusr/Uhx+eLyGvW9T8XEf2YqMYpduWN7kw2v0YnrVV6NVZF33yos99DnkOoKMqcRYDJSrYncTewwRizCNhg3Q9nyBizyvq6IeT4N4DvWNf3AH+dZHtUDrKHnLQnodKtsbKInsGR0XpiE7n7PNSUujKicm2qJBskbgQetW4/CtwU74USXDZ7FfDkVK5XZw978jpTir2ps9fs0bUS4XsTubbaGpIPEjOMMScArO/1Ec4rFJFtIvKqiNiBoAY4ZYyxQ3IrMP1V5FTGs9NeNf1VpVtDjDRYd44tpIM4ynKIyAtAuOpuX0zg58w1xrSJyALgRRHZBfSGOS9iURQRuQu4C2Du3LkJ/GiV7d69bAb7T/aydGZZupuiznJjC+oi9yQWz8it39OYQcIYc02kx0SkXURmGWNOiMgsoCPCc7RZ3w+LyCZgNfBLoFJE8qzexGygLUo7HgQeBFizZk30ClsqpyyoK+WBW1anuxlKMaO8kDyHhB1uMsYqyVGWW/k3yQ43rQdus27fBjwz8QQRqRKRAut2LbAW2GuCpRQ3AjdHu14ppTKF0yHMrCgMm+HUO+TD6w/k1BoJSD5IfB24VkQOAtda9xGRNSLykHXOucA2EXmTYFD4ujFmr/XYF4DPi8ghgnMUDyfZHqWUOqMirZXozLFtS21JlQo3xnQBV4c5vg2407q9GVgR4frDwMXJtEEppabT7MoiXmvunnQ81/a2tumKa6WUSkBjVREne4fx+QPjjo8V99M5CaWUOms1VBbhDxhO9o7fVyIXS3KABgmllErIaBrshMlrd78Xh0BVsfYklFLqrDW6Q93piUHCQ3VJAc4cKskBGiSUUiohkXsSnpzaR8KmQUIppRJQmO+kpsQ1KQ22s99LXQ7tSGfTIKGUUglqrCri+KnJE9e5NmkNGiSUUiphjZVFHO8ZHL1vjNHhJqWUUkH2qutgdSHo9/jw+ALak1BKKRXsSQyPBOgeCO5pbe9trUFCKaXUWBqsNS8xttpag4RSSp31xvaVCM5LjK221jkJpZQ66zVO2KHO7knkWplw0CChlFIJqyzOp9jlHB1u6uz3IgLVJdqTUEqps56IBNNg7eGmfg9VxS7ynLn3lpp7/yKllJoGwQV11nBTnycnh5pAg4RSSk1JQ2XRaP0md78n5/aRsGmQUEqpKWisLKJncIRBrw93vzcn10iABgmllJqS2aNrJYbozNG6TaBBQimlpqTBSoM92N7P0Ihfg0Q4IlItIs+LyEHre1WYc9aJyI6Qr2ERucl67BERaQ55bFUy7VFKqelir5XY0XoKyM2FdJB8T+JuYIMxZhGwwbo/jjFmozFmlTFmFXAVMAj8T8gp/2Q/bozZkWR7lFJqWswoLyTPIew8dhrIzZIckHyQuBF41Lr9KHBTjPNvBp4zxgzGOE8ppTKa0yHMrChk1/FgkNAU2PBmGGNOAFjf62Ocfwvw2IRj94nIThH5jojk5quslMpJDZVF9Ht8QG5WgIU4goSIvCAiu8N83ZjIDxKRWcAK4Pchh+8BlgIXAdXAF6Jcf5eIbBORbZ2dnYn8aKWUOiNmW/MSADU5OieRF+sEY8w1kR4TkXYRmWWMOWEFgY4oT/VB4GljzEjIc5+wbnpE5MfA/4rSjgeBBwHWrFljYrVbKaXONLtkeGVxPvk5WJIDkh9uWg/cZt2+DXgmyrm3MmGoyQosiIgQnM/YnWR7lFJq2thpsLk61ATJB4mvA9eKyEHgWus+IrJGRB6yTxKRJmAO8IcJ1/9URHYBu4Ba4N+SbI9SSk2bxtEgkZtDTRDHcFM0xpgu4Oowx7cBd4bcbwEaw5x3VTI/Xyml0skebtKehFJKqUkaz4LhpqR6EkopdTYrzHfyxfecy+ULa9LdlDNGg4RSSiXhb965IN1NOKN0uEkppVREGiSUUkpFpEFCKaVURBoklFJKRaRBQimlVEQaJJRSSkWkQUIppVREGiSUUkpFJMZkX9VtEekDDqS7HXGoBdzpbkQcsqGd2dBG0HammrYztZYYY8oSuSBbV1wfMMasSXcjYhGRbdrO1MiGNoK2M9W0naklItsSvUaHm5RSSkWkQUIppVRE2RokHkx3A+Kk7UydbGgjaDtTTduZWgm3MysnrpVSSk2PbO1JKKWUmgZZFSRE5DoROSAih0Tk7nS3JxIRaRGRXSKyYyrZBGeKiPxIRDpEZHfIsWoReV5EDlrfq9LZRqtN4dr5FRE5br2mO0TkPelso9WmOSKyUUT2icgeEfmMdTxjXtMobcyo11NECkVki4i8abXzX63j80XkNeu1/LmIpHUz6SjtfEREmkNez1XpbKdNRJwisl1EfmPdT/z1NMZkxRfgBN4GFgAu4E3gvHS3K0JbW4DadLcjTLveCVwA7A459k3gbuv23cA3MrSdXwH+V7rbNqGds4ALrNtlwFvAeZn0mkZpY0a9noAApdbtfOA14FLgCeAW6/h/Ap/I0HY+Atyc7tcxTHs/D/wM+I11P+HXM5t6EhcDh4wxh40xXuBx4MY0tymrGGP+CHRPOHwj8Kh1+1HgpmltVBgR2plxjDEnjDFvWLf7gH1AIxn0mkZpY0YxQf3W3XzrywBXAU9ax9P++xmlnRlHRGYD7wUesu4LU3g9sylINALHQu63koG/7BYD/I+IvC4id6W7MTHMMMacgOAbClCf5vZE80kR2WkNR6V9WCyUiDQBqwl+sszI13RCGyHDXk9raGQH0AE8T3Dk4JQxxmedkhF/8xPbaYyxX8/7rNfzOyJSkMYm2u4H/hkIWPdrmMLrmU1BQsIcy8gIDqw1xlwAXA/8g4i8M90NygHfB84BVgEngP8vvc0ZIyKlwC+BzxpjetPdnnDCtDHjXk9jjN8YswqYTXDk4Nxwp01vq8I0YEI7RWQ5cA+wFLgIqAa+kMYmIiJ/DnQYY14PPRzm1JivZzYFiVZgTsj92UBbmtoSlTGmzfreATxN8Bc+U7WLyCwA63tHmtsTljGm3frjDAA/JENeUxHJJ/jm+1NjzFPW4Yx6TcO1MVNfTwBjzClgE8Gx/koRscsHZdTffEg7r7OG9YwxxgP8mPS/nmuBG0SkheDQ/FUEexYJv57ZFCS2Aous2XkXcAuwPs1tmkRESkSkzL4NvAvYHf2qtFoP3Gbdvg14Jo1tich+07W8nwx4Ta0x3oeBfcaYb4c8lDGvaaQ2ZtrrKSJ1IlJp3S4CriE4f7IRuNk6Le2/nxHauT/kQ4EQHOdP6+tpjLnHGDPbGNNE8L3yRWPMXzGV1zPds+8JztS/h2B2xtvAF9PdnghtXEAw8+pNYE8mtRN4jODQwgjBntlfExyn3AActL5XZ2g7fwLsAnYSfBOelQHtfAfB7vpOYIf19Z5Mek2jtDGjXk9gJbDdas9u4EvW8QXAFuAQ8AugIEPb+aL1eu4G/hsrAyoTvoArGctuSvj11BXXSimlIsqm4SallFLTTIOEUkqpiDRIKKWUikiDhFJKqYg0SCillIpIg4RSSqmINEgopZSKSIOEUkqpiP4flstzW1poLBMAAAAASUVORK5CYII\u003d\n",
            "text/plain": [
              "\u003cFigure size 432x288 with 1 Axes\u003e"
            ]
          },
          "metadata": {
            "needs_background": "light"
          },
          "output_type": "display_data"
        }
      ],
      "source": [
        "moon_sentence.plot(y\u003d\u0027polarity\u0027, use_index\u003dTrue)"
      ]
    },
    {
      "cell_type": "code",
      "execution_count": 33,
      "metadata": {
        "ExecuteTime": {
          "end_time": "2019-03-01T12:09:50.849060Z",
          "start_time": "2019-03-01T12:09:50.563846Z"
        },
        "pycharm": {}
      },
      "outputs": [
        {
          "data": {
            "text/plain": [
              "\u003cmatplotlib.axes._subplots.AxesSubplot at 0x1a2793c710\u003e"
            ]
          },
          "execution_count": 33,
          "metadata": {},
          "output_type": "execute_result"
        },
        {
          "data": {
            "image/png": "[encoded data removed]",
            "text/plain": [
              "\u003cFigure size 432x288 with 1 Axes\u003e"
            ]
          },
          "metadata": {
            "needs_background": "light"
          },
          "output_type": "display_data"
        }
      ],
      "source": [
        "moon_word_info.plot(y\u003d\u0027polarity\u0027, use_index\u003dTrue)"
      ]
    },
    {
      "cell_type": "markdown",
      "metadata": {
        "pycharm": {}
      },
      "source": [
        "## Mobster Text Analysis"
      ]
    },
    {
      "cell_type": "code",
      "execution_count": 34,
      "metadata": {
        "ExecuteTime": {
          "end_time": "2019-03-01T12:09:51.538760Z",
          "start_time": "2019-03-01T12:09:51.189305Z"
        },
        "pycharm": {}
      },
      "outputs": [],
      "source": [
        "mobster_word_info, mobster_sentence, mobster_noun_phrase \u003d story_analysis(\u0027mobster.txt\u0027, \n",
        "                                                                          pd.DataFrame(), pd.DataFrame(), pd.DataFrame())"
      ]
    },
    {
      "cell_type": "markdown",
      "metadata": {
        "pycharm": {}
      },
      "source": [
        "### Mobster Word and Sentence Info Breakdown"
      ]
    },
    {
      "cell_type": "code",
      "execution_count": 35,
      "metadata": {
        "ExecuteTime": {
          "end_time": "2019-03-01T12:09:51.760978Z",
          "start_time": "2019-03-01T12:09:51.741864Z"
        },
        "pycharm": {}
      },
      "outputs": [
        {
          "data": {
            "text/html": [
              "\u003cdiv\u003e\n",
              "\u003cstyle scoped\u003e\n",
              "    .dataframe tbody tr th:only-of-type {\n",
              "        vertical-align: middle;\n",
              "    }\n",
              "\n",
              "    .dataframe tbody tr th {\n",
              "        vertical-align: top;\n",
              "    }\n",
              "\n",
              "    .dataframe thead th {\n",
              "        text-align: right;\n",
              "    }\n",
              "\u003c/style\u003e\n",
              "\u003ctable border\u003d\"1\" class\u003d\"dataframe\"\u003e\n",
              "  \u003cthead\u003e\n",
              "    \u003ctr style\u003d\"text-align: right;\"\u003e\n",
              "      \u003cth\u003e\u003c/th\u003e\n",
              "      \u003cth\u003eword\u003c/th\u003e\n",
              "      \u003cth\u003epart\u003c/th\u003e\n",
              "      \u003cth\u003epolarity\u003c/th\u003e\n",
              "      \u003cth\u003esubjectivity\u003c/th\u003e\n",
              "      \u003cth\u003edefinition\u003c/th\u003e\n",
              "    \u003c/tr\u003e\n",
              "  \u003c/thead\u003e\n",
              "  \u003ctbody\u003e\n",
              "    \u003ctr\u003e\n",
              "      \u003cth\u003e0\u003c/th\u003e\n",
              "      \u003ctd\u003eBy\u003c/td\u003e\n",
              "      \u003ctd\u003eIN\u003c/td\u003e\n",
              "      \u003ctd\u003e0.0\u003c/td\u003e\n",
              "      \u003ctd\u003e0.0\u003c/td\u003e\n",
              "      \u003ctd\u003ePreposition or subordinating conjunction\u003c/td\u003e\n",
              "    \u003c/tr\u003e\n",
              "    \u003ctr\u003e\n",
              "      \u003cth\u003e1\u003c/th\u003e\n",
              "      \u003ctd\u003ethe\u003c/td\u003e\n",
              "      \u003ctd\u003eDT\u003c/td\u003e\n",
              "      \u003ctd\u003e0.0\u003c/td\u003e\n",
              "      \u003ctd\u003e0.0\u003c/td\u003e\n",
              "      \u003ctd\u003eDeterminer\u003c/td\u003e\n",
              "    \u003c/tr\u003e\n",
              "    \u003ctr\u003e\n",
              "      \u003cth\u003e2\u003c/th\u003e\n",
              "      \u003ctd\u003etime\u003c/td\u003e\n",
              "      \u003ctd\u003eNN\u003c/td\u003e\n",
              "      \u003ctd\u003e0.0\u003c/td\u003e\n",
              "      \u003ctd\u003e0.0\u003c/td\u003e\n",
              "      \u003ctd\u003eNoun, singular or mass\u003c/td\u003e\n",
              "    \u003c/tr\u003e\n",
              "    \u003ctr\u003e\n",
              "      \u003cth\u003e3\u003c/th\u003e\n",
              "      \u003ctd\u003echildren\u003c/td\u003e\n",
              "      \u003ctd\u003eNNS\u003c/td\u003e\n",
              "      \u003ctd\u003e0.0\u003c/td\u003e\n",
              "      \u003ctd\u003e0.0\u003c/td\u003e\n",
              "      \u003ctd\u003eNoun, plural\u003c/td\u003e\n",
              "    \u003c/tr\u003e\n",
              "    \u003ctr\u003e\n",
              "      \u003cth\u003e4\u003c/th\u003e\n",
              "      \u003ctd\u003eare\u003c/td\u003e\n",
              "      \u003ctd\u003eVBP\u003c/td\u003e\n",
              "      \u003ctd\u003e0.0\u003c/td\u003e\n",
              "      \u003ctd\u003e0.0\u003c/td\u003e\n",
              "      \u003ctd\u003eVerb, non-3rd person singular present\u003c/td\u003e\n",
              "    \u003c/tr\u003e\n",
              "    \u003ctr\u003e\n",
              "      \u003cth\u003e5\u003c/th\u003e\n",
              "      \u003ctd\u003ethree\u003c/td\u003e\n",
              "      \u003ctd\u003eCD\u003c/td\u003e\n",
              "      \u003ctd\u003e0.0\u003c/td\u003e\n",
              "      \u003ctd\u003e0.0\u003c/td\u003e\n",
              "      \u003ctd\u003eCardinal number\u003c/td\u003e\n",
              "    \u003c/tr\u003e\n",
              "    \u003ctr\u003e\n",
              "      \u003cth\u003e6\u003c/th\u003e\n",
              "      \u003ctd\u003eyears\u003c/td\u003e\n",
              "      \u003ctd\u003eNNS\u003c/td\u003e\n",
              "      \u003ctd\u003e0.0\u003c/td\u003e\n",
              "      \u003ctd\u003e0.0\u003c/td\u003e\n",
              "      \u003ctd\u003eNoun, plural\u003c/td\u003e\n",
              "    \u003c/tr\u003e\n",
              "    \u003ctr\u003e\n",
              "      \u003cth\u003e7\u003c/th\u003e\n",
              "      \u003ctd\u003eold\u003c/td\u003e\n",
              "      \u003ctd\u003eJJ\u003c/td\u003e\n",
              "      \u003ctd\u003e0.1\u003c/td\u003e\n",
              "      \u003ctd\u003e0.2\u003c/td\u003e\n",
              "      \u003ctd\u003eAdjective\u003c/td\u003e\n",
              "    \u003c/tr\u003e\n",
              "    \u003ctr\u003e\n",
              "      \u003cth\u003e8\u003c/th\u003e\n",
              "      \u003ctd\u003ethey\u003c/td\u003e\n",
              "      \u003ctd\u003ePRP\u003c/td\u003e\n",
              "      \u003ctd\u003e0.0\u003c/td\u003e\n",
              "      \u003ctd\u003e0.0\u003c/td\u003e\n",
              "      \u003ctd\u003ePersonal pronoun\u003c/td\u003e\n",
              "    \u003c/tr\u003e\n",
              "    \u003ctr\u003e\n",
              "      \u003cth\u003e9\u003c/th\u003e\n",
              "      \u003ctd\u003ehave\u003c/td\u003e\n",
              "      \u003ctd\u003eVBP\u003c/td\u003e\n",
              "      \u003ctd\u003e0.0\u003c/td\u003e\n",
              "      \u003ctd\u003e0.0\u003c/td\u003e\n",
              "      \u003ctd\u003eVerb, non-3rd person singular present\u003c/td\u003e\n",
              "    \u003c/tr\u003e\n",
              "  \u003c/tbody\u003e\n",
              "\u003c/table\u003e\n",
              "\u003c/div\u003e"
            ],
            "text/plain": [
              "       word part  polarity  subjectivity  \\\n",
              "0        By   IN       0.0           0.0   \n",
              "1       the   DT       0.0           0.0   \n",
              "2      time   NN       0.0           0.0   \n",
              "3  children  NNS       0.0           0.0   \n",
              "4       are  VBP       0.0           0.0   \n",
              "5     three   CD       0.0           0.0   \n",
              "6     years  NNS       0.0           0.0   \n",
              "7       old   JJ       0.1           0.2   \n",
              "8      they  PRP       0.0           0.0   \n",
              "9      have  VBP       0.0           0.0   \n",
              "\n",
              "                                 definition  \n",
              "0  Preposition or subordinating conjunction  \n",
              "1                                Determiner  \n",
              "2                    Noun, singular or mass  \n",
              "3                              Noun, plural  \n",
              "4     Verb, non-3rd person singular present  \n",
              "5                           Cardinal number  \n",
              "6                              Noun, plural  \n",
              "7                                 Adjective  \n",
              "8                          Personal pronoun  \n",
              "9     Verb, non-3rd person singular present  "
            ]
          },
          "execution_count": 35,
          "metadata": {},
          "output_type": "execute_result"
        }
      ],
      "source": [
        "mobster_word_info.head(10)"
      ]
    },
    {
      "cell_type": "code",
      "execution_count": 36,
      "metadata": {
        "ExecuteTime": {
          "end_time": "2019-03-01T12:09:51.787521Z",
          "start_time": "2019-03-01T12:09:51.772429Z"
        },
        "pycharm": {}
      },
      "outputs": [
        {
          "data": {
            "text/html": [
              "\u003cdiv\u003e\n",
              "\u003cstyle scoped\u003e\n",
              "    .dataframe tbody tr th:only-of-type {\n",
              "        vertical-align: middle;\n",
              "    }\n",
              "\n",
              "    .dataframe tbody tr th {\n",
              "        vertical-align: top;\n",
              "    }\n",
              "\n",
              "    .dataframe thead th {\n",
              "        text-align: right;\n",
              "    }\n",
              "\u003c/style\u003e\n",
              "\u003ctable border\u003d\"1\" class\u003d\"dataframe\"\u003e\n",
              "  \u003cthead\u003e\n",
              "    \u003ctr style\u003d\"text-align: right;\"\u003e\n",
              "      \u003cth\u003e\u003c/th\u003e\n",
              "      \u003cth\u003esentences\u003c/th\u003e\n",
              "      \u003cth\u003epolarity\u003c/th\u003e\n",
              "      \u003cth\u003esubjectivity\u003c/th\u003e\n",
              "      \u003cth\u003epos_sentence\u003c/th\u003e\n",
              "    \u003c/tr\u003e\n",
              "  \u003c/thead\u003e\n",
              "  \u003ctbody\u003e\n",
              "    \u003ctr\u003e\n",
              "      \u003cth\u003e0\u003c/th\u003e\n",
              "      \u003ctd\u003eBy the time children are three years old, they...\u003c/td\u003e\n",
              "      \u003ctd\u003e0.300000\u003c/td\u003e\n",
              "      \u003ctd\u003e0.350000\u003c/td\u003e\n",
              "      \u003ctd\u003eIN DT NN NNS VBP CD NNS JJ PRP VBP VBN DT NN I...\u003c/td\u003e\n",
              "    \u003c/tr\u003e\n",
              "    \u003ctr\u003e\n",
              "      \u003cth\u003e1\u003c/th\u003e\n",
              "      \u003ctd\u003eIt’s at this point they are able to string tog...\u003c/td\u003e\n",
              "      \u003ctd\u003e0.250000\u003c/td\u003e\n",
              "      \u003ctd\u003e0.508333\u003c/td\u003e\n",
              "      \u003ctd\u003ePRP VBZ NN IN DT NN PRP VBP JJ TO VBG RB JJ NN...\u003c/td\u003e\n",
              "    \u003c/tr\u003e\n",
              "    \u003ctr\u003e\n",
              "      \u003cth\u003e2\u003c/th\u003e\n",
              "      \u003ctd\u003eThat being known, Ted has no idea what his thr...\u003c/td\u003e\n",
              "      \u003ctd\u003e0.000000\u003c/td\u003e\n",
              "      \u003ctd\u003e0.000000\u003c/td\u003e\n",
              "      \u003ctd\u003eDT VBG VBN NNP VBZ DT NN WP PRP$ JJ NN NNS WRB...\u003c/td\u003e\n",
              "    \u003c/tr\u003e\n",
              "    \u003ctr\u003e\n",
              "      \u003cth\u003e3\u003c/th\u003e\n",
              "      \u003ctd\u003e“Don’t you mean monster, sweetheart?” He asks ...\u003c/td\u003e\n",
              "      \u003ctd\u003e-0.006250\u003c/td\u003e\n",
              "      \u003ctd\u003e0.393750\u003c/td\u003e\n",
              "      \u003ctd\u003eJJ NNP NNP NN PRP VBP RB VB IN PRP VBZ IN DT N...\u003c/td\u003e\n",
              "    \u003c/tr\u003e\n",
              "    \u003ctr\u003e\n",
              "      \u003cth\u003e4\u003c/th\u003e\n",
              "      \u003ctd\u003e“Mobster,” she insists.\u003c/td\u003e\n",
              "      \u003ctd\u003e0.000000\u003c/td\u003e\n",
              "      \u003ctd\u003e0.000000\u003c/td\u003e\n",
              "      \u003ctd\u003eJJ NNP NNP PRP VBZ\u003c/td\u003e\n",
              "    \u003c/tr\u003e\n",
              "    \u003ctr\u003e\n",
              "      \u003cth\u003e5\u003c/th\u003e\n",
              "      \u003ctd\u003eHe wanders into the living room to tell his wi...\u003c/td\u003e\n",
              "      \u003ctd\u003e0.100000\u003c/td\u003e\n",
              "      \u003ctd\u003e0.300000\u003c/td\u003e\n",
              "      \u003ctd\u003ePRP VBZ IN DT NN NN TO VB PRP$ NN WP VBZ RB JJ...\u003c/td\u003e\n",
              "    \u003c/tr\u003e\n",
              "    \u003ctr\u003e\n",
              "      \u003cth\u003e6\u003c/th\u003e\n",
              "      \u003ctd\u003e“That’s nice, dear,” she says, twirling a piec...\u003c/td\u003e\n",
              "      \u003ctd\u003e0.192857\u003c/td\u003e\n",
              "      \u003ctd\u003e0.750000\u003c/td\u003e\n",
              "      \u003ctd\u003eNN DT VBZ JJ JJ JJ NNP PRP VBZ VBG DT NN IN JJ...\u003c/td\u003e\n",
              "    \u003c/tr\u003e\n",
              "    \u003ctr\u003e\n",
              "      \u003cth\u003e7\u003c/th\u003e\n",
              "      \u003ctd\u003e“While you’re up, can you get me some water?” ...\u003c/td\u003e\n",
              "      \u003ctd\u003e-0.155556\u003c/td\u003e\n",
              "      \u003ctd\u003e0.288889\u003c/td\u003e\n",
              "      \u003ctd\u003eNN IN PRP VBP VB RP MD PRP VB PRP DT NN RB NNP...\u003c/td\u003e\n",
              "    \u003c/tr\u003e\n",
              "    \u003ctr\u003e\n",
              "      \u003cth\u003e8\u003c/th\u003e\n",
              "      \u003ctd\u003eOutside the door, he can hear her talking to h...\u003c/td\u003e\n",
              "      \u003ctd\u003e0.000000\u003c/td\u003e\n",
              "      \u003ctd\u003e0.050000\u003c/td\u003e\n",
              "      \u003ctd\u003eIN DT NN PRP MD VB PRP$ VBG TO VB IN DT JJ NN\u003c/td\u003e\n",
              "    \u003c/tr\u003e\n",
              "    \u003ctr\u003e\n",
              "      \u003cth\u003e9\u003c/th\u003e\n",
              "      \u003ctd\u003eThough he’s pretty sure the voice responding c...\u003c/td\u003e\n",
              "      \u003ctd\u003e0.375000\u003c/td\u003e\n",
              "      \u003ctd\u003e0.944444\u003c/td\u003e\n",
              "      \u003ctd\u003eIN PRP VBZ JJ RB JJ DT NN VBG NN NNP NN VB NNS\u003c/td\u003e\n",
              "    \u003c/tr\u003e\n",
              "  \u003c/tbody\u003e\n",
              "\u003c/table\u003e\n",
              "\u003c/div\u003e"
            ],
            "text/plain": [
              "                                           sentences  polarity  subjectivity  \\\n",
              "0  By the time children are three years old, they...  0.300000      0.350000   \n",
              "1  It’s at this point they are able to string tog...  0.250000      0.508333   \n",
              "2  That being known, Ted has no idea what his thr...  0.000000      0.000000   \n",
              "3  “Don’t you mean monster, sweetheart?” He asks ... -0.006250      0.393750   \n",
              "4                            “Mobster,” she insists.  0.000000      0.000000   \n",
              "5  He wanders into the living room to tell his wi...  0.100000      0.300000   \n",
              "6  “That’s nice, dear,” she says, twirling a piec...  0.192857      0.750000   \n",
              "7  “While you’re up, can you get me some water?” ... -0.155556      0.288889   \n",
              "8  Outside the door, he can hear her talking to h...  0.000000      0.050000   \n",
              "9  Though he’s pretty sure the voice responding c...  0.375000      0.944444   \n",
              "\n",
              "                                        pos_sentence  \n",
              "0  IN DT NN NNS VBP CD NNS JJ PRP VBP VBN DT NN I...  \n",
              "1  PRP VBZ NN IN DT NN PRP VBP JJ TO VBG RB JJ NN...  \n",
              "2  DT VBG VBN NNP VBZ DT NN WP PRP$ JJ NN NNS WRB...  \n",
              "3  JJ NNP NNP NN PRP VBP RB VB IN PRP VBZ IN DT N...  \n",
              "4                                 JJ NNP NNP PRP VBZ  \n",
              "5  PRP VBZ IN DT NN NN TO VB PRP$ NN WP VBZ RB JJ...  \n",
              "6  NN DT VBZ JJ JJ JJ NNP PRP VBZ VBG DT NN IN JJ...  \n",
              "7  NN IN PRP VBP VB RP MD PRP VB PRP DT NN RB NNP...  \n",
              "8      IN DT NN PRP MD VB PRP$ VBG TO VB IN DT JJ NN  \n",
              "9     IN PRP VBZ JJ RB JJ DT NN VBG NN NNP NN VB NNS  "
            ]
          },
          "execution_count": 36,
          "metadata": {},
          "output_type": "execute_result"
        }
      ],
      "source": [
        "mobster_sentence.head(10)"
      ]
    },
    {
      "cell_type": "code",
      "execution_count": 37,
      "metadata": {
        "ExecuteTime": {
          "end_time": "2019-03-01T12:09:52.930863Z",
          "start_time": "2019-03-01T12:09:52.920900Z"
        },
        "pycharm": {}
      },
      "outputs": [
        {
          "data": {
            "text/html": [
              "\u003cdiv\u003e\n",
              "\u003cstyle scoped\u003e\n",
              "    .dataframe tbody tr th:only-of-type {\n",
              "        vertical-align: middle;\n",
              "    }\n",
              "\n",
              "    .dataframe tbody tr th {\n",
              "        vertical-align: top;\n",
              "    }\n",
              "\n",
              "    .dataframe thead th {\n",
              "        text-align: right;\n",
              "    }\n",
              "\u003c/style\u003e\n",
              "\u003ctable border\u003d\"1\" class\u003d\"dataframe\"\u003e\n",
              "  \u003cthead\u003e\n",
              "    \u003ctr style\u003d\"text-align: right;\"\u003e\n",
              "      \u003cth\u003e\u003c/th\u003e\n",
              "      \u003cth\u003enoun_phrase\u003c/th\u003e\n",
              "    \u003c/tr\u003e\n",
              "  \u003c/thead\u003e\n",
              "  \u003ctbody\u003e\n",
              "    \u003ctr\u003e\n",
              "      \u003cth\u003e0\u003c/th\u003e\n",
              "      \u003ctd\u003etime children\u003c/td\u003e\n",
              "    \u003c/tr\u003e\n",
              "    \u003ctr\u003e\n",
              "      \u003cth\u003e1\u003c/th\u003e\n",
              "      \u003ctd\u003e’ s\u003c/td\u003e\n",
              "    \u003c/tr\u003e\n",
              "    \u003ctr\u003e\n",
              "      \u003cth\u003e2\u003c/th\u003e\n",
              "      \u003ctd\u003esmall sentences\u003c/td\u003e\n",
              "    \u003c/tr\u003e\n",
              "    \u003ctr\u003e\n",
              "      \u003cth\u003e3\u003c/th\u003e\n",
              "      \u003ctd\u003eted\u003c/td\u003e\n",
              "    \u003c/tr\u003e\n",
              "    \u003ctr\u003e\n",
              "      \u003cth\u003e4\u003c/th\u003e\n",
              "      \u003ctd\u003ethree-year-old daughter\u003c/td\u003e\n",
              "    \u003c/tr\u003e\n",
              "    \u003ctr\u003e\n",
              "      \u003cth\u003e5\u003c/th\u003e\n",
              "      \u003ctd\u003edon\u003c/td\u003e\n",
              "    \u003c/tr\u003e\n",
              "    \u003ctr\u003e\n",
              "      \u003cth\u003e6\u003c/th\u003e\n",
              "      \u003ctd\u003e’ t\u003c/td\u003e\n",
              "    \u003c/tr\u003e\n",
              "    \u003ctr\u003e\n",
              "      \u003cth\u003e7\u003c/th\u003e\n",
              "      \u003ctd\u003epatient smile\u003c/td\u003e\n",
              "    \u003c/tr\u003e\n",
              "    \u003ctr\u003e\n",
              "      \u003cth\u003e8\u003c/th\u003e\n",
              "      \u003ctd\u003emobster\u003c/td\u003e\n",
              "    \u003c/tr\u003e\n",
              "    \u003ctr\u003e\n",
              "      \u003cth\u003e9\u003c/th\u003e\n",
              "      \u003ctd\u003ebusy reading\u003c/td\u003e\n",
              "    \u003c/tr\u003e\n",
              "  \u003c/tbody\u003e\n",
              "\u003c/table\u003e\n",
              "\u003c/div\u003e"
            ],
            "text/plain": [
              "               noun_phrase\n",
              "0            time children\n",
              "1                      ’ s\n",
              "2          small sentences\n",
              "3                      ted\n",
              "4  three-year-old daughter\n",
              "5                      don\n",
              "6                      ’ t\n",
              "7            patient smile\n",
              "8                  mobster\n",
              "9             busy reading"
            ]
          },
          "execution_count": 37,
          "metadata": {},
          "output_type": "execute_result"
        }
      ],
      "source": [
        "mobster_noun_phrase.head(10)"
      ]
    },
    {
      "cell_type": "markdown",
      "metadata": {
        "pycharm": {}
      },
      "source": [
        "### Mobster Sentence and Word Sentiment Change Over Story"
      ]
    },
    {
      "cell_type": "code",
      "execution_count": 38,
      "metadata": {
        "ExecuteTime": {
          "end_time": "2019-03-01T12:09:54.688855Z",
          "start_time": "2019-03-01T12:09:54.391798Z"
        },
        "scrolled": true,
        "pycharm": {}
      },
      "outputs": [
        {
          "data": {
            "text/plain": [
              "\u003cmatplotlib.axes._subplots.AxesSubplot at 0x1a278ed048\u003e"
            ]
          },
          "execution_count": 38,
          "metadata": {},
          "output_type": "execute_result"
        },
        {
          "data": {
            "image/png": "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\u003d\n",
            "text/plain": [
              "\u003cFigure size 432x288 with 1 Axes\u003e"
            ]
          },
          "metadata": {
            "needs_background": "light"
          },
          "output_type": "display_data"
        }
      ],
      "source": [
        "mobster_sentence.plot(y\u003d\u0027polarity\u0027, use_index\u003dTrue)"
      ]
    },
    {
      "cell_type": "code",
      "execution_count": 39,
      "metadata": {
        "ExecuteTime": {
          "end_time": "2019-03-01T12:09:54.999668Z",
          "start_time": "2019-03-01T12:09:54.693522Z"
        },
        "pycharm": {}
      },
      "outputs": [
        {
          "data": {
            "text/plain": [
              "\u003cmatplotlib.axes._subplots.AxesSubplot at 0x1a27907160\u003e"
            ]
          },
          "execution_count": 39,
          "metadata": {},
          "output_type": "execute_result"
        },
        {
          "data": {
            "image/png": "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\u003d\u003d\n",
            "text/plain": [
              "\u003cFigure size 432x288 with 1 Axes\u003e"
            ]
          },
          "metadata": {
            "needs_background": "light"
          },
          "output_type": "display_data"
        }
      ],
      "source": [
        "mobster_word_info.plot(y\u003d\u0027polarity\u0027, use_index\u003dTrue)"
      ]
    },
    {
      "cell_type": "markdown",
      "metadata": {
        "pycharm": {}
      },
      "source": [
        "## Memoir Text Analysis"
      ]
    },
    {
      "cell_type": "code",
      "execution_count": 40,
      "metadata": {
        "ExecuteTime": {
          "end_time": "2019-03-01T12:09:55.706946Z",
          "start_time": "2019-03-01T12:09:55.387535Z"
        },
        "pycharm": {}
      },
      "outputs": [],
      "source": [
        "memoir_word_info, memoir_sentence, memoir_noun_phrase \u003d story_analysis(\u0027memoir.txt\u0027, \n",
        "                                                                       pd.DataFrame(), pd.DataFrame(), pd.DataFrame())"
      ]
    },
    {
      "cell_type": "markdown",
      "metadata": {
        "pycharm": {}
      },
      "source": [
        "### Memoir Word and Sentence Info Breakdown"
      ]
    },
    {
      "cell_type": "code",
      "execution_count": 41,
      "metadata": {
        "ExecuteTime": {
          "end_time": "2019-03-01T12:09:55.945095Z",
          "start_time": "2019-03-01T12:09:55.926595Z"
        },
        "pycharm": {}
      },
      "outputs": [
        {
          "data": {
            "text/html": [
              "\u003cdiv\u003e\n",
              "\u003cstyle scoped\u003e\n",
              "    .dataframe tbody tr th:only-of-type {\n",
              "        vertical-align: middle;\n",
              "    }\n",
              "\n",
              "    .dataframe tbody tr th {\n",
              "        vertical-align: top;\n",
              "    }\n",
              "\n",
              "    .dataframe thead th {\n",
              "        text-align: right;\n",
              "    }\n",
              "\u003c/style\u003e\n",
              "\u003ctable border\u003d\"1\" class\u003d\"dataframe\"\u003e\n",
              "  \u003cthead\u003e\n",
              "    \u003ctr style\u003d\"text-align: right;\"\u003e\n",
              "      \u003cth\u003e\u003c/th\u003e\n",
              "      \u003cth\u003eword\u003c/th\u003e\n",
              "      \u003cth\u003epart\u003c/th\u003e\n",
              "      \u003cth\u003epolarity\u003c/th\u003e\n",
              "      \u003cth\u003esubjectivity\u003c/th\u003e\n",
              "      \u003cth\u003edefinition\u003c/th\u003e\n",
              "    \u003c/tr\u003e\n",
              "  \u003c/thead\u003e\n",
              "  \u003ctbody\u003e\n",
              "    \u003ctr\u003e\n",
              "      \u003cth\u003e0\u003c/th\u003e\n",
              "      \u003ctd\u003eSummers\u003c/td\u003e\n",
              "      \u003ctd\u003eNNS\u003c/td\u003e\n",
              "      \u003ctd\u003e0.0\u003c/td\u003e\n",
              "      \u003ctd\u003e0.0\u003c/td\u003e\n",
              "      \u003ctd\u003eNoun, plural\u003c/td\u003e\n",
              "    \u003c/tr\u003e\n",
              "    \u003ctr\u003e\n",
              "      \u003cth\u003e1\u003c/th\u003e\n",
              "      \u003ctd\u003ein\u003c/td\u003e\n",
              "      \u003ctd\u003eIN\u003c/td\u003e\n",
              "      \u003ctd\u003e0.0\u003c/td\u003e\n",
              "      \u003ctd\u003e0.0\u003c/td\u003e\n",
              "      \u003ctd\u003ePreposition or subordinating conjunction\u003c/td\u003e\n",
              "    \u003c/tr\u003e\n",
              "    \u003ctr\u003e\n",
              "      \u003cth\u003e2\u003c/th\u003e\n",
              "      \u003ctd\u003eSpruce\u003c/td\u003e\n",
              "      \u003ctd\u003eNNP\u003c/td\u003e\n",
              "      \u003ctd\u003e0.0\u003c/td\u003e\n",
              "      \u003ctd\u003e0.0\u003c/td\u003e\n",
              "      \u003ctd\u003eProper noun, singular\u003c/td\u003e\n",
              "    \u003c/tr\u003e\n",
              "    \u003ctr\u003e\n",
              "      \u003cth\u003e3\u003c/th\u003e\n",
              "      \u003ctd\u003ePine\u003c/td\u003e\n",
              "      \u003ctd\u003eNNP\u003c/td\u003e\n",
              "      \u003ctd\u003e0.0\u003c/td\u003e\n",
              "      \u003ctd\u003e0.0\u003c/td\u003e\n",
              "      \u003ctd\u003eProper noun, singular\u003c/td\u003e\n",
              "    \u003c/tr\u003e\n",
              "    \u003ctr\u003e\n",
              "      \u003cth\u003e4\u003c/th\u003e\n",
              "      \u003ctd\u003eNorth\u003c/td\u003e\n",
              "      \u003ctd\u003eNNP\u003c/td\u003e\n",
              "      \u003ctd\u003e0.0\u003c/td\u003e\n",
              "      \u003ctd\u003e0.0\u003c/td\u003e\n",
              "      \u003ctd\u003eProper noun, singular\u003c/td\u003e\n",
              "    \u003c/tr\u003e\n",
              "    \u003ctr\u003e\n",
              "      \u003cth\u003e5\u003c/th\u003e\n",
              "      \u003ctd\u003eCarolina\u003c/td\u003e\n",
              "      \u003ctd\u003eNNP\u003c/td\u003e\n",
              "      \u003ctd\u003e0.0\u003c/td\u003e\n",
              "      \u003ctd\u003e0.0\u003c/td\u003e\n",
              "      \u003ctd\u003eProper noun, singular\u003c/td\u003e\n",
              "    \u003c/tr\u003e\n",
              "    \u003ctr\u003e\n",
              "      \u003cth\u003e6\u003c/th\u003e\n",
              "      \u003ctd\u003ewere\u003c/td\u003e\n",
              "      \u003ctd\u003eVBD\u003c/td\u003e\n",
              "      \u003ctd\u003e0.0\u003c/td\u003e\n",
              "      \u003ctd\u003e0.0\u003c/td\u003e\n",
              "      \u003ctd\u003eVerb, past tense\u003c/td\u003e\n",
              "    \u003c/tr\u003e\n",
              "    \u003ctr\u003e\n",
              "      \u003cth\u003e7\u003c/th\u003e\n",
              "      \u003ctd\u003echaracterized\u003c/td\u003e\n",
              "      \u003ctd\u003eVBN\u003c/td\u003e\n",
              "      \u003ctd\u003e0.0\u003c/td\u003e\n",
              "      \u003ctd\u003e0.0\u003c/td\u003e\n",
              "      \u003ctd\u003eVerb, past participle\u003c/td\u003e\n",
              "    \u003c/tr\u003e\n",
              "    \u003ctr\u003e\n",
              "      \u003cth\u003e8\u003c/th\u003e\n",
              "      \u003ctd\u003eby\u003c/td\u003e\n",
              "      \u003ctd\u003eIN\u003c/td\u003e\n",
              "      \u003ctd\u003e0.0\u003c/td\u003e\n",
              "      \u003ctd\u003e0.0\u003c/td\u003e\n",
              "      \u003ctd\u003ePreposition or subordinating conjunction\u003c/td\u003e\n",
              "    \u003c/tr\u003e\n",
              "    \u003ctr\u003e\n",
              "      \u003cth\u003e9\u003c/th\u003e\n",
              "      \u003ctd\u003ea\u003c/td\u003e\n",
              "      \u003ctd\u003eDT\u003c/td\u003e\n",
              "      \u003ctd\u003e0.0\u003c/td\u003e\n",
              "      \u003ctd\u003e0.0\u003c/td\u003e\n",
              "      \u003ctd\u003eDeterminer\u003c/td\u003e\n",
              "    \u003c/tr\u003e\n",
              "  \u003c/tbody\u003e\n",
              "\u003c/table\u003e\n",
              "\u003c/div\u003e"
            ],
            "text/plain": [
              "            word part  polarity  subjectivity  \\\n",
              "0        Summers  NNS       0.0           0.0   \n",
              "1             in   IN       0.0           0.0   \n",
              "2         Spruce  NNP       0.0           0.0   \n",
              "3           Pine  NNP       0.0           0.0   \n",
              "4          North  NNP       0.0           0.0   \n",
              "5       Carolina  NNP       0.0           0.0   \n",
              "6           were  VBD       0.0           0.0   \n",
              "7  characterized  VBN       0.0           0.0   \n",
              "8             by   IN       0.0           0.0   \n",
              "9              a   DT       0.0           0.0   \n",
              "\n",
              "                                 definition  \n",
              "0                              Noun, plural  \n",
              "1  Preposition or subordinating conjunction  \n",
              "2                     Proper noun, singular  \n",
              "3                     Proper noun, singular  \n",
              "4                     Proper noun, singular  \n",
              "5                     Proper noun, singular  \n",
              "6                          Verb, past tense  \n",
              "7                     Verb, past participle  \n",
              "8  Preposition or subordinating conjunction  \n",
              "9                                Determiner  "
            ]
          },
          "execution_count": 41,
          "metadata": {},
          "output_type": "execute_result"
        }
      ],
      "source": [
        "memoir_word_info.head(10)"
      ]
    },
    {
      "cell_type": "code",
      "execution_count": 42,
      "metadata": {
        "ExecuteTime": {
          "end_time": "2019-03-01T12:09:56.160647Z",
          "start_time": "2019-03-01T12:09:56.145207Z"
        },
        "scrolled": true,
        "pycharm": {}
      },
      "outputs": [
        {
          "data": {
            "text/html": [
              "\u003cdiv\u003e\n",
              "\u003cstyle scoped\u003e\n",
              "    .dataframe tbody tr th:only-of-type {\n",
              "        vertical-align: middle;\n",
              "    }\n",
              "\n",
              "    .dataframe tbody tr th {\n",
              "        vertical-align: top;\n",
              "    }\n",
              "\n",
              "    .dataframe thead th {\n",
              "        text-align: right;\n",
              "    }\n",
              "\u003c/style\u003e\n",
              "\u003ctable border\u003d\"1\" class\u003d\"dataframe\"\u003e\n",
              "  \u003cthead\u003e\n",
              "    \u003ctr style\u003d\"text-align: right;\"\u003e\n",
              "      \u003cth\u003e\u003c/th\u003e\n",
              "      \u003cth\u003esentences\u003c/th\u003e\n",
              "      \u003cth\u003epolarity\u003c/th\u003e\n",
              "      \u003cth\u003esubjectivity\u003c/th\u003e\n",
              "      \u003cth\u003epos_sentence\u003c/th\u003e\n",
              "    \u003c/tr\u003e\n",
              "  \u003c/thead\u003e\n",
              "  \u003ctbody\u003e\n",
              "    \u003ctr\u003e\n",
              "      \u003cth\u003e0\u003c/th\u003e\n",
              "      \u003ctd\u003eSummers in Spruce Pine, North Carolina were ch...\u003c/td\u003e\n",
              "      \u003ctd\u003e-0.200000\u003c/td\u003e\n",
              "      \u003ctd\u003e0.505556\u003c/td\u003e\n",
              "      \u003ctd\u003eNNS IN NNP NNP NNP NNP VBD VBN IN DT NN NN IN ...\u003c/td\u003e\n",
              "    \u003c/tr\u003e\n",
              "    \u003ctr\u003e\n",
              "      \u003cth\u003e1\u003c/th\u003e\n",
              "      \u003ctd\u003eEven ditzy kids like me knew better than to pl...\u003c/td\u003e\n",
              "      \u003ctd\u003e0.500000\u003c/td\u003e\n",
              "      \u003ctd\u003e0.500000\u003c/td\u003e\n",
              "      \u003ctd\u003eRB JJ NNS IN PRP VBD JJR IN TO VB NNS IN DT NN\u003c/td\u003e\n",
              "    \u003c/tr\u003e\n",
              "    \u003ctr\u003e\n",
              "      \u003cth\u003e2\u003c/th\u003e\n",
              "      \u003ctd\u003eInstead, I would play in the late afternoon an...\u003c/td\u003e\n",
              "      \u003ctd\u003e-0.100000\u003c/td\u003e\n",
              "      \u003ctd\u003e0.450000\u003c/td\u003e\n",
              "      \u003ctd\u003eRB PRP MD VB IN DT JJ NN CC JJ NN WRB DT IN DT...\u003c/td\u003e\n",
              "    \u003c/tr\u003e\n",
              "    \u003ctr\u003e\n",
              "      \u003cth\u003e3\u003c/th\u003e\n",
              "      \u003ctd\u003eThe evening, though, brought bloodsucking mosq...\u003c/td\u003e\n",
              "      \u003ctd\u003e0.000000\u003c/td\u003e\n",
              "      \u003ctd\u003e0.000000\u003c/td\u003e\n",
              "      \u003ctd\u003eDT NN RB VBD VBG NN WDT VBD JJ JJ NN IN PRP$ N...\u003c/td\u003e\n",
              "    \u003c/tr\u003e\n",
              "    \u003ctr\u003e\n",
              "      \u003cth\u003e4\u003c/th\u003e\n",
              "      \u003ctd\u003eMore often than not, I was joined by my younge...\u003c/td\u003e\n",
              "      \u003ctd\u003e0.250000\u003c/td\u003e\n",
              "      \u003ctd\u003e0.250000\u003c/td\u003e\n",
              "      \u003ctd\u003eRBR RB IN RB PRP VBD VBN IN PRP$ JJR NN NNP IN...\u003c/td\u003e\n",
              "    \u003c/tr\u003e\n",
              "    \u003ctr\u003e\n",
              "      \u003cth\u003e5\u003c/th\u003e\n",
              "      \u003ctd\u003eWe would chase each other out the front door, ...\u003c/td\u003e\n",
              "      \u003ctd\u003e-0.062500\u003c/td\u003e\n",
              "      \u003ctd\u003e0.187500\u003c/td\u003e\n",
              "      \u003ctd\u003ePRP MD VB DT JJ IN DT JJ NN VBG NN WRB NNP VBD...\u003c/td\u003e\n",
              "    \u003c/tr\u003e\n",
              "    \u003ctr\u003e\n",
              "      \u003cth\u003e6\u003c/th\u003e\n",
              "      \u003ctd\u003eInto the yard we ran, yelling instructions to ...\u003c/td\u003e\n",
              "      \u003ctd\u003e-0.400000\u003c/td\u003e\n",
              "      \u003ctd\u003e0.400000\u003c/td\u003e\n",
              "      \u003ctd\u003eIN DT NN PRP VBD VBG NNS TO VB NN PRP MD VB DT NN\u003c/td\u003e\n",
              "    \u003c/tr\u003e\n",
              "    \u003ctr\u003e\n",
              "      \u003cth\u003e7\u003c/th\u003e\n",
              "      \u003ctd\u003eSometimes, we would play with a tennis ball an...\u003c/td\u003e\n",
              "      \u003ctd\u003e0.000000\u003c/td\u003e\n",
              "      \u003ctd\u003e0.000000\u003c/td\u003e\n",
              "      \u003ctd\u003eRB PRP MD VB IN DT NN NN CC NN IN DT JJ NN IN ...\u003c/td\u003e\n",
              "    \u003c/tr\u003e\n",
              "    \u003ctr\u003e\n",
              "      \u003cth\u003e8\u003c/th\u003e\n",
              "      \u003ctd\u003eOther times we were the clumsy servants to an ...\u003c/td\u003e\n",
              "      \u003ctd\u003e0.191667\u003c/td\u003e\n",
              "      \u003ctd\u003e0.591667\u003c/td\u003e\n",
              "      \u003ctd\u003eJJ NNS PRP VBD DT JJ NNS TO DT JJ NN VBG PRP$ ...\u003c/td\u003e\n",
              "    \u003c/tr\u003e\n",
              "    \u003ctr\u003e\n",
              "      \u003cth\u003e9\u003c/th\u003e\n",
              "      \u003ctd\u003eOn rare occasions, Mom would connect the garde...\u003c/td\u003e\n",
              "      \u003ctd\u003e0.300000\u003c/td\u003e\n",
              "      \u003ctd\u003e0.900000\u003c/td\u003e\n",
              "      \u003ctd\u003eIN JJ NNS NNP MD VB DT NN NN TO VB NNS CC VB P...\u003c/td\u003e\n",
              "    \u003c/tr\u003e\n",
              "  \u003c/tbody\u003e\n",
              "\u003c/table\u003e\n",
              "\u003c/div\u003e"
            ],
            "text/plain": [
              "                                           sentences  polarity  subjectivity  \\\n",
              "0  Summers in Spruce Pine, North Carolina were ch... -0.200000      0.505556   \n",
              "1  Even ditzy kids like me knew better than to pl...  0.500000      0.500000   \n",
              "2  Instead, I would play in the late afternoon an... -0.100000      0.450000   \n",
              "3  The evening, though, brought bloodsucking mosq...  0.000000      0.000000   \n",
              "4  More often than not, I was joined by my younge...  0.250000      0.250000   \n",
              "5  We would chase each other out the front door, ... -0.062500      0.187500   \n",
              "6  Into the yard we ran, yelling instructions to ... -0.400000      0.400000   \n",
              "7  Sometimes, we would play with a tennis ball an...  0.000000      0.000000   \n",
              "8  Other times we were the clumsy servants to an ...  0.191667      0.591667   \n",
              "9  On rare occasions, Mom would connect the garde...  0.300000      0.900000   \n",
              "\n",
              "                                        pos_sentence  \n",
              "0  NNS IN NNP NNP NNP NNP VBD VBN IN DT NN NN IN ...  \n",
              "1     RB JJ NNS IN PRP VBD JJR IN TO VB NNS IN DT NN  \n",
              "2  RB PRP MD VB IN DT JJ NN CC JJ NN WRB DT IN DT...  \n",
              "3  DT NN RB VBD VBG NN WDT VBD JJ JJ NN IN PRP$ N...  \n",
              "4  RBR RB IN RB PRP VBD VBN IN PRP$ JJR NN NNP IN...  \n",
              "5  PRP MD VB DT JJ IN DT JJ NN VBG NN WRB NNP VBD...  \n",
              "6  IN DT NN PRP VBD VBG NNS TO VB NN PRP MD VB DT NN  \n",
              "7  RB PRP MD VB IN DT NN NN CC NN IN DT JJ NN IN ...  \n",
              "8  JJ NNS PRP VBD DT JJ NNS TO DT JJ NN VBG PRP$ ...  \n",
              "9  IN JJ NNS NNP MD VB DT NN NN TO VB NNS CC VB P...  "
            ]
          },
          "execution_count": 42,
          "metadata": {},
          "output_type": "execute_result"
        }
      ],
      "source": [
        "memoir_sentence.head(10)"
      ]
    },
    {
      "cell_type": "code",
      "execution_count": 43,
      "metadata": {
        "ExecuteTime": {
          "end_time": "2019-03-01T12:09:56.389159Z",
          "start_time": "2019-03-01T12:09:56.377979Z"
        },
        "scrolled": false,
        "pycharm": {}
      },
      "outputs": [
        {
          "data": {
            "text/html": [
              "\u003cdiv\u003e\n",
              "\u003cstyle scoped\u003e\n",
              "    .dataframe tbody tr th:only-of-type {\n",
              "        vertical-align: middle;\n",
              "    }\n",
              "\n",
              "    .dataframe tbody tr th {\n",
              "        vertical-align: top;\n",
              "    }\n",
              "\n",
              "    .dataframe thead th {\n",
              "        text-align: right;\n",
              "    }\n",
              "\u003c/style\u003e\n",
              "\u003ctable border\u003d\"1\" class\u003d\"dataframe\"\u003e\n",
              "  \u003cthead\u003e\n",
              "    \u003ctr style\u003d\"text-align: right;\"\u003e\n",
              "      \u003cth\u003e\u003c/th\u003e\n",
              "      \u003cth\u003enoun_phrase\u003c/th\u003e\n",
              "    \u003c/tr\u003e\n",
              "  \u003c/thead\u003e\n",
              "  \u003ctbody\u003e\n",
              "    \u003ctr\u003e\n",
              "      \u003cth\u003e0\u003c/th\u003e\n",
              "      \u003ctd\u003esummers\u003c/td\u003e\n",
              "    \u003c/tr\u003e\n",
              "    \u003ctr\u003e\n",
              "      \u003cth\u003e1\u003c/th\u003e\n",
              "      \u003ctd\u003espruce pine\u003c/td\u003e\n",
              "    \u003c/tr\u003e\n",
              "    \u003ctr\u003e\n",
              "      \u003cth\u003e2\u003c/th\u003e\n",
              "      \u003ctd\u003ecarolina\u003c/td\u003e\n",
              "    \u003c/tr\u003e\n",
              "    \u003ctr\u003e\n",
              "      \u003cth\u003e3\u003c/th\u003e\n",
              "      \u003ctd\u003emuggy heat\u003c/td\u003e\n",
              "    \u003c/tr\u003e\n",
              "    \u003ctr\u003e\n",
              "      \u003cth\u003e4\u003c/th\u003e\n",
              "      \u003ctd\u003editzy kids\u003c/td\u003e\n",
              "    \u003c/tr\u003e\n",
              "    \u003ctr\u003e\n",
              "      \u003cth\u003e5\u003c/th\u003e\n",
              "      \u003ctd\u003elate afternoon\u003c/td\u003e\n",
              "    \u003c/tr\u003e\n",
              "    \u003ctr\u003e\n",
              "      \u003cth\u003e6\u003c/th\u003e\n",
              "      \u003ctd\u003eearly evening\u003c/td\u003e\n",
              "    \u003c/tr\u003e\n",
              "    \u003ctr\u003e\n",
              "      \u003cth\u003e7\u003c/th\u003e\n",
              "      \u003ctd\u003ered bumps\u003c/td\u003e\n",
              "    \u003c/tr\u003e\n",
              "    \u003ctr\u003e\n",
              "      \u003cth\u003e8\u003c/th\u003e\n",
              "      \u003ctd\u003edavid\u003c/td\u003e\n",
              "    \u003c/tr\u003e\n",
              "    \u003ctr\u003e\n",
              "      \u003cth\u003e9\u003c/th\u003e\n",
              "      \u003ctd\u003eoutdoor playtimes\u003c/td\u003e\n",
              "    \u003c/tr\u003e\n",
              "  \u003c/tbody\u003e\n",
              "\u003c/table\u003e\n",
              "\u003c/div\u003e"
            ],
            "text/plain": [
              "         noun_phrase\n",
              "0            summers\n",
              "1        spruce pine\n",
              "2           carolina\n",
              "3         muggy heat\n",
              "4         ditzy kids\n",
              "5     late afternoon\n",
              "6      early evening\n",
              "7          red bumps\n",
              "8              david\n",
              "9  outdoor playtimes"
            ]
          },
          "execution_count": 43,
          "metadata": {},
          "output_type": "execute_result"
        }
      ],
      "source": [
        "memoir_noun_phrase.head(10)"
      ]
    },
    {
      "cell_type": "markdown",
      "metadata": {
        "pycharm": {}
      },
      "source": [
        "### Memoir Sentence and Word Sentiment Change Over Story"
      ]
    },
    {
      "cell_type": "code",
      "execution_count": 44,
      "metadata": {
        "ExecuteTime": {
          "end_time": "2019-03-01T12:09:57.708206Z",
          "start_time": "2019-03-01T12:09:57.436901Z"
        },
        "pycharm": {}
      },
      "outputs": [
        {
          "data": {
            "text/plain": [
              "\u003cmatplotlib.axes._subplots.AxesSubplot at 0x1a2787bc50\u003e"
            ]
          },
          "execution_count": 44,
          "metadata": {},
          "output_type": "execute_result"
        },
        {
          "data": {
            "image/png": "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\u003d\u003d\n",
            "text/plain": [
              "\u003cFigure size 432x288 with 1 Axes\u003e"
            ]
          },
          "metadata": {
            "needs_background": "light"
          },
          "output_type": "display_data"
        }
      ],
      "source": [
        "memoir_sentence.plot(y\u003d\u0027polarity\u0027, use_index\u003dTrue)"
      ]
    },
    {
      "cell_type": "code",
      "execution_count": 45,
      "metadata": {
        "ExecuteTime": {
          "end_time": "2019-03-01T12:09:58.499675Z",
          "start_time": "2019-03-01T12:09:58.150560Z"
        },
        "pycharm": {}
      },
      "outputs": [
        {
          "data": {
            "text/plain": [
              "\u003cmatplotlib.axes._subplots.AxesSubplot at 0x1a27857da0\u003e"
            ]
          },
          "execution_count": 45,
          "metadata": {},
          "output_type": "execute_result"
        },
        {
          "data": {
            "image/png": "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\u003d\u003d\n",
            "text/plain": [
              "\u003cFigure size 432x288 with 1 Axes\u003e"
            ]
          },
          "metadata": {
            "needs_background": "light"
          },
          "output_type": "display_data"
        }
      ],
      "source": [
        "memoir_word_info.plot(y\u003d\u0027polarity\u0027, use_index\u003dTrue)"
      ]
    },
    {
      "cell_type": "code",
      "execution_count": 46,
      "metadata": {
        "ExecuteTime": {
          "end_time": "2019-03-01T12:09:58.506930Z",
          "start_time": "2019-03-01T12:09:58.502913Z"
        },
        "pycharm": {}
      },
      "outputs": [],
      "source": [
        "#Read in google books to match patterns, then analyze to match on tone and predict to see if this is \n",
        "#something she would have written"
      ]
    },
    {
      "cell_type": "markdown",
      "metadata": {
        "pycharm": {}
      },
      "source": [
        "# Topic Modeling using LDA\n",
        "*not sure what is going on......*"
      ]
    },
    {
      "cell_type": "code",
      "execution_count": 47,
      "metadata": {
        "ExecuteTime": {
          "end_time": "2019-03-01T12:10:53.832696Z",
          "start_time": "2019-03-01T12:10:50.534839Z"
        },
        "pycharm": {}
      },
      "outputs": [
        {
          "name": "stderr",
          "output_type": "stream",
          "text": [
            "[nltk_data] Downloading package wordnet to\n",
            "[nltk_data]     /Users/homeworkdude/nltk_data...\n",
            "[nltk_data]   Package wordnet is already up-to-date!\n"
          ]
        }
      ],
      "source": [
        "import gensim\n",
        "from gensim.utils import simple_preprocess\n",
        "from gensim.parsing.preprocessing import STOPWORDS\n",
        "from gensim import corpora, models\n",
        "\n",
        "from nltk.stem import WordNetLemmatizer, SnowballStemmer\n",
        "from nltk.stem.porter import *\n",
        "import numpy as np\n",
        "np.random.seed(2018)\n",
        "\n",
        "import nltk\n",
        "nltk.download(\u0027wordnet\u0027)\n",
        "\n",
        "import itertools"
      ]
    },
    {
      "cell_type": "code",
      "execution_count": 48,
      "metadata": {
        "ExecuteTime": {
          "end_time": "2019-03-01T12:10:54.072126Z",
          "start_time": "2019-03-01T12:10:54.064488Z"
        },
        "pycharm": {}
      },
      "outputs": [],
      "source": [
        "def preprocess(text):\n",
        "    def lemmatize_stemming(text):\n",
        "        stemmer\u003dSnowballStemmer(\u0027english\u0027)\n",
        "        return stemmer.stem(WordNetLemmatizer().lemmatize(text, pos\u003d\u0027v\u0027))\n",
        "    \n",
        "    result \u003d []\n",
        "    for token in gensim.utils.simple_preprocess(text):\n",
        "        if token not in gensim.parsing.preprocessing.STOPWORDS and len(token) \u003e 3:\n",
        "            result.append(lemmatize_stemming(token))\n",
        "    return result"
      ]
    },
    {
      "cell_type": "code",
      "execution_count": 49,
      "metadata": {
        "ExecuteTime": {
          "end_time": "2019-03-01T12:10:54.308747Z",
          "start_time": "2019-03-01T12:10:54.297187Z"
        },
        "pycharm": {}
      },
      "outputs": [],
      "source": [
        "with open(\u0027Final Portfolio.txt\u0027, \u0027r\u0027) as myfile:\n",
        "    srvr \u003d myfile.read().replace(\u0027\\n\u0027, \u0027 \u0027)\n",
        "    \n",
        "with open(\u0027the_job.txt\u0027, \u0027r\u0027) as myfile:\n",
        "    the_job \u003d myfile.read().replace(\u0027\\n\u0027, \u0027 \u0027)\n",
        "    \n",
        "with open(\u0027after_life.txt\u0027, \u0027r\u0027) as myfile:\n",
        "    after_life \u003d myfile.read().replace(\u0027\\n\u0027, \u0027 \u0027)\n",
        "    \n",
        "with open(\u0027yellow_red_gray.txt\u0027, \u0027r\u0027) as myfile:\n",
        "    yrg \u003d myfile.read().replace(\u0027\\n\u0027, \u0027 \u0027)\n",
        "    \n",
        "with open(\u0027moon.txt\u0027, \u0027r\u0027) as myfile:\n",
        "    moon \u003d myfile.read().replace(\u0027\\n\u0027, \u0027 \u0027)\n",
        "    \n",
        "with open(\u0027mobster.txt\u0027, \u0027r\u0027) as myfile:\n",
        "    mobster \u003d myfile.read().replace(\u0027\\n\u0027, \u0027 \u0027)\n",
        "    \n",
        "with open(\u0027memoir.txt\u0027, \u0027r\u0027) as myfile:\n",
        "    memoir \u003d myfile.read().replace(\u0027\\n\u0027, \u0027 \u0027)"
      ]
    },
    {
      "cell_type": "code",
      "execution_count": 50,
      "metadata": {
        "ExecuteTime": {
          "end_time": "2019-03-01T12:10:54.528615Z",
          "start_time": "2019-03-01T12:10:54.521847Z"
        },
        "pycharm": {}
      },
      "outputs": [],
      "source": [
        "stories_train \u003d pd.DataFrame({\n",
        "    \u0027story\u0027: [srvr, the_job, after_life, yrg, moon]\n",
        "})\n",
        "\n",
        "stories_test \u003d pd.DataFrame({\n",
        "    \u0027story\u0027: [mobster, memoir]\n",
        "})"
      ]
    },
    {
      "cell_type": "code",
      "execution_count": 51,
      "metadata": {
        "ExecuteTime": {
          "end_time": "2019-03-01T12:10:58.062930Z",
          "start_time": "2019-03-01T12:10:54.744087Z"
        },
        "pycharm": {}
      },
      "outputs": [],
      "source": [
        "processed_stories \u003d stories_train[\u0027story\u0027].map(preprocess)"
      ]
    },
    {
      "cell_type": "code",
      "execution_count": 52,
      "metadata": {
        "ExecuteTime": {
          "end_time": "2019-03-01T12:10:58.370206Z",
          "start_time": "2019-03-01T12:10:58.361730Z"
        },
        "pycharm": {}
      },
      "outputs": [],
      "source": [
        "dictionary \u003d gensim.corpora.Dictionary(processed_stories)"
      ]
    },
    {
      "cell_type": "code",
      "execution_count": 53,
      "metadata": {
        "ExecuteTime": {
          "end_time": "2019-03-01T12:10:58.732176Z",
          "start_time": "2019-03-01T12:10:58.714756Z"
        },
        "pycharm": {}
      },
      "outputs": [
        {
          "name": "stdout",
          "output_type": "stream",
          "text": [
            "0 abl\n",
            "1 advantag\n",
            "2 anomali\n",
            "3 artifici\n",
            "4 bang\n",
            "5 begin\n",
            "6 best\n",
            "7 black\n",
            "8 blood\n",
            "9 bodi\n",
            "10 break\n"
          ]
        }
      ],
      "source": [
        "count \u003d 0\n",
        "for k, v in dictionary.iteritems():\n",
        "    print(k, v)\n",
        "    count +\u003d 1\n",
        "    if count \u003e 10:\n",
        "        break"
      ]
    },
    {
      "cell_type": "code",
      "execution_count": 54,
      "metadata": {
        "ExecuteTime": {
          "end_time": "2019-03-01T12:10:59.000538Z",
          "start_time": "2019-03-01T12:10:58.992155Z"
        },
        "pycharm": {}
      },
      "outputs": [],
      "source": [
        "bow_corpus \u003d [dictionary.doc2bow(doc) for doc in processed_stories]"
      ]
    },
    {
      "cell_type": "code",
      "execution_count": 55,
      "metadata": {
        "ExecuteTime": {
          "end_time": "2019-03-01T12:10:59.264715Z",
          "start_time": "2019-03-01T12:10:59.254114Z"
        },
        "pycharm": {}
      },
      "outputs": [],
      "source": [
        "tfidf \u003d models.TfidfModel(bow_corpus)\n",
        "corpus_tfidf \u003d tfidf[bow_corpus]"
      ]
    },
    {
      "cell_type": "code",
      "execution_count": 56,
      "metadata": {
        "ExecuteTime": {
          "end_time": "2019-03-01T12:10:59.852872Z",
          "start_time": "2019-03-01T12:10:59.528387Z"
        },
        "pycharm": {}
      },
      "outputs": [],
      "source": [
        "lda_model \u003d gensim.models.LdaMulticore(bow_corpus, num_topics\u003d3, \n",
        "                                       id2word\u003ddictionary, passes\u003d2, workers\u003d2)"
      ]
    },
    {
      "cell_type": "code",
      "execution_count": 57,
      "metadata": {
        "ExecuteTime": {
          "end_time": "2019-03-01T12:11:00.134271Z",
          "start_time": "2019-03-01T12:11:00.125236Z"
        },
        "pycharm": {}
      },
      "outputs": [
        {
          "name": "stdout",
          "output_type": "stream",
          "text": [
            "Topic: 0 Words: 0.012*\"quinn\" + 0.010*\"say\" + 0.009*\"know\" + 0.008*\"like\" + 0.008*\"time\" + 0.007*\"wasn\" + 0.007*\"card\" + 0.006*\"hand\" + 0.006*\"give\" + 0.006*\"long\"\n",
            "\n",
            "Topic: 1 Words: 0.010*\"joseph\" + 0.009*\"driver\" + 0.006*\"say\" + 0.006*\"month\" + 0.006*\"wish\" + 0.005*\"marco\" + 0.005*\"star\" + 0.005*\"like\" + 0.005*\"passeng\" + 0.005*\"woman\"\n",
            "\n",
            "Topic: 2 Words: 0.039*\"reckless\" + 0.016*\"death\" + 0.011*\"gustaf\" + 0.010*\"look\" + 0.008*\"say\" + 0.008*\"drink\" + 0.007*\"hand\" + 0.006*\"adventur\" + 0.006*\"know\" + 0.006*\"like\"\n",
            "\n"
          ]
        }
      ],
      "source": [
        "for idx, topic in lda_model.print_topics(-1):\n",
        "    print(\u0027Topic: {} Words: {}\u0027.format(idx, topic))\n",
        "    print()"
      ]
    },
    {
      "cell_type": "code",
      "execution_count": 58,
      "metadata": {
        "ExecuteTime": {
          "end_time": "2019-03-01T12:11:00.631118Z",
          "start_time": "2019-03-01T12:11:00.340010Z"
        },
        "pycharm": {}
      },
      "outputs": [
        {
          "name": "stdout",
          "output_type": "stream",
          "text": [
            "Topic: 0 Word: 0.002*\"joseph\" + 0.002*\"srvr\" + 0.002*\"driver\" + 0.002*\"robert\" + 0.002*\"doctor\" + 0.002*\"woman\" + 0.002*\"passeng\" + 0.002*\"window\" + 0.002*\"smoke\" + 0.001*\"open\"\n",
            "\n",
            "Topic: 1 Word: 0.003*\"reckless\" + 0.003*\"quinn\" + 0.002*\"marco\" + 0.002*\"card\" + 0.002*\"nasa\" + 0.002*\"shuttl\" + 0.002*\"gustaf\" + 0.002*\"death\" + 0.002*\"month\" + 0.002*\"give\"\n",
            "\n",
            "Topic: 2 Word: 0.001*\"driver\" + 0.001*\"joseph\" + 0.001*\"quinn\" + 0.001*\"reckless\" + 0.001*\"srvr\" + 0.001*\"window\" + 0.001*\"passeng\" + 0.001*\"card\" + 0.001*\"woman\" + 0.001*\"marco\"\n",
            "\n"
          ]
        }
      ],
      "source": [
        "lda_model_tfidf \u003d gensim.models.LdaMulticore(corpus_tfidf, num_topics\u003d3, \n",
        "                                             id2word\u003ddictionary, passes\u003d2, workers\u003d4)\n",
        "for idx, topic in lda_model_tfidf.print_topics(-1):\n",
        "    print(\u0027Topic: {} Word: {}\u0027.format(idx, topic))\n",
        "    print()"
      ]
    },
    {
      "cell_type": "code",
      "execution_count": 59,
      "metadata": {
        "ExecuteTime": {
          "end_time": "2019-03-01T12:11:00.928792Z",
          "start_time": "2019-03-01T12:11:00.917671Z"
        },
        "pycharm": {}
      },
      "outputs": [
        {
          "name": "stdout",
          "output_type": "stream",
          "text": [
            "Score: 0.9964722394943237\t \n",
            "Topic: 0.012*\"quinn\" + 0.010*\"say\" + 0.009*\"know\"\n"
          ]
        }
      ],
      "source": [
        "for index, score in sorted(lda_model[bow_corpus[0]], key\u003dlambda tup: -1*tup[1]):\n",
        "    print(\"Score: {}\\t \\nTopic: {}\".format(score, lda_model.print_topic(index, 3)))"
      ]
    },
    {
      "cell_type": "code",
      "execution_count": 60,
      "metadata": {
        "ExecuteTime": {
          "end_time": "2019-03-01T12:11:01.196244Z",
          "start_time": "2019-03-01T12:11:01.186000Z"
        },
        "pycharm": {}
      },
      "outputs": [
        {
          "name": "stdout",
          "output_type": "stream",
          "text": [
            "Score: 0.9962339401245117\t \n",
            "Topic: 0.002*\"joseph\" + 0.002*\"srvr\" + 0.002*\"driver\"\n"
          ]
        }
      ],
      "source": [
        "for index, score in sorted(lda_model_tfidf[bow_corpus[0]], key\u003dlambda tup: -1*tup[1]):\n",
        "    print(\"Score: {}\\t \\nTopic: {}\".format(score, lda_model_tfidf.print_topic(index, 3)))"
      ]
    },
    {
      "cell_type": "code",
      "execution_count": 61,
      "metadata": {
        "ExecuteTime": {
          "end_time": "2019-03-01T12:11:01.477735Z",
          "start_time": "2019-03-01T12:11:01.457551Z"
        },
        "pycharm": {}
      },
      "outputs": [
        {
          "name": "stdout",
          "output_type": "stream",
          "text": [
            "Score: 0.45016664266586304\t Topic: 0.039*\"reckless\" + 0.016*\"death\" + 0.011*\"gustaf\" + 0.010*\"look\" + 0.008*\"say\"\n",
            "Score: 0.37507134675979614\t Topic: 0.012*\"quinn\" + 0.010*\"say\" + 0.009*\"know\" + 0.008*\"like\" + 0.008*\"time\"\n",
            "Score: 0.1747620552778244\t Topic: 0.010*\"joseph\" + 0.009*\"driver\" + 0.006*\"say\" + 0.006*\"month\" + 0.006*\"wish\"\n"
          ]
        }
      ],
      "source": [
        "bow_vector \u003d dictionary.doc2bow(preprocess(stories_test.story[0]))\n",
        "for index, score in sorted(lda_model[bow_vector], key\u003dlambda tup: -1*tup[1]):\n",
        "    print(\"Score: {}\\t Topic: {}\".format(score, lda_model.print_topic(index, 5)))"
      ]
    },
    {
      "cell_type": "code",
      "execution_count": 62,
      "metadata": {
        "ExecuteTime": {
          "end_time": "2019-03-01T12:11:01.714388Z",
          "start_time": "2019-03-01T12:11:01.692959Z"
        },
        "pycharm": {}
      },
      "outputs": [
        {
          "name": "stdout",
          "output_type": "stream",
          "text": [
            "Score: 0.41698306798934937\t Topic: 0.010*\"joseph\" + 0.009*\"driver\" + 0.006*\"say\" + 0.006*\"month\" + 0.006*\"wish\"\n",
            "Score: 0.3615414798259735\t Topic: 0.039*\"reckless\" + 0.016*\"death\" + 0.011*\"gustaf\" + 0.010*\"look\" + 0.008*\"say\"\n",
            "Score: 0.22147545218467712\t Topic: 0.012*\"quinn\" + 0.010*\"say\" + 0.009*\"know\" + 0.008*\"like\" + 0.008*\"time\"\n"
          ]
        }
      ],
      "source": [
        "bow_vector \u003d dictionary.doc2bow(preprocess(stories_test.story[1]))\n",
        "for index, score in sorted(lda_model[bow_vector], key\u003dlambda tup: -1*tup[1]):\n",
        "    print(\"Score: {}\\t Topic: {}\".format(score, lda_model.print_topic(index, 5)))"
      ]
    },
    {
      "cell_type": "markdown",
      "metadata": {
        "pycharm": {}
      },
      "source": [
        "# Topic Modeling using Spacy"
      ]
    },
    {
      "cell_type": "markdown",
      "metadata": {
        "pycharm": {}
      },
      "source": [
        "Imports for this version of LDA"
      ]
    },
    {
      "cell_type": "code",
      "execution_count": 63,
      "metadata": {
        "ExecuteTime": {
          "end_time": "2019-03-01T12:11:14.617703Z",
          "start_time": "2019-03-01T12:11:09.634217Z"
        },
        "pycharm": {}
      },
      "outputs": [],
      "source": [
        "import spacy\n",
        "spacy.load(\u0027en\u0027)\n",
        "from spacy.lang.en import English\n",
        "from nltk.corpus import wordnet as wn\n",
        "from gensim import corpora\n",
        "import pickle\n",
        "import gensim\n",
        "from nltk.stem.wordnet import WordNetLemmatizer\n",
        "import pyLDAvis.gensim"
      ]
    },
    {
      "cell_type": "markdown",
      "metadata": {
        "pycharm": {}
      },
      "source": [
        "Functions Defined in the Tutorial"
      ]
    },
    {
      "cell_type": "code",
      "execution_count": 64,
      "metadata": {
        "ExecuteTime": {
          "end_time": "2019-03-01T12:11:14.860285Z",
          "start_time": "2019-03-01T12:11:14.853028Z"
        },
        "pycharm": {}
      },
      "outputs": [],
      "source": [
        "def tokenize(text):\n",
        "    lda_tokens \u003d []\n",
        "    tokens \u003d parser(text)\n",
        "    for token in tokens:\n",
        "        if token.orth_.isspace():\n",
        "            continue\n",
        "        elif token.like_url:\n",
        "            lda_tokens.append(\u0027URL\u0027)\n",
        "        elif token.orth_.startswith(\u0027@\u0027):\n",
        "            lda_tokens.append(\u0027SCREEN_NAME\u0027)\n",
        "        else:\n",
        "            lda_tokens.append(token.lower_)\n",
        "    return lda_tokens"
      ]
    },
    {
      "cell_type": "code",
      "execution_count": 65,
      "metadata": {
        "ExecuteTime": {
          "end_time": "2019-03-01T12:11:15.103234Z",
          "start_time": "2019-03-01T12:11:15.098334Z"
        },
        "pycharm": {}
      },
      "outputs": [],
      "source": [
        "def get_lemma(word):\n",
        "    lemma \u003d wn.morphy(word)\n",
        "    if lemma is None:\n",
        "        return word\n",
        "    else:\n",
        "        return lemma"
      ]
    },
    {
      "cell_type": "code",
      "execution_count": 66,
      "metadata": {
        "ExecuteTime": {
          "end_time": "2019-03-01T12:11:15.309277Z",
          "start_time": "2019-03-01T12:11:15.305191Z"
        },
        "pycharm": {}
      },
      "outputs": [],
      "source": [
        "def get_lemma2(word):\n",
        "    return WordNetLemmatizer().lemmatize(word)"
      ]
    },
    {
      "cell_type": "code",
      "execution_count": 67,
      "metadata": {
        "ExecuteTime": {
          "end_time": "2019-03-01T12:11:15.521198Z",
          "start_time": "2019-03-01T12:11:15.512552Z"
        },
        "pycharm": {}
      },
      "outputs": [],
      "source": [
        "def prepare_text_for_lda(text):\n",
        "    tokens \u003d tokenize(text)\n",
        "    tokens \u003d [token for token in tokens if len(token) \u003e 4]\n",
        "    tokens \u003d [token for token in tokens if token not in en_stop]\n",
        "    tokens \u003d [get_lemma(token) for token in tokens]\n",
        "    return tokens"
      ]
    },
    {
      "cell_type": "markdown",
      "metadata": {
        "pycharm": {}
      },
      "source": [
        "Definition of import variables, and train and test sets for the model"
      ]
    },
    {
      "cell_type": "code",
      "execution_count": 68,
      "metadata": {
        "ExecuteTime": {
          "end_time": "2019-03-01T12:11:16.335633Z",
          "start_time": "2019-03-01T12:11:15.794143Z"
        },
        "pycharm": {}
      },
      "outputs": [
        {
          "name": "stderr",
          "output_type": "stream",
          "text": [
            "[nltk_data] Downloading package stopwords to\n",
            "[nltk_data]     /Users/homeworkdude/nltk_data...\n",
            "[nltk_data]   Package stopwords is already up-to-date!\n"
          ]
        },
        {
          "name": "stdout",
          "output_type": "stream",
          "text": [
            "Dictionary(869 unique tokens: [\u0027advantage\u0027, \u0027always\u0027, \u0027anomaly\u0027, \u0027artificial\u0027, \u0027begin\u0027]...)\n"
          ]
        }
      ],
      "source": [
        "parser \u003d English()\n",
        "nltk.download(\u0027stopwords\u0027)\n",
        "en_stop \u003d set(nltk.corpus.stopwords.words(\u0027english\u0027))\n",
        "\n",
        "stories_train[\u0027tokens\u0027] \u003d [prepare_text_for_lda(srvr), prepare_text_for_lda(the_job), \n",
        "                     prepare_text_for_lda(after_life), prepare_text_for_lda(yrg), \n",
        "                     prepare_text_for_lda(moon)]\n",
        "\n",
        "stories_test[\u0027tokens\u0027] \u003d [prepare_text_for_lda(mobster), prepare_text_for_lda(memoir)]\n",
        "\n",
        "dictionary \u003d corpora.Dictionary(stories_train[\u0027tokens\u0027])\n",
        "corpus \u003d [dictionary.doc2bow(text) for text in stories_train.tokens]\n",
        "\n",
        "pickle.dump(corpus, open(\u0027corpus.pkl\u0027, \u0027wb\u0027))\n",
        "dictionary.save(\u0027dictionary.gensim\u0027)\n",
        "print(dictionary)"
      ]
    },
    {
      "cell_type": "markdown",
      "metadata": {
        "pycharm": {}
      },
      "source": [
        "Building the LDA model using gensim. Determined through previous exploration that there are 3 primary topics represented in the stories."
      ]
    },
    {
      "cell_type": "code",
      "execution_count": 69,
      "metadata": {
        "ExecuteTime": {
          "end_time": "2019-03-01T12:11:16.944413Z",
          "start_time": "2019-03-01T12:11:16.572165Z"
        },
        "scrolled": true,
        "pycharm": {}
      },
      "outputs": [
        {
          "name": "stdout",
          "output_type": "stream",
          "text": [
            "(0, \u00270.047*\"reckless\" + 0.020*\"death\" + 0.014*\"gustaf\" + 0.008*\"could\"\u0027)\n",
            "(1, \u00270.014*\"could\" + 0.009*\"would\" + 0.009*\"things\" + 0.008*\"though\"\u0027)\n",
            "(2, \u00270.016*\"quinn\" + 0.010*\"joseph\" + 0.009*\"driver\" + 0.006*\"could\"\u0027)\n"
          ]
        }
      ],
      "source": [
        "NUM_TOPICS \u003d 3\n",
        "ldamodel \u003d gensim.models.ldamodel.LdaModel(corpus, num_topics \u003d NUM_TOPICS, \n",
        "                                           id2word\u003ddictionary, passes\u003d15)\n",
        "ldamodel.save(\u0027model3.gensim\u0027)\n",
        "topics \u003d ldamodel.print_topics(num_words\u003d4)\n",
        "for topic in topics:\n",
        "    print(topic)"
      ]
    },
    {
      "cell_type": "markdown",
      "metadata": {
        "pycharm": {}
      },
      "source": [
        "Prediction of Topic for the First Test Story"
      ]
    },
    {
      "cell_type": "code",
      "execution_count": 70,
      "metadata": {
        "ExecuteTime": {
          "end_time": "2019-03-01T12:11:17.202116Z",
          "start_time": "2019-03-01T12:11:17.192978Z"
        },
        "pycharm": {}
      },
      "outputs": [
        {
          "name": "stdout",
          "output_type": "stream",
          "text": [
            "[(5, 1), (16, 1), (78, 1), (79, 1), (83, 1), (125, 2), (130, 1), (132, 3), (144, 1), (163, 2), (167, 1), (196, 1), (248, 2), (294, 1), (317, 1), (373, 1), (382, 1), (385, 2), (387, 2), (407, 3), (411, 1), (453, 1), (491, 1), (524, 1), (526, 1), (537, 1), (543, 1), (568, 1), (574, 1), (576, 1), (585, 1), (606, 1), (645, 2), (650, 1), (720, 1)]\n",
            "[(0, 0.40454495), (1, 0.17714944), (2, 0.4183056)]\n"
          ]
        }
      ],
      "source": [
        "test_bow1 \u003d dictionary.doc2bow(stories_test.tokens[0])\n",
        "print(test_bow1)\n",
        "print(ldamodel.get_document_topics(test_bow1))"
      ]
    },
    {
      "cell_type": "markdown",
      "metadata": {
        "pycharm": {}
      },
      "source": [
        "Prediction of Topic for the Second Story"
      ]
    },
    {
      "cell_type": "code",
      "execution_count": 71,
      "metadata": {
        "ExecuteTime": {
          "end_time": "2019-03-01T12:11:18.292109Z",
          "start_time": "2019-03-01T12:11:18.273063Z"
        },
        "pycharm": {}
      },
      "outputs": [
        {
          "name": "stdout",
          "output_type": "stream",
          "text": [
            "[(29, 1), (79, 3), (116, 1), (125, 1), (128, 1), (141, 8), (163, 1), (181, 1), (194, 1), (207, 1), (316, 1), (325, 1), (382, 1), (386, 1), (411, 1), (424, 1), (432, 1), (480, 1), (493, 1), (517, 1), (524, 1), (567, 1), (601, 1), (616, 1), (645, 1), (692, 1), (733, 1), (753, 1), (784, 1), (840, 1)]\n",
            "[(0, 0.21267559), (1, 0.21973878), (2, 0.56758565)]\n"
          ]
        }
      ],
      "source": [
        "test_bow2 \u003d dictionary.doc2bow(stories_test.tokens[1])\n",
        "print(test_bow2)\n",
        "print(ldamodel.get_document_topics(test_bow2))"
      ]
    },
    {
      "cell_type": "markdown",
      "metadata": {
        "pycharm": {}
      },
      "source": [
        "Visualization of Topics and the words that make them up"
      ]
    },
    {
      "cell_type": "code",
      "execution_count": 72,
      "metadata": {
        "ExecuteTime": {
          "end_time": "2019-03-01T12:11:58.549386Z",
          "start_time": "2019-03-01T12:11:19.595894Z"
        },
        "pycharm": {}
      },
      "outputs": [
        {
          "name": "stderr",
          "output_type": "stream",
          "text": [
            "/Users/homeworkdude/anaconda3/envs/nlp/lib/python3.6/site-packages/pyLDAvis/_prepare.py:257: FutureWarning: Sorting because non-concatenation axis is not aligned. A future version\n",
            "of pandas will change to not sort by default.\n",
            "\n",
            "To accept the future behavior, pass \u0027sort\u003dFalse\u0027.\n",
            "\n",
            "To retain the current behavior and silence the warning, pass \u0027sort\u003dTrue\u0027.\n",
            "\n",
            "  return pd.concat([default_term_info] + list(topic_dfs))\n"
          ]
        },
        {
          "data": {
            "text/html": [
              "\n",
              "\u003clink rel\u003d\"stylesheet\" type\u003d\"text/css\" href\u003d\"https://cdn.rawgit.com/bmabey/pyLDAvis/files/ldavis.v1.0.0.css\"\u003e\n",
              "\n",
              "\n",
              "\u003cdiv id\u003d\"ldavis_el67881124808863605050970426\"\u003e\u003c/div\u003e\n",
              "\u003cscript type\u003d\"text/javascript\"\u003e\n",
              "\n",
              "var ldavis_el67881124808863605050970426_data \u003d {\"mdsDat\": {\"x\": [-0.11980776043917565, 0.05790511547592505, 0.0619026449632506], \"y\": [0.0020779454262053556, -0.09445441415680728, 0.0923764687306019], \"topics\": [1, 2, 3], \"cluster\": [1, 1, 1], \"Freq\": [31.614919662475586, 27.200639724731445, 41.18444061279297]}, \"tinfo\": {\"Category\": [\"Default\", \"Default\", \"Default\", \"Default\", \"Default\", \"Default\", \"Default\", \"Default\", \"Default\", \"Default\", \"Default\", \"Default\", \"Default\", \"Default\", \"Default\", \"Default\", \"Default\", \"Default\", \"Default\", \"Default\", \"Default\", \"Default\", \"Default\", \"Default\", \"Default\", \"Default\", \"Default\", \"Default\", \"Default\", \"Default\", \"Topic1\", \"Topic1\", \"Topic1\", \"Topic1\", \"Topic1\", \"Topic1\", \"Topic1\", \"Topic1\", \"Topic1\", \"Topic1\", \"Topic1\", \"Topic1\", \"Topic1\", \"Topic1\", \"Topic1\", \"Topic1\", \"Topic1\", \"Topic1\", \"Topic1\", \"Topic1\", \"Topic1\", \"Topic1\", \"Topic1\", \"Topic1\", \"Topic1\", \"Topic1\", \"Topic1\", \"Topic1\", \"Topic1\", \"Topic1\", \"Topic1\", \"Topic1\", \"Topic1\", \"Topic1\", \"Topic1\", \"Topic1\", \"Topic1\", \"Topic1\", \"Topic1\", \"Topic1\", \"Topic1\", \"Topic1\", \"Topic1\", \"Topic1\", \"Topic1\", \"Topic1\", \"Topic1\", \"Topic1\", \"Topic1\", \"Topic2\", \"Topic2\", \"Topic2\", \"Topic2\", \"Topic2\", \"Topic2\", \"Topic2\", \"Topic2\", \"Topic2\", \"Topic2\", \"Topic2\", \"Topic2\", \"Topic2\", \"Topic2\", \"Topic2\", \"Topic2\", \"Topic2\", \"Topic2\", \"Topic2\", \"Topic2\", \"Topic2\", \"Topic2\", \"Topic2\", \"Topic2\", \"Topic2\", \"Topic2\", \"Topic2\", \"Topic2\", \"Topic2\", \"Topic2\", \"Topic2\", \"Topic2\", \"Topic2\", \"Topic2\", \"Topic2\", \"Topic2\", \"Topic2\", \"Topic2\", \"Topic2\", \"Topic2\", \"Topic2\", \"Topic2\", \"Topic2\", \"Topic2\", \"Topic2\", \"Topic3\", \"Topic3\", \"Topic3\", \"Topic3\", \"Topic3\", \"Topic3\", \"Topic3\", \"Topic3\", \"Topic3\", \"Topic3\", \"Topic3\", \"Topic3\", \"Topic3\", \"Topic3\", \"Topic3\", \"Topic3\", \"Topic3\", \"Topic3\", \"Topic3\", \"Topic3\", \"Topic3\", \"Topic3\", \"Topic3\", \"Topic3\", \"Topic3\", \"Topic3\", \"Topic3\", \"Topic3\", \"Topic3\", \"Topic3\", \"Topic3\", \"Topic3\", \"Topic3\", \"Topic3\", \"Topic3\", \"Topic3\", \"Topic3\", \"Topic3\", \"Topic3\", \"Topic3\", \"Topic3\", \"Topic3\", \"Topic3\", \"Topic3\", \"Topic3\", \"Topic3\"], \"Freq\": [22.0, 10.0, 10.0, 6.0, 6.0, 4.0, 4.0, 4.0, 6.0, 4.0, 3.0, 3.0, 4.0, 2.0, 2.0, 2.0, 4.0, 3.0, 3.0, 2.0, 2.0, 2.0, 2.0, 2.0, 2.0, 2.0, 2.0, 2.0, 4.0, 12.0, 21.779245376586914, 6.370696544647217, 9.455562591552734, 3.9047415256500244, 3.904547691345215, 3.9039478302001953, 3.28773832321167, 2.6716156005859375, 2.671222448348999, 2.0551791191101074, 2.0551209449768066, 1.438722848892212, 1.4387003183364868, 1.4387081861495972, 1.4386643171310425, 1.438637137413025, 1.4386405944824219, 1.438614010810852, 1.4386041164398193, 1.4385801553726196, 1.4385905265808105, 1.4385608434677124, 1.438549280166626, 1.438536524772644, 1.4385225772857666, 1.4385204315185547, 1.438516616821289, 1.4384881258010864, 1.4385137557983398, 1.438490867614746, 2.6723926067352295, 2.6718568801879883, 3.2894158363342285, 2.0556693077087402, 2.6727161407470703, 2.0560355186462402, 2.0554513931274414, 3.9077420234680176, 2.0559933185577393, 2.0559141635894775, 2.056178569793701, 2.056701421737671, 1.4409993886947632, 1.4402179718017578, 1.4399135112762451, 1.43978750705719, 1.4396719932556152, 1.4394025802612305, 1.4393779039382935, 3.09018611907959, 2.511772871017456, 2.511510133743286, 2.5113120079040527, 1.9323257207870483, 1.932227611541748, 1.931917428970337, 1.9319053888320923, 1.9318277835845947, 1.9317775964736938, 1.9316915273666382, 1.931579351425171, 1.9313260316848755, 3.671710252761841, 1.352622389793396, 1.3526183366775513, 1.3525720834732056, 1.3524492979049683, 1.352447509765625, 1.3523889780044556, 1.3523749113082886, 1.3522459268569946, 1.3522084951400757, 1.3522006273269653, 1.352191686630249, 1.352187991142273, 1.3521393537521362, 1.3521192073822021, 1.3519659042358398, 3.0915703773498535, 3.0912818908691406, 2.5127296447753906, 5.412984848022461, 3.092517614364624, 1.9321632385253906, 1.932030200958252, 3.6725876331329346, 1.9322870969772339, 1.9323980808258057, 1.353330373764038, 1.3532617092132568, 1.352972149848938, 1.3529376983642578, 1.352915644645691, 1.3529012203216553, 9.69078254699707, 6.3086347579956055, 5.633220195770264, 2.929823398590088, 2.9296858310699463, 2.929553747177124, 2.9292924404144287, 2.9290804862976074, 2.2540500164031982, 2.2539708614349365, 2.2538909912109375, 2.2538535594940186, 2.253812074661255, 2.2537598609924316, 2.2536864280700684, 2.253492593765259, 2.25338077545166, 1.5777453184127808, 1.5777181386947632, 1.5777068138122559, 1.5776753425598145, 1.5776680707931519, 1.5776597261428833, 1.5776569843292236, 1.5776619911193848, 1.5776563882827759, 1.5776467323303223, 1.5776410102844238, 1.5776374340057373, 1.5776419639587402, 3.607009172439575, 2.9306302070617676, 2.9302351474761963, 3.607523202896118, 2.9316344261169434, 2.254255771636963, 2.2542338371276855, 2.253298044204712, 3.608518600463867, 2.254563093185425, 2.2544000148773193, 3.6102871894836426, 2.255345582962036, 2.2548511028289795, 2.2545077800750732, 2.254136085510254], \"Term\": [\"reckless\", \"death\", \"quinn\", \"gustaf\", \"joseph\", \"adventurer\", \"found\", \"drink\", \"driver\", \"things\", \"marco\", \"apprentice\", \"quickly\", \"srvr-2k16\", \"roberts\", \"shuttle\", \"month\", \"object\", \"barmaid\", \"doctor\", \"human\", \"earth\", \"everything\", \"rock\", \"research\", \"rover\", \"clarke\", \"atmosphere\", \"another\", \"could\", \"reckless\", \"gustaf\", \"death\", \"adventurer\", \"found\", \"drink\", \"apprentice\", \"object\", \"barmaid\", \"spirit\", \"messenger\", \"young\", \"crowd\", \"hands\", \"grant\", \"maiden\", \"toast\", \"fitting\", \"celebrate\", \"disappear\", \"reckless\\u2019\", \"monster\", \"alcohol\", \"almost\", \"pants\", \"toss\", \"early\", \"request\", \"nod\", \"turning\", \"night\", \"pocket\", \"ask\", \"happen\", \"look\", \"quest\", \"corner\", \"could\", \"going\", \"giving\", \"another\", \"still\", \"would\", \"people\", \"getting\", \"smile\", \"answer\", \"begin\", \"watch\", \"marco\", \"srvr-2k16\", \"roberts\", \"shuttle\", \"doctor\", \"human\", \"earth\", \"everything\", \"rock\", \"research\", \"rover\", \"clarke\", \"atmosphere\", \"things\", \"species\", \"imagine\", \"learn\", \"medical\", \"later\", \"using\", \"wall\", \"change\", \"scientist\", \"brilliant\", \"sending\", \"neighbor\", \"kilometer\", \"wish\", \"arrive\", \"quickly\", \"month\", \"start\", \"could\", \"though\", \"space\", \"often\", \"would\", \"nothing\", \"another\", \"coming\", \"world\", \"voice\", \"least\", \"outside\", \"white\", \"quinn\", \"joseph\", \"driver\", \"business\", \"thought\", \"woman\", \"window\", \"passenger\", \"phone\", \"jacket\", \"aisle\", \"couch\", \"exactly\", \"sometimes\", \"grocery\", \"sigh\", \"smoking\", \"move\", \"patent\", \"clean\", \"smell\", \"security\", \"wearing\", \"citizen\", \"mostly\", \"dangerous\", \"relationship\", \"maybe\", \"insurance\", \"track\", \"right\", \"years\", \"enough\", \"people\", \"stare\", \"pull\", \"reach\", \"street\", \"would\", \"first\", \"answer\", \"could\", \"getting\", \"though\", \"ask\", \"still\"], \"Total\": [22.0, 10.0, 10.0, 6.0, 6.0, 4.0, 4.0, 4.0, 6.0, 4.0, 3.0, 3.0, 4.0, 2.0, 2.0, 2.0, 4.0, 3.0, 3.0, 2.0, 2.0, 2.0, 2.0, 2.0, 2.0, 2.0, 2.0, 2.0, 4.0, 12.0, 22.226600646972656, 6.796512603759766, 10.462615966796875, 4.327751159667969, 4.327700614929199, 4.327695369720459, 3.7105252742767334, 3.0933589935302734, 3.093351125717163, 2.4761176109313965, 2.476175546646118, 1.8589286804199219, 1.8589273691177368, 1.8589450120925903, 1.8589346408843994, 1.858927607536316, 1.8589469194412231, 1.8589451313018799, 1.858944296836853, 1.8589255809783936, 1.8589428663253784, 1.8589507341384888, 1.8589376211166382, 1.8589452505111694, 1.858935832977295, 1.8589411973953247, 1.858946442604065, 1.8589184284210205, 1.8589545488357544, 1.858939528465271, 3.769766330718994, 3.769784450531006, 5.740021705627441, 3.0562009811401367, 4.446400165557861, 3.1525871753692627, 3.152587413787842, 12.931013107299805, 3.7327077388763428, 3.8292133808135986, 4.216350555419922, 4.505707263946533, 8.722105026245117, 5.821818828582764, 4.468687057495117, 3.2119739055633545, 3.888573169708252, 3.115478515625, 3.1154091358184814, 3.5250632762908936, 2.944833278656006, 2.9448680877685547, 2.9448955059051514, 2.364743232727051, 2.364759683609009, 2.3648035526275635, 2.3647937774658203, 2.364807367324829, 2.364820957183838, 2.3648452758789062, 2.3648324012756348, 2.3648858070373535, 4.781384468078613, 1.7846827507019043, 1.7846791744232178, 1.7846754789352417, 1.7846996784210205, 1.7847040891647339, 1.7847084999084473, 1.7847142219543457, 1.784726619720459, 1.7847449779510498, 1.7847415208816528, 1.7847458124160767, 1.7847462892532349, 1.784746527671814, 1.7847543954849243, 1.7847586870193481, 4.2013840675354, 4.878082752227783, 4.238393306732178, 12.931013107299805, 6.171604156494141, 3.0412821769714355, 3.041264772415161, 8.722105026245117, 3.599165201187134, 4.216350555419922, 2.4610910415649414, 2.461092233657837, 3.0190412998199463, 3.1377415657043457, 3.137754201889038, 2.401820659637451, 10.09658432006836, 6.713454246520996, 6.036951541900635, 3.3308424949645996, 3.3308115005493164, 3.330763816833496, 3.330751895904541, 3.3307151794433594, 2.6542856693267822, 2.6542725563049316, 2.654287099838257, 2.654264450073242, 2.6542716026306152, 2.6542630195617676, 2.65425968170166, 2.6542251110076904, 2.6541976928710938, 1.9776867628097534, 1.9776930809020996, 1.9776856899261475, 1.97767174243927, 1.9776864051818848, 1.9776782989501953, 1.9776784181594849, 1.9776866436004639, 1.9776837825775146, 1.9776828289031982, 1.9776782989501953, 1.9776787757873535, 1.9776853322982788, 4.587534427642822, 3.9109270572662354, 3.947950839996338, 5.821818828582764, 4.528125286102295, 3.271395206451416, 3.2714006900787354, 3.271270751953125, 8.722105026245117, 3.8143796920776367, 3.888573169708252, 12.931013107299805, 4.468687057495117, 6.171604156494141, 5.740021705627441, 4.505707263946533], \"loglift\": [30.0, 29.0, 28.0, 27.0, 26.0, 25.0, 24.0, 23.0, 22.0, 21.0, 20.0, 19.0, 18.0, 17.0, 16.0, 15.0, 14.0, 13.0, 12.0, 11.0, 10.0, 9.0, 8.0, 7.0, 6.0, 5.0, 4.0, 3.0, 2.0, 1.0, 1.1311999559402466, 1.0867999792099, 1.0503000020980835, 1.048699975013733, 1.0485999584197998, 1.0484999418258667, 1.0305999517440796, 1.0049999952316284, 1.0047999620437622, 0.9652000069618225, 0.9652000069618225, 0.8952999711036682, 0.8952999711036682, 0.8952999711036682, 0.8952999711036682, 0.8952000141143799, 0.8952000141143799, 0.8952000141143799, 0.8952000141143799, 0.8952000141143799, 0.8952000141143799, 0.8952000141143799, 0.8952000141143799, 0.8952000141143799, 0.8952000141143799, 0.8950999975204468, 0.8950999975204468, 0.8950999975204468, 0.8950999975204468, 0.8950999975204468, 0.8075000047683716, 0.8072999715805054, 0.5947999954223633, 0.7549999952316284, 0.6424999833106995, 0.7240999937057495, 0.723800003528595, -0.045099999755620956, 0.5551999807357788, 0.5296000242233276, 0.4334000051021576, 0.36730000376701355, -0.6489999890327454, -0.24529999494552612, 0.01899999938905239, 0.3492000102996826, 0.15790000557899475, 0.37940001487731934, 0.37940001487731934, 1.170300006866455, 1.142899990081787, 1.142699956893921, 1.142699956893921, 1.100000023841858, 1.0999000072479248, 1.0996999740600586, 1.0996999740600586, 1.0996999740600586, 1.0996999740600586, 1.0995999574661255, 1.0995999574661255, 1.0994000434875488, 1.0378999710083008, 1.0247000455856323, 1.0247000455856323, 1.0247000455856323, 1.0246000289916992, 1.0246000289916992, 1.0245000123977661, 1.0245000123977661, 1.024399995803833, 1.024399995803833, 1.024399995803833, 1.024399995803833, 1.024399995803833, 1.0242999792099, 1.0242999792099, 1.0241999626159668, 0.995199978351593, 0.84579998254776, 0.7791000008583069, 0.4311000108718872, 0.6110000014305115, 0.8482999801635742, 0.8482000231742859, 0.43700000643730164, 0.6798999905586243, 0.5217000246047974, 0.7038999795913696, 0.7038000226020813, 0.4993000030517578, 0.46070000529289246, 0.46070000529289246, 0.7279999852180481, 0.8460999727249146, 0.8248999714851379, 0.8179000020027161, 0.7588000297546387, 0.7588000297546387, 0.7588000297546387, 0.7587000131607056, 0.7585999965667725, 0.7236999869346619, 0.7235999703407288, 0.7235999703407288, 0.7235999703407288, 0.7235999703407288, 0.7235000133514404, 0.7235000133514404, 0.7233999967575073, 0.7233999967575073, 0.6611999869346619, 0.6611999869346619, 0.6611999869346619, 0.6610999703407288, 0.6610999703407288, 0.6610999703407288, 0.6610999703407288, 0.6610999703407288, 0.6610999703407288, 0.6610999703407288, 0.6610999703407288, 0.6610999703407288, 0.6610999703407288, 0.6466000080108643, 0.5985999703407288, 0.5889999866485596, 0.40849998593330383, 0.45239999890327454, 0.5146999955177307, 0.5146999955177307, 0.5142999887466431, 0.0044999998062849045, 0.361299991607666, 0.34200000762939453, -0.388700008392334, 0.20329999923706055, -0.11980000138282776, -0.04740000143647194, 0.19449999928474426], \"logprob\": [30.0, 29.0, 28.0, 27.0, 26.0, 25.0, 24.0, 23.0, 22.0, 21.0, 20.0, 19.0, 18.0, 17.0, 16.0, 15.0, 14.0, 13.0, 12.0, 11.0, 10.0, 9.0, 8.0, 7.0, 6.0, 5.0, 4.0, 3.0, 2.0, 1.0, -3.0625998973846436, -4.291800022125244, -3.896899938583374, -4.781300067901611, -4.781400203704834, -4.781499862670898, -4.9532999992370605, -5.160799980163574, -5.160999774932861, -5.4232001304626465, -5.4232001304626465, -5.779799938201904, -5.779799938201904, -5.779799938201904, -5.779799938201904, -5.779799938201904, -5.779799938201904, -5.779799938201904, -5.779799938201904, -5.779900074005127, -5.779900074005127, -5.779900074005127, -5.779900074005127, -5.779900074005127, -5.779900074005127, -5.779900074005127, -5.779900074005127, -5.779900074005127, -5.779900074005127, -5.779900074005127, -5.1605000495910645, -5.160699844360352, -4.9527997970581055, -5.422900199890137, -5.160399913787842, -5.422699928283691, -5.422999858856201, -4.780600070953369, -5.422800064086914, -5.422800064086914, -5.422699928283691, -5.422399997711182, -5.778200149536133, -5.77869987487793, -5.778900146484375, -5.7789998054504395, -5.779099941253662, -5.779300212860107, -5.779300212860107, -4.8649001121521, -5.0721001625061035, -5.072199821472168, -5.072299957275391, -5.334400177001953, -5.334499835968018, -5.33459997177124, -5.33459997177124, -5.334700107574463, -5.334700107574463, -5.334700107574463, -5.334799766540527, -5.33489990234375, -4.692500114440918, -5.691100120544434, -5.691100120544434, -5.691100120544434, -5.691199779510498, -5.691199779510498, -5.691299915313721, -5.691299915313721, -5.691400051116943, -5.691400051116943, -5.691400051116943, -5.691400051116943, -5.691400051116943, -5.691400051116943, -5.691500186920166, -5.6915998458862305, -4.8643999099731445, -4.864500045776367, -5.071800231933594, -4.304299831390381, -4.864099979400635, -5.334499835968018, -5.33459997177124, -4.692200183868408, -5.334400177001953, -5.334400177001953, -5.6905999183654785, -5.6905999183654785, -5.690800189971924, -5.690800189971924, -5.690899848937988, -5.690899848937988, -4.1367998123168945, -4.565999984741211, -4.679299831390381, -5.333000183105469, -5.333099842071533, -5.333099842071533, -5.333199977874756, -5.3333001136779785, -5.595200061798096, -5.595300197601318, -5.595300197601318, -5.595300197601318, -5.595300197601318, -5.595300197601318, -5.595399856567383, -5.5954999923706055, -5.5954999923706055, -5.952000141143799, -5.952000141143799, -5.952000141143799, -5.952000141143799, -5.952000141143799, -5.952000141143799, -5.952000141143799, -5.952000141143799, -5.952000141143799, -5.952000141143799, -5.952000141143799, -5.952000141143799, -5.952000141143799, -5.125100135803223, -5.332699775695801, -5.332900047302246, -5.124899864196777, -5.332399845123291, -5.595099925994873, -5.595099925994873, -5.595600128173828, -5.124599933624268, -5.59499979019165, -5.595099925994873, -5.124199867248535, -5.594600200653076, -5.594900131225586, -5.59499979019165, -5.595200061798096]}, \"token.table\": {\"Topic\": [1, 3, 1, 1, 1, 2, 1, 3, 1, 2, 1, 3, 2, 1, 1, 2, 3, 2, 3, 1, 2, 3, 2, 3, 2, 3, 1, 3, 3, 1, 2, 3, 1, 3, 1, 2, 1, 2, 1, 3, 1, 2, 1, 3, 2, 3, 2, 3, 1, 1, 1, 2, 3, 1, 3, 1, 2, 3, 1, 3, 1, 1, 1, 2, 2, 2, 3, 3, 3, 2, 2, 2, 2, 3, 1, 3, 1, 2, 3, 2, 1, 1, 2, 3, 3, 3, 2, 1, 3, 1, 1, 2, 1, 2, 3, 2, 3, 1, 3, 3, 1, 2, 3, 3, 1, 3, 1, 3, 1, 3, 2, 3, 3, 1, 3, 1, 1, 3, 1, 2, 2, 3, 2, 2, 2, 2, 3, 2, 2, 3, 3, 1, 3, 3, 3, 2, 3, 2, 1, 2, 1, 2, 3, 1, 2, 3, 1, 3, 1, 3, 2, 3, 1, 2, 3, 3, 1, 1, 3, 1, 2, 1, 2, 2, 1, 2, 3, 3, 1, 2, 3, 2, 3, 2, 3, 1, 2, 3, 2, 3, 1], \"Freq\": [0.9242675304412842, 0.7534980177879333, 0.5379416942596436, 0.5379394292831421, 0.474343866109848, 0.474343866109848, 0.25716373324394226, 0.5143274664878845, 0.8085108399391174, 0.560299813747406, 0.5226461291313171, 0.3484307527542114, 0.8457068204879761, 0.9698219895362854, 0.32097798585891724, 0.32097798585891724, 0.32097798585891724, 0.5603052377700806, 0.9006730318069458, 0.537939727306366, 0.560309886932373, 1.011286735534668, 0.8457258939743042, 1.011283040046692, 0.4063238501548767, 0.4063238501548767, 0.6343995332717896, 0.3171997666358948, 0.7535043954849243, 0.30933383107185364, 0.38666731119155884, 0.30933383107185364, 0.5379446148872375, 1.0112839937210083, 0.8602055311203003, 0.0955783873796463, 0.5379451513290405, 0.845757782459259, 0.9242794513702393, 0.9938790798187256, 0.5379391312599182, 0.8457362055778503, 0.2532959580421448, 0.7598878741264343, 0.8457397222518921, 0.753502368927002, 0.2621658146381378, 0.5243316292762756, 0.5379394888877869, 0.9242783784866333, 0.22377938032150269, 0.22377938032150269, 0.44755876064300537, 0.5223004817962646, 0.5223004817962646, 0.5358040928840637, 0.26790204644203186, 0.26790204644203186, 0.5379425287246704, 0.7535057663917542, 0.8828057050704956, 0.5379395484924316, 0.6544072031974792, 0.3272036015987396, 0.8457518815994263, 0.5603247880935669, 1.0112866163253784, 0.7535021305084229, 0.893727719783783, 0.5603036284446716, 0.5603169798851013, 0.5603259801864624, 0.31870055198669434, 0.6374011039733887, 0.6747031211853027, 0.44980207085609436, 0.5379445552825928, 0.8510485291481018, 1.0112868547439575, 0.5603183507919312, 0.8076971769332886, 0.5379378795623779, 0.6149957180023193, 0.4099971354007721, 1.0112825632095337, 1.0112824440002441, 0.5603037476539612, 0.7958052754402161, 0.2652684450149536, 0.5379367470741272, 0.2778421938419342, 0.5556843876838684, 0.9698195457458496, 0.6576211452484131, 0.32881057262420654, 0.31869927048683167, 0.6373985409736633, 0.5379421710968018, 0.900707483291626, 1.0112792253494263, 0.17176762223243713, 0.17176762223243713, 0.6870704889297485, 0.753498375415802, 0.7958014607429504, 0.26526716351509094, 0.30567997694015503, 0.6113599538803101, 0.6343995928764343, 0.31719979643821716, 0.7140504121780396, 0.23801679909229279, 0.990433931350708, 0.30567947030067444, 0.6113589406013489, 0.9898049831390381, 0.5379401445388794, 1.0112844705581665, 0.5379472374916077, 0.8457300066947937, 0.21798200905323029, 0.8719280362129211, 1.018721342086792, 0.8457348346710205, 0.8457213044166565, 0.5603041648864746, 1.0112826824188232, 0.5603038668632507, 1.0187119245529175, 0.7535156011581421, 1.011290192604065, 0.311335027217865, 0.62267005443573, 0.7535233497619629, 0.7535048127174377, 0.6576173901557922, 0.3288086950778961, 0.5603236556053162, 0.8077160716056824, 1.0187333822250366, 0.22084194421768188, 0.22084194421768188, 0.6625258326530457, 0.23593845963478088, 0.707815408706665, 0.23593845963478088, 0.44388148188591003, 0.44388148188591003, 0.30569159984588623, 0.6113831996917725, 0.8365777730941772, 0.2091444432735443, 0.16203242540359497, 0.4860972762107849, 0.32406485080718994, 0.9006814360618591, 0.5379389524459839, 0.5379406213760376, 1.011283278465271, 0.5379410982131958, 0.5603156089782715, 0.3312309682369232, 0.3312309682369232, 0.5603138208389282, 0.3209851384162903, 0.3209851384162903, 0.3209851384162903, 1.0112868547439575, 0.4163508117198944, 0.4163508117198944, 0.9006975293159485, 0.5603011846542358, 0.9006943106651306, 0.4063236713409424, 0.4063236713409424, 0.11465122550725937, 0.4586049020290375, 0.4586049020290375, 0.25569385290145874, 0.7670815587043762, 0.5379442572593689], \"Term\": [\"adventurer\", \"aisle\", \"alcohol\", \"almost\", \"another\", \"another\", \"answer\", \"answer\", \"apprentice\", \"arrive\", \"ask\", \"ask\", \"atmosphere\", \"barmaid\", \"begin\", \"begin\", \"begin\", \"brilliant\", \"business\", \"celebrate\", \"change\", \"citizen\", \"clarke\", \"clean\", \"coming\", \"coming\", \"corner\", \"corner\", \"couch\", \"could\", \"could\", \"could\", \"crowd\", \"dangerous\", \"death\", \"death\", \"disappear\", \"doctor\", \"drink\", \"driver\", \"early\", \"earth\", \"enough\", \"enough\", \"everything\", \"exactly\", \"first\", \"first\", \"fitting\", \"found\", \"getting\", \"getting\", \"getting\", \"giving\", \"giving\", \"going\", \"going\", \"going\", \"grant\", \"grocery\", \"gustaf\", \"hands\", \"happen\", \"happen\", \"human\", \"imagine\", \"insurance\", \"jacket\", \"joseph\", \"kilometer\", \"later\", \"learn\", \"least\", \"least\", \"look\", \"look\", \"maiden\", \"marco\", \"maybe\", \"medical\", \"messenger\", \"monster\", \"month\", \"month\", \"mostly\", \"move\", \"neighbor\", \"night\", \"night\", \"nod\", \"nothing\", \"nothing\", \"object\", \"often\", \"often\", \"outside\", \"outside\", \"pants\", \"passenger\", \"patent\", \"people\", \"people\", \"people\", \"phone\", \"pocket\", \"pocket\", \"pull\", \"pull\", \"quest\", \"quest\", \"quickly\", \"quickly\", \"quinn\", \"reach\", \"reach\", \"reckless\", \"reckless\\u2019\", \"relationship\", \"request\", \"research\", \"right\", \"right\", \"roberts\", \"rock\", \"rover\", \"scientist\", \"security\", \"sending\", \"shuttle\", \"sigh\", \"smell\", \"smile\", \"smile\", \"smoking\", \"sometimes\", \"space\", \"space\", \"species\", \"spirit\", \"srvr-2k16\", \"stare\", \"stare\", \"stare\", \"start\", \"start\", \"start\", \"still\", \"still\", \"street\", \"street\", \"things\", \"things\", \"though\", \"though\", \"though\", \"thought\", \"toast\", \"toss\", \"track\", \"turning\", \"using\", \"voice\", \"voice\", \"wall\", \"watch\", \"watch\", \"watch\", \"wearing\", \"white\", \"white\", \"window\", \"wish\", \"woman\", \"world\", \"world\", \"would\", \"would\", \"would\", \"years\", \"years\", \"young\"]}, \"R\": 30, \"lambda.step\": 0.01, \"plot.opts\": {\"xlab\": \"PC1\", \"ylab\": \"PC2\"}, \"topic.order\": [1, 2, 3]};\n",
              "\n",
              "function LDAvis_load_lib(url, callback){\n",
              "  var s \u003d document.createElement(\u0027script\u0027);\n",
              "  s.src \u003d url;\n",
              "  s.async \u003d true;\n",
              "  s.onreadystatechange \u003d s.onload \u003d callback;\n",
              "  s.onerror \u003d function(){console.warn(\"failed to load library \" + url);};\n",
              "  document.getElementsByTagName(\"head\")[0].appendChild(s);\n",
              "}\n",
              "\n",
              "if(typeof(LDAvis) !\u003d\u003d \"undefined\"){\n",
              "   // already loaded: just create the visualization\n",
              "   !function(LDAvis){\n",
              "       new LDAvis(\"#\" + \"ldavis_el67881124808863605050970426\", ldavis_el67881124808863605050970426_data);\n",
              "   }(LDAvis);\n",
              "}else if(typeof define \u003d\u003d\u003d \"function\" \u0026\u0026 define.amd){\n",
              "   // require.js is available: use it to load d3/LDAvis\n",
              "   require.config({paths: {d3: \"https://cdnjs.cloudflare.com/ajax/libs/d3/3.5.5/d3.min\"}});\n",
              "   require([\"d3\"], function(d3){\n",
              "      window.d3 \u003d d3;\n",
              "      LDAvis_load_lib(\"https://cdn.rawgit.com/bmabey/pyLDAvis/files/ldavis.v1.0.0.js\", function(){\n",
              "        new LDAvis(\"#\" + \"ldavis_el67881124808863605050970426\", ldavis_el67881124808863605050970426_data);\n",
              "      });\n",
              "    });\n",
              "}else{\n",
              "    // require.js not available: dynamically load d3 \u0026 LDAvis\n",
              "    LDAvis_load_lib(\"https://cdnjs.cloudflare.com/ajax/libs/d3/3.5.5/d3.min.js\", function(){\n",
              "         LDAvis_load_lib(\"https://cdn.rawgit.com/bmabey/pyLDAvis/files/ldavis.v1.0.0.js\", function(){\n",
              "                 new LDAvis(\"#\" + \"ldavis_el67881124808863605050970426\", ldavis_el67881124808863605050970426_data);\n",
              "            })\n",
              "         });\n",
              "}\n",
              "\u003c/script\u003e"
            ],
            "text/plain": [
              "\u003cIPython.core.display.HTML object\u003e"
            ]
          },
          "execution_count": 72,
          "metadata": {},
          "output_type": "execute_result"
        }
      ],
      "source": [
        "dictionary \u003d gensim.corpora.Dictionary.load(\u0027dictionary.gensim\u0027)\n",
        "corpus \u003d pickle.load(open(\u0027corpus.pkl\u0027, \u0027rb\u0027))\n",
        "lda \u003d gensim.models.ldamodel.LdaModel.load(\u0027model3.gensim\u0027)\n",
        "\n",
        "lda_display \u003d pyLDAvis.gensim.prepare(lda, corpus, dictionary, sort_topics\u003dFalse)\n",
        "pyLDAvis.display(lda_display)"
      ]
    },
    {
      "cell_type": "code",
      "execution_count": null,
      "metadata": {
        "pycharm": {}
      },
      "outputs": [],
      "source": []
    }
  ],
  "metadata": {
    "hide_input": false,
    "kernelspec": {
      "display_name": "Python 3",
      "language": "python",
      "name": "python3"
    },
    "language_info": {
      "codemirror_mode": {
        "name": "ipython",
        "version": 3
      },
      "file_extension": ".py",
      "mimetype": "text/x-python",
      "name": "python",
      "nbconvert_exporter": "python",
      "pygments_lexer": "ipython3",
      "version": "3.6.8"
    },
    "toc": {
      "base_numbering": 1.0,
      "nav_menu": {},
      "number_sections": true,
      "sideBar": true,
      "skip_h1_title": false,
      "title_cell": "Table of Contents",
      "title_sidebar": "Contents",
      "toc_cell": false,
      "toc_position": {
        "height": "calc(100% - 180px)",
        "left": "10px",
        "top": "150px",
        "width": "165px"
      },
      "toc_section_display": true,
      "toc_window_display": false
    },
    "varInspector": {
      "cols": {
        "lenName": 16.0,
        "lenType": 16.0,
        "lenVar": 40.0
      },
      "kernels_config": {
        "python": {
          "delete_cmd_postfix": "",
          "delete_cmd_prefix": "del ",
          "library": "var_list.py",
          "varRefreshCmd": "print(var_dic_list())"
        },
        "r": {
          "delete_cmd_postfix": ") ",
          "delete_cmd_prefix": "rm(",
          "library": "var_list.r",
          "varRefreshCmd": "cat(var_dic_list()) "
        }
      },
      "types_to_exclude": [
        "module",
        "function",
        "builtin_function_or_method",
        "instance",
        "_Feature"
      ],
      "window_display": false
    }
  },
  "nbformat": 4,
  "nbformat_minor": 2
}
