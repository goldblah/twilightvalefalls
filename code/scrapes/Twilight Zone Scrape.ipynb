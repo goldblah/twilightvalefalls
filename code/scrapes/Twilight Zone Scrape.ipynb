{
 "cells": [
  {
   "cell_type": "code",
   "execution_count": 10,
   "metadata": {},
   "outputs": [],
   "source": [
    "#pip install wikipedia -- allows for use of Wikipedia API\n",
    "import wikipedia\n",
    "titles = ['Where Is Everybody?','Judgment Night (The Twilight Zone)','And When the Sky Was Opened'] #real episode list here"
   ]
  },
  {
   "cell_type": "code",
   "execution_count": 24,
   "metadata": {},
   "outputs": [],
   "source": [
    "def twilight_zone_nes(episodes):\n",
    "    casts = []\n",
    "    for ep in episodes:\n",
    "        casts.append(wikipedia.WikipediaPage(title = ep).section('Cast'))\n",
    "        \n",
    "    nes = []\n",
    "    for cast in casts:\n",
    "        if cast is not None:\n",
    "            chars = cast.split('\\n')\n",
    "            for char in chars:\n",
    "                nes.append(char.split('as')[-1].strip())\n",
    "        \n",
    "        else:\n",
    "            print('No cast info for episode: %s...\\nCheck article name or fandom wiki...'%episodes[casts.index(cast)])\n",
    "\n",
    "    nes.append('Narrator')\n",
    "    return list(set(nes))"
   ]
  },
  {
   "cell_type": "code",
   "execution_count": 25,
   "metadata": {},
   "outputs": [
    {
     "name": "stdout",
     "output_type": "stream",
     "text": [
      "No cast info for episode: Judgment Night (The Twilight Zone)...\n",
      "Check article name or fandom wiki...\n"
     ]
    }
   ],
   "source": [
    "n = twilight_zone_nes(titles)"
   ]
  },
  {
   "cell_type": "code",
   "execution_count": 26,
   "metadata": {},
   "outputs": [
    {
     "data": {
      "text/plain": [
       "['Major William Gart',\n",
       " 'General',\n",
       " 'Colonel',\n",
       " 'Blond Nurse',\n",
       " 'Bartender',\n",
       " 'Lieutenant Colonel Clegg Forbes',\n",
       " 'Mike Ferris',\n",
       " 'Amy',\n",
       " 'Medical officer',\n",
       " 'Nurse',\n",
       " 'Girl in bar',\n",
       " 'Narrator',\n",
       " 'Colonel Ed Harrington']"
      ]
     },
     "execution_count": 26,
     "metadata": {},
     "output_type": "execute_result"
    }
   ],
   "source": [
    "n"
   ]
  },
  {
   "cell_type": "code",
   "execution_count": null,
   "metadata": {},
   "outputs": [],
   "source": []
  }
 ],
 "metadata": {
  "kernelspec": {
   "display_name": "Python 3",
   "language": "python",
   "name": "python3"
  },
  "language_info": {
   "codemirror_mode": {
    "name": "ipython",
    "version": 3
   },
   "file_extension": ".py",
   "mimetype": "text/x-python",
   "name": "python",
   "nbconvert_exporter": "python",
   "pygments_lexer": "ipython3",
   "version": "3.6.8"
  }
 },
 "nbformat": 4,
 "nbformat_minor": 2
}
