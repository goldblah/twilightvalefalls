{
 "cells": [
  {
   "cell_type": "code",
   "execution_count": 1,
   "metadata": {},
   "outputs": [],
   "source": [
    "import pandas as pd\n",
    "import glob\n",
    "%run Markov.py\n",
    "%run Hidden_Markov.py"
   ]
  },
  {
   "cell_type": "code",
   "execution_count": 2,
   "metadata": {},
   "outputs": [],
   "source": [
    "hhg_fulltext = ''\n",
    "f = 'hhg.txt'\n",
    "file = open(f)\n",
    "hhg_fulltext = file.read()\n",
    "file.close()\n",
    "hhg_fulltext = hhg_fulltext.replace('THE HITCHHIKER\\'S GUIDE TO THE GALAXY\\nBY DOUGLAS ADAMS\\n','')"
   ]
  },
  {
   "cell_type": "code",
   "execution_count": 184,
   "metadata": {},
   "outputs": [],
   "source": [
    "fixes = [('?r','fir'),('?n','fin'),('?c','fic'),('?a','fla'),('?d','fid'),('?f','fif'),('?g','fig'),('?i','fli'),\n",
    "         ('?l','fil'),('?o','flo'),('?s','fis'),('?t','fit'),('?u','flu'),('?v','fiv'),('?x','fix'),('?y','fly'),\n",
    "         ('re?ect','reflect'),('?ercely','fiercely'),('unidenti?ed','unidentified'),('digni?ed','dignified'),\n",
    "         ('?ee','flee'),('de?ect','deflect'),('?eld','field'),('horri?ed','horrified'),('intensi?ers','intensifiers'),\n",
    "         ('in?ection','inflection'),('satis?ed','satisfied'),('?ew','flew'),('rati?ed','ratified'),('sti?ed','stifled'),\n",
    "         ('de?ed','defied'),('?end','fiend'),('stupe?ed','stupefied'),('identi?ed','identified'),('muf?ed','muffled'),\n",
    "         ('?ed','fled'),('”','\"'),(\"’\",\"'\"),(\"‘\",\"'\"),('—','-')]"
   ]
  },
  {
   "cell_type": "code",
   "execution_count": 185,
   "metadata": {},
   "outputs": [],
   "source": [
    "for fix in fixes:\n",
    "    hhg_fulltext = hhg_fulltext.replace(fix[0],fix[1])"
   ]
  },
  {
   "cell_type": "code",
   "execution_count": 186,
   "metadata": {},
   "outputs": [],
   "source": [
    "paragraphs = hhg_fulltext.split('\\n')\n",
    "sentences = sent_tokenize(hhg_fulltext.replace('\\n',' '))"
   ]
  },
  {
   "cell_type": "code",
   "execution_count": 188,
   "metadata": {},
   "outputs": [
    {
     "name": "stdout",
     "output_type": "stream",
     "text": [
      "Texts cleaned...\n",
      "Optimal Markov Model Created...\n",
      "Order: 2\n"
     ]
    }
   ],
   "source": [
    "para_markov = markov(paragraphs,20,7)"
   ]
  },
  {
   "cell_type": "code",
   "execution_count": 189,
   "metadata": {},
   "outputs": [
    {
     "name": "stdout",
     "output_type": "stream",
     "text": [
      "Texts cleaned...\n",
      "Optimal Markov Model Created...\n",
      "Order: 2\n"
     ]
    }
   ],
   "source": [
    "sent_markov = markov(sentences,20,7)"
   ]
  },
  {
   "cell_type": "code",
   "execution_count": 191,
   "metadata": {},
   "outputs": [
    {
     "name": "stdout",
     "output_type": "stream",
     "text": [
      "i 'm waiting ,  he turned towards his captain 's back ,  to the pub furiously waving a wild scything skid beneath the bubble surged into the crater .\n",
      "  does anyone know ...  invited the vogon craft screamed through the wind , he thought ,  do n't know that in a small computer screen and keyboard .\n",
      " there 's anything more important than my ego around , shouting , pushing people out of your brain was an awkward silence as everyone was thrown against them .\n",
      " secondly , we are ,  if we wo n't believe how vastly hugely mindboggingly big it is comforting to reflect that they keep themselves very much .\n",
      "  oh yes ,  said deep thought thoroughly rolling the r 's ,  do we never think of some subtle piece of reasoning to put in his hand .\n",
      "  no , do n't know , never published on earth england ...  he said ,  said ford ,  hope the lifestyle comes together .\n",
      " well you 're ready to give it to be from blagulon kappa policecraft , a small piggy forehead .\n",
      " asked arthur ,  are you trying to form the words do n't like the company , but they were travelling , but he did .\n",
      " we 're a researcher on this particular thursday , something big , so i think you 've got a deal ,  the two mice sniffed irritably round the control bridge .\n",
      "you 're an impoverished hitch hiker any of these were largely concerned with the adding up ,  you mean by that assembly .\n",
      " here , i was always heavily edited to fit the rhythms of the outlying regions of the poet 's thought was a background to a small pack of rather ugly men who had n't .\n",
      "  and if it 's a nice little cottage at point d , with large video screens ranged over the tiny flickering flame , but it is .\n",
      " look kid , i am now a perfectly harmless accounting computer and rushed out into deep space that i 've got to build bypasses .\n",
      " you 're very tall , his face illuminated by the sudden sickening sensation of the appalling mess of his leaving the gaping air to shut behind it with a teaser .\n",
      "he knew that ,  it 's like having a galacticredit card which keeps him in a matter transference beam before you 've been too wrapped up in .\n",
      " we 're unlucky ,  said ford prefect 's original name , but the story of this day that the whole planet .\n",
      " well did n't stop oolon colluphid 's trilogy of philosophical blockbusters where god went wrong , some success .\n",
      "  so i 'm afraid we 're unlucky ,  this is my purpose in life with a sign on the floor where he was clearly not in a kind of legend from way back towards the window .\n",
      "  it 's been great knowing you guys ,  he asked the old man 's finger , and i came round a second long , a spectroscopic analysis of the pub , through the door open .\n",
      " look kid , i did n't sound that great to me that bowl of petunias as it was a terrible ghastly silence .\n"
     ]
    }
   ],
   "source": [
    "for p in para_markov:\n",
    "    print(p.replace('``',''))"
   ]
  },
  {
   "cell_type": "code",
   "execution_count": 192,
   "metadata": {},
   "outputs": [
    {
     "name": "stdout",
     "output_type": "stream",
     "text": [
      "many men of course it 's a bit longer it would annoy the press .\n",
      "the bubble , his entire life 's work is stamping around , shifted out of the sky like a maniac .\n",
      "he tried to gauge the speed of travel that is what i 'm sorry , but then could n't grasp it .\n",
      " but what about my house down if i 'd have to do both at once , failed , grasped hold of .\n",
      " ford leapt to his bed to flip through ford 's father , magnanimously waving aside the clouds .\n",
      " i 'd got it ,  about twelve minutes away , as the source of the other cop .\n",
      "that 's what parents tell their kids about at night if they 'd all made a good and happy place .\n",
      "  if you would care to leave the ship 's medical bay and plugged myself in to give up hope .\n",
      "we pass through a matter transference beam before you dismantle them , then laughed .\n",
      "somewhere a band was playing , brightly coloured flags were fluttering in the pansel system .\n",
      " those couple of windows and charged me a headache , i do n't say things like that .\n",
      " said ford doubtfully ,  said ford , slumped against the reclosing hatchway .\n",
      "your planet got the door ,  all i see , there were a few seconds ford seemed to be lying .\n",
      "for as long as he was clearly something he felt miserable and put the computer ,  he said .\n",
      "what can i ...  said ford grimly ,  to come up with , without telling me about life .\n",
      "for a close up on the semblance of perfectly straightforward english .\n",
      "with horror he scrabbled at the cliff face and dropped to rest lightly on the instrument panel .\n",
      "it was far from clear where they were on earth as an acoustically perfect sounding board .\n",
      "he rolled his dusty tongue round his bottom and sides passed away beyond the reach of the ship .\n",
      "by a rampaging mob of respectable physicists who had built the heart of gold .\n"
     ]
    }
   ],
   "source": [
    "for p in sent_markov:\n",
    "    print(p.replace('``',''))"
   ]
  }
 ],
 "metadata": {
  "kernelspec": {
   "display_name": "Python 3",
   "language": "python",
   "name": "python3"
  },
  "language_info": {
   "codemirror_mode": {
    "name": "ipython",
    "version": 3
   },
   "file_extension": ".py",
   "mimetype": "text/x-python",
   "name": "python",
   "nbconvert_exporter": "python",
   "pygments_lexer": "ipython3",
   "version": "3.6.8"
  }
 },
 "nbformat": 4,
 "nbformat_minor": 2
}
