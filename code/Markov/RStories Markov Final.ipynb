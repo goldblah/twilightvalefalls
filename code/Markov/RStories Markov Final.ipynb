{
 "cells": [
  {
   "cell_type": "code",
   "execution_count": 14,
   "metadata": {},
   "outputs": [],
   "source": [
    "import pandas as pd\n",
    "import glob\n",
    "%run Markov.py\n",
    "%run Hidden_Markov.py"
   ]
  },
  {
   "cell_type": "code",
   "execution_count": 15,
   "metadata": {},
   "outputs": [],
   "source": [
    "#read in text file\n",
    "txt_files = glob.glob(\"rStories/*.txt\")\n",
    "\n",
    "stories = ''\n",
    "for f in txt_files:\n",
    "    file = open(f) \n",
    "    st = file.read() \n",
    "    stories = stories + ' ' + st\n",
    "    \n",
    "sentences = sent_tokenize(stories.replace('\\n','').replace('\"',''))\n",
    "sentences = [s.strip() for s in sentences]"
   ]
  },
  {
   "cell_type": "code",
   "execution_count": 16,
   "metadata": {},
   "outputs": [
    {
     "name": "stdout",
     "output_type": "stream",
     "text": [
      "Texts cleaned...\n",
      "Optimal Markov Model Created...\n",
      "Order: 2\n"
     ]
    }
   ],
   "source": [
    "li_markov = markov(sentences,10,5)"
   ]
  },
  {
   "cell_type": "code",
   "execution_count": 19,
   "metadata": {},
   "outputs": [
    {
     "name": "stdout",
     "output_type": "stream",
     "text": [
      "with nothing but the twinkling stars and the earth for company , he groused .\n",
      "ted gets her the water , shrieking in harmony with the pungent smell of tobacco .\n",
      "come on , mercy , that he was walking away after breaking up with me for the window .\n",
      "reckless grinned upward , giddy from the momentary rush of cool air into the cabin of the line .\n",
      "merciful enough to not be fully rain , but there was makeup thickly caked on her part to create .\n",
      "reckless grinned upward , giddy from the old radio built into a bag .\n",
      "before i could make it all the way past him , he reached out and grabbed the phone .\n",
      "after half a year , i would argue back , his apprentice , grumbled .\n",
      "reckless grinned upward , giddy from the doorway of the pub .\n",
      "sometimes , we would play with a few in his mouth before turning back to gustaf .\n"
     ]
    }
   ],
   "source": [
    "for m in li_markov:\n",
    "    print(m)"
   ]
  }
 ],
 "metadata": {
  "kernelspec": {
   "display_name": "Python 3",
   "language": "python",
   "name": "python3"
  },
  "language_info": {
   "codemirror_mode": {
    "name": "ipython",
    "version": 3
   },
   "file_extension": ".py",
   "mimetype": "text/x-python",
   "name": "python",
   "nbconvert_exporter": "python",
   "pygments_lexer": "ipython3",
   "version": "3.6.8"
  }
 },
 "nbformat": 4,
 "nbformat_minor": 2
}
