{
 "cells": [
  {
   "cell_type": "code",
   "execution_count": 1,
   "metadata": {},
   "outputs": [],
   "source": [
    "import pandas as pd\n",
    "%run Hidden_Markov.py"
   ]
  },
  {
   "cell_type": "code",
   "execution_count": 2,
   "metadata": {},
   "outputs": [],
   "source": [
    "#get proverbs\n",
    "df = pd.read_csv('proverbs.csv', sep='|')\n",
    "pverbs = [p.lower().replace('\\\\xe2\\\\x80\\\\x93','-').replace('’',\"'\").replace('``','') for p in df['Proverb']]"
   ]
  },
  {
   "cell_type": "code",
   "execution_count": 3,
   "metadata": {
    "scrolled": true
   },
   "outputs": [
    {
     "name": "stdout",
     "output_type": "stream",
     "text": [
      "Texts cleaned...\n",
      "Optimal Markov Model Created...\n",
      "Order: 2\n"
     ]
    }
   ],
   "source": [
    "li = hidden_markov(pverbs,10,7)"
   ]
  },
  {
   "cell_type": "code",
   "execution_count": 4,
   "metadata": {},
   "outputs": [
    {
     "name": "stdout",
     "output_type": "stream",
     "text": [
      "a two shocks exactly , confusing man of the blood has from you are a sun after some hip person tzus while .\n",
      "let are just 3 in either life is the polar , open , but be all a podcasts ?\n",
      "not into it and you is the little , walks on a blood wonderwall by the food is .\n",
      "young i of clouds dog , a lack , one corners does gifted government , and know named more names on dark amalgam .\n",
      "not fun garbled people , are else be , and you has public the tartan is on every day .\n",
      "basically ever , is have a name in sports corners joseph and the tenuous stomach , bears on no little blood , made of the song it need you .\n",
      "sleeves more , millennials at levels , and it is every single , and billion existed in true street .\n",
      "two , is of this working for greeks if real bunker that the summoning it i of you .\n",
      "you are ready , and is at the things and a obvious family in the control lots .\n",
      "trenchcoat , reassured from no radiation is you and the other “ with feels then stole a most obvious try .\n"
     ]
    }
   ],
   "source": [
    "for l in li:\n",
    "    print(l)"
   ]
  }
 ],
 "metadata": {
  "kernelspec": {
   "display_name": "Python 3",
   "language": "python",
   "name": "python3"
  },
  "language_info": {
   "codemirror_mode": {
    "name": "ipython",
    "version": 3
   },
   "file_extension": ".py",
   "mimetype": "text/x-python",
   "name": "python",
   "nbconvert_exporter": "python",
   "pygments_lexer": "ipython3",
   "version": "3.6.8"
  }
 },
 "nbformat": 4,
 "nbformat_minor": 2
}
