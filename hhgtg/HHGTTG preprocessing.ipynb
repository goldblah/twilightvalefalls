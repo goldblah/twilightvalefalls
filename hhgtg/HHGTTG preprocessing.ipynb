{
  "cells": [
    {
      "cell_type": "code",
      "execution_count": 1,
      "metadata": {
        "pycharm": {
          "is_executing": false
        }
      },
      "outputs": [],
      "source": [
        "import nltk\n",
        "import pandas as pd\n",
        "import re\n",
        "import os\n",
        "import tempfile\n",
        "import textblob\n",
        "from textblob import Word\n",
        "from textblob.tokenizers import WordTokenizer"
      ]
    },
    {
      "cell_type": "code",
      "execution_count": 4,
      "metadata": {
        "scrolled": true,
        "pycharm": {
          "is_executing": false
        }
      },
      "outputs": [],
      "source": "script_list \u003d []\ntitle_list \u003d []\nwith open(\"/volumes/Hayley\u0027s Drive/PycharmProjects/twilightvalefalls/hhgtg/hhgtg.txt\", \u0027r\u0027, encoding\u003d\"utf-8\") as myfile:\n    script_list.append(myfile.read().replace(\u0027\\n\u0027,\u0027 \u0027).lower())\n    title_list.append(i.replace(\u0027_\u0027,\u0027 \u0027).replace(\u0027.txt\u0027,\u0027\u0027))"
    },
    {
      "cell_type": "code",
      "execution_count": 3,
      "metadata": {
        "pycharm": {
          "is_executing": false
        }
      },
      "outputs": [
        {
          "data": {
            "text/plain": "[\u0027.DS_Store\u0027,\n \u0027hhgtg.txt\u0027,\n \u0027HHGTTG named entities.ipynb\u0027,\n \u0027HHGTTG preprocessing.ipynb\u0027]"
          },
          "metadata": {},
          "output_type": "execute_result",
          "execution_count": 3
        }
      ],
      "source": "os.listdir(\"/volumes/Hayley\u0027s Drive/PycharmProjects/twilightvalefalls/hhgtg/\")"
    },
    {
      "cell_type": "code",
      "execution_count": 5,
      "metadata": {
        "pycharm": {
          "is_executing": false
        }
      },
      "outputs": [],
      "source": [
        "data \u003d {\u0027Source\u0027: \"Hitchhiker\u0027s Guide to the Galaxy\", \n",
        "        \u0027Title\u0027: \"Hitchhiker\u0027s Guide to the Galaxy\", \n",
        "        \u0027Date\u0027: \u0027October 12, 1979\u0027, \n",
        "        \u0027Text\u0027: script_list}\n",
        "hh \u003d pd.DataFrame(data)"
      ]
    },
    {
      "cell_type": "code",
      "execution_count": 6,
      "metadata": {
        "pycharm": {
          "is_executing": false
        }
      },
      "outputs": [],
      "source": "# wont run on my computer for some reason\nhh.to_csv(path_or_buf\u003d(\"/volumes/Hayley\u0027s Drive/PycharmProjects/twilightvalefalls/hhgtg/hhgtg_df.csv\"),sep\u003d(\u0027|\u0027))"
    },
    {
      "cell_type": "code",
      "execution_count": null,
      "metadata": {
        "pycharm": {}
      },
      "outputs": [],
      "source": []
    }
  ],
  "metadata": {
    "kernelspec": {
      "display_name": "Python 3",
      "language": "python",
      "name": "python3"
    },
    "language_info": {
      "codemirror_mode": {
        "name": "ipython",
        "version": 3
      },
      "file_extension": ".py",
      "mimetype": "text/x-python",
      "name": "python",
      "nbconvert_exporter": "python",
      "pygments_lexer": "ipython3",
      "version": "3.6.8"
    }
  },
  "nbformat": 4,
  "nbformat_minor": 2
}