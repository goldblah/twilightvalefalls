{
 "cells": [
  {
   "cell_type": "markdown",
   "metadata": {},
   "source": [
    "# Hitchhiker's Guide"
   ]
  },
  {
   "cell_type": "code",
   "execution_count": 2,
   "metadata": {},
   "outputs": [],
   "source": [
    "from requests import get\n",
    "from requests.exceptions import RequestException\n",
    "from contextlib import closing\n",
    "from bs4 import BeautifulSoup\n",
    "import time\n",
    "import re\n",
    "import os"
   ]
  },
  {
   "cell_type": "markdown",
   "metadata": {},
   "source": [
    "## Grabbing Data from Wiki"
   ]
  },
  {
   "cell_type": "code",
   "execution_count": 3,
   "metadata": {},
   "outputs": [],
   "source": [
    "def simple_get(url):\n",
    "    \"\"\"\n",
    "    Attempts to get the content at `url` by making an HTTP GET request.\n",
    "    If the content-type of response is some kind of HTML/XML, return the\n",
    "    text content, otherwise return None.\n",
    "    \"\"\"\n",
    "    try:\n",
    "        with closing(get(url, stream=True)) as resp:\n",
    "            if is_good_response(resp):\n",
    "                return resp.content\n",
    "            else:\n",
    "                return None\n",
    "\n",
    "    except RequestException as e:\n",
    "        log_error('Error during requests to {0} : {1}'.format(url, str(e)))\n",
    "        return None\n",
    "\n",
    "\n",
    "def is_good_response(resp):\n",
    "    \"\"\"\n",
    "    Returns True if the response seems to be HTML, False otherwise.\n",
    "    \"\"\"\n",
    "    content_type = resp.headers['Content-Type'].lower()\n",
    "    return (resp.status_code == 200 \n",
    "            and content_type is not None \n",
    "            and content_type.find('html') > -1)\n",
    "\n",
    "\n",
    "def log_error(e):\n",
    "    \"\"\"\n",
    "    It is always a good idea to log errors. \n",
    "    This function just prints them, but you can\n",
    "    make it do anything.\n",
    "    \"\"\"\n",
    "    print(e)\n",
    "    \n",
    "def countWords(string): \n",
    "    OUT = False\n",
    "    IN = True\n",
    "    state = OUT \n",
    "    wc = 0\n",
    "  \n",
    "    # Scan all characters one by one \n",
    "    for i in range(len(string)): \n",
    "  \n",
    "        # If next character is a separator,  \n",
    "        # set the state as OUT \n",
    "        if (string[i] == ' ' or string[i] == '\\n' or\n",
    "            string[i] == '\\t'): \n",
    "            state = OUT \n",
    "  \n",
    "        # If next character is not a word  \n",
    "        # separator and state is OUT, then  \n",
    "        # set the state as IN and increment  \n",
    "        # word count \n",
    "        elif state == OUT: \n",
    "            state = IN \n",
    "            wc += 1\n",
    "            \n",
    "    return wc"
   ]
  },
  {
   "cell_type": "code",
   "execution_count": 4,
   "metadata": {
    "scrolled": false
   },
   "outputs": [],
   "source": [
    "hh = 'https://hitchhikers.fandom.com/wiki/The_Hitchhiker%27s_Guide_to_the_Galaxy_(book)'\n",
    "hh_html = simple_get(hh)\n",
    "hh_soup = BeautifulSoup(hh_html,'html.parser')\n",
    "\n",
    "named_entity_list = []"
   ]
  },
  {
   "cell_type": "markdown",
   "metadata": {},
   "source": [
    "### Character: Main(with aliases) and Minor"
   ]
  },
  {
   "cell_type": "code",
   "execution_count": 5,
   "metadata": {},
   "outputs": [],
   "source": [
    "hh_char = re.search(r'(<h3><span\\s[\\w\\=\\\"\\-\\s\\_]*>[\\w\\s\\<\\/\\>\\=\\\"]*<a\\s[\\w\\=\\\"\\/\\_\\%\\(\\)\\?\\&\\;\\s\\>\\<\\-\\:\\,]*<\\/h3>)([\\<\\w\\>\\s\\=\\\"\\/\\_\\-\\(\\)]*)(<\\/ul>)',str(hh_soup))[0]\n",
    "all_char = re.findall(r'(<a\\s[\\w\\=\\/\\\"\\s\\(\\)\\-]*>)([\\w\\s]*)(<\\/a>)([\\w\\s\\(\\)\\;]*)',hh_char)\n",
    "\n",
    "hh_char_list = []\n",
    "for i,j in enumerate(all_char):\n",
    "    main_name = j[1]\n",
    "    \n",
    "    #print(main_name)\n",
    "    fin_tag = ''\n",
    "        \n",
    "    if (countWords(main_name.strip()) == 1) or (countWords(main_name.strip()) >= 3):\n",
    "        fin_tag = ',' + re.sub(r'([\\w]{3})([\\w\\s]*)',r'\\1',main_name).upper()\n",
    "    elif countWords(main_name.strip()) == 2:\n",
    "        fin_tag = ',' + re.sub(r'([\\w]{1})([\\w\\']*)\\s([\\w]*)',r'\\1\\3', main_name)\n",
    "    \n",
    "    main = main_name + ',CHR' + fin_tag \n",
    "    \n",
    "    named_entity_list.append(main)\n",
    "    \n",
    "        \n",
    "mains = ['Arthur_Dent','Ford_Prefect','Zaphod_Beeblebrox']\n",
    "\n",
    "for i in mains:\n",
    "    time.sleep(10)\n",
    "    url = 'https://hitchhikers.fandom.com/wiki/' + i\n",
    "    html = simple_get(url)\n",
    "    soup = BeautifulSoup(html,'html.parser')\n",
    "    pi = soup.find_all('div', {'class','pi-data-value pi-font'})\n",
    "    s = re.findall(r'<div class[\\w\\=\\\"\\-\\s]*>([\\w\\<\\>\\\"\\s\\(\\=\\/\\)\\-\\#\\[\\]]*)',str(pi))\n",
    "    \n",
    "    aliases = []\n",
    "    if len(s) < 7:\n",
    "        aliases.append(s[0])\n",
    "    elif len(s) == 7:\n",
    "        aliases.append(s[1])\n",
    "    \n",
    "    a = re.findall(r'(<li>[\\\"\\w\\s\\-]*)',str(aliases))\n",
    "    a = re.findall(r'(<li>\\\")([\\w\\s\\-]*)', str(a))\n",
    "    \n",
    "    \n",
    "    for i,p in enumerate(a):\n",
    "        #print(len(a)) ADent = 8, FPrefect = 2, ZBeeblebrox = 3\n",
    "        nick = p[1]\n",
    "        \n",
    "        if len(a) == 8:\n",
    "            name = nick +',CHR,ADent'\n",
    "        elif len(a) == 2:\n",
    "            name = nick +',CHR,FPrefect'\n",
    "        elif len(a) == 3:\n",
    "            name = nick +',CHR,ZBeeblebrox'\n",
    "            \n",
    "        named_entity_list.append(name)\n",
    "        \n",
    "    \n",
    "#print(hh_char_list)\n",
    "#named_entity_list.append(hh_char_list)"
   ]
  },
  {
   "cell_type": "markdown",
   "metadata": {},
   "source": [
    "### Creatures and Animals"
   ]
  },
  {
   "cell_type": "code",
   "execution_count": 6,
   "metadata": {},
   "outputs": [],
   "source": [
    "hh_cran = re.search(r'(<h3><span\\s[\\w\\=\\\"\\-]*\\sid\\=\\\"Races\\_and\\_species\\\">[\\w\\s\\<\\/\\>\\=\\\"\\%\\(\\)\\?\\&\\;\\:\\,\\-]*<\\/h3>)([\\<\\s\\w\\>\\=\\\"\\/\\-\\(\\)\\%\\']*)(<\\/ul>)',str(hh_soup))[0]\n",
    "all_cran = re.findall(r'(<a\\s[\\w\\=\\/\\\"\\s\\(\\)\\-\\%\\\\\\']*>)([\\w\\s\\\\\\']*)(<\\/a>)([\\w\\s\\(\\)\\;]*)',hh_cran)\n",
    "\n",
    "hh_cran_list = []\n",
    "for i,j in enumerate(all_cran):\n",
    "    name = j[1] + ',CrAn,RACES'\n",
    "    #hh_cran_list.append(name)\n",
    "    named_entity_list.append(name)\n",
    "    #print(name)\n",
    "#print(hh_cran_list)\n"
   ]
  },
  {
   "cell_type": "markdown",
   "metadata": {},
   "source": [
    "### Locations"
   ]
  },
  {
   "cell_type": "code",
   "execution_count": 7,
   "metadata": {},
   "outputs": [],
   "source": [
    "hh_loc = re.search(r'(<h3><span\\s[\\w\\=\\\"\\-]*\\sid\\=\\\"Places\\\">[\\w\\s\\<\\/\\>\\=\\\"\\%\\(\\)\\?\\&\\;\\:\\,\\-]*<\\/h3>)([\\<\\s\\w\\>\\=\\\"\\/\\-\\(\\)\\%\\']*)(<\\/ul>)',str(hh_soup))[0]\n",
    "all_loc = re.findall(r'(<a\\s[\\w\\=\\/\\\"\\s\\(\\)\\-\\%\\\\\\']*>)([\\w\\s\\\\\\']*)(<\\/a>)([\\w\\s\\(\\)\\;]*)',hh_loc)\n",
    "\n",
    "hh_loc_list = []\n",
    "for i,j in enumerate(all_loc):\n",
    "    name = j[1] + ',LOC'\n",
    "    named_entity_list.append(name)\n",
    "    #print(name)\n",
    "#print(hh_loc_list)\n",
    "#named_entity_list.append(hh_loc_list)"
   ]
  },
  {
   "cell_type": "markdown",
   "metadata": {},
   "source": [
    "### Misc"
   ]
  },
  {
   "cell_type": "markdown",
   "metadata": {},
   "source": [
    "#### Ships"
   ]
  },
  {
   "cell_type": "code",
   "execution_count": 8,
   "metadata": {
    "scrolled": true
   },
   "outputs": [],
   "source": [
    "hh_ships = re.search(r'(<h3><span\\s[\\w\\=\\\"\\-]*\\sid\\=\\\"Ships\\\">[\\w\\s\\<\\/\\>\\=\\\"\\%\\(\\)\\?\\&\\;\\:\\,\\-]*<\\/h3>)([\\<\\s\\w\\>\\=\\\"\\/\\-\\(\\)]*)(<\\/ul>)',str(hh_soup))[0]\n",
    "all_ships = re.findall(r'(<a\\s[\\w\\=\\/\\\"\\s\\(\\)\\-\\%\\\\\\']*>)([\\w\\s\\\\\\']*)(<\\/a>)([\\w\\s\\(\\)\\;]*)', hh_ships)\n",
    "\n",
    "hh_ships_list = []\n",
    "for i,j in enumerate(all_ships):\n",
    "    name = j[1] + ',MISC,VEH'\n",
    "    hh_ships_list.append(name)\n",
    "    #print(name)\n",
    "#print(hh_ships_list)"
   ]
  },
  {
   "cell_type": "markdown",
   "metadata": {},
   "source": [
    "#### Devices"
   ]
  },
  {
   "cell_type": "code",
   "execution_count": 9,
   "metadata": {},
   "outputs": [],
   "source": [
    "hh_devs = re.search(r'(<h3><span\\s[\\w\\=\\\"\\-]*\\sid\\=\\\"Devices\\\">[\\w\\s\\<\\/\\>\\=\\\"\\%\\(\\)\\?\\&\\;\\:\\,\\-]*<\\/h3>)([\\<\\s\\w\\>\\=\\%\\_\\'\\\"\\/\\-\\(\\)]*)(<\\/ul>)',str(hh_soup))[0]\n",
    "all_devs = re.findall(r'(<a\\s[\\w\\=\\/\\\"\\s\\(\\)\\-\\%\\\\\\']*>)([\\-\\w\\s\\']*)(<\\/a>)([\\w\\s\\(\\)\\;]*)', hh_devs)\n",
    "\n",
    "hh_devs_list = []\n",
    "for i,j in enumerate(all_devs):\n",
    "    name = j[1]\n",
    "    \n",
    "    hh_devs_list.append(name)\n",
    "\n",
    "hh_devs_tagged = []\n",
    "for i in hh_devs_list:\n",
    "    \n",
    "    if i == (\"The Hitchhiker's Guide to the Galaxy\") :\n",
    "        name = i + ',MISC,TEXT'\n",
    "        \n",
    "    elif (i == 'Towel') or (i == 'Hyperspace'):\n",
    "        name = i + ',MISC'\n",
    "        \n",
    "    else:\n",
    "        name = i + ',MISC,ELEC'\n",
    "    #print(name)\n",
    "    hh_devs_tagged.append(name)\n",
    "#print(hh_devs_tagged)"
   ]
  },
  {
   "cell_type": "markdown",
   "metadata": {},
   "source": [
    "#### Publications"
   ]
  },
  {
   "cell_type": "code",
   "execution_count": 10,
   "metadata": {},
   "outputs": [
    {
     "name": "stdout",
     "output_type": "stream",
     "text": [
      "Celestial Home Care Omnibus,MISC,TEXT\n",
      "Encyclopedia Galactica,MISC,TEXT\n",
      "Fifty More Things to do in Zero Gravity,MISC,TEXT\n",
      "Where God Went Wrong,MISC,TEXT\n",
      "Some More of God's Greatest Mistakes,MISC,TEXT\n",
      "Well That About Wraps It Up For God,MISC,TEXT\n",
      "My Favourite Bathtime Gurgles,MISC,TEXT\n",
      "Veet Voojagig's Story,MISC,TEXT\n"
     ]
    }
   ],
   "source": [
    "hh_pubs = re.search(r'(<h3><span\\s[\\w\\=\\\"\\-]*\\sid\\=\\\"Publications\\\">[\\w\\s\\<\\/\\>\\=\\\"\\%\\(\\)\\?\\&\\;\\:\\,\\-]*<\\/h3>)([\\s\\<\\w\\>\\=\\\"\\(\\)\\-\\/\\%\\'\\?]*)(<\\/ul>)',str(hh_soup))[0]\n",
    "all_pubs = re.findall(r'(<a\\s[\\w\\=\\/\\\"\\s\\(\\)\\-\\%\\\\\\']*>)([\\-\\w\\s\\']*)(<\\/a>)([\\w\\s\\(\\)\\;]*)', hh_pubs)\n",
    "\n",
    "hh_pubs_list = []\n",
    "for i,j in enumerate(all_pubs):\n",
    "    name = j[1] + ',MISC,TEXT'\n",
    "    print(name)\n",
    "    hh_pubs_list.append(name)\n",
    "\n",
    "#print(hh_pubs_list)"
   ]
  },
  {
   "cell_type": "code",
   "execution_count": 11,
   "metadata": {},
   "outputs": [
    {
     "name": "stdout",
     "output_type": "stream",
     "text": [
      "The Hitchhiker's Guide to the Galaxy,MISC,TEXT\n",
      "Towel,MISC\n",
      "Sub-Etha Sens-O-Matic,MISC,ELEC\n",
      "Electronic Thumb,MISC,ELEC\n",
      "Hyperspace,MISC\n",
      "Digital Watch,MISC,ELEC\n",
      "Infinite Improbability Drive,MISC,ELEC\n",
      "Nutri-Matic Drink Synthesizer,MISC,ELEC\n",
      "Kill-o-Zap Gun,MISC,ELEC\n",
      "Celestial Home Care Omnibus,MISC,TEXT\n",
      "Encyclopedia Galactica,MISC,TEXT\n",
      "Fifty More Things to do in Zero Gravity,MISC,TEXT\n",
      "Where God Went Wrong,MISC,TEXT\n",
      "Some More of God's Greatest Mistakes,MISC,TEXT\n",
      "Well That About Wraps It Up For God,MISC,TEXT\n",
      "My Favourite Bathtime Gurgles,MISC,TEXT\n",
      "Veet Voojagig's Story,MISC,TEXT\n",
      "Heart of Gold,MISC,VEH\n",
      "Vogon Constructor Fleet,MISC,VEH\n",
      "Blagulon Kappa Policecraft,MISC,VEH\n"
     ]
    }
   ],
   "source": [
    "lists = [hh_devs_tagged, hh_pubs_list, hh_ships_list]\n",
    "\n",
    "hh_misc_list = []\n",
    "for l in lists:\n",
    "    for j in l:\n",
    "        print(j)\n",
    "        #hh_misc_list.append(j)\n",
    "        named_entity_list.append(j)\n",
    "#print(hh_misc_list)\n",
    "#named_entity_list.append(hh_misc_list)"
   ]
  },
  {
   "cell_type": "code",
   "execution_count": 16,
   "metadata": {},
   "outputs": [
    {
     "data": {
      "text/plain": [
       "[('Admiral', 'CHR', 'ZBeeblebrox'),\n",
       " ('Ape Man', 'CHR', 'ADent'),\n",
       " ('Arcturan MegaDonkey', 'CrAn', 'RACES'),\n",
       " ('Arcturus', 'CrAn', 'RACES'),\n",
       " (\"Arthur Dent's House\", 'LOC'),\n",
       " ('Arthur Dent', 'CHR', 'ADent'),\n",
       " ('Azgoth', 'CrAn', 'RACES'),\n",
       " ('Babel Fish', 'CrAn', 'RACES'),\n",
       " ('Bang Bang', 'CHR', 'BBang'),\n",
       " ('Barman', 'CHR', 'BAR'),\n",
       " ('Benjy', 'CHR', 'BEN'),\n",
       " ('Betelgeuse V', 'LOC'),\n",
       " ('Betelgeuse VII', 'LOC'),\n",
       " ('Betelgeusian', 'CrAn', 'RACES'),\n",
       " ('Bethselamin', 'LOC'),\n",
       " ('Blagulon Kappa Policecraft', 'MISC', 'VEH'),\n",
       " ('Blagulon Kappa', 'CrAn', 'RACES'),\n",
       " ('Blagulon Kappa', 'LOC'),\n",
       " ('Bowl of Petunias', 'CHR', 'BOW'),\n",
       " ('Brantisvogan', 'LOC'),\n",
       " ('Celestial Home Care Omnibus', 'MISC', 'TEXT'),\n",
       " ('Chimp Man', 'CHR', 'ADent'),\n",
       " ('Cruxwan University', 'LOC'),\n",
       " ('Damogran Frond Crested Eagle', 'CrAn', 'RACES'),\n",
       " ('Damogran', 'LOC'),\n",
       " ('Dangrabad Beta', 'LOC'),\n",
       " ('Deep Thought', 'CHR', 'DThought'),\n",
       " ('Dentrassi', 'CrAn', 'RACES'),\n",
       " ('Digital Watch', 'MISC', 'ELEC'),\n",
       " ('Dolphin', 'CrAn', 'RACES'),\n",
       " ('Dumb Dumb', 'CHR', 'ADent'),\n",
       " ('Dumb Space Cookie', 'CHR', 'FPrefect'),\n",
       " ('Earth', 'LOC'),\n",
       " ('Earthman', 'CHR', 'ADent'),\n",
       " ('Eccentrica Gallumbits', 'CHR', 'EGallumbits'),\n",
       " ('Eddie the Computer', 'CHR', 'EDD'),\n",
       " ('Electronic Thumb', 'MISC', 'ELEC'),\n",
       " ('Emperor of the Galaxy', 'CHR', 'EMP'),\n",
       " ('Encyclopedia Galactica', 'MISC', 'TEXT'),\n",
       " ('Eroticon VI', 'LOC'),\n",
       " ('Fallia', 'LOC'),\n",
       " ('Fenchurch', 'CHR', 'FEN'),\n",
       " ('Fifty More Things to do in Zero Gravity', 'MISC', 'TEXT'),\n",
       " ('Fook', 'CHR', 'FOO'),\n",
       " ('Ford Prefect', 'CHR', 'FPrefect'),\n",
       " ('Four-Eyes', 'CHR', 'ZBeeblebrox'),\n",
       " ('Frankie', 'CHR', 'FRA'),\n",
       " (\"G'Gugvuntts\", 'CrAn', 'RACES'),\n",
       " ('Genghis Khan', 'CHR', 'GKhan'),\n",
       " ('God', 'CHR', 'GOD'),\n",
       " ('Googleplex Star Thinker', 'CHR', 'GOO'),\n",
       " ('Grunthos the Flatulent', 'CHR', 'GRU'),\n",
       " ('Guildford', 'LOC'),\n",
       " ('Heart of Gold', 'MISC', 'VEH'),\n",
       " ('Hooloovoo', 'CrAn', 'RACES'),\n",
       " ('Horse and Groom', 'LOC'),\n",
       " ('Human', 'CrAn', 'RACES'),\n",
       " ('Hyperspace', 'MISC'),\n",
       " ('Infinite Improbability Drive', 'MISC', 'ELEC'),\n",
       " ('Ix', 'CHR', 'FPrefect'),\n",
       " ('Jaglan Beta', 'LOC'),\n",
       " ('Kakrafoon Kappa', 'LOC'),\n",
       " ('Kill-o-Zap Gun', 'MISC', 'ELEC'),\n",
       " ('Kria', 'LOC'),\n",
       " ('Loonquawl', 'CHR', 'LOO'),\n",
       " ('Lunkwill', 'CHR', 'LUN'),\n",
       " ('Magrathea', 'LOC'),\n",
       " ('Magrathean', 'CrAn', 'RACES'),\n",
       " ('Majikthise', 'CHR', 'MAJ'),\n",
       " ('Marvin', 'CHR', 'MAR'),\n",
       " ('Milliard Gargantubrain', 'CHR', 'MGargantubrain'),\n",
       " ('Monkey Man', 'CHR', 'ADent'),\n",
       " ('Monkey', 'CHR', 'ADent'),\n",
       " ('Mouse', 'CrAn', 'RACES'),\n",
       " ('Mr Prosser', 'CHR', 'MProsser'),\n",
       " ('Multicorticoid Perspicutron Titan Muller', 'CHR', 'MUL'),\n",
       " ('My Favourite Bathtime Gurgles', 'MISC', 'TEXT'),\n",
       " ('Norway', 'LOC'),\n",
       " ('Nutri-Matic Drink Synthesizer', 'MISC', 'ELEC'),\n",
       " ('Oolon Colluphid', 'CHR', 'OColluphid'),\n",
       " ('Paula Nancy Millstone Jennings', 'CHR', 'PAU'),\n",
       " ('Phouchg', 'CHR', 'PHO'),\n",
       " ('Poghril', 'CrAn', 'RACES'),\n",
       " ('Poghril', 'LOC'),\n",
       " ('Pondermatic', 'CHR', 'PON'),\n",
       " ('Primate', 'CHR', 'ADent'),\n",
       " ('Prostetnic Vogon Jeltz', 'CHR', 'PRO'),\n",
       " ('Ravenous Bugblatter Beast of Traal', 'CrAn', 'RACES'),\n",
       " ('Santraginus V', 'LOC'),\n",
       " ('Scintillating Jeweled Scuttling Crab', 'CrAn', 'RACES'),\n",
       " ('Semi-Evolved Simian', 'CHR', 'ADent'),\n",
       " ('Seventh Galaxy of Light and Ingenuity', 'LOC'),\n",
       " ('Shooty', 'CHR', 'SHO'),\n",
       " ('Slartibartfast', 'CHR', 'SLA'),\n",
       " (\"Some More of God's Greatest Mistakes\", 'MISC', 'TEXT'),\n",
       " ('Sperm Whale', 'CrAn', 'RACES'),\n",
       " ('Squornshellous Zeta', 'LOC'),\n",
       " ('Sub-Etha Sens-O-Matic', 'MISC', 'ELEC'),\n",
       " ('The Big Z', 'CHR', 'ZBeeblebrox'),\n",
       " (\"The Hitchhiker's Guide to the Galaxy\", 'MISC', 'TEXT'),\n",
       " ('Towel', 'MISC'),\n",
       " ('Traal', 'LOC'),\n",
       " ('Trillian Astra', 'CHR', 'TAstra'),\n",
       " ('University of Maximegalon', 'LOC'),\n",
       " (\"Veet Voojagig's Story\", 'MISC', 'TEXT'),\n",
       " ('Veet Voojagig', 'CHR', 'VVoojagig'),\n",
       " ('Vegan Rhino', 'CrAn', 'RACES'),\n",
       " (\"Vl'hurgs\", 'CrAn', 'RACES'),\n",
       " ('Vogon Constructor Fleet', 'MISC', 'VEH'),\n",
       " ('Vogon', 'CrAn', 'RACES'),\n",
       " ('Vogsphere', 'LOC'),\n",
       " ('Vroomfondel', 'CHR', 'VRO'),\n",
       " ('Well That About Wraps It Up For God', 'MISC', 'TEXT'),\n",
       " ('Whale', 'CHR', 'WHA'),\n",
       " ('Where God Went Wrong', 'MISC', 'TEXT'),\n",
       " ('Yooden Vranx', 'CHR', 'YVranx'),\n",
       " ('Zaphod Beeblebrox', 'CHR', 'ZBeeblebrox')]"
      ]
     },
     "execution_count": 16,
     "metadata": {},
     "output_type": "execute_result"
    }
   ],
   "source": [
    "tupled_list = []\n",
    "for i,p in enumerate(named_entity_list):\n",
    "    tupled_list.append(tuple(named_entity_list[i].split(',')))\n",
    "tupled_list"
   ]
  },
  {
   "cell_type": "code",
   "execution_count": 20,
   "metadata": {},
   "outputs": [
    {
     "data": {
      "text/plain": [
       "2"
      ]
     },
     "execution_count": 20,
     "metadata": {},
     "output_type": "execute_result"
    }
   ],
   "source": [
    "len(tupled_list[11])"
   ]
  },
  {
   "cell_type": "code",
   "execution_count": 21,
   "metadata": {},
   "outputs": [],
   "source": [
    "tupled_list.sort()\n",
    "\n",
    "f = open('named_entity_hhgttg.txt','w+')\n",
    "for s in tupled_list:\n",
    "    if len(s) == 3:\n",
    "        f.write(\"%s, %s, %s\\n\" % s)\n",
    "    elif len(s) == 2:\n",
    "        f.write(\"%s, %s\\n\" % s)\n",
    "f.close()"
   ]
  },
  {
   "cell_type": "code",
   "execution_count": null,
   "metadata": {},
   "outputs": [],
   "source": []
  }
 ],
 "metadata": {
  "kernelspec": {
   "display_name": "Python 3",
   "language": "python",
   "name": "python3"
  },
  "language_info": {
   "codemirror_mode": {
    "name": "ipython",
    "version": 3
   },
   "file_extension": ".py",
   "mimetype": "text/x-python",
   "name": "python",
   "nbconvert_exporter": "python",
   "pygments_lexer": "ipython3",
   "version": "3.6.8"
  }
 },
 "nbformat": 4,
 "nbformat_minor": 2
}
