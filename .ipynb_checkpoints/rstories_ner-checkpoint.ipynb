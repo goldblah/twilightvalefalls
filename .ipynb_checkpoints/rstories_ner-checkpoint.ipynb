{
 "cells": [
  {
   "cell_type": "code",
   "execution_count": 17,
   "metadata": {
    "ExecuteTime": {
     "end_time": "2019-04-01T15:38:16.812321Z",
     "start_time": "2019-04-01T15:38:16.805355Z"
    }
   },
   "outputs": [],
   "source": [
    "import re\n",
    "import os\n",
    "import textblob\n",
    "import pandas as pd\n",
    "import numpy as np\n",
    "import nltk\n",
    "import collections as c\n",
    "from nltk.corpus import stopwords\n",
    "from textblob.tokenizers import WordTokenizer, SentenceTokenizer\n",
    "\n",
    "stop_words = set(stopwords.words('english'))\n",
    "wt = WordTokenizer()\n",
    "dir = \"/volumes/Hayley's Drive/PycharmProjects/twilightvalefalls/rstories/\""
   ]
  },
  {
   "cell_type": "code",
   "execution_count": 36,
   "metadata": {
    "ExecuteTime": {
     "end_time": "2019-04-01T16:04:20.147893Z",
     "start_time": "2019-04-01T16:04:20.039864Z"
    }
   },
   "outputs": [
    {
     "data": {
      "text/plain": [
       "[('reckless', 37),\n",
       " ('death', 15),\n",
       " ('gustaf', 10),\n",
       " ('sacred object', 2),\n",
       " ('object', 2),\n",
       " (\"king 's messenger\", 2),\n",
       " ('eye sockets', 1),\n",
       " ('fine adventurer', 1),\n",
       " ('leather armor', 1),\n",
       " ('inevitable request', 1),\n",
       " ('deep breath', 1),\n",
       " ('hear', 1),\n",
       " ('true', 1),\n",
       " ('couple monsters', 1),\n",
       " ('nearby village', 1),\n",
       " ('new quest', 1),\n",
       " ('small band', 1),\n",
       " ('noisy crowd', 1),\n",
       " ('toasts', 1),\n",
       " ('cheers', 1),\n",
       " ('pretty young thing', 1),\n",
       " ('blonde hair', 1),\n",
       " ('blue eyes', 1),\n",
       " ('charming dimples', 1),\n",
       " ('sly grin', 1),\n",
       " (\"goblin 's sword\", 1),\n",
       " ('free', 1),\n",
       " ('tiny craters', 1),\n",
       " (\"n't look\", 1),\n",
       " ('well', 1),\n",
       " ('lighten', 1),\n",
       " ('enjoy', 1),\n",
       " ('dark blue sky', 1),\n",
       " ('pale moon', 1),\n",
       " (\"day 's events\", 1),\n",
       " ('male voice', 1),\n",
       " ('own pocket', 1),\n",
       " ('thanks', 1),\n",
       " (\"n't care\", 1),\n",
       " ('tipsy', 1),\n",
       " ('young apprentice', 1),\n",
       " (\"apprentice 's hands\", 1),\n",
       " ('wooden floor', 1),\n",
       " (\"'s gaze\", 1),\n",
       " ('glorious way', 1),\n",
       " ('bony hand', 1),\n",
       " ('elysium', 1),\n",
       " ('shine brighter', 1),\n",
       " ('brave soul', 1),\n",
       " ('thank', 1)]"
      ]
     },
     "execution_count": 36,
     "metadata": {},
     "output_type": "execute_result"
    }
   ],
   "source": [
    "file = dir + 'after_life.txt'\n",
    " \n",
    "with open(file, 'r') as myfile:\n",
    "    story = myfile.read().replace('\\n        ', '\\t')\n",
    "\n",
    "story.replace('\\t',' ')\n",
    "blob = textblob.TextBlob(story, tokenizer=wt)\n",
    "np = list(blob.noun_phrases)\n",
    "np = [w for w in np if not w in stop_words and 'yeah' not in w]\n",
    "cnt = c.Counter()\n",
    "for word in np:\n",
    "    cnt[word] += 1\n",
    "cnt.most_common()"
   ]
  },
  {
   "cell_type": "code",
   "execution_count": 37,
   "metadata": {
    "ExecuteTime": {
     "end_time": "2019-04-01T16:06:12.844150Z",
     "start_time": "2019-04-01T16:06:12.805352Z"
    }
   },
   "outputs": [
    {
     "data": {
      "text/plain": [
       "[('srvr-2k16', 4),\n",
       " ('roberts', 3),\n",
       " ('srvr', 2),\n",
       " ('marigold roberts', 1),\n",
       " ('normally', 1),\n",
       " (\"world 's\", 1),\n",
       " ('artificial intelligence', 1),\n",
       " ('human species', 1),\n",
       " ('medical program', 1),\n",
       " ('initial function', 1),\n",
       " ('sensitive sensors', 1),\n",
       " ('outside world', 1),\n",
       " ('indestructible machine', 1),\n",
       " ('trembling', 1),\n",
       " ('blood', 1),\n",
       " ('white shirt', 1),\n",
       " ('black sweatpants', 1),\n",
       " ('macabre impressionist painting', 1),\n",
       " ('red liquid', 1),\n",
       " ('white paint', 1),\n",
       " ('wide grin', 1),\n",
       " ('hard glint', 1),\n",
       " ('hello', 1),\n",
       " ('doc', 1),\n",
       " ('voice shook', 1),\n",
       " (\"'ll ground\", 1),\n",
       " ('shut', 1),\n",
       " ('please', 1),\n",
       " (\"'s hand\", 1)]"
      ]
     },
     "execution_count": 37,
     "metadata": {},
     "output_type": "execute_result"
    }
   ],
   "source": [
    "file = dir + 'irony.txt'\n",
    " \n",
    "with open(file, 'r') as myfile:\n",
    "    story = myfile.read().replace('\\n        ', '\\t')\n",
    "\n",
    "story.replace('\\t',' ')\n",
    "blob = textblob.TextBlob(story, tokenizer=wt)\n",
    "np = list(blob.noun_phrases)\n",
    "np = [w for w in np if not w in stop_words and 'yeah' not in w]\n",
    "cnt = c.Counter()\n",
    "for word in np:\n",
    "    cnt[word] += 1\n",
    "cnt.most_common()"
   ]
  },
  {
   "cell_type": "code",
   "execution_count": 38,
   "metadata": {
    "ExecuteTime": {
     "end_time": "2019-04-01T16:07:36.065440Z",
     "start_time": "2019-04-01T16:07:35.730304Z"
    }
   },
   "outputs": [
    {
     "data": {
      "text/plain": [
       "[('david', 2),\n",
       " ('summers', 1),\n",
       " ('spruce pine', 1),\n",
       " ('carolina', 1),\n",
       " ('muggy heat', 1),\n",
       " ('ditzy kids', 1),\n",
       " ('late afternoon', 1),\n",
       " ('early evening', 1),\n",
       " ('red bumps', 1),\n",
       " ('outdoor playtimes', 1),\n",
       " ('front door', 1),\n",
       " ('shouting acknowledgement', 1),\n",
       " ('tennis ball', 1),\n",
       " ('clumsy servants', 1),\n",
       " ('imaginary king', 1),\n",
       " ('majesty', 1),\n",
       " ('delicious meals', 1),\n",
       " ('rare occasions', 1),\n",
       " ('garden hose', 1),\n",
       " ('sprinkler toys', 1),\n",
       " ('muddy messes', 1),\n",
       " ('ice-cold water', 1),\n",
       " ('outdoor', 1),\n",
       " ('dad', 1),\n",
       " (\"family 's\", 1),\n",
       " ('blue minivan', 1),\n",
       " ('long day', 1),\n",
       " (\"'d smile\", 1),\n",
       " ('summer nights', 1),\n",
       " ('room table', 1)]"
      ]
     },
     "execution_count": 38,
     "metadata": {},
     "output_type": "execute_result"
    }
   ],
   "source": [
    "file = dir + 'memoir.txt'\n",
    " \n",
    "with open(file, 'r') as myfile:\n",
    "    story = myfile.read().replace('\\n        ', '\\t')\n",
    "\n",
    "story.replace('\\t',' ')\n",
    "blob = textblob.TextBlob(story, tokenizer=wt)\n",
    "np = list(blob.noun_phrases)\n",
    "np = [w for w in np if not w in stop_words and 'yeah' not in w]\n",
    "cnt = c.Counter()\n",
    "for word in np:\n",
    "    cnt[word] += 1\n",
    "cnt.most_common()"
   ]
  },
  {
   "cell_type": "code",
   "execution_count": 39,
   "metadata": {
    "ExecuteTime": {
     "end_time": "2019-04-01T16:07:57.329865Z",
     "start_time": "2019-04-01T16:07:57.305820Z"
    }
   },
   "outputs": [
    {
     "data": {
      "text/plain": [
       "[('ted', 4),\n",
       " ('time children', 1),\n",
       " ('small sentences', 1),\n",
       " ('three-year-old daughter', 1),\n",
       " ('patient smile', 1),\n",
       " ('mobster', 1),\n",
       " ('busy reading', 1),\n",
       " ('hair product magazine', 1),\n",
       " ('stiff hair', 1),\n",
       " ('upon', 1),\n",
       " ('cautiously', 1),\n",
       " ('rapt attention', 1),\n",
       " ('space underneath', 1),\n",
       " ('dark space', 1),\n",
       " ('eye contact', 1),\n",
       " ('hey', 1),\n",
       " ('reedy voice', 1)]"
      ]
     },
     "execution_count": 39,
     "metadata": {},
     "output_type": "execute_result"
    }
   ],
   "source": [
    "file = dir + 'mobster.txt'\n",
    " \n",
    "with open(file, 'r') as myfile:\n",
    "    story = myfile.read().replace('\\n        ', '\\t')\n",
    "\n",
    "story.replace('\\t',' ')\n",
    "blob = textblob.TextBlob(story, tokenizer=wt)\n",
    "np = list(blob.noun_phrases)\n",
    "np = [w for w in np if not w in stop_words and 'yeah' not in w]\n",
    "cnt = c.Counter()\n",
    "for word in np:\n",
    "    cnt[word] += 1\n",
    "cnt.most_common()"
   ]
  },
  {
   "cell_type": "code",
   "execution_count": 40,
   "metadata": {
    "ExecuteTime": {
     "end_time": "2019-04-01T16:08:12.221490Z",
     "start_time": "2019-04-01T16:08:12.185498Z"
    }
   },
   "outputs": [
    {
     "data": {
      "text/plain": [
       "[('marco', 5),\n",
       " ('nasa', 4),\n",
       " ('hut', 3),\n",
       " ('earth', 3),\n",
       " ('clarke', 3),\n",
       " ('grey', 2),\n",
       " ('thin atmosphere', 2),\n",
       " ('long time', 1),\n",
       " ('washed-out grey', 1),\n",
       " ('right shoulder', 1),\n",
       " ('actual human company', 1),\n",
       " ('space dust', 1),\n",
       " ('occasional minor repairs', 1),\n",
       " ('run experiments', 1),\n",
       " ('return home', 1),\n",
       " ('chest pains', 1),\n",
       " (\"moon 's\", 1),\n",
       " ('official press conference', 1),\n",
       " ('health screenings', 1),\n",
       " ('close friend', 1),\n",
       " ('couple kilometers', 1),\n",
       " ('brilliant scientist', 1),\n",
       " ('heavy spacesuit', 1),\n",
       " (\"sun 's warmth\", 1),\n",
       " ('insecure part', 1),\n",
       " (\"n't bother\", 1),\n",
       " ('brilliant oversight', 1),\n",
       " ('extra buffer', 1),\n",
       " ('stupid rock', 1),\n",
       " ('damn forms', 1),\n",
       " (\"ca n't\", 1)]"
      ]
     },
     "execution_count": 40,
     "metadata": {},
     "output_type": "execute_result"
    }
   ],
   "source": [
    "file = dir + 'moon.txt'\n",
    " \n",
    "with open(file, 'r') as myfile:\n",
    "    story = myfile.read().replace('\\n        ', '\\t')\n",
    "\n",
    "story.replace('\\t',' ')\n",
    "blob = textblob.TextBlob(story, tokenizer=wt)\n",
    "np = list(blob.noun_phrases)\n",
    "np = [w for w in np if not w in stop_words and 'yeah' not in w]\n",
    "cnt = c.Counter()\n",
    "for word in np:\n",
    "    cnt[word] += 1\n",
    "cnt.most_common()"
   ]
  },
  {
   "cell_type": "code",
   "execution_count": 41,
   "metadata": {
    "ExecuteTime": {
     "end_time": "2019-04-01T16:08:31.664258Z",
     "start_time": "2019-04-01T16:08:31.588641Z"
    }
   },
   "outputs": [
    {
     "data": {
      "text/plain": [
       "[('quinn', 13),\n",
       " ('grocery store', 2),\n",
       " ('truthfully', 2),\n",
       " ('block handwriting', 1),\n",
       " ('phone number', 1),\n",
       " ('immediate reaction', 1),\n",
       " ('all-time favorite people', 1),\n",
       " ('miles quinn', 1),\n",
       " ('nth time', 1),\n",
       " ('old relationship', 1),\n",
       " ('private investigator', 1),\n",
       " ('insurance company', 1),\n",
       " ('routine arson scam', 1),\n",
       " ('unknown drug ring', 1),\n",
       " ('needless', 1),\n",
       " ('unsavory characters', 1),\n",
       " ('new friends', 1),\n",
       " ('local security specialist', 1),\n",
       " ('drug pushers', 1),\n",
       " ('extensive background checks', 1),\n",
       " ('snappy comebacks', 1),\n",
       " ('occasional serious date', 1),\n",
       " ('work obligations', 1),\n",
       " ('long amount', 1),\n",
       " ('own hours', 1),\n",
       " ('own boss', 1),\n",
       " ('business sector', 1),\n",
       " ('large businesses', 1),\n",
       " ('security systems', 1),\n",
       " ('seedier citizens', 1),\n",
       " ('adrenaline junkie', 1),\n",
       " ('entire carton', 1),\n",
       " ('cereal aisle', 1),\n",
       " ('healthy breakfast choices', 1),\n",
       " ('froot loops', 1),\n",
       " ('cap', 1),\n",
       " ('frosted flakes', 1),\n",
       " (\"wo n't\", 1),\n",
       " (\"'m offering\", 1),\n",
       " ('cart past', 1),\n",
       " ('soup aisle', 1),\n",
       " ('different cans', 1),\n",
       " ('campbell', 1),\n",
       " ('missing', 1),\n",
       " ('distraught husband', 1),\n",
       " ('sounds', 1),\n",
       " ('law enforcement', 1),\n",
       " ('obviously', 1),\n",
       " ('right clients', 1),\n",
       " ('insurance frauds', 1),\n",
       " ('seemed', 1),\n",
       " ('bank account', 1),\n",
       " ('old times', 1),\n",
       " ('mistaken appearance', 1),\n",
       " ('bitch smile', 1),\n",
       " ('cheek muscles', 1),\n",
       " ('narrow aisle', 1),\n",
       " ('way past', 1),\n",
       " ('business card', 1),\n",
       " ('jacket pocket', 1),\n",
       " ('grey eyes', 1),\n",
       " ('please', 1),\n",
       " ('current cases', 1),\n",
       " ('long time', 1),\n",
       " ('right track', 1),\n",
       " ('professional lives', 1),\n",
       " ('sick thrill', 1),\n",
       " ('common sense', 1),\n",
       " ('cell phone', 1)]"
      ]
     },
     "execution_count": 41,
     "metadata": {},
     "output_type": "execute_result"
    }
   ],
   "source": [
    "file = dir + 'the_job.txt'\n",
    " \n",
    "with open(file, 'r') as myfile:\n",
    "    story = myfile.read().replace('\\n        ', '\\t')\n",
    "\n",
    "story.replace('\\t',' ')\n",
    "blob = textblob.TextBlob(story, tokenizer=wt)\n",
    "np = list(blob.noun_phrases)\n",
    "np = [w for w in np if not w in stop_words and 'yeah' not in w]\n",
    "cnt = c.Counter()\n",
    "for word in np:\n",
    "    cnt[word] += 1\n",
    "cnt.most_common()"
   ]
  },
  {
   "cell_type": "code",
   "execution_count": 42,
   "metadata": {
    "ExecuteTime": {
     "end_time": "2019-04-01T16:08:55.769262Z",
     "start_time": "2019-04-01T16:08:55.728545Z"
    }
   },
   "outputs": [
    {
     "data": {
      "text/plain": [
       "[('joseph', 8),\n",
       " ('fat man', 2),\n",
       " ('thin man', 2),\n",
       " ('rearview mirror', 2),\n",
       " ('merciful', 1),\n",
       " ('bright yellow cab', 1),\n",
       " ('stark contrast', 1),\n",
       " ('gray world', 1),\n",
       " ('wet pavement', 1),\n",
       " ('old radio', 1),\n",
       " ('greasy t-shirt', 1),\n",
       " ('final puff', 1),\n",
       " ('thin lips', 1),\n",
       " ('momentary rush', 1),\n",
       " ('cool air', 1),\n",
       " ('joseph…', 1),\n",
       " ('technicolor jacket', 1),\n",
       " ('joe', 1),\n",
       " ('bright red umbrella', 1),\n",
       " ('right turn', 1),\n",
       " ('got', 1),\n",
       " (\"'s fine\", 1),\n",
       " ('nothin', 1),\n",
       " ('greasy shade', 1),\n",
       " ('clutched', 1),\n",
       " ('tiny poodle', 1),\n",
       " ('original shade', 1),\n",
       " ('female version', 1),\n",
       " (\"'s reflection\", 1),\n",
       " ('believe', 1),\n",
       " (\"wo n't\", 1),\n",
       " ('thankfully', 1),\n",
       " ('awkward conversation', 1),\n",
       " ('old front door', 1),\n",
       " ('sticky key', 1),\n",
       " ('gray couch', 1),\n",
       " ('front room', 1),\n",
       " ('hello', 1)]"
      ]
     },
     "execution_count": 42,
     "metadata": {},
     "output_type": "execute_result"
    }
   ],
   "source": [
    "file = dir + 'yellow_red_gray.txt'\n",
    " \n",
    "with open(file, 'r') as myfile:\n",
    "    story = myfile.read().replace('\\n        ', '\\t')\n",
    "\n",
    "story.replace('\\t',' ')\n",
    "blob = textblob.TextBlob(story, tokenizer=wt)\n",
    "np = list(blob.noun_phrases)\n",
    "np = [w for w in np if not w in stop_words and 'yeah' not in w]\n",
    "cnt = c.Counter()\n",
    "for word in np:\n",
    "    cnt[word] += 1\n",
    "cnt.most_common()"
   ]
  }
 ],
 "metadata": {
  "hide_input": false,
  "kernelspec": {
   "display_name": "Python 3",
   "language": "python",
   "name": "python3"
  },
  "language_info": {
   "codemirror_mode": {
    "name": "ipython",
    "version": 3
   },
   "file_extension": ".py",
   "mimetype": "text/x-python",
   "name": "python",
   "nbconvert_exporter": "python",
   "pygments_lexer": "ipython3",
   "version": "3.6.8"
  },
  "toc": {
   "base_numbering": 1,
   "nav_menu": {},
   "number_sections": true,
   "sideBar": true,
   "skip_h1_title": false,
   "title_cell": "Table of Contents",
   "title_sidebar": "Contents",
   "toc_cell": false,
   "toc_position": {},
   "toc_section_display": true,
   "toc_window_display": false
  },
  "varInspector": {
   "cols": {
    "lenName": 16,
    "lenType": 16,
    "lenVar": 40
   },
   "kernels_config": {
    "python": {
     "delete_cmd_postfix": "",
     "delete_cmd_prefix": "del ",
     "library": "var_list.py",
     "varRefreshCmd": "print(var_dic_list())"
    },
    "r": {
     "delete_cmd_postfix": ") ",
     "delete_cmd_prefix": "rm(",
     "library": "var_list.r",
     "varRefreshCmd": "cat(var_dic_list()) "
    }
   },
   "types_to_exclude": [
    "module",
    "function",
    "builtin_function_or_method",
    "instance",
    "_Feature"
   ],
   "window_display": false
  }
 },
 "nbformat": 4,
 "nbformat_minor": 1
}
