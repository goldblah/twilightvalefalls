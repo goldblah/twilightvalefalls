{
 "cells": [
  {
   "cell_type": "code",
   "execution_count": 17,
   "metadata": {
    "collapsed": true
   },
   "outputs": [],
   "source": [
    "import re\n",
    "import os\n",
    "import textblob\n",
    "import pandas as pd\n",
    "import numpy as np\n",
    "import nltk\n",
    "from nltk.corpus import stopwords\n",
    "from textblob.tokenizers import WordTokenizer, SentenceTokenizer\n",
    "stop_words = set(stopwords.words('english'))\n",
    "dir = \"/volumes/Hayley's Drive/PycharmProjects/twilightvalefalls/rstories/\""
   ]
  },
  {
   "cell_type": "code",
   "execution_count": 11,
   "metadata": {},
   "outputs": [],
   "source": [
    "file = dir + 'after_life.txt'\n",
    " \n",
    "with open(file, 'r') as myfile:\n",
    "    story = myfile.read().replace('\\n', ' ')"
   ]
  },
  {
   "cell_type": "code",
   "execution_count": 12,
   "metadata": {},
   "outputs": [],
   "source": [
    "wt = WordTokenizer()"
   ]
  },
  {
   "cell_type": "code",
   "execution_count": 13,
   "metadata": {},
   "outputs": [],
   "source": [
    "blob = textblob.TextBlob(story, tokenizer=wt)"
   ]
  },
  {
   "cell_type": "code",
   "execution_count": 23,
   "metadata": {},
   "outputs": [],
   "source": [
    "x = ['CC','CD','DT','EX','FW','IN','JJ','JJR','JJS','LS','MD','NN','NNS','NNP','NNPS','PDT','POS','PRP','PRP$','RB','RBR','RBS','RP','SYM','TO','UH','VB','VBD','VBG','VBN','VBP','VBZ','WDT','WP','WP$','WRB']\n",
    "abbrev = pd.Series(x)\n",
    "x = ['Coordinating conjunction','Cardinal number','Determiner','Existential there','Foreign word','Preposition or subordinating conjunction','Adjective','Adjective, comparative','Adjective, superlative','List item marker','Modal','Noun, singular or mass','Noun, plural','Proper noun, singular','Proper noun, plural','Predeterminer','Possessive ending','Personal pronoun','Possessive pronoun','Adverb','Adverb, comparative','Adverb, superlative','Particle','Symbol','to','Interjection','Verb, base form','Verb, past tense','Verb, gerund or present participle','Verb, past participle','Verb, non-3rd person singular present','Verb, 3rd person singular present','Wh-determiner','Wh-pronoun','Possessive wh-pronoun','Wh-adverb']\n",
    "definition = pd.Series(list(x))\n",
    "\n",
    "ppos = pd.DataFrame()\n",
    "ppos['abbrev'] = abbrev\n",
    "ppos['definition'] = definition"
   ]
  },
  {
   "cell_type": "code",
   "execution_count": 22,
   "metadata": {},
   "outputs": [
    {
     "data": {
      "text/plain": [
       "[('sockets', 'NNS'),\n ('edges', 'NNS'),\n ('clothes', 'NNS'),\n ('shirt', 'NN'),\n ('shaggy', 'NN'),\n ('wounds', 'NNS'),\n ('child', 'NN'),\n ('reprimand', 'NN'),\n ('surprise', 'NN'),\n ('neck', 'NN'),\n ('throne', 'NN'),\n ('breath', 'NN'),\n ('chance', 'NN'),\n ('‘', 'NNP'),\n ('timing', 'NN'),\n ('demise', 'NN'),\n ('success', 'NN'),\n ('land', 'NN'),\n ('secure', 'NN'),\n ('adversaries', 'NNS'),\n ('couple', 'NN'),\n ('kill', 'NN'),\n ('village', 'NN'),\n ('reason', 'NN'),\n ('celebrate', 'NN'),\n ('pass', 'NN'),\n ('morning', 'NN'),\n ('band', 'NN'),\n ('music', 'NN'),\n ('toasts', 'NNS'),\n ('cheers', 'NNS'),\n ('shouts', 'NNS'),\n ('corners', 'NNS'),\n ('thing', 'NN'),\n ('blonde', 'NN'),\n ('dimples', 'NNS'),\n ('hours', 'NNS'),\n ('goblin', 'NN'),\n ('sword', 'NN'),\n ('teenager', 'NN'),\n ('gain', 'NN'),\n ('drinks', 'NNS'),\n ('palm', 'NN'),\n ('dull', 'NN'),\n ('color', 'NN'),\n ('surface', 'NN'),\n ('craters', 'NNS'),\n ('holes', 'NNS'),\n ('rock', 'NN'),\n ('besides', 'NNS'),\n ('matter', 'NN'),\n ('drunker', 'NN'),\n ('moment', 'NN'),\n ('bit', 'NN'),\n ('trouble', 'NN'),\n ('glass', 'NN'),\n ('room', 'NN'),\n ('door', 'NN'),\n ('stars', 'NNS'),\n ('pale', 'NN'),\n ('moon', 'NN'),\n ('day', 'NN'),\n ('events', 'NNS'),\n ('street', 'NN'),\n ('owner', 'NN'),\n ('coat', 'NN'),\n ('hat', 'NN'),\n ('caught', 'NN'),\n ('examine', 'NN'),\n ('shook', 'NN'),\n ('run-in', 'NN'),\n ('goblins', 'NNS'),\n ('name', 'NN'),\n ('happens', 'NNS'),\n ('stool', 'NN'),\n ('handful', 'NN'),\n ('peanuts', 'NNS'),\n ('headache', 'NN'),\n ('drinking', 'NN'),\n ('water', 'NN'),\n ('tipsy', 'NN'),\n ('peanut', 'NN'),\n ('pound', 'NN'),\n ('vision', 'NN'),\n ('ground', 'NN'),\n ('floor', 'NN'),\n ('crack', 'NN'),\n ('meeting', 'NN'),\n ('gaze', 'NN'),\n ('stare', 'NN'),\n ('ways', 'NNS'),\n ('choice', 'NN'),\n ('quests', 'NNS'),\n ('form', 'NN'),\n ('glow', 'NN'),\n ('confusion', 'NN'),\n ('elysium', 'NN'),\n ('brighter', 'NN'),\n ('peace', 'NN'),\n ('soul', 'NN'),\n ('words', 'NNS'),\n ('eye', 'NN'),\n ('front', 'NN'),\n ('pants', 'NNS'),\n ('yeah', 'NN'),\n ('request', 'NN'),\n ('life', 'NN'),\n ('monsters', 'NNS'),\n ('corner', 'NN'),\n ('crowd', 'NN'),\n ('bar', 'NN'),\n ('eyes', 'NNS'),\n ('thanks', 'NNS'),\n ('master', 'NN'),\n ('nothing', 'NN'),\n ('face', 'NN'),\n ('people', 'NNS'),\n ('voice', 'NN'),\n ('darkness', 'NN'),\n ('light', 'NN'),\n ('knew', 'NNS'),\n ('care', 'NN'),\n ('send', 'NN'),\n ('something', 'NN'),\n ('hand', 'NN'),\n ('way', 'NN'),\n ('messenger', 'NN'),\n ('villagers', 'NNS'),\n ('pocket', 'NN'),\n ('look', 'NN'),\n ('man', 'NN'),\n ('head', 'NN'),\n ('king', 'NN'),\n ('drink', 'NN'),\n ('night', 'NN'),\n ('apprentice', 'NN'),\n ('adventurer', 'NN'),\n ('death', 'NN'),\n ('’', 'NNP'),\n ('reckless', 'NN'),\n ('“', 'NNP'),\n ('”', 'NN')]"
      ]
     },
     "execution_count": 22,
     "metadata": {},
     "output_type": "execute_result"
    }
   ],
   "source": [
    "word_counts = blob.word_counts\n",
    "unique = sorted(word_counts, key=word_counts.get)\n",
    "filtered_sentence = [w for w in unique if not w in stop_words]\n",
    "fs = textblob.TextBlob(' '.join(filtered_sentence))\n",
    "pos = fs.pos_tags\n",
    "\n",
    "pos = [w for w in pos if 'NN' in w[1]]\n",
    "pos"
   ]
  },
  {
   "cell_type": "code",
   "execution_count": null,
   "metadata": {},
   "outputs": [],
   "source": []
  }
 ],
 "metadata": {
  "kernelspec": {
   "display_name": "Python 2",
   "language": "python",
   "name": "python2"
  },
  "language_info": {
   "codemirror_mode": {
    "name": "ipython",
    "version": 2
   },
   "file_extension": ".py",
   "mimetype": "text/x-python",
   "name": "python",
   "nbconvert_exporter": "python",
   "pygments_lexer": "ipython2",
   "version": "2.7.6"
  }
 },
 "nbformat": 4,
 "nbformat_minor": 0
}
