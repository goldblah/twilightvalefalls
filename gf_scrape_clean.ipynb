{
  "cells": [
    {
      "cell_type": "code",
      "execution_count": null,
      "outputs": [],
      "source": "from requests import get\nfrom requests.exceptions import RequestException\nfrom contextlib import closing\nfrom bs4 import BeautifulSoup\nimport time\nimport re\nimport os\nimport pandas as pd\nentries \u003d os.listdir(\"/volumes/Hayley\u0027s Drive/PycharmProjects/twilightvalefalls/\")\ndir \u003d \"/volumes/Hayley\u0027s Drive/PycharmProjects/twilightvalefalls/gravityfalls/\"#%%",
      "metadata": {
        "pycharm": {
          "metadata": false,
          "name": "#%%\n"
        }
      }
    },
    {
      "cell_type": "code",
      "execution_count": null,
      "outputs": [],
      "source": "def simple_get(url):\n    \"\"\"\n    Attempts to get the content at `url` by making an HTTP GET request.\n    If the content-type of response is some kind of HTML/XML, return the\n    text content, otherwise return None.\n    \"\"\"\n    try:\n        with closing(get(url, stream\u003dTrue)) as resp:\n            if is_good_response(resp):\n                return resp.content\n            else:\n                return None\n\n    except RequestException as e:\n        log_error(\u0027Error during requests to {0} : {1}\u0027.format(url, str(e)))\n        return None\n\n\ndef is_good_response(resp):\n    \"\"\"\n    Returns True if the response seems to be HTML, False otherwise.\n    \"\"\"\n    content_type \u003d resp.headers[\u0027Content-Type\u0027].lower()\n    return (resp.status_code \u003d\u003d 200 \n            and content_type is not None \n            and content_type.find(\u0027html\u0027) \u003e -1)\n\n\ndef log_error(e):\n    \"\"\"\n    It is always a good idea to log errors. \n    This function just prints them, but you can\n    make it do anything.\n    \"\"\"\n    print(e)",
      "metadata": {
        "pycharm": {
          "metadata": false,
          "name": "#%%\n"
        }
      }
    },
    {
      "cell_type": "code",
      "execution_count": null,
      "outputs": [],
      "source": "page \u003d simple_get(\u0027https://gravityfalls.fandom.com/wiki/Transcripts#Season_1\u0027)",
      "metadata": {
        "pycharm": {
          "metadata": false,
          "name": "#%%\n"
        }
      }
    },
    {
      "cell_type": "code",
      "execution_count": null,
      "outputs": [],
      "source": "html \u003d BeautifulSoup(page, \u0027html.parser\u0027)\nth \u003d html.find_all(\u0027th\u0027)\nmatch \u003d re.findall(r\"[0-9]*\\.\\s\u003ca href\u003d([\\S]*)\",str(th))",
      "metadata": {
        "pycharm": {
          "metadata": false,
          "name": "#%%\n"
        }
      }
    },
    {
      "cell_type": "code",
      "execution_count": null,
      "outputs": [],
      "source": "base_page \u003d \u0027https://gravityfalls.fandom.com\u0027\nepi_pages \u003d list()\nepi_pages2 \u003d list()\nfor p in match:\n    p \u003d p.replace(\u0027\"\u0027,\u0027\u0027)\n    epi_pages.append(base_page + p + \u0027/Transcript\u0027)\n    epi_pages2.append(base_page + p)",
      "metadata": {
        "pycharm": {
          "metadata": false,
          "name": "#%%\n"
        }
      }
    },
    {
      "cell_type": "code",
      "execution_count": null,
      "outputs": [],
      "source": "epis \u003d dict()\nfor i,epi in enumerate(epi_pages):\n    time.sleep(10)\n    key \u003d match[i]\n    print(key, epi, time.localtime())\n    gf \u003d simple_get(epi)\n    print(gf is None)\n    epis[key] \u003d gf",
      "metadata": {
        "pycharm": {
          "metadata": false,
          "name": "#%%\n"
        }
      }
    },
    {
      "cell_type": "code",
      "execution_count": null,
      "outputs": [],
      "source": "dates \u003d dict()\nfor i,epi in enumerate(epi_pages2):\n    print(epi)\n    time.sleep(10)\n    key \u003d match[i]\n    print(key, epi, time.localtime())\n    gf \u003d simple_get(epi)\n    print(gf is None)\n    dates[key] \u003d gf ",
      "metadata": {
        "pycharm": {
          "metadata": false,
          "name": "#%%\n"
        }
      }
    },
    {
      "cell_type": "code",
      "execution_count": null,
      "outputs": [],
      "source": "keep_dates \u003d dict()\nfor epi in dates:\n    s \u003d dates.get(epi)\n    s \u003d BeautifulSoup(s, \u0027html.parser\u0027)\n    div \u003d s.find_all(\u0027div\u0027, attrs\u003d{\u0027data-source\u0027:\u0027aired\u0027})\n    new_epi \u003d re.sub(r\u0027(\\\"\\/wiki\\/)([\\w\\.\\%\\!\\-\\,\\:]*)(\\\")\u0027,r\u0027\\2\u0027,epi)\n    air_date \u003d re.findall(r\u0027(\"\u003e[\\w \\,]+\u003c?)\u0027,str(div))[1]\n    air_date \u003d re.sub(r\u0027(\"\u003e)([\\w \\,]+)(\u003c?)\u0027,r\u0027\\2\u0027,air_date)\n    new_epi \u003d new_epi.replace(\u0027_\u0027,\u0027 \u0027).replace(\u0027%27\u0027,\"\u0027\")\n    keep_dates[new_epi] \u003d air_date\n    print(new_epi, air_date)",
      "metadata": {
        "pycharm": {
          "metadata": false,
          "name": "#%%\n"
        }
      }
    },
    {
      "cell_type": "code",
      "execution_count": null,
      "outputs": [],
      "source": "ahref \u003d dict()\nepi_list \u003d list()\nfor epi in epis:\n    ahref_list \u003d list()\n    s \u003d BeautifulSoup(epis.get(epi), \u0027html.parser\u0027)\n    th \u003d s.find_all([\u0027th\u0027,\u0027tr\u0027])\n    th \u003d re.sub(r\"(\\[\u003ctr\u003e\\s)((\u003c[\\w\\s\u003d\\\"\\-\\:\\;\\/\\.\\?\\#]*\u003e\\s?)*([\\w\\s\\\"\\.\\,]*))*\",r\"\",str(th))\n    th \u003d th[re.search(r\u0027\u003ctd\u003e(\\s)?\u003ci\u003e\u0027, th).start():th.find(\u0027\\n\u003c/td\u003e\u003c/tr\u003e, \u003cth\u003e\\n\u003c/th\u003e, \u003ctr\u003e\\n\u003cth \u0027)]\n    \n    for i in re.finditer(r\u0027\u003ca(\\sclass\u003d\"mw-redirect\")?\\shref\u003d[\\\"\\/\\w\\-\\#\\,\\%\\(\\)\\:\\.\\!]*\\stitle\u003d[\\\"\\s\\w\\-\\,\\\u0027\\(\\)\\:\\.\\!\\?]*\u003e\u0027, th):\n        if(th.find(i[0])):\n            ahref_list.append(i[0])\n            th \u003d th.replace(i[0],\u0027\u0027)\n    \n    th \u003d re.sub(r\u0027\u003c/a\u003e\u0027,\u0027\u0027,th)  \n    th \u003d re.sub(r\u0027\u003cth\u003e[\\w\\-\\s\\,\\\u0027\\\u0026\\;]*\\s\u003c/th\u003e, \u0027,\u0027\u0027,th)\n    th \u003d re.sub(r\u0027\u003c/td\u003e\u003c/tr\u003e,\\s\u003ctr\u003e\\s\u003cth\u003e\\s\u003c/th\u003e\u003ctd\u003e\u0027,\u0027\\n\u0027,th)\n    th \u003d re.sub(r\u0027\u003c/td\u003e\u003c/tr\u003e,\\s\u003ctr\u003e\\s\u003cth\u003e\u0027,\u0027\\n\u0027,th)\n    th \u003d re.sub(r\u0027\\s\u003c/th\u003e\u003ctd\u003e\u0027,\u0027: \u0027,th)\n    th \u003d re.sub(r\u0027\u003cp\u003e\u0027,\u0027\u0027,th)\n    th \u003d re.sub(r\u0027\u003c/p\u003e\u0027,\u0027\u0027,th)\n    th \u003d re.sub(r\u0027\u003ci\u003e\u0027,\u0027\u0027,th)\n    th \u003d re.sub(r\u0027\u003c/i\u003e\u0027,\u0027\u0027,th)\n    th \u003d re.sub(r\u0027\u003ctd\u003e\u0027,\u0027\u0027,th)\n    th \u003d th.replace(\u0027\u003cbr\u003e\u0027,\u0027\u0027).replace(\u0027\u003c\\/br\u003e\u0027,\u0027\u0027).replace(\u0027\u0026amp;\u0027,\u0027and\u0027)\n    th \u003d re.sub(r\u0027\u003c/td\u003e\u003c/tr\u003e, \u003cth\u003e\u0027,\u0027\u0027,th)\n    \n    ahref[re.sub(r\u0027(\\\"\\/wiki\\/)([\\w\\.\\%\\!\\-\\,\\:]*)(\\\")\u0027,r\u0027\\2\u0027,epi)] \u003d ahref_list\n    epi_list.append(re.sub(r\u0027(\\\"\\/wiki\\/)([\\w\\.\\%\\!\\-\\,\\:\\!]*)(\\\")\u0027,r\u0027\\2\u0027,epi))\n    \n    f \u003d open(dir + re.sub(r\u0027(\\\"\\/wiki\\/)([\\w\\.\\%\\!\\-\\,\\:]*)(\\\")\u0027,r\u0027\\2\u0027,epi)+\u0027.txt\u0027,\"w+\", encoding\u003d\"utf-8\")\n    f.write(th)\n    f.close()",
      "metadata": {
        "pycharm": {
          "metadata": false,
          "name": "#%%\n"
        }
      }
    },
    {
      "cell_type": "code",
      "execution_count": null,
      "outputs": [],
      "source": "list_story \u003d list()\ntitle_list \u003d list()\nair_dates \u003d list()\nsource \u003d [\u0027gravity falls\u0027] * 40\nfor ep in epi_list:\n    print(dir + ep + \u0027.txt\u0027)\n    with open(dir + ep + \u0027.txt\u0027, \u0027r\u0027, encoding\u003d\"utf-8\") as myfile:\n        list_story.append(myfile.read().replace(\u0027\\n\u0027,\u0027 \u0027))\n    title_list.append(ep.replace(\u0027_\u0027,\u0027 \u0027).replace(\u0027%27\u0027,\"\u0027\"))\n    air_dates.append(keep_dates.get(ep.replace(\u0027_\u0027,\u0027 \u0027).replace(\u0027%27\u0027,\"\u0027\")))\nlist_story \u003d [story.lower() for story in list_story]\ngf_eps \u003d pd.DataFrame({\n    \u0027source\u0027: source,\n    \u0027title\u0027: title_list,\n    \u0027date\u0027: air_dates,\n    \u0027text\u0027: list_story\n}) ",
      "metadata": {
        "pycharm": {
          "metadata": false,
          "name": "#%%\n"
        }
      }
    },
    {
      "cell_type": "code",
      "execution_count": null,
      "outputs": [],
      "source": "gf_eps.to_csv(path_or_buf\u003ddir+\u0027/gf_eps.csv\u0027, sep\u003d\u0027|\u0027) ",
      "metadata": {
        "pycharm": {
          "metadata": false,
          "name": "#%%\n"
        }
      }
    }
  ],
  "metadata": {
    "language_info": {
      "codemirror_mode": {
        "name": "ipython",
        "version": 2
      },
      "file_extension": ".py",
      "mimetype": "text/x-python",
      "name": "python",
      "nbconvert_exporter": "python",
      "pygments_lexer": "ipython2",
      "version": "2.7.6"
    },
    "kernelspec": {
      "name": "python3",
      "language": "python",
      "display_name": "Python 3"
    },
    "stem_cell": {
      "cell_type": "raw",
      "source": "",
      "metadata": {
        "pycharm": {
          "metadata": false
        }
      }
    }
  },
  "nbformat": 4,
  "nbformat_minor": 0
}