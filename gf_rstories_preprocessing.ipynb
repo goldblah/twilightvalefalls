{
  "cells": [
    {
      "cell_type": "code",
      "execution_count": null,
      "metadata": {
        "ExecuteTime": {
          "end_time": "2019-04-19T16:42:00.134186Z",
          "start_time": "2019-04-19T16:40:42.051329Z"
        },
        "pycharm": {
          "is_executing": true
        }
      },
      "outputs": [
        {
          "name": "stdout",
          "text": [
            "\u003cclass \u0027textblob.blob.TextBlob\u0027\u003e\n[\u0027death looked through the eye sockets in his skull at the spectre in front of him .\u0027, \u0027what had once been a fine adventurer was now only a spirit , partially opaque and glowing at the edges .\u0027, \u0027he still wore the clothes he died in , leather armor over a loose-fitting shirt and pants .\u0027, \u0027his hair was shaggy , and it looked like he had not shaved before he died .\u0027, \u0027death could not see any wounds , so hopefully his passing had not been too unpleasant .\u0027, \u0027the former adventurer stood sheepishly in front of death , like a child about to receive a reprimand .\u0027, \"`` you are early , reckless , \u0027\u0027 said death in surprise .\", \"`` yeah , \u0027\u0027 reckless said , rubbing the back of his neck with his hand , `` about that . \u0027\u0027\", \u0027death sat back in his throne and waited for the inevitable request .\u0027, \u0027the spirit straightened and took in a deep breath .\u0027, \"`` i want another chance at life . \u0027\u0027\", \"`` no , \u0027\u0027 death answered flatly .\", \"`` hear me out , \u0027\u0027 the former adventurer begged .\", \"`` i was not done yet . \u0027\u0027\", \"`` no one is ever \u0027done , \u0027 \u0027\u0027 death responded emphatically , `` but passing is unavoidable . \u0027\u0027\", \"`` you said i was early . \u0027\u0027\", \"`` true , \u0027\u0027 said death , `` but i have been known to be wrong about timing before , though . \u0027\u0027\", \u0027he looked over the adventurer again , but could not find a clue to his demise .\u0027, \"`` how did you die ? \u0027\u0027\", \u0027he asked quietly .\u0027, \u0027as far as reckless was concerned , the quest had been a success .\u0027, \u0027he had been sent to find the sacred object by the king of the land , who wanted to make sure it was secure and out of the hands of any adversaries .\u0027, \u0027reckless found it , vanquished a couple monsters on their way to kill him , and even managed to save a maiden from a nearby village .\u0027, \u0027he had not died , which was enough reason for him to celebrate .\u0027, \"now all that was left was to pass off the object to the king \u0027s messenger , drink the night away , and start a new quest in the morning .\", \u0027all around reckless , villagers partied and celebrated his slaying of the monsters .\u0027, \u0027a small band was in the corner , playing music barely heard over the noisy crowd .\u0027, \u0027toasts we are made in his honor .\u0027, \u0027cheers and shouts came from all corners of the pub .\u0027, \u0027reckless smiled to himself as he leaned against the bar .\u0027, \u0027he motioned to the barmaid , the maiden from earlier , and she brought him another drink with a smile .\u0027, \u0027she was a pretty young thing , with soft-looking blonde hair , blue eyes , and charming dimples .\u0027, \u0027reckless nodded his thanks and slid her a sly grin .\u0027, \"`` i do not know how you do it , master , \u0027\u0027 gustaf , his apprentice , grumbled .\", \"`` two hours ago you we are nearly impaled by a goblin \u0027s sword , and now you are sitting here like nothing ever happened . \u0027\u0027\", \"`` you get used to it , \u0027\u0027 reckless said , still smiling at the barmaid .\", \"`` but is it worth it ? \u0027\u0027\", \u0027asked the teenager , turning to face him with a raised eyebrow .\u0027, \"`` i mean , what did you gain from almost getting killed ? \u0027\u0027\", \"`` free drinks , \u0027\u0027 quipped reckless , winking at the barmaid .\", \"`` and , i found the sacred object . \u0027\u0027\", \u0027he pulled it out of his pocket .\u0027, \u0027it was small , easily fitting into the palm of his hand .\u0027, \u0027it was a dull black in color , the surface littered with tiny craters and holes .\u0027, \u0027it did not look like much , but reckless had been assured that it was very powerful .\u0027, \u0027gustaf was not as impressed .\u0027, \"`` it is a rock , \u0027\u0027 he groused .\", \"`` do you even know what it does ? \u0027\u0027\", \"`` well , no , \u0027\u0027 reckless admitted , pocketing it again .\", \u0027`` but seeing as i almost died for it , it must be important .\u0027, \u0027besides , does it matter ?\u0027, \u0027look at these people .\u0027, \"they are happy i found it . \u0027\u0027\", \u0027gustaf surveyed the crowd , which was only getting drunker by the moment .\u0027, \"`` yeah , look at them . \u0027\u0027\", \"`` lighten up , \u0027\u0027 reckless said , clapping his apprentice on the back .\", \u0027gustaf spit out a little bit of his drink .\u0027, \u0027`` enjoy yourself for once .\u0027, \"i am giving you the night off . \u0027\u0027\", \"`` until you get into trouble again and need rescuing , \u0027\u0027 the apprentice muttered , settling back against the bar with his glass .\", \u0027reckless chuckled good-naturedly , standing up and crossing the room toward the door .\u0027, \u0027he left the pub , having to gently push people out of the way before he made it out .\u0027, \u0027the night was clear and cold .\u0027, \u0027above him , stars sparkled in the dark blue sky , the pale moon shining .\u0027, \"reckless grinned upward , giddy from the day \u0027s events .\", \"`` do you have it ? \u0027\u0027\", \u0027a male voice asked from the darkness on the street .\u0027, \u0027reckless watched as the owner of the voice stepped into the light seeping out from the doorway of the pub .\u0027, \u0027he was clearly dressed more for the weather than reckless was , with a thick-looking coat , hat , and pants .\u0027, \"without speaking , reckless fished the object out of his pocket and tossed it to the man , who he knew to be the king \u0027s messenger .\", \u0027he caught it and shuffled toward the light to examine it .\u0027, \u0027apparently satisfied , he nodded at reckless and slipped it into his own pocket .\u0027, \"`` thanks , \u0027\u0027 he said , giving reckless the once-over .\", \"`` take it you were not too badly hurt ? \u0027\u0027\", \u0027reckless shook his head .\u0027, \"`` i had a run-in with a few goblins , but nothing too serious . \u0027\u0027\", \u0027the messenger grunted .\u0027, \"`` you live up to your name , reckless . \u0027\u0027\", \u0027he turned to leave .\u0027, \u0027`` take care of yourself .\u0027, \"i am sure the king will send me if something else happens . \u0027\u0027\", \u0027reckless watched the man leave .\u0027, \u0027once he had disappeared into the darkness , the adventurer went back inside .\u0027, \"the villagers \u0027 partying was still going strong .\", \u0027reckless sauntered back to his stool beside gustaf .\u0027, \u0027the barmaid slid him another drink .\u0027, \u0027reckless toasted her and drank it all in one swallow .\u0027, \u0027he saw gustaf making a face out of the corner of his eye , but he could not care less .\u0027, \u0027reckless reached out and grabbed a handful of peanuts from a bowl on the counter .\u0027, \u0027he tossed a few in his mouth before turning back to gustaf .\u0027, \"`` where should we go next ? \u0027\u0027\", \u0027he asked .\u0027, \"`` anywhere but here , \u0027\u0027 gustaf snorted .\", \"`` these villagers are giving me a headache . \u0027\u0027\", \"`` could be the alcohol , \u0027\u0027 reckless pointed out cheerfully .\", \"`` that would be plausible only if i had not been drinking water all night . \u0027\u0027\", \u0027that is when it happened .\u0027, \u0027tipsy from the alcohol and praises he was receiving , reckless threw his head back to laugh at his young apprentice .\u0027, \u0027a peanut must have been in the back of his mouth , because when he inhaled , he found himself choking .\u0027, \"`` master ? \u0027\u0027\", \u0027gustaf asked , eyes going wide .\u0027, \u0027he grabbed reckless by the shoulders and tried to pound his back .\u0027, \"`` reckless , what is wrong ? \u0027\u0027\", \"gustaf \u0027s pounding was not helping , and reckless \u0027 vision was going black .\", \"he found himself slipping through his apprentice \u0027s hands and falling to the ground .\", \u0027his head hit the wooden floor with a sharp crack , and reckless saw no more .\u0027, \"`` ... and that is when i found myself here , \u0027\u0027 reckless finished , not meeting death \u0027s gaze .\", \u0027death could only stare at the adventurer .\u0027, \u0027it was , admittedly , one of the worst ways a man like him could have died .\u0027, \u0027if he had his choice , death knew reckless would have preferred to die on one of his quests , in the most glorious way possible .\u0027, \u0027but life rarely gives one what he wants .\u0027, \u0027and neither , he thinks grimly , does death .\u0027, \"`` i can not grant you your request , \u0027\u0027 he answered finally .\", \"reckless \u0027 shoulders slumped miserably .\", \"`` but i can grant you something else . \u0027\u0027\", \u0027death waved a bony hand at the spirit of reckless .\u0027, \u0027his form began to glow a bright white .\u0027, \u0027he looked at death in confusion .\u0027, \"`` i send you to elysium , \u0027\u0027 death intoned as reckless began to shine brighter .\", \"`` go in peace , brave soul . \u0027\u0027\", \u0027reckless beamed at him .\u0027, \u0027he spoke his last words before he disappeared completely .\u0027, \"`` thank you . \u0027\u0027\"]\n"
          ],
          "output_type": "stream"
        }
      ],
      "source": "import nltk\nimport textblob\nfrom textblob.tokenizers import WordTokenizer\nimport pandas as pd\nimport re\nimport os\nimport sentiment_analysis_functions as saf\nfrom pycontractions import Contractions\nfrom spellchecker import SpellChecker\ndir \u003d \"/volumes/Hayley\u0027s Drive/PycharmProjects/twilightvalefalls/\"\n%run named_entities_all/NER_Functions.py\ncont \u003d Contractions(api_key\u003d\"glove-twitter-25\")\ncont.load_models()"
    },
    {
      "cell_type": "code",
      "execution_count": 2,
      "metadata": {
        "ExecuteTime": {
          "end_time": "2019-04-19T16:42:09.286956Z",
          "start_time": "2019-04-19T16:42:09.276152Z"
        },
        "pycharm": {
          "is_executing": false,
          "metadata": false,
          "name": "#%%\n"
        }
      },
      "outputs": [],
      "source": "def contract_handle(st):\n    #print(\u0027Doing text %d...\u0027 %texts.index(st))\n    t \u003d list(cont.expand_texts([st.replace(\"’\",\"\u0027\")]))[0]\n    tags \u003d nltk.pos_tag(nltk.word_tokenize(str(t)))\n    temp \u003d []\n    print(\u0027%d tags created...\u0027 %len(tags))\n    for tag in tags:\n        temp.append(tag[0])\n            \n    return \u0027 \u0027.join(temp)"
    },
    {
      "cell_type": "code",
      "execution_count": 2,
      "metadata": {
        "pycharm": {
          "is_executing": false,
          "metadata": false,
          "name": "#%%\n"
        }
      },
      "outputs": [],
      "source": "rstories \u003d pd.read_csv(dir + \u0027rstories/rs_df.csv\u0027, sep\u003d\u0027|\u0027, index_col\u003d0)\n\nwith open(dir + \u0027named_entities_all/rstories_ner.txt\u0027, \u0027r\u0027, encoding\u003d\"utf-8\") as myfile:\n        rstories_ner \u003d myfile.read().split(\u0027\\n\u0027)\n\nrstories_ner_split \u003d list()\nfor ner in rstories_ner:\n    rstories_ner_split.append(ner.split(\u0027,\u0027))\n    \nrs_all_names \u003d list()\nfor ner in rstories_ner_split:\n    rs_all_names.append(ner[0])\n\nrs_spelled_words \u003d set(nltk.word_tokenize(\u0027 \u0027.join(rs_all_names).lower()))"
    },
    {
      "cell_type": "code",
      "execution_count": 3,
      "outputs": [
        {
          "name": "stdout",
          "text": [
            "\u003cclass \u0027textblob.blob.TextBlob\u0027\u003e\n[\u0027death looked through the eye sockets in his skull at the spectre in front of him .\u0027, \u0027what had once been a fine adventurer was now only a spirit , partially opaque and glowing at the edges .\u0027, \u0027he still wore the clothes he died in , leather armor over a loose-fitting shirt and pants .\u0027, \u0027his hair was shaggy , and it looked like he had not shaved before he died .\u0027, \u0027death could not see any wounds , so hopefully his passing had not been too unpleasant .\u0027, \u0027the former adventurer stood sheepishly in front of death , like a child about to receive a reprimand .\u0027, \"`` you are early , reckless , \u0027\u0027 said death in surprise .\", \"`` yeah , \u0027\u0027 reckless said , rubbing the back of his neck with his hand , `` about that . \u0027\u0027\", \u0027death sat back in his throne and waited for the inevitable request .\u0027, \u0027the spirit straightened and took in a deep breath .\u0027, \"`` i want another chance at life . \u0027\u0027\", \"`` no , \u0027\u0027 death answered flatly .\", \"`` hear me out , \u0027\u0027 the former adventurer begged .\", \"`` i was not done yet . \u0027\u0027\", \"`` no one is ever \u0027done , \u0027 \u0027\u0027 death responded emphatically , `` but passing is unavoidable . \u0027\u0027\", \"`` you said i was early . \u0027\u0027\", \"`` true , \u0027\u0027 said death , `` but i have been known to be wrong about timing before , though . \u0027\u0027\", \u0027he looked over the adventurer again , but could not find a clue to his demise .\u0027, \"`` how did you die ? \u0027\u0027\", \u0027he asked quietly .\u0027, \u0027as far as reckless was concerned , the quest had been a success .\u0027, \u0027he had been sent to find the sacred object by the king of the land , who wanted to make sure it was secure and out of the hands of any adversaries .\u0027, \u0027reckless found it , vanquished a couple monsters on their way to kill him , and even managed to save a maiden from a nearby village .\u0027, \u0027he had not died , which was enough reason for him to celebrate .\u0027, \"now all that was left was to pass off the object to the king \u0027s messenger , drink the night away , and start a new quest in the morning .\", \u0027all around reckless , villagers partied and celebrated his slaying of the monsters .\u0027, \u0027a small band was in the corner , playing music barely heard over the noisy crowd .\u0027, \u0027toasts we are made in his honor .\u0027, \u0027cheers and shouts came from all corners of the pub .\u0027, \u0027reckless smiled to himself as he leaned against the bar .\u0027, \u0027he motioned to the barmaid , the maiden from earlier , and she brought him another drink with a smile .\u0027, \u0027she was a pretty young thing , with soft-looking blonde hair , blue eyes , and charming dimples .\u0027, \u0027reckless nodded his thanks and slid her a sly grin .\u0027, \"`` i do not know how you do it , master , \u0027\u0027 gustaf , his apprentice , grumbled .\", \"`` two hours ago you we are nearly impaled by a goblin \u0027s sword , and now you are sitting here like nothing ever happened . \u0027\u0027\", \"`` you get used to it , \u0027\u0027 reckless said , still smiling at the barmaid .\", \"`` but is it worth it ? \u0027\u0027\", \u0027asked the teenager , turning to face him with a raised eyebrow .\u0027, \"`` i mean , what did you gain from almost getting killed ? \u0027\u0027\", \"`` free drinks , \u0027\u0027 quipped reckless , winking at the barmaid .\", \"`` and , i found the sacred object . \u0027\u0027\", \u0027he pulled it out of his pocket .\u0027, \u0027it was small , easily fitting into the palm of his hand .\u0027, \u0027it was a dull black in color , the surface littered with tiny craters and holes .\u0027, \u0027it did not look like much , but reckless had been assured that it was very powerful .\u0027, \u0027gustaf was not as impressed .\u0027, \"`` it is a rock , \u0027\u0027 he groused .\", \"`` do you even know what it does ? \u0027\u0027\", \"`` well , no , \u0027\u0027 reckless admitted , pocketing it again .\", \u0027`` but seeing as i almost died for it , it must be important .\u0027, \u0027besides , does it matter ?\u0027, \u0027look at these people .\u0027, \"they are happy i found it . \u0027\u0027\", \u0027gustaf surveyed the crowd , which was only getting drunker by the moment .\u0027, \"`` yeah , look at them . \u0027\u0027\", \"`` lighten up , \u0027\u0027 reckless said , clapping his apprentice on the back .\", \u0027gustaf spit out a little bit of his drink .\u0027, \u0027`` enjoy yourself for once .\u0027, \"i am giving you the night off . \u0027\u0027\", \"`` until you get into trouble again and need rescuing , \u0027\u0027 the apprentice muttered , settling back against the bar with his glass .\", \u0027reckless chuckled good-naturedly , standing up and crossing the room toward the door .\u0027, \u0027he left the pub , having to gently push people out of the way before he made it out .\u0027, \u0027the night was clear and cold .\u0027, \u0027above him , stars sparkled in the dark blue sky , the pale moon shining .\u0027, \"reckless grinned upward , giddy from the day \u0027s events .\", \"`` do you have it ? \u0027\u0027\", \u0027a male voice asked from the darkness on the street .\u0027, \u0027reckless watched as the owner of the voice stepped into the light seeping out from the doorway of the pub .\u0027, \u0027he was clearly dressed more for the weather than reckless was , with a thick-looking coat , hat , and pants .\u0027, \"without speaking , reckless fished the object out of his pocket and tossed it to the man , who he knew to be the king \u0027s messenger .\", \u0027he caught it and shuffled toward the light to examine it .\u0027, \u0027apparently satisfied , he nodded at reckless and slipped it into his own pocket .\u0027, \"`` thanks , \u0027\u0027 he said , giving reckless the once-over .\", \"`` take it you were not too badly hurt ? \u0027\u0027\", \u0027reckless shook his head .\u0027, \"`` i had a run-in with a few goblins , but nothing too serious . \u0027\u0027\", \u0027the messenger grunted .\u0027, \"`` you live up to your name , reckless . \u0027\u0027\", \u0027he turned to leave .\u0027, \u0027`` take care of yourself .\u0027, \"i am sure the king will send me if something else happens . \u0027\u0027\", \u0027reckless watched the man leave .\u0027, \u0027once he had disappeared into the darkness , the adventurer went back inside .\u0027, \"the villagers \u0027 partying was still going strong .\", \u0027reckless sauntered back to his stool beside gustaf .\u0027, \u0027the barmaid slid him another drink .\u0027, \u0027reckless toasted her and drank it all in one swallow .\u0027, \u0027he saw gustaf making a face out of the corner of his eye , but he could not care less .\u0027, \u0027reckless reached out and grabbed a handful of peanuts from a bowl on the counter .\u0027, \u0027he tossed a few in his mouth before turning back to gustaf .\u0027, \"`` where should we go next ? \u0027\u0027\", \u0027he asked .\u0027, \"`` anywhere but here , \u0027\u0027 gustaf snorted .\", \"`` these villagers are giving me a headache . \u0027\u0027\", \"`` could be the alcohol , \u0027\u0027 reckless pointed out cheerfully .\", \"`` that would be plausible only if i had not been drinking water all night . \u0027\u0027\", \u0027that is when it happened .\u0027, \u0027tipsy from the alcohol and praises he was receiving , reckless threw his head back to laugh at his young apprentice .\u0027, \u0027a peanut must have been in the back of his mouth , because when he inhaled , he found himself choking .\u0027, \"`` master ? \u0027\u0027\", \u0027gustaf asked , eyes going wide .\u0027, \u0027he grabbed reckless by the shoulders and tried to pound his back .\u0027, \"`` reckless , what is wrong ? \u0027\u0027\", \"gustaf \u0027s pounding was not helping , and reckless \u0027 vision was going black .\", \"he found himself slipping through his apprentice \u0027s hands and falling to the ground .\", \u0027his head hit the wooden floor with a sharp crack , and reckless saw no more .\u0027, \"`` ... and that is when i found myself here , \u0027\u0027 reckless finished , not meeting death \u0027s gaze .\", \u0027death could only stare at the adventurer .\u0027, \u0027it was , admittedly , one of the worst ways a man like him could have died .\u0027, \u0027if he had his choice , death knew reckless would have preferred to die on one of his quests , in the most glorious way possible .\u0027, \u0027but life rarely gives one what he wants .\u0027, \u0027and neither , he thinks grimly , does death .\u0027, \"`` i can not grant you your request , \u0027\u0027 he answered finally .\", \"reckless \u0027 shoulders slumped miserably .\", \"`` but i can grant you something else . \u0027\u0027\", \u0027death waved a bony hand at the spirit of reckless .\u0027, \u0027his form began to glow a bright white .\u0027, \u0027he looked at death in confusion .\u0027, \"`` i send you to elysium , \u0027\u0027 death intoned as reckless began to shine brighter .\", \"`` go in peace , brave soul . \u0027\u0027\", \u0027reckless beamed at him .\u0027, \u0027he spoke his last words before he disappeared completely .\u0027, \"`` thank you . \u0027\u0027\"]\n"
          ],
          "output_type": "stream"
        }
      ],
      "source": "handled_stories \u003d list(rstories[\u0027handled_text\u0027])\nrstories_sa \u003d saf.sentiment_analysis(dir + \u0027named_entities_all/rstories_ner.txt\u0027)\ntest_bigrams, test_sentences \u003d rstories_sa.story_analysis(handled_stories[0])",
      "metadata": {
        "pycharm": {
          "metadata": false,
          "name": "#%%\n",
          "is_executing": false
        }
      }
    },
    {
      "cell_type": "code",
      "execution_count": 7,
      "metadata": {
        "pycharm": {
          "is_executing": false,
          "metadata": false,
          "name": "#%%\n"
        }
      },
      "outputs": [
        {
          "name": "stdout",
          "text": [
            "1609 tags created...\n",
            "739 tags created...\n",
            "605 tags created...\n",
            "346 tags created...\n",
            "352 tags created...\n",
            "749 tags created...\n",
            "1465 tags created...\n"
          ],
          "output_type": "stream"
        }
      ],
      "source": "############### DONT RUN ME #########################\nrs \u003d list(rstories[\u0027text\u0027])\nhandled_stories \u003d []\nfor story in rs:\n    handled_stories.append(contract_handle(story))"
    },
    {
      "cell_type": "code",
      "execution_count": 8,
      "outputs": [],
      "source": "############### DONT RUN ME #########################\nrstories[\u0027handled_text\u0027] \u003d handled_stories\nrstories.to_csv(dir + \u0027rstories/rs_df.csv\u0027, sep\u003d\u0027|\u0027)",
      "metadata": {
        "pycharm": {
          "metadata": false,
          "name": "#%%\n",
          "is_executing": false
        }
      }
    },
    {
      "cell_type": "code",
      "execution_count": null,
      "outputs": [],
      "source": "rs_spell \u003d SpellChecker()\nrs_spell.word_frequency.load_words(rs_all_names)\nrs_spell.word_frequency.load_words(rs_spelled_words)\nhandled_stories \u003d list(rstories[\u0027handled_text\u0027])\nfor story in handled_stories:\n    words \u003d nltk.word_tokenize(story)\n    for word in words:\n        if str(word) !\u003d rs_spell.correction(str(word)):\n            print(word, rs_spell.correction(str(word)))",
      "metadata": {
        "pycharm": {
          "metadata": false,
          "name": "#%%\n"
        }
      }
    },
    {
      "cell_type": "code",
      "execution_count": 2,
      "metadata": {
        "ExecuteTime": {
          "end_time": "2019-04-19T16:42:18.804955Z",
          "start_time": "2019-04-19T16:42:18.578789Z"
        },
        "pycharm": {
          "is_executing": false,
          "metadata": false,
          "name": "#%%\n"
        }
      },
      "outputs": [],
      "source": "gravityfalls \u003d pd.read_csv(dir + \u0027gravityfalls/gf_eps.csv\u0027, sep\u003d\u0027|\u0027, index_col\u003d0)\n\nwith open(dir + \u0027named_entities_all/gravity_falls_ner.txt\u0027, \u0027r\u0027, encoding\u003d\"utf-8\") as myfile:\n        gravityfalls_ner \u003d myfile.read().split(\u0027\\n\u0027)\n\ngravityfalls_ner_split \u003d list()\nfor ner in gravityfalls_ner:\n    gravityfalls_ner_split.append(ner.split(\u0027,\u0027))\n\ngf_all_names \u003d list()\nfor ner in gravityfalls_ner_split:\n    gf_all_names.append(ner[0])\n\ngf_spelled_words \u003d set(nltk.word_tokenize(\u0027 \u0027.join(gf_all_names).lower()))"
    },
    {
      "cell_type": "code",
      "execution_count": null,
      "outputs": [],
      "source": "############### DONT RUN ME #########################\ngf \u003d list(gravityfalls[\u0027text\u0027])\nhandled_stories \u003d []\nfor story in gf:\n    handled_stories.append(contract_handle(story))",
      "metadata": {
        "pycharm": {
          "metadata": false,
          "name": "#%%\n"
        }
      }
    },
    {
      "cell_type": "code",
      "execution_count": null,
      "outputs": [],
      "source": "############### DONT RUN ME #########################\ngravityfalls[\u0027handled_text\u0027] \u003d handled_stories\ngravityfalls.to_csv(dir + \u0027gravityfalls/gf_eps.csv\u0027, sep\u003d\u0027|\u0027)",
      "metadata": {
        "pycharm": {
          "metadata": false,
          "name": "#%%\n"
        }
      }
    },
    {
      "cell_type": "code",
      "execution_count": null,
      "metadata": {
        "ExecuteTime": {
          "start_time": "2019-04-19T16:42:25.326Z"
        },
        "pycharm": {
          "is_executing": true,
          "metadata": false,
          "name": "#%%\n"
        }
      },
      "outputs": [
        {
          "name": "stdout",
          "output_type": "stream",
          "text": [
            "Beginning contraction handling\n",
            "Completed expansion\n",
            "6159 tags created...\n",
            "Beginning Spell Check\n",
            "Finished Spell Check\n",
            "Beginning contraction handling\n",
            "Completed expansion\n",
            "6619 tags created...\n",
            "Beginning Spell Check\n"
          ]
        }
      ],
      "source": "gf_spell \u003d SpellChecker()\ngf_spell.word_frequency.load_words(gf_spelled_words)\ncounter \u003d 0\nhandled_stories \u003d list(gravityfalls[\u0027handled_text\u0027])\nmispelled \u003d []\nfor story in handled_stories:\n    print(\u0027Beginning Spell Check\u0027)\n    words \u003d nltk.word_tokenize(story)\n    for word in words:\n        if str(word) !\u003d gf_spell.correction(str(word)):\n            counter +\u003d 1\n            mispelled.append(list(zip(str(word),gf_spell.correction(str(word)))))\n    print(\u0027Finished Spell Check\u0027)\nprint(counter)"
    },
    {
      "cell_type": "code",
      "execution_count": null,
      "outputs": [
        {
          "name": "stdout",
          "text": [
            "Beginning Spell Check\n",
            "\n",
            "... p.\n\n\naroo arco\n\n",
            "\n",
            "noc.o.d n.c.o.\n\n"
          ],
          "output_type": "stream"
        }
      ],
      "source": "gf_spell \u003d SpellChecker()\ngf_spell.word_frequency.load_words(gf_spelled_words)\ncounter \u003d 0\nmispelled \u003d []\nhandled_stories \u003d list(gravityfalls[\u0027handled_text\u0027])\nprint(\u0027Beginning Spell Check\u0027)\nwords \u003d nltk.word_tokenize(handled_stories[3])\nfor word in words:\n    if str(word) !\u003d gf_spell.correction(str(word)):\n        print()\n        counter +\u003d 1\n        mispelled.append(list(zip(str(word),gf_spell.correction(str(word)))))\n        print(str(word),gf_spell.correction(str(word)))\n        print()\nprint(\u0027Finished Spell Check\u0027)\nprint(counter)",
      "metadata": {
        "pycharm": {
          "metadata": false,
          "name": "#%%\n",
          "is_executing": true
        }
      }
    },
    {
      "cell_type": "code",
      "execution_count": null,
      "outputs": [],
      "source": "\n",
      "metadata": {
        "pycharm": {
          "metadata": false,
          "name": "#%%\n"
        }
      }
    }
  ],
  "metadata": {
    "hide_input": false,
    "kernelspec": {
      "display_name": "Python 3",
      "language": "python",
      "name": "python3"
    },
    "language_info": {
      "codemirror_mode": {
        "name": "ipython",
        "version": 3
      },
      "file_extension": ".py",
      "mimetype": "text/x-python",
      "name": "python",
      "nbconvert_exporter": "python",
      "pygments_lexer": "ipython3",
      "version": "3.6.8"
    },
    "toc": {
      "base_numbering": 1,
      "nav_menu": {},
      "number_sections": true,
      "sideBar": true,
      "skip_h1_title": false,
      "title_cell": "Table of Contents",
      "title_sidebar": "Contents",
      "toc_cell": false,
      "toc_position": {},
      "toc_section_display": true,
      "toc_window_display": false
    },
    "varInspector": {
      "cols": {
        "lenName": 16,
        "lenType": 16,
        "lenVar": 40
      },
      "kernels_config": {
        "python": {
          "delete_cmd_postfix": "",
          "delete_cmd_prefix": "del ",
          "library": "var_list.py",
          "varRefreshCmd": "print(var_dic_list())"
        },
        "r": {
          "delete_cmd_postfix": ") ",
          "delete_cmd_prefix": "rm(",
          "library": "var_list.r",
          "varRefreshCmd": "cat(var_dic_list()) "
        }
      },
      "types_to_exclude": [
        "module",
        "function",
        "builtin_function_or_method",
        "instance",
        "_Feature"
      ],
      "window_display": false
    }
  },
  "nbformat": 4,
  "nbformat_minor": 1
}