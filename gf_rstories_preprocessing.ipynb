{
  "cells": [
    {
      "cell_type": "code",
      "execution_count": 2,
      "metadata": {
        "collapsed": true,
        "pycharm": {
          "is_executing": false
        }
      },
      "outputs": [],
      "source": "import nltk\nimport textblob\nfrom textblob.tokenizers import WordTokenizer\nimport pandas as pd\nimport re\nimport os\nfrom spellchecker import SpellChecker\ndir \u003d \"/volumes/Hayley\u0027s Drive/PycharmProjects/twilightvalefalls/\"\n%run named_entities_all/NER_Functions.py"
    },
    {
      "cell_type": "code",
      "execution_count": 3,
      "outputs": [],
      "source": "rstories \u003d pd.read_csv(dir + \u0027rstories/rs_df.csv\u0027, sep\u003d\u0027|\u0027, index_col\u003d0)\n\nwith open(dir + \u0027named_entities_all/rstories_ner.txt\u0027, \u0027r\u0027, encoding\u003d\"utf-8\") as myfile:\n        rstories_ner \u003d myfile.read().split(\u0027\\n\u0027)\n\nrstories_ner_split \u003d list()\nfor ner in rstories_ner:\n    rstories_ner_split.append(ner.split(\u0027,\u0027))\n    \nrs_all_names \u003d list()\nfor ner in rstories_ner_split:\n    rs_all_names.append(ner[0])\n\ntestblob \u003d textblob.TextBlob(\u0027 \u0027.join(rs_all_names))\nrs_spelled_words \u003d set(testblob.words)",
      "metadata": {
        "pycharm": {
          "metadata": false,
          "name": "#%%\n",
          "is_executing": false
        }
      }
    },
    {
      "cell_type": "code",
      "execution_count": 4,
      "outputs": [
        {
          "name": "stdout",
          "text": [
            "armor armour\n\u0027re are\n\u0027done done\n\u0027s is\npartied parties\n",
            "\u0027s is\n\u0027re are\n\u0027s is\ngroused aroused\n\u0027re are\n\u0027m mm\n\u0027s is\n",
            "\u0027s is\n\u0027m mm\n\u0027s is\n\u0027s is\n\u0027s is\n\u0027s is\n\u0027s is\n\u0027s is\n",
            "joseph… joseph\n\u0027s is\n\u0027s is\n\u0027m mm\n\u0027s is\n\u0027s is\n",
            "\u0027s is\n\u0027ll all\n\u0027s is\n\u0027s is\n\u0027m mm\nditzy dizzy\nbloodsucking blood-sucking\n\u0027s is\n",
            "minivan minimal\n\u0027d d\n\u0027s is\n\u0027s is\n\u0027s is\n\u0027re are\n\u0027s is\n\u0027s is\n",
            "\u0027d d\n\u0027s is\n\u0027d d\n\u0027d d\n",
            "\u0027d d\n\u0027d d\n\u0027d d\n\u0027s is\n",
            "barreled barrelled\nunsavory unsavoury\ntakeout take-out\n\u0027ve eve\n\u0027ve eve\nbreakups breakup\n",
            "\u0027d d\n",
            "\u0027d d\n\u0027ll all\n\u0027m mm\n\u0027s is\n\u0027s is\n\u0027re are\n\u0027m mm\n\u0027ve eve\n\u0027s is\n\u0027m mm\n"
          ],
          "output_type": "stream"
        }
      ],
      "source": "rs_spell \u003d SpellChecker()\nrs_spell.word_frequency.load_words(rs_all_names)\nrs_spell.word_frequency.load_words(rs_spelled_words)\nrs \u003d list(rstories[\u0027text\u0027])\nfor story in rs:\n    storyblob \u003d textblob.TextBlob(story, tokenizer\u003dWordTokenizer())\n    for word in storyblob.words:\n        if (str(word) !\u003d rs_spell.correction(str(word))):\n            print(word, rs_spell.correction(str(word)))",
      "metadata": {
        "pycharm": {
          "metadata": false,
          "name": "#%%\n",
          "is_executing": false
        }
      }
    },
    {
      "cell_type": "code",
      "execution_count": 6,
      "outputs": [],
      "source": "gravityfalls \u003d pd.read_csv(dir + \u0027gravityfalls/gf_eps.csv\u0027, sep\u003d\u0027|\u0027, index_col\u003d0)\n\nwith open(dir + \u0027named_entities_all/gravity_falls_ner.txt\u0027, \u0027r\u0027, encoding\u003d\"utf-8\") as myfile:\n        gravityfalls_ner \u003d myfile.read().split(\u0027\\n\u0027)\n\ngravityfalls_ner_split \u003d list()\nfor ner in gravityfalls_ner:\n    gravityfalls_ner_split.append(ner.split(\u0027,\u0027))\n\ngf_all_names \u003d list()\nfor ner in gravityfalls_ner_split:\n    gf_all_names.append(ner[0])\n    \ntestblob \u003d textblob.TextBlob(\u0027 \u0027.join(gf_all_names).lower())\ngf_spelled_words \u003d set(testblob.words)",
      "metadata": {
        "pycharm": {
          "metadata": false,
          "name": "#%%\n",
          "is_executing": false
        }
      }
    },
    {
      "cell_type": "code",
      "execution_count": 15,
      "outputs": [
        {
          "name": "stdout",
          "text": [
            "\u0027er her\n\u0027re are\n\u0027re are\n",
            "hahaha sahara\n",
            "\u0027re are\n\u0027re are\n\u0027m mm\ncolorful colourful\nscepter sceptre\n\u0027m mm\neenie eerie\nmeenie weenie\nminey money\n\u0027m mm\n\u0027m mm\n\u0027m mm\nbewarb beware\nmerch march\n",
            "bleats beats\neye-glass eyeglass\neye-glass eyeglass\n\u0027m mm\n",
            "readin reading\n’ a\n’ a\nuhhh ahhh\nwoot foot\nwoot foot\n\u0027m mm\n",
            "\u0027sup sup\n\u0027sup sup\n\u0027re are\nahhhhh ahhhh\n",
            "huhhh hugh\n\u0027ve eve\ndidja didna\n\u0027m mm\nmailman mainman\nmailman mainman\nscoots scots\n’ a\n’ a\noffscreen off-screen\n\u0027ve eve\nisn in\n’ a\n’ a\n",
            "sha-bam shabba\n",
            "i\u0027m-i imi\n\u0027m mm\n",
            "sha-bam shabba\n’ a\n’ a\n’ a\n’ a\n’ a\n\u0027m mm\n",
            "5:00 5e00\n’ a\nand— and\n",
            "reattaches attaches\nrewinds reminds\n’ a\n",
            "errrgh brurgh\n’ a\n",
            "piñata pirate\n’ a\n’ a\n’ a\n’ a\nunzips unzip\n",
            "r-r-right far-right\n’ a\n’ a\n’ a\n’ a\n",
            "lookin looking\n",
            "matri matrix\n",
            "matri-mo-ny matrimony\n’ a\n\u0027m mm\n\u0027re are\n\u0027m mm\n\u0027re are\nyikes likes\n\u0027ll all\n\u0027re are\n\u0027ll all\npukes dukes\n\u0027re are\n",
            "\u0027re are\nthe— the\n\u0027ve eve\n",
            "\u0027ll all\n",
            "aaahhh ahhh\nswirly swirl\n\u0027ll all\n",
            "honors honours\n\u0027ll all\n",
            "\u0027m mm\n\u0027m mm\n\u0027re are\n",
            "yeesh yeah\nahah aha\n",
            "w-would would\n\u0027ve eve\n\u0027m mm\n",
            "side-to-side side-by-side\npukes dukes\n\u0027m mm\n\u0027m mm\n",
            "mazel hazel\ntov to\n\u0027re are\ncuttin cutting\n",
            "\u0027re are\nblindfolds blindfold\nblindfolds blindfold\n",
            "blindfolds blindfold\nta-da ta-ta\nfishin fishing\n\u0027re are\nplayin playing\n\u0027re are\nfishies fishes\n\u0027ll all\n",
            "\u0027ve eve\n\u0027ll all\n",
            "offscreen off-screen\n",
            "hee-hee hee-haw\nawww aww\nnooo noon\n",
            "gummity summit\n",
            "chawed chased\n",
            "smitheroons smithereens\n",
            "blubs clubs\n",
            "rowboat robot\nshpittle spittle\nhaha aha\nhaha aha\nxyler tyler\ncraz crazy\nscurries scurried\nxyler tyler\ncraz crazy\n\u0027re are\n\u0027re are\n\u0027ll all\nsomethin something\n",
            "wassup wasps\n",
            "ingrates ingrate\ncringes fringes\n",
            "\u0027re are\n\u0027re are\n\u0027re are\n\u0027ve eve\n\u0027re are\n",
            "y\u0027ever never\n\u0027m mm\n\u0027re are\n\u0027ll all\n\u0027ll all\nma-bel mabel\nma-bel mabel\nma-bel mabel\nma-bel mabel\n\u0027m mm\n",
            "\u0027ll all\n\u0027re are\ngettin getting\ngettin getting\n",
            "shoveling shovelling\nbuh but\n\u0027m mm\n\u0027m mm\n\u0027re are\n\u0027m mm\ndisembarks disembark\n",
            "pssh push\n\u0027m mm\n",
            "duuude dude\n",
            "extiw extra\nhref ref\nhttp ttp\n",
            "\u0027re are\n\u0027m mm\n\u0027m mm\ncomin coming\n",
            "glabel label\n",
            "shmabel mabel\n",
            "\u0027re are\nthreadin threading\n\u0027m mm\n\u0027re are\ngah ah\n",
            "pwease please\n",
            "wuv uv\nwuvs wrvs\n\u0027re are\n",
            "headlock deadlock\ndidja didna\n\u0027re are\nmetalic metallic\n\u0027ve eve\n",
            "robut robust\nrobut robust\nrobuts robust\n",
            "agains again\nterrorizing terrorising\n",
            "\u0027ve eve\n",
            "\u0027ll all\n",
            "\u0027re are\npeeks weeks\nsmabel mabel\noffscreen off-screen\noffscreen off-screen\n",
            "\u0027cuz cut\nbloo blood\noffscreen off-screen\n\u0027m mm\n\u0027re are\n\u0027ll all\n\u0027re are\n\u0027m mm\negh eh\n\u0027ll all\n\u0027m mm\neugh hugh\neugh hugh\nsketch-book sketchbook\n",
            "y-okay okay\n\u0027m mm\n",
            "ye-ah yeah\n",
            "kook look\nwax-man waxman\nbaster master\nbaster master\nshandra sandra\nshandra sandra\nshandra sandra\n",
            "fleecing fleeing\nrubes rules\n\u0027ve eve\n\u0027m mm\noffscreen off-screen\n",
            "m-murdered murdered\n",
            "blammo blame\n",
            "durland durand\nblubs clubs\nblubs clubs\n",
            "unsolvable unsociable\nblubs clubs\n\u0027re are\nblubs clubs\ndurland durand\nboooy booty\n",
            "blubs clubs\nblubs clubs\ndurland durand\nblubs clubs\np.j p.\n",
            "durland durand\n23-16 23016\nblubs clubs\nblubs clubs\ndurland durand\n\u0027ll all\n",
            "\u0027ve eve\n\u0027re are\n\u0027re are\n\u0027m mm\n\u0027re are\nree see\nree see\nree see\n\u0027m mm\nmeee meet\ndumpster dempster\n",
            "eughh eight\n\u0027re are\n",
            "punchin punching\npunchin punching\n\u0027ve eve\n\u0027m mm\n",
            "\u0027im him\n\u0027im him\ncootie cookie\n\u0027ve eve\n",
            "pa-zow cadzow\n",
            "pa-zow cadzow\n",
            "pa-zow cadzow\nblubs clubs\n\u0027ll all\ndurland durand\nblubs clubs\nblubs clubs\ndurland durand\ndurland durand\n",
            "blubs clubs\naaaahh aaaah\ndurland durand\nderp deep\n\u0027re are\nvoiceover voice-over\nbaster master\nvoiceover voice-over\nshoed showed\ncrumples crumpled\n\u0027re are\n",
            "blubs clubs\nehh eh\nshandra sandra\nshandra sandra\n",
            "blubs clubs\n",
            "\u0027re are\nblubs clubs\ndurland durand\nshandra sandra\n\u0027re are\n\u0027re are\n\u0027m mm\nohhhhh ohhhh\n",
            "\u0027ve eve\ndealy deal\ncoolio coolie\ncoolio coolie\ns\u0027up soup\n",
            "amuetur amateur\nslueths sleuths\n\u0027re are\n\u0027ve eve\n\u0027re are\n\u0027re are\n\u0027re are\ncoolio coolie\n\u0027ll all\n\u0027re are\nlookin looking\nvoiceover voice-over\ncoolio coolie\nvoiceover voice-over\ncoolio coolie\ncoolio coolie\nvoiceover voice-over\nvoiceover voice-over\nvoiceover voice-over\n\u0027ve eve\nvoiceover voice-over\n\u0027re are\nhotty hotly\nmelty melt\n\u0027ll all\n\u0027m mm\n",
            "not-i not\n\u0027m mm\ndecapitates decapitated\nrepeatably repeatable\ndecapitates decapitated\n\u0027ve eve\ncoolio coolie\ncoolio coolie\n\u0027ll all\n\u0027m mm\n",
            "outsmarted outsmart\nhumbugs humbug\ntiiter titter\nhallabaloo hullabaloo\n\u0027re are\n",
            "e-ew new\nagayn again\n\u0027re are\n\u0027re are\n",
            "noogie-ing boogieing\n\u0027m mm\n\u0027m mm\n",
            "noogies goodies\nblubs clubs\ndurland durand\nblubs clubs\n\u0027m mm\n\u0027re are\n\u0027m mm\nblubs clubs\nblu blue\nblu blue\nblu blue\ndurland durand\ndurland durand\nblubs clubs\nblubs clubs\ndurland durand\ndurland durand\nblubs clubs\nblubs clubs\ndurland durand\n\u0027re are\n\u0027m mm\n\u0027m mm\nconfusely confusedly\n",
            "aroo arco\n",
            "noc.o.d n.c.o.\n",
            "\u0027m mm\ncuriousy curious\ncuriousy curious\n\u0027ve eve\n\u0027re are\nmwop mop\nmwop mop\n",
            "wittle little\n\u0027m mm\n\u0027re are\n"
          ],
          "output_type": "stream"
        },
        {
          "traceback": [
            "\u001b[0;31m---------------------------------------------------------------------------\u001b[0m",
            "\u001b[0;31mKeyboardInterrupt\u001b[0m                         Traceback (most recent call last)",
            "\u001b[0;32m\u003cipython-input-15-0dedb0b33ca9\u003e\u001b[0m in \u001b[0;36m\u003cmodule\u003e\u001b[0;34m\u001b[0m\n\u001b[1;32m      5\u001b[0m     \u001b[0mstoryblob\u001b[0m \u001b[0;34m\u003d\u001b[0m \u001b[0mtextblob\u001b[0m\u001b[0;34m.\u001b[0m\u001b[0mTextBlob\u001b[0m\u001b[0;34m(\u001b[0m\u001b[0mstory\u001b[0m\u001b[0;34m,\u001b[0m \u001b[0mtokenizer\u001b[0m\u001b[0;34m\u003d\u001b[0m\u001b[0mWordTokenizer\u001b[0m\u001b[0;34m(\u001b[0m\u001b[0;34m)\u001b[0m\u001b[0;34m)\u001b[0m\u001b[0;34m\u001b[0m\u001b[0;34m\u001b[0m\u001b[0m\n\u001b[1;32m      6\u001b[0m     \u001b[0;32mfor\u001b[0m \u001b[0mword\u001b[0m \u001b[0;32min\u001b[0m \u001b[0mstoryblob\u001b[0m\u001b[0;34m.\u001b[0m\u001b[0mwords\u001b[0m\u001b[0;34m:\u001b[0m\u001b[0;34m\u001b[0m\u001b[0;34m\u001b[0m\u001b[0m\n\u001b[0;32m----\u003e 7\u001b[0;31m         \u001b[0;32mif\u001b[0m \u001b[0;34m(\u001b[0m\u001b[0mstr\u001b[0m\u001b[0;34m(\u001b[0m\u001b[0mword\u001b[0m\u001b[0;34m)\u001b[0m \u001b[0;34m!\u003d\u001b[0m \u001b[0mgf_spell\u001b[0m\u001b[0;34m.\u001b[0m\u001b[0mcorrection\u001b[0m\u001b[0;34m(\u001b[0m\u001b[0mstr\u001b[0m\u001b[0;34m(\u001b[0m\u001b[0mword\u001b[0m\u001b[0;34m)\u001b[0m\u001b[0;34m)\u001b[0m\u001b[0;34m)\u001b[0m\u001b[0;34m:\u001b[0m\u001b[0;34m\u001b[0m\u001b[0;34m\u001b[0m\u001b[0m\n\u001b[0m\u001b[1;32m      8\u001b[0m             \u001b[0mprint\u001b[0m\u001b[0;34m(\u001b[0m\u001b[0mword\u001b[0m\u001b[0;34m,\u001b[0m \u001b[0mgf_spell\u001b[0m\u001b[0;34m.\u001b[0m\u001b[0mcorrection\u001b[0m\u001b[0;34m(\u001b[0m\u001b[0mstr\u001b[0m\u001b[0;34m(\u001b[0m\u001b[0mword\u001b[0m\u001b[0;34m)\u001b[0m\u001b[0;34m)\u001b[0m\u001b[0;34m)\u001b[0m\u001b[0;34m\u001b[0m\u001b[0;34m\u001b[0m\u001b[0m\n",
            "\u001b[0;32m~/anaconda3/envs/nlp/lib/python3.6/site-packages/spellchecker/spellchecker.py\u001b[0m in \u001b[0;36mcorrection\u001b[0;34m(self, word)\u001b[0m\n\u001b[1;32m    123\u001b[0m             \u001b[0mReturns\u001b[0m\u001b[0;34m:\u001b[0m\u001b[0;34m\u001b[0m\u001b[0;34m\u001b[0m\u001b[0m\n\u001b[1;32m    124\u001b[0m                 str: The most likely candidate \"\"\"\n\u001b[0;32m--\u003e 125\u001b[0;31m         \u001b[0;32mreturn\u001b[0m \u001b[0mmax\u001b[0m\u001b[0;34m(\u001b[0m\u001b[0mself\u001b[0m\u001b[0;34m.\u001b[0m\u001b[0mcandidates\u001b[0m\u001b[0;34m(\u001b[0m\u001b[0mword\u001b[0m\u001b[0;34m)\u001b[0m\u001b[0;34m,\u001b[0m \u001b[0mkey\u001b[0m\u001b[0;34m\u003d\u001b[0m\u001b[0mself\u001b[0m\u001b[0;34m.\u001b[0m\u001b[0mword_probability\u001b[0m\u001b[0;34m)\u001b[0m\u001b[0;34m\u001b[0m\u001b[0;34m\u001b[0m\u001b[0m\n\u001b[0m\u001b[1;32m    126\u001b[0m \u001b[0;34m\u001b[0m\u001b[0m\n\u001b[1;32m    127\u001b[0m     \u001b[0;32mdef\u001b[0m \u001b[0mcandidates\u001b[0m\u001b[0;34m(\u001b[0m\u001b[0mself\u001b[0m\u001b[0;34m,\u001b[0m \u001b[0mword\u001b[0m\u001b[0;34m)\u001b[0m\u001b[0;34m:\u001b[0m\u001b[0;34m\u001b[0m\u001b[0;34m\u001b[0m\u001b[0m\n",
            "\u001b[0;32m~/anaconda3/envs/nlp/lib/python3.6/site-packages/spellchecker/spellchecker.py\u001b[0m in \u001b[0;36mcandidates\u001b[0;34m(self, word)\u001b[0m\n\u001b[1;32m    142\u001b[0m         \u001b[0;31m# if still not found, use the edit distance 1 to calc edit distance 2\u001b[0m\u001b[0;34m\u001b[0m\u001b[0;34m\u001b[0m\u001b[0;34m\u001b[0m\u001b[0m\n\u001b[1;32m    143\u001b[0m         \u001b[0;32mif\u001b[0m \u001b[0mself\u001b[0m\u001b[0;34m.\u001b[0m\u001b[0m_distance\u001b[0m \u001b[0;34m\u003d\u003d\u001b[0m \u001b[0;36m2\u001b[0m\u001b[0;34m:\u001b[0m\u001b[0;34m\u001b[0m\u001b[0;34m\u001b[0m\u001b[0m\n\u001b[0;32m--\u003e 144\u001b[0;31m             \u001b[0mtmp\u001b[0m \u001b[0;34m\u003d\u001b[0m \u001b[0mself\u001b[0m\u001b[0;34m.\u001b[0m\u001b[0mknown\u001b[0m\u001b[0;34m(\u001b[0m\u001b[0;34m[\u001b[0m\u001b[0mx\u001b[0m \u001b[0;32mfor\u001b[0m \u001b[0mx\u001b[0m \u001b[0;32min\u001b[0m \u001b[0mself\u001b[0m\u001b[0;34m.\u001b[0m\u001b[0m__edit_distance_alt\u001b[0m\u001b[0;34m(\u001b[0m\u001b[0mres\u001b[0m\u001b[0;34m)\u001b[0m\u001b[0;34m]\u001b[0m\u001b[0;34m)\u001b[0m\u001b[0;34m\u001b[0m\u001b[0;34m\u001b[0m\u001b[0m\n\u001b[0m\u001b[1;32m    145\u001b[0m             \u001b[0;32mif\u001b[0m \u001b[0mtmp\u001b[0m\u001b[0;34m:\u001b[0m\u001b[0;34m\u001b[0m\u001b[0;34m\u001b[0m\u001b[0m\n\u001b[1;32m    146\u001b[0m                 \u001b[0;32mreturn\u001b[0m \u001b[0mtmp\u001b[0m\u001b[0;34m\u001b[0m\u001b[0;34m\u001b[0m\u001b[0m\n",
            "\u001b[0;32m~/anaconda3/envs/nlp/lib/python3.6/site-packages/spellchecker/spellchecker.py\u001b[0m in \u001b[0;36mknown\u001b[0;34m(self, words)\u001b[0m\n\u001b[1;32m    159\u001b[0m         return set(\n\u001b[1;32m    160\u001b[0m             \u001b[0mw\u001b[0m\u001b[0;34m\u001b[0m\u001b[0;34m\u001b[0m\u001b[0m\n\u001b[0;32m--\u003e 161\u001b[0;31m             \u001b[0;32mfor\u001b[0m \u001b[0mw\u001b[0m \u001b[0;32min\u001b[0m \u001b[0mtmp\u001b[0m\u001b[0;34m\u001b[0m\u001b[0;34m\u001b[0m\u001b[0m\n\u001b[0m\u001b[1;32m    162\u001b[0m             \u001b[0;32mif\u001b[0m \u001b[0mw\u001b[0m \u001b[0;32min\u001b[0m \u001b[0mself\u001b[0m\u001b[0;34m.\u001b[0m\u001b[0m_word_frequency\u001b[0m\u001b[0;34m.\u001b[0m\u001b[0mdictionary\u001b[0m\u001b[0;34m\u001b[0m\u001b[0;34m\u001b[0m\u001b[0m\n\u001b[1;32m    163\u001b[0m             \u001b[0;32mor\u001b[0m \u001b[0;32mnot\u001b[0m \u001b[0mself\u001b[0m\u001b[0;34m.\u001b[0m\u001b[0m_check_if_should_check\u001b[0m\u001b[0;34m(\u001b[0m\u001b[0mw\u001b[0m\u001b[0;34m)\u001b[0m\u001b[0;34m\u001b[0m\u001b[0;34m\u001b[0m\u001b[0m\n",
            "\u001b[0;32m~/anaconda3/envs/nlp/lib/python3.6/site-packages/spellchecker/spellchecker.py\u001b[0m in \u001b[0;36m\u003cgenexpr\u003e\u001b[0;34m(.0)\u001b[0m\n\u001b[1;32m    160\u001b[0m             \u001b[0mw\u001b[0m\u001b[0;34m\u001b[0m\u001b[0;34m\u001b[0m\u001b[0m\n\u001b[1;32m    161\u001b[0m             \u001b[0;32mfor\u001b[0m \u001b[0mw\u001b[0m \u001b[0;32min\u001b[0m \u001b[0mtmp\u001b[0m\u001b[0;34m\u001b[0m\u001b[0;34m\u001b[0m\u001b[0m\n\u001b[0;32m--\u003e 162\u001b[0;31m             \u001b[0;32mif\u001b[0m \u001b[0mw\u001b[0m \u001b[0;32min\u001b[0m \u001b[0mself\u001b[0m\u001b[0;34m.\u001b[0m\u001b[0m_word_frequency\u001b[0m\u001b[0;34m.\u001b[0m\u001b[0mdictionary\u001b[0m\u001b[0;34m\u001b[0m\u001b[0;34m\u001b[0m\u001b[0m\n\u001b[0m\u001b[1;32m    163\u001b[0m             \u001b[0;32mor\u001b[0m \u001b[0;32mnot\u001b[0m \u001b[0mself\u001b[0m\u001b[0;34m.\u001b[0m\u001b[0m_check_if_should_check\u001b[0m\u001b[0;34m(\u001b[0m\u001b[0mw\u001b[0m\u001b[0;34m)\u001b[0m\u001b[0;34m\u001b[0m\u001b[0;34m\u001b[0m\u001b[0m\n\u001b[1;32m    164\u001b[0m         )\n",
            "\u001b[0;31mKeyboardInterrupt\u001b[0m: "
          ],
          "ename": "KeyboardInterrupt",
          "evalue": "",
          "output_type": "error"
        }
      ],
      "source": "gf_spell \u003d SpellChecker()\ngf_spell.word_frequency.load_words(gf_spelled_words)\ngf \u003d list(gravityfalls[\u0027text\u0027])\nfor story in gf:\n    storyblob \u003d textblob.TextBlob(story, tokenizer\u003dWordTokenizer())\n    for word in storyblob.words:\n        if (str(word) !\u003d gf_spell.correction(str(word))):\n            print(word, gf_spell.correction(str(word)))",
      "metadata": {
        "pycharm": {
          "metadata": false,
          "name": "#%%\n",
          "is_executing": false
        }
      }
    }
  ],
  "metadata": {
    "language_info": {
      "codemirror_mode": {
        "name": "ipython",
        "version": 2
      },
      "file_extension": ".py",
      "mimetype": "text/x-python",
      "name": "python",
      "nbconvert_exporter": "python",
      "pygments_lexer": "ipython2",
      "version": "2.7.6"
    },
    "kernelspec": {
      "name": "python3",
      "language": "python",
      "display_name": "Python 3"
    }
  },
  "nbformat": 4,
  "nbformat_minor": 0
}