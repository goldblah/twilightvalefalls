{
  "cells": [
    {
      "cell_type": "code",
      "execution_count": 8,
      "metadata": {
        "collapsed": true,
        "pycharm": {
          "is_executing": false
        }
      },
      "outputs": [],
      "source": "import nltk\nimport pandas as pd\nimport re\nimport os\n%run NER_Functions.py\n"
    },
    {
      "cell_type": "code",
      "execution_count": 7,
      "outputs": [],
      "source": "dir \u003d \"/volumes/Hayley\u0027s Drive/PycharmProjects/twilightvalefalls/gravityfalls/\"\nfile \u003d dir + \u0027Blendin%27s_Game.txt\u0027\nwith open(file, \u0027r\u0027, encoding\u003d\"utf-8\") as myfile:\n    story \u003d myfile.read().replace(\u0027\\n\\n\u0027,\u0027\\n\u0027)",
      "metadata": {
        "pycharm": {
          "metadata": false,
          "name": "#%%\n",
          "is_executing": false
        }
      }
    },
    {
      "cell_type": "code",
      "execution_count": 9,
      "outputs": [
        {
          "name": "stdout",
          "text": [
            "[\u0027A_Tale_of_Two_Stans.txt\u0027, \u0027Blendin%27s_Game.txt\u0027, \u0027Boss_Mabel.txt\u0027, \u0027Boyz_Crazy.txt\u0027, \u0027Carpet_Diem.txt\u0027, \u0027Dipper_and_Mabel_vs._the_Future.txt\u0027, \u0027Dipper_vs._Manliness.txt\u0027, \u0027Double_Dipper.txt\u0027, \u0027Dreamscaperers.txt\u0027, \u0027Dungeons,_Dungeons,_and_More_Dungeons.txt\u0027, \u0027Fight_Fighters.txt\u0027, \u0027Gideon_Rises.txt\u0027, \u0027gravity_falls_named_entities.tsv\u0027, \u0027gravity_falls_ner.txt\u0027, \u0027Headhunters.txt\u0027, \u0027Into_the_Bunker.txt\u0027, \u0027Irrational_Treasure.txt\u0027, \u0027Land_Before_Swine.txt\u0027, \u0027Little_Dipper.txt\u0027, \u0027named_entities_gravity_falls.txt\u0027, \u0027Northwest_Mansion_Mystery.txt\u0027, \u0027Not_What_He_Seems.txt\u0027, \u0027Roadside_Attraction.txt\u0027, \u0027Scary-oke.txt\u0027, \u0027Society_of_the_Blind_Eye.txt\u0027, \u0027Sock_Opera.txt\u0027, \u0027Soos_and_the_Real_Girl.txt\u0027, \u0027Summerween.txt\u0027, \u0027The_Deep_End.txt\u0027, \u0027The_Golf_War.txt\u0027, \u0027The_Hand_That_Rocks_the_Mabel.txt\u0027, \u0027The_Inconveniencing.txt\u0027, \u0027The_Last_Mabelcorn.txt\u0027, \u0027The_Legend_of_the_Gobblewonker.txt\u0027, \u0027The_Love_God.txt\u0027, \u0027The_Stanchurian_Candidate.txt\u0027, \u0027The_Time_Traveler%27s_Pig.txt\u0027, \u0027Tourist_Trapped.txt\u0027, \u0027Weirdmageddon_2:_Escape_From_Reality.txt\u0027, \u0027Weirdmageddon_3:_Take_Back_The_Falls.txt\u0027, \u0027Weirdmageddon_Part_1.txt\u0027]\n"
          ],
          "output_type": "stream"
        }
      ],
      "source": "print(os.listdir(dir))\n",
      "metadata": {
        "pycharm": {
          "metadata": false,
          "name": "#%%\n",
          "is_executing": false
        }
      }
    }
  ],
  "metadata": {
    "language_info": {
      "codemirror_mode": {
        "name": "ipython",
        "version": 2
      },
      "file_extension": ".py",
      "mimetype": "text/x-python",
      "name": "python",
      "nbconvert_exporter": "python",
      "pygments_lexer": "ipython2",
      "version": "2.7.6"
    },
    "kernelspec": {
      "name": "python3",
      "language": "python",
      "display_name": "Python 3"
    }
  },
  "nbformat": 4,
  "nbformat_minor": 0
}