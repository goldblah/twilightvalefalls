{
 "cells": [
  {
   "cell_type": "code",
   "execution_count": 1,
   "metadata": {
    "ExecuteTime": {
     "end_time": "2019-04-21T18:41:07.910518Z",
     "start_time": "2019-04-21T18:39:49.860300Z"
    },
    "pycharm": {
     "is_executing": false
    }
   },
   "outputs": [],
   "source": [
    "import nltk\n",
    "import textblob\n",
    "from textblob.tokenizers import WordTokenizer\n",
    "import pandas as pd\n",
    "import re\n",
    "import os\n",
    "from pycontractions import Contractions\n",
    "from spellchecker import SpellChecker\n",
    "dir = \"/volumes/Hayley's Drive/PycharmProjects/twilightvalefalls/\"\n",
    "%run named_entities_all/NER_Functions.py\n",
    "cont = Contractions(api_key=\"glove-twitter-25\")\n",
    "cont.load_models()"
   ]
  },
  {
   "cell_type": "code",
   "execution_count": 2,
   "metadata": {
    "ExecuteTime": {
     "end_time": "2019-04-21T18:42:47.756394Z",
     "start_time": "2019-04-21T18:42:47.747021Z"
    },
    "pycharm": {
     "is_executing": false,
     "metadata": false,
     "name": "#%%\n"
    }
   },
   "outputs": [],
   "source": [
    "def contract_handle(st):\n",
    "    #print('Doing text %d...' %texts.index(st))\n",
    "    t = list(cont.expand_texts([st.replace(\"’\",\"'\")]))[0]\n",
    "    tags = nltk.pos_tag(word_tokenize(str(t)))\n",
    "    temp = []\n",
    "    print('%d tags created...' %len(tags))\n",
    "    for tag in tags:\n",
    "        temp.append(tag[0])\n",
    "            \n",
    "    return ' '.join(temp)"
   ]
  },
  {
   "cell_type": "code",
   "execution_count": 3,
   "metadata": {
    "pycharm": {
     "is_executing": false,
     "metadata": false,
     "name": "#%%\n"
    }
   },
   "outputs": [],
   "source": [
    "rstories = pd.read_csv(dir + 'rstories/rs_df.csv', sep='|', index_col=0)\n",
    "\n",
    "with open(dir + 'named_entities_all/rstories_ner.txt', 'r', encoding=\"utf-8\") as myfile:\n",
    "        rstories_ner = myfile.read().split('\\n')\n",
    "\n",
    "rstories_ner_split = list()\n",
    "for ner in rstories_ner:\n",
    "    rstories_ner_split.append(ner.split(','))\n",
    "    \n",
    "rs_all_names = list()\n",
    "for ner in rstories_ner_split:\n",
    "    rs_all_names.append(ner[0])\n",
    "\n",
    "rs_spelled_words = set(nltk.word_tokenize(' '.join(rs_all_names).lower()))"
   ]
  },
  {
   "cell_type": "code",
   "execution_count": 4,
   "metadata": {
    "pycharm": {
     "is_executing": false,
     "metadata": false,
     "name": "#%%\n"
    }
   },
   "outputs": [
    {
     "name": "stdout",
     "output_type": "stream",
     "text": [
      "armor armour\n",
      "'re are\n",
      "'done done\n",
      "'s is\n",
      "partied parties\n",
      "'s is\n",
      "'re are\n",
      "'s is\n",
      "groused aroused\n",
      "'re are\n",
      "'m mm\n",
      "'s is\n",
      "'s is\n",
      "'m mm\n",
      "'s is\n",
      "'s is\n",
      "'s is\n",
      "'s is\n",
      "'s is\n",
      "'s is\n",
      "joseph… joseph\n",
      "'s is\n",
      "'s is\n",
      "'m mm\n",
      "'s is\n",
      "'s is\n",
      "'s is\n",
      "'ll all\n",
      "'s is\n",
      "'s is\n",
      "'m mm\n",
      "ditzy dizzy\n",
      "bloodsucking blood-sucking\n",
      "'s is\n",
      "minivan minimal\n",
      "'d d\n",
      "'s is\n",
      "'s is\n",
      "'s is\n",
      "'re are\n",
      "'s is\n",
      "'s is\n",
      "'d d\n",
      "'s is\n",
      "'d d\n",
      "'d d\n",
      "'d d\n",
      "'d d\n",
      "'d d\n",
      "'s is\n",
      "barreled barrelled\n",
      "unsavory unsavoury\n",
      "takeout take-out\n",
      "'ve eve\n",
      "'ve eve\n",
      "breakups breakup\n",
      "'d d\n",
      "'d d\n",
      "'ll all\n",
      "'m mm\n",
      "'s is\n",
      "'s is\n",
      "'re are\n",
      "'m mm\n",
      "'ve eve\n",
      "'s is\n",
      "'m mm\n"
     ]
    }
   ],
   "source": [
    "rs_spell = SpellChecker()\n",
    "rs_spell.word_frequency.load_words(rs_all_names)\n",
    "rs_spell.word_frequency.load_words(rs_spelled_words)\n",
    "rs = list(rstories['text'])\n",
    "for story in rs:\n",
    "    words = nltk.word_tokenize(story)\n",
    "    for word in words:\n",
    "        if str(word) != rs_spell.correction(str(word)):\n",
    "            print(word, rs_spell.correction(str(word)))"
   ]
  },
  {
   "cell_type": "code",
   "execution_count": 3,
   "metadata": {
    "ExecuteTime": {
     "end_time": "2019-04-21T18:42:54.840904Z",
     "start_time": "2019-04-21T18:42:54.310859Z"
    },
    "pycharm": {
     "is_executing": false,
     "metadata": false,
     "name": "#%%\n"
    }
   },
   "outputs": [],
   "source": [
    "gravityfalls = pd.read_csv(dir + 'gravityfalls/gf_eps.csv', sep='|', index_col=0)\n",
    "\n",
    "with open(dir + 'named_entities_all/gravity_falls_ner.txt', 'r', encoding=\"utf-8\") as myfile:\n",
    "        gravityfalls_ner = myfile.read().split('\\n')\n",
    "\n",
    "gravityfalls_ner_split = list()\n",
    "for ner in gravityfalls_ner:\n",
    "    gravityfalls_ner_split.append(ner.split(','))\n",
    "\n",
    "gf_all_names = list()\n",
    "for ner in gravityfalls_ner_split:\n",
    "    gf_all_names.append(ner[0])\n",
    "\n",
    "gf_spelled_words = set(nltk.word_tokenize(' '.join(gf_all_names).lower()))"
   ]
  },
  {
   "cell_type": "code",
   "execution_count": 4,
   "metadata": {
    "ExecuteTime": {
     "end_time": "2019-04-22T02:01:14.911253Z",
     "start_time": "2019-04-21T18:42:55.303483Z"
    },
    "pycharm": {
     "is_executing": true,
     "metadata": false,
     "name": "#%%\n"
    }
   },
   "outputs": [
    {
     "name": "stdout",
     "output_type": "stream",
     "text": [
      "6159 tags created...\n",
      "6619 tags created...\n",
      "6544 tags created...\n",
      "6190 tags created...\n",
      "5452 tags created...\n",
      "7604 tags created...\n",
      "7633 tags created...\n",
      "6079 tags created...\n",
      "8137 tags created...\n",
      "8384 tags created...\n",
      "7611 tags created...\n",
      "5426 tags created...\n",
      "6094 tags created...\n",
      "7530 tags created...\n",
      "5908 tags created...\n",
      "8792 tags created...\n",
      "8726 tags created...\n",
      "8191 tags created...\n",
      "6591 tags created...\n",
      "6431 tags created...\n",
      "9016 tags created...\n",
      "7759 tags created...\n",
      "8047 tags created...\n",
      "6322 tags created...\n",
      "9246 tags created...\n",
      "7532 tags created...\n",
      "7581 tags created...\n",
      "8794 tags created...\n",
      "9140 tags created...\n",
      "6225 tags created...\n",
      "6760 tags created...\n",
      "8469 tags created...\n",
      "5760 tags created...\n",
      "7247 tags created...\n",
      "8659 tags created...\n",
      "6141 tags created...\n",
      "5356 tags created...\n",
      "6135 tags created...\n",
      "8222 tags created...\n",
      "11102 tags created...\n"
     ]
    }
   ],
   "source": [
    "gf = list(gravityfalls['text'])\n",
    "handled_stories = []\n",
    "for story in gf:\n",
    "    handled_stories.append(contract_handle(story))\n",
    "    "
   ]
  },
  {
   "cell_type": "code",
   "execution_count": 5,
   "metadata": {
    "ExecuteTime": {
     "end_time": "2019-04-22T11:40:04.885373Z",
     "start_time": "2019-04-22T11:40:03.883184Z"
    }
   },
   "outputs": [],
   "source": [
    "gravityfalls['handled_text'] = handled_stories\n",
    "gravityfalls.to_csv(dir + 'gravityfalls/gf_eps.csv', sep='|')"
   ]
  },
  {
   "cell_type": "code",
   "execution_count": null,
   "metadata": {
    "ExecuteTime": {
     "start_time": "2019-04-20T22:35:11.573Z"
    }
   },
   "outputs": [
    {
     "name": "stdout",
     "output_type": "stream",
     "text": [
      "0 Tourist Trapped\n",
      "Beginning Spell Check\n",
      "Finished Spell Check\n",
      "1 The Legend of the Gobblewonker\n",
      "Beginning Spell Check\n",
      "Finished Spell Check\n",
      "2 Headhunters\n",
      "Beginning Spell Check\n",
      "Finished Spell Check\n",
      "3 The Hand That Rocks the Mabel\n",
      "Beginning Spell Check\n"
     ]
    }
   ],
   "source": [
    "gf_spell = SpellChecker()\n",
    "gf_spell.word_frequency.load_words(gf_spelled_words)\n",
    "\n",
    "mispelled = dict()\n",
    "mispelled_list = []\n",
    "current_story = gravityfalls['title']\n",
    "counter = 0\n",
    "\n",
    "for i,story in enumerate(handled_stories):\n",
    "    words = nltk.word_tokenize(story)\n",
    "    print(i, current_story[i])\n",
    "    print('Beginning Spell Check')\n",
    "    for word in words:\n",
    "        if str(word) != gf_spell.correction(str(word)):\n",
    "            counter += 1\n",
    "            mispelled_list.append(list(zip(str(word),gf_spell.correction(str(word)))))\n",
    "    print('Finished Spell Check')\n",
    "    mispelled[current_story[i]] = mispelled_list\n",
    "print(counter)"
   ]
  },
  {
   "cell_type": "code",
   "execution_count": null,
   "metadata": {},
   "outputs": [],
   "source": []
  }
 ],
 "metadata": {
  "hide_input": false,
  "kernelspec": {
   "display_name": "Python 3",
   "language": "python",
   "name": "python3"
  },
  "language_info": {
   "codemirror_mode": {
    "name": "ipython",
    "version": 3
   },
   "file_extension": ".py",
   "mimetype": "text/x-python",
   "name": "python",
   "nbconvert_exporter": "python",
   "pygments_lexer": "ipython3",
   "version": "3.6.8"
  },
  "toc": {
   "base_numbering": 1,
   "nav_menu": {},
   "number_sections": true,
   "sideBar": true,
   "skip_h1_title": false,
   "title_cell": "Table of Contents",
   "title_sidebar": "Contents",
   "toc_cell": false,
   "toc_position": {},
   "toc_section_display": true,
   "toc_window_display": false
  },
  "varInspector": {
   "cols": {
    "lenName": 16,
    "lenType": 16,
    "lenVar": 40
   },
   "kernels_config": {
    "python": {
     "delete_cmd_postfix": "",
     "delete_cmd_prefix": "del ",
     "library": "var_list.py",
     "varRefreshCmd": "print(var_dic_list())"
    },
    "r": {
     "delete_cmd_postfix": ") ",
     "delete_cmd_prefix": "rm(",
     "library": "var_list.r",
     "varRefreshCmd": "cat(var_dic_list()) "
    }
   },
   "types_to_exclude": [
    "module",
    "function",
    "builtin_function_or_method",
    "instance",
    "_Feature"
   ],
   "window_display": false
  }
 },
 "nbformat": 4,
 "nbformat_minor": 1
}
