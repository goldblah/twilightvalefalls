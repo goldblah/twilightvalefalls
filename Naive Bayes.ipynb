{
 "cells": [
  {
   "cell_type": "markdown",
   "metadata": {},
   "source": [
    "# Naive Bayes on R.Goldblatt's Stories"
   ]
  },
  {
   "cell_type": "code",
   "execution_count": 1,
   "metadata": {},
   "outputs": [],
   "source": [
    "import string\n",
    "import numpy\n",
    "import nltk\n",
    "from nltk.tokenize import word_tokenize, sent_tokenize\n",
    "from nltk.corpus import stopwords\n",
    "from nltk.stem.wordnet import WordNetLemmatizer\n",
    "import pandas as pd\n",
    "import re\n",
    "import os\n",
    "import textblob\n",
    "import collections\n",
    "from textblob import Word\n",
    "from textblob.tokenizers import WordTokenizer\n",
    "from sklearn.model_selection import train_test_split, cross_val_score\n",
    "from sklearn.feature_extraction.text import CountVectorizer, TfidfVectorizer, TfidfTransformer\n",
    "from sklearn.naive_bayes import MultinomialNB\n",
    "from sklearn.metrics import accuracy_score, confusion_matrix\n",
    "\n",
    "count_vect = CountVectorizer()\n",
    "tfidf_transformer = TfidfTransformer()"
   ]
  },
  {
   "cell_type": "code",
   "execution_count": 120,
   "metadata": {
    "scrolled": true
   },
   "outputs": [],
   "source": [
    "#Pulling in and cleaning data\n",
    "tz = pd.read_csv(r'C:\\Users\\ced4689\\Desktop\\TVF\\twilightzone.csv',sep=('|'),index_col=0)\n",
    "hh = pd.read_csv(r'C:\\Users\\ced4689\\Desktop\\TVF\\hitchhikers.csv',sep=('|'),index_col=0)\n",
    "\n",
    "gf = pd.read_csv(r'C:\\Users\\ced4689\\Documents\\GitHub\\twilightvalefalls\\gravityfalls\\gf_eps.csv',sep=('|'),index_col=0)\n",
    "gf = gf.drop('text',axis=1)\n",
    "gf = gf.rename(columns = {'source':'Source','title':'Title', 'date':'Date', 'handled_text':'Text'})\n",
    "gf_strat = gf[:16]\n",
    "\n",
    "rs = pd.read_csv(r'C:\\Users\\ced4689\\Documents\\GitHub\\twilightvalefalls\\rstories\\rs_df.csv',sep=('|'),index_col=0)\n",
    "rs = rs.drop('text',axis=1)\n",
    "rs = rs.rename(columns = {'source':'Source','title':'Title', 'date':'Date', 'handled_text':'Text'})\n",
    "\n",
    "nv = pd.read_csv(r'C:\\Users\\ced4689\\Desktop\\TVF\\wtnv_final.csv',sep=('|'),index_col=0).reset_index()\n",
    "nv_strat = nv[:16]\n",
    "\n",
    "data = pd.concat([tz,hh,gf,nv,rs])\n",
    "data = data.reset_index(drop=True)\n",
    "data = data.drop([151,152],axis=0)\n",
    "data = data.reset_index(drop=True)\n",
    "\n",
    "data_strat = pd.concat([tz,hh,gf_strat,nv_strat,rs])\n",
    "data_strat = data_strat.reset_index(drop=True)"
   ]
  },
  {
   "cell_type": "code",
   "execution_count": 118,
   "metadata": {},
   "outputs": [],
   "source": [
    "# Creating the Class variables for each source material\n",
    "data['Class'] = ''\n",
    "for i,j in enumerate(data['Source']):\n",
    "    if j == 'Twilight Zone':\n",
    "        data['Class'][i] = 1\n",
    "    elif j == \"Hitchhiker's Guide to the Galaxy\":\n",
    "        data['Class'][i] = 2\n",
    "    elif j == 'gravity falls':\n",
    "        data['Class'][i] = 3\n",
    "    elif j == 'WTNV':\n",
    "        data['Class'][i] = 4\n",
    "    else:\n",
    "        data['Class'][i] = 5\n",
    "        \n",
    "data_strat['Class'] = ''\n",
    "for i,j in enumerate(data_strat['Source']):\n",
    "    if j == 'Twilight Zone':\n",
    "        data_strat['Class'][i] = 1\n",
    "    elif j == \"Hitchhiker's Guide to the Galaxy\":\n",
    "        data_strat['Class'][i] = 2\n",
    "    elif j == 'gravity falls':\n",
    "        data_strat['Class'][i] = 3\n",
    "    elif j == 'WTNV':\n",
    "        data_strat['Class'][i] = 4\n",
    "    else:\n",
    "        data_strat['Class'][i] = 5"
   ]
  },
  {
   "cell_type": "code",
   "execution_count": 65,
   "metadata": {},
   "outputs": [],
   "source": [
    "features = data['Text']\n",
    "labels = data['Class'].astype(int)\n",
    "\n",
    "features_strat = data_strat['Text']\n",
    "labels_strat = data_strat['Class'].astype(int)"
   ]
  },
  {
   "cell_type": "markdown",
   "metadata": {},
   "source": [
    "## Unstratified Naive Bayes\n",
    "### Including R.Goldblatt's Stories"
   ]
  },
  {
   "cell_type": "code",
   "execution_count": 67,
   "metadata": {},
   "outputs": [],
   "source": [
    "x_train, x_test, y_train, y_test = train_test_split(features, labels, random_state=42)"
   ]
  },
  {
   "cell_type": "code",
   "execution_count": 82,
   "metadata": {},
   "outputs": [
    {
     "data": {
      "text/plain": [
       "<171x22522 sparse matrix of type '<class 'numpy.float64'>'\n",
       "\twith 163725 stored elements in Compressed Sparse Row format>"
      ]
     },
     "execution_count": 82,
     "metadata": {},
     "output_type": "execute_result"
    }
   ],
   "source": [
    "x_train_counts = count_vect.fit_transform(x_train)\n",
    "\n",
    "x_train_tfidf = tfidf_transformer.fit_transform(x_train_counts)\n",
    "x_train_tfidf"
   ]
  },
  {
   "cell_type": "code",
   "execution_count": 83,
   "metadata": {},
   "outputs": [],
   "source": [
    "mnb = MultinomialNB(alpha=0.1).fit(x_train_tfidf, y_train)"
   ]
  },
  {
   "cell_type": "code",
   "execution_count": 84,
   "metadata": {},
   "outputs": [
    {
     "name": "stdout",
     "output_type": "stream",
     "text": [
      "[[ 0  0  0  2  0]\n",
      " [ 0  0  0  1  0]\n",
      " [ 0  0  4  2  0]\n",
      " [ 0  0  0 46  0]\n",
      " [ 0  0  0  2  0]]\n"
     ]
    }
   ],
   "source": [
    "pred = mnb.predict(count_vect.transform(x_test))\n",
    "print(confusion_matrix(y_test, pred))"
   ]
  },
  {
   "cell_type": "code",
   "execution_count": 85,
   "metadata": {},
   "outputs": [
    {
     "name": "stdout",
     "output_type": "stream",
     "text": [
      "0.8771929824561403\n"
     ]
    }
   ],
   "source": [
    "print(accuracy_score(y_test,pred))"
   ]
  },
  {
   "cell_type": "markdown",
   "metadata": {},
   "source": [
    "The unstratified results produced a high accuracy only due to the classifier only choosing Welcome to Nightvale as its class. Because Nightvale has the most instances of text, this would make sense.\n",
    "\n",
    "We decided to stratify the data so each source material is represented equally"
   ]
  },
  {
   "cell_type": "markdown",
   "metadata": {},
   "source": [
    "## Stratified Naive Bayes\n",
    "### Including R.Goldblatt's Stories"
   ]
  },
  {
   "cell_type": "code",
   "execution_count": 73,
   "metadata": {},
   "outputs": [],
   "source": [
    "x_train_strat, x_test_strat, y_train_strat, y_test_strat = train_test_split(features_strat, labels_strat, random_state=42)"
   ]
  },
  {
   "cell_type": "code",
   "execution_count": 74,
   "metadata": {},
   "outputs": [
    {
     "data": {
      "text/plain": [
       "<42x13215 sparse matrix of type '<class 'numpy.float64'>'\n",
       "\twith 44127 stored elements in Compressed Sparse Row format>"
      ]
     },
     "execution_count": 74,
     "metadata": {},
     "output_type": "execute_result"
    }
   ],
   "source": [
    "x_train_counts = count_vect.fit_transform(x_train_strat)\n",
    "\n",
    "x_train_tfidf = tfidf_transformer.fit_transform(x_train_counts)\n",
    "x_train_tfidf"
   ]
  },
  {
   "cell_type": "code",
   "execution_count": 80,
   "metadata": {},
   "outputs": [],
   "source": [
    "mnb = MultinomialNB(alpha=0.1).fit(x_train_tfidf, y_train_strat)"
   ]
  },
  {
   "cell_type": "code",
   "execution_count": 78,
   "metadata": {},
   "outputs": [
    {
     "name": "stdout",
     "output_type": "stream",
     "text": [
      "[[4 0 1 0]\n",
      " [0 3 0 0]\n",
      " [0 0 4 0]\n",
      " [0 0 2 0]]\n"
     ]
    }
   ],
   "source": [
    "pred_strat = mnb.predict(count_vect.transform(x_test_strat))\n",
    "print(confusion_matrix(y_test_strat, pred_strat))"
   ]
  },
  {
   "cell_type": "code",
   "execution_count": 79,
   "metadata": {
    "scrolled": true
   },
   "outputs": [
    {
     "name": "stdout",
     "output_type": "stream",
     "text": [
      "0.7857142857142857\n"
     ]
    }
   ],
   "source": [
    "print(accuracy_score(y_test_strat,pred_strat))"
   ]
  },
  {
   "cell_type": "markdown",
   "metadata": {},
   "source": [
    "Using the stratified test, only four classes were produced. This is due to Hitchhiker's Guide to the Galaxy only having one instance and being glossed over in the split of the data. Besides this, the Naive Bayes worked better in classifying under stratified conditions. The accuracy score is lower due to a smaller smaple size\n",
    "\n",
    "We decided to use R.Goldblatt's text as the predictor to determine whether her stories are independent from one another"
   ]
  },
  {
   "cell_type": "markdown",
   "metadata": {},
   "source": [
    "## Unstratified Naive Bayes\n",
    "### Using to predict R. Goldblatt's Stories"
   ]
  },
  {
   "cell_type": "code",
   "execution_count": 104,
   "metadata": {},
   "outputs": [],
   "source": [
    "x_train = data['Text'][data['Class'] != 5]\n",
    "x_test = data['Text'][data['Class'] == 5]\n",
    "y = data['Class'][data['Class'] != 5].astype(int)"
   ]
  },
  {
   "cell_type": "code",
   "execution_count": 105,
   "metadata": {},
   "outputs": [
    {
     "data": {
      "text/plain": [
       "<221x27510 sparse matrix of type '<class 'numpy.float64'>'\n",
       "\twith 220998 stored elements in Compressed Sparse Row format>"
      ]
     },
     "execution_count": 105,
     "metadata": {},
     "output_type": "execute_result"
    }
   ],
   "source": [
    "x_train_counts = count_vect.fit_transform(x_train)\n",
    "\n",
    "x_train_tfidf = tfidf_transformer.fit_transform(x_train_counts)\n",
    "x_train_tfidf"
   ]
  },
  {
   "cell_type": "code",
   "execution_count": 106,
   "metadata": {},
   "outputs": [],
   "source": [
    "mnb = MultinomialNB(alpha=0.1).fit(x_train_tfidf, y)"
   ]
  },
  {
   "cell_type": "code",
   "execution_count": 108,
   "metadata": {
    "scrolled": true
   },
   "outputs": [
    {
     "name": "stdout",
     "output_type": "stream",
     "text": [
      "[4 4 4 4 4 4 4]\n"
     ]
    }
   ],
   "source": [
    "pred = mnb.predict(count_vect.transform(x_test))\n",
    "print(pred)"
   ]
  },
  {
   "cell_type": "markdown",
   "metadata": {},
   "source": [
    "Testing whether the unstratififed results would be any different from before while testing on R.Goldblatt's stories produced the same results, everything is Nightvale"
   ]
  },
  {
   "cell_type": "markdown",
   "metadata": {},
   "source": [
    "## Stratified Naive Bayes\n",
    "### Using to predict R. Goldblatt's Stories"
   ]
  },
  {
   "cell_type": "code",
   "execution_count": 109,
   "metadata": {},
   "outputs": [],
   "source": [
    "x_train_strat = data_strat['Text'][data_strat['Class'] != 5]\n",
    "x_test_strat = data_strat['Text'][data_strat['Class'] == 5]\n",
    "y_strat = data_strat['Class'][data_strat['Class'] != 5].astype(int)"
   ]
  },
  {
   "cell_type": "code",
   "execution_count": 110,
   "metadata": {},
   "outputs": [
    {
     "data": {
      "text/plain": [
       "<49x14613 sparse matrix of type '<class 'numpy.float64'>'\n",
       "\twith 55812 stored elements in Compressed Sparse Row format>"
      ]
     },
     "execution_count": 110,
     "metadata": {},
     "output_type": "execute_result"
    }
   ],
   "source": [
    "x_train_counts = count_vect.fit_transform(x_train_strat)\n",
    "\n",
    "x_train_tfidf = tfidf_transformer.fit_transform(x_train_counts)\n",
    "x_train_tfidf"
   ]
  },
  {
   "cell_type": "code",
   "execution_count": 111,
   "metadata": {},
   "outputs": [],
   "source": [
    "mnb = MultinomialNB(alpha=0.1).fit(x_train_tfidf, y_strat)"
   ]
  },
  {
   "cell_type": "code",
   "execution_count": 116,
   "metadata": {},
   "outputs": [
    {
     "name": "stdout",
     "output_type": "stream",
     "text": [
      "[4 4 4 4 1 4 4]\n"
     ]
    }
   ],
   "source": [
    "pred_strat = mnb.predict(count_vect.transform(x_test_strat))\n",
    "print(pred_strat)"
   ]
  },
  {
   "cell_type": "markdown",
   "metadata": {},
   "source": [
    "Interesting with the stratified data, the results produced everything to coincide with Nightvale once again, except that for her 5th story 'Mobsters' which was classified to be from Twilight Zone"
   ]
  }
 ],
 "metadata": {
  "kernelspec": {
   "display_name": "Python 3",
   "language": "python",
   "name": "python3"
  },
  "language_info": {
   "codemirror_mode": {
    "name": "ipython",
    "version": 3
   },
   "file_extension": ".py",
   "mimetype": "text/x-python",
   "name": "python",
   "nbconvert_exporter": "python",
   "pygments_lexer": "ipython3",
   "version": "3.6.8"
  }
 },
 "nbformat": 4,
 "nbformat_minor": 2
}
