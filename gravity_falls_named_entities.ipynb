{
 "cells": [
  {
   "cell_type": "code",
   "execution_count": 1,
   "metadata": {
    "collapsed": true
   },
   "outputs": [],
   "source": [
    "import textblob\n",
    "import nltk\n",
    "import allennlp\n",
    "import gensim\n",
    "import pyLDAvis\n",
    "import spacy"
   ]
  },
  {
   "cell_type": "code",
   "execution_count": 7,
   "metadata": {},
   "outputs": [
    {
     "name": "stdout",
     "output_type": "stream",
     "text": [
      "['wtnv_data', 'hhgtg.txt', 'twilightzone', 'TextBlobSentimentAnalysis.ipynb', 'gravityfalls', 'webscrapper.ipynb', 'Full Nightvale Scrape.ipynb', 'README.md', 'rstories', 'Fix Episode 3.ipynb', '.git', 'gravity_falls_named_entities.ipynb', 'nlp_env_setup.pdf', 'End to End Scrape and Clean.ipynb', 'stanford-ner.jar', 'gravity_falls.py', '.idea']\n"
     ]
    }
   ],
   "source": [
    "import os\n",
    "entries = os.listdir('PycharmProjects/twilightvalefalls/')\n",
    "dir = 'PycharmProjects/twilightvalefalls/'"
   ]
  },
  {
   "cell_type": "code",
   "execution_count": 16,
   "metadata": {},
   "outputs": [],
   "source": [
    "f = open(dir + 'gravityfalls/named_entities_gravity_falls.txt','r')\n",
    "gfne = f.read().replace('\\n', ' ')\n",
    "f.close()"
   ]
  },
  {
   "cell_type": "code",
   "execution_count": 17,
   "metadata": {},
   "outputs": [
    {
     "name": "stdout",
     "output_type": "stream",
     "text": [
      "<class 'list'>\n"
     ]
    }
   ],
   "source": [
    "add_names = dict()\n",
    "gfne = gfne.split(sep='\\n')\n",
    "print(type(gfne))"
   ]
  },
  {
   "cell_type": "code",
   "execution_count": null,
   "metadata": {},
   "outputs": [],
   "source": []
  }
 ],
 "metadata": {
  "kernelspec": {
   "display_name": "Python 2",
   "language": "python",
   "name": "python2"
  },
  "language_info": {
   "codemirror_mode": {
    "name": "ipython",
    "version": 2
   },
   "file_extension": ".py",
   "mimetype": "text/x-python",
   "name": "python",
   "nbconvert_exporter": "python",
   "pygments_lexer": "ipython2",
   "version": "2.7.6"
  }
 },
 "nbformat": 4,
 "nbformat_minor": 0
}
